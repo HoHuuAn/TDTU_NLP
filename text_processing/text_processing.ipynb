{
 "cells": [
  {
   "cell_type": "code",
   "execution_count": 2,
   "metadata": {},
   "outputs": [
    {
     "data": {
      "text/plain": [
       "'The president told reporters on Tuesday that he had made a deicision on how to     respond to the attack and warned he held Tehran responsible \"in the sense that they\"re suppyling the weapons to the people who did it'"
      ]
     },
     "execution_count": 2,
     "metadata": {},
     "output_type": "execute_result"
    }
   ],
   "source": [
    "sentence = 'The president told reporters on Tuesday that he had made a deicision on how to \\\n",
    "    respond to the attack and warned he held Tehran responsible \"in the sense that they\"re suppyling the weapons to the people who did it'\n",
    "sentence"
   ]
  },
  {
   "cell_type": "code",
   "execution_count": 11,
   "metadata": {},
   "outputs": [],
   "source": [
    "import nltk\n",
    "from nltk.tokenize import word_tokenize, sent_tokenize\n",
    "from collections import Counter"
   ]
  },
  {
   "cell_type": "code",
   "execution_count": 6,
   "metadata": {},
   "outputs": [
    {
     "name": "stderr",
     "output_type": "stream",
     "text": [
      "[nltk_data] Downloading package punkt to\n",
      "[nltk_data]     C:\\Users\\An\\AppData\\Roaming\\nltk_data...\n",
      "[nltk_data]   Unzipping tokenizers\\punkt.zip.\n"
     ]
    },
    {
     "data": {
      "text/plain": [
       "True"
      ]
     },
     "execution_count": 6,
     "metadata": {},
     "output_type": "execute_result"
    }
   ],
   "source": [
    "nltk.download('punkt')"
   ]
  },
  {
   "cell_type": "code",
   "execution_count": 4,
   "metadata": {},
   "outputs": [
    {
     "name": "stdout",
     "output_type": "stream",
     "text": [
      "['The', 'president', 'told', 'reporters', 'on', 'Tuesday', 'that', 'he', 'had', 'made', 'a', 'deicision', 'on', 'how', 'to', 'respond', 'to', 'the', 'attack', 'and', 'warned', 'he', 'held', 'Tehran', 'responsible', '``', 'in', 'the', 'sense', 'that', 'they', \"''\", 're', 'suppyling', 'the', 'weapons', 'to', 'the', 'people', 'who', 'did', 'it']\n"
     ]
    }
   ],
   "source": [
    "tokens =  word_tokenize(sentence)\n",
    "print(tokens)"
   ]
  },
  {
   "cell_type": "code",
   "execution_count": 5,
   "metadata": {},
   "outputs": [],
   "source": [
    "with open(\"short story.txt\", \"r\", encoding=\"utf-8\") as file:\n",
    "    text = file.read()"
   ]
  },
  {
   "cell_type": "code",
   "execution_count": 6,
   "metadata": {},
   "outputs": [
    {
     "name": "stdout",
     "output_type": "stream",
     "text": [
      "This story centers around Titania and Oberon, two fairy characters from Shakespeare’s famous play, “A Midsummer Night’s Dream.” The two fairies are having a rough time in their marriage when they find a human child. \n",
      "\n",
      "They decide to adopt him, hoping that he’ll help them save their relationship. \n",
      "\n",
      "However, the child develops a deadly, modern disease and the fairies have no idea what to do since they have never known illness or death. \n",
      "\n",
      "This is a tragic tale about how they try to understand something they’ve never seen before and their deep love for a stranger who is so unlike them. \n",
      "\n",
      "The story explores the grief of parenthood and the uncertainty of knowing whether your child will ever even know you. \n",
      "\n"
     ]
    }
   ],
   "source": [
    "sents = sent_tokenize(text)\n",
    "for s in sents:\n",
    "    print(s, '\\n')"
   ]
  },
  {
   "cell_type": "code",
   "execution_count": 7,
   "metadata": {},
   "outputs": [
    {
     "name": "stdout",
     "output_type": "stream",
     "text": [
      "['This', 'story', 'centers', 'around', 'Titania', 'and', 'Oberon', ',', 'two', 'fairy', 'characters', 'from', 'Shakespeare', '’', 's', 'famous', 'play', ',', '“', 'A', 'Midsummer', 'Night', '’', 's', 'Dream.', '”', 'The', 'two', 'fairies', 'are', 'having', 'a', 'rough', 'time', 'in', 'their', 'marriage', 'when', 'they', 'find', 'a', 'human', 'child', '.', 'They', 'decide', 'to', 'adopt', 'him', ',', 'hoping', 'that', 'he', '’', 'll', 'help', 'them', 'save', 'their', 'relationship', '.', 'However', ',', 'the', 'child', 'develops', 'a', 'deadly', ',', 'modern', 'disease', 'and', 'the', 'fairies', 'have', 'no', 'idea', 'what', 'to', 'do', 'since', 'they', 'have', 'never', 'known', 'illness', 'or', 'death', '.', 'This', 'is', 'a', 'tragic', 'tale', 'about', 'how', 'they', 'try', 'to', 'understand', 'something', 'they', '’', 've', 'never', 'seen', 'before', 'and', 'their', 'deep', 'love', 'for', 'a', 'stranger', 'who', 'is', 'so', 'unlike', 'them', '.', 'The', 'story', 'explores', 'the', 'grief', 'of', 'parenthood', 'and', 'the', 'uncertainty', 'of', 'knowing', 'whether', 'your', 'child', 'will', 'ever', 'even', 'know', 'you', '.']\n"
     ]
    }
   ],
   "source": [
    "tokens = word_tokenize(text)\n",
    "print(tokens)"
   ]
  },
  {
   "cell_type": "code",
   "execution_count": 8,
   "metadata": {},
   "outputs": [],
   "source": [
    "with open(\"vi.txt\", \"r\", encoding=\"utf-8\") as file:\n",
    "    text_vn = file.read()"
   ]
  },
  {
   "cell_type": "code",
   "execution_count": 9,
   "metadata": {},
   "outputs": [
    {
     "name": "stdout",
     "output_type": "stream",
     "text": [
      "Đó là một ngày tháng tư sáng lạnh, vừa lúc đồng hồ điểm báo mười ba trăm. \n",
      "\n",
      "Cằm rụt xuống ngực để mong tránh gió ác, Winston Smith lướt nhanh qua cửa kính của khu Nhà Chiến Thắng nhưng không đủ nhanh để ngăn một luồng bụi cát lùa vào theo anh. \n",
      "\n",
      "Hành lang hôi mùi cải luộc chiếu nát. \n",
      "\n",
      "Nơi một phía đầu tường thấy phô một tấm bích chương mầu, quá lớn để mang trang trí trong nhà. \n",
      "\n",
      "Nó hình dung một gương mặt kếch xù, rộng hơn một thước : mặt một người đàn ông chừng bốn mươi nhăm tuổi, có râu đen dày và nét đẹp cứng cáp. \n",
      "\n",
      "Winston leo lên cầu thang. \n",
      "\n",
      "Thử thang máy vô ích. \n",
      "\n",
      "Thuở thịnh nhất thỉnh thoảng máy mới chạy, nữa là bây giờ điện lại bị cúp vào ban ngày. \n",
      "\n",
      "Biện pháp này thuộc phong trào tiết kiệm sửa soạn “Tuần lễ Hận thù”. \n",
      "\n",
      "Căn phòng của Winston ở tận lầu bẩy, anh đã ba mươi chín tuổi lại mắc chứng loét giãn tĩnh mạch nơi đầu gối phải, nên anh đi chậm chạp, dừng nghỉ nhiều lần giữa cầu thang. \n",
      "\n",
      "Tại mỗi thềm, trước lồng thang máy, tấm bích chương với gương mặt kếch xù từ tường nhìn ra. \n",
      "\n",
      "Đấy là một loại tranh được bố trí sao cho cặp mắt tuồng như theo dõi từng cử động bên ngoài. \n",
      "\n",
      "BÁC ĐANG NHÌN BẠN, dưới bức tranh có lời ghi như vậy. \n",
      "\n",
      "Tóm tắt : Chúng tôi trình bày một bản đầu tiên của chương trình dịch Objective Caml của chúng tôi ; được gọi là CamIL, dành cho .NET. \n",
      "\n",
      "Mục  đích của chúng tôi là tìm hiểu xem thế hệ mới này của các máy ảo và môi trường chạy có thể giúp ta dịch những chương trình ML và chạy chúng với tốc độ hợp lý không. \n",
      "\n",
      "Yêu cầu chính của chúng tôi là phải tương thích với ngôn ngữ ban đầu, và các đặc tính lập trình chuyên sâu của nó (các giá trị hàm, các ngoại lệ, các modules tham biến hóa, các đối tượng). \n",
      "\n"
     ]
    }
   ],
   "source": [
    "sents = sent_tokenize(text_vn)\n",
    "for s in sents:\n",
    "    print(s, '\\n')"
   ]
  },
  {
   "cell_type": "code",
   "execution_count": 10,
   "metadata": {},
   "outputs": [
    {
     "name": "stdout",
     "output_type": "stream",
     "text": [
      "['Đó', 'là', 'một', 'ngày', 'tháng', 'tư', 'sáng', 'lạnh', ',', 'vừa', 'lúc', 'đồng', 'hồ', 'điểm', 'báo', 'mười', 'ba', 'trăm', '.', 'Cằm', 'rụt', 'xuống', 'ngực', 'để', 'mong', 'tránh', 'gió', 'ác', ',', 'Winston', 'Smith', 'lướt', 'nhanh', 'qua', 'cửa', 'kính', 'của', 'khu', 'Nhà', 'Chiến', 'Thắng', 'nhưng', 'không', 'đủ', 'nhanh', 'để', 'ngăn', 'một', 'luồng', 'bụi', 'cát', 'lùa', 'vào', 'theo', 'anh', '.', 'Hành', 'lang', 'hôi', 'mùi', 'cải', 'luộc', 'chiếu', 'nát', '.', 'Nơi', 'một', 'phía', 'đầu', 'tường', 'thấy', 'phô', 'một', 'tấm', 'bích', 'chương', 'mầu', ',', 'quá', 'lớn', 'để', 'mang', 'trang', 'trí', 'trong', 'nhà', '.', 'Nó', 'hình', 'dung', 'một', 'gương', 'mặt', 'kếch', 'xù', ',', 'rộng', 'hơn', 'một', 'thước', ':', 'mặt', 'một', 'người', 'đàn', 'ông', 'chừng', 'bốn', 'mươi', 'nhăm', 'tuổi', ',', 'có', 'râu', 'đen', 'dày', 'và', 'nét', 'đẹp', 'cứng', 'cáp', '.', 'Winston', 'leo', 'lên', 'cầu', 'thang', '.', 'Thử', 'thang', 'máy', 'vô', 'ích', '.', 'Thuở', 'thịnh', 'nhất', 'thỉnh', 'thoảng', 'máy', 'mới', 'chạy', ',', 'nữa', 'là', 'bây', 'giờ', 'điện', 'lại', 'bị', 'cúp', 'vào', 'ban', 'ngày', '.', 'Biện', 'pháp', 'này', 'thuộc', 'phong', 'trào', 'tiết', 'kiệm', 'sửa', 'soạn', '“', 'Tuần', 'lễ', 'Hận', 'thù', '”', '.', 'Căn', 'phòng', 'của', 'Winston', 'ở', 'tận', 'lầu', 'bẩy', ',', 'anh', 'đã', 'ba', 'mươi', 'chín', 'tuổi', 'lại', 'mắc', 'chứng', 'loét', 'giãn', 'tĩnh', 'mạch', 'nơi', 'đầu', 'gối', 'phải', ',', 'nên', 'anh', 'đi', 'chậm', 'chạp', ',', 'dừng', 'nghỉ', 'nhiều', 'lần', 'giữa', 'cầu', 'thang', '.', 'Tại', 'mỗi', 'thềm', ',', 'trước', 'lồng', 'thang', 'máy', ',', 'tấm', 'bích', 'chương', 'với', 'gương', 'mặt', 'kếch', 'xù', 'từ', 'tường', 'nhìn', 'ra', '.', 'Đấy', 'là', 'một', 'loại', 'tranh', 'được', 'bố', 'trí', 'sao', 'cho', 'cặp', 'mắt', 'tuồng', 'như', 'theo', 'dõi', 'từng', 'cử', 'động', 'bên', 'ngoài', '.', 'BÁC', 'ĐANG', 'NHÌN', 'BẠN', ',', 'dưới', 'bức', 'tranh', 'có', 'lời', 'ghi', 'như', 'vậy', '.', 'Tóm', 'tắt', ':', 'Chúng', 'tôi', 'trình', 'bày', 'một', 'bản', 'đầu', 'tiên', 'của', 'chương', 'trình', 'dịch', 'Objective', 'Caml', 'của', 'chúng', 'tôi', ';', 'được', 'gọi', 'là', 'CamIL', ',', 'dành', 'cho', '.NET', '.', 'Mục', 'đích', 'của', 'chúng', 'tôi', 'là', 'tìm', 'hiểu', 'xem', 'thế', 'hệ', 'mới', 'này', 'của', 'các', 'máy', 'ảo', 'và', 'môi', 'trường', 'chạy', 'có', 'thể', 'giúp', 'ta', 'dịch', 'những', 'chương', 'trình', 'ML', 'và', 'chạy', 'chúng', 'với', 'tốc', 'độ', 'hợp', 'lý', 'không', '.', 'Yêu', 'cầu', 'chính', 'của', 'chúng', 'tôi', 'là', 'phải', 'tương', 'thích', 'với', 'ngôn', 'ngữ', 'ban', 'đầu', ',', 'và', 'các', 'đặc', 'tính', 'lập', 'trình', 'chuyên', 'sâu', 'của', 'nó', '(', 'các', 'giá', 'trị', 'hàm', ',', 'các', 'ngoại', 'lệ', ',', 'các', 'modules', 'tham', 'biến', 'hóa', ',', 'các', 'đối', 'tượng', ')', '.']\n"
     ]
    }
   ],
   "source": [
    "tokens = word_tokenize(text_vn)\n",
    "print(tokens)"
   ]
  },
  {
   "cell_type": "code",
   "execution_count": 16,
   "metadata": {},
   "outputs": [
    {
     "name": "stdout",
     "output_type": "stream",
     "text": [
      "words \t frequency\n",
      "Đó \t 1\n",
      "là \t 6\n",
      "một \t 9\n",
      "ngày \t 2\n",
      "tháng \t 1\n",
      "tư \t 1\n",
      "sáng \t 1\n",
      "lạnh \t 1\n",
      ", \t 17\n",
      "vừa \t 1\n",
      "lúc \t 1\n",
      "đồng \t 1\n",
      "hồ \t 1\n",
      "điểm \t 1\n",
      "báo \t 1\n",
      "mười \t 1\n",
      "ba \t 2\n",
      "trăm \t 1\n",
      ". \t 16\n",
      "Cằm \t 1\n",
      "rụt \t 1\n",
      "xuống \t 1\n",
      "ngực \t 1\n",
      "để \t 3\n",
      "mong \t 1\n",
      "tránh \t 1\n",
      "gió \t 1\n",
      "ác \t 1\n",
      "Winston \t 3\n",
      "Smith \t 1\n",
      "lướt \t 1\n",
      "nhanh \t 2\n",
      "qua \t 1\n",
      "cửa \t 1\n",
      "kính \t 1\n",
      "của \t 8\n",
      "khu \t 1\n",
      "Nhà \t 1\n",
      "Chiến \t 1\n",
      "Thắng \t 1\n",
      "nhưng \t 1\n",
      "không \t 2\n",
      "đủ \t 1\n",
      "ngăn \t 1\n",
      "luồng \t 1\n",
      "bụi \t 1\n",
      "cát \t 1\n",
      "lùa \t 1\n",
      "vào \t 2\n",
      "theo \t 2\n",
      "anh \t 3\n",
      "Hành \t 1\n",
      "lang \t 1\n",
      "hôi \t 1\n",
      "mùi \t 1\n",
      "cải \t 1\n",
      "luộc \t 1\n",
      "chiếu \t 1\n",
      "nát \t 1\n",
      "Nơi \t 1\n",
      "phía \t 1\n",
      "đầu \t 4\n",
      "tường \t 2\n",
      "thấy \t 1\n",
      "phô \t 1\n",
      "tấm \t 2\n",
      "bích \t 2\n",
      "chương \t 4\n",
      "mầu \t 1\n",
      "quá \t 1\n",
      "lớn \t 1\n",
      "mang \t 1\n",
      "trang \t 1\n",
      "trí \t 2\n",
      "trong \t 1\n",
      "nhà \t 1\n",
      "Nó \t 1\n",
      "hình \t 1\n",
      "dung \t 1\n",
      "gương \t 2\n",
      "mặt \t 3\n",
      "kếch \t 2\n",
      "xù \t 2\n",
      "rộng \t 1\n",
      "hơn \t 1\n",
      "thước \t 1\n",
      ": \t 2\n",
      "người \t 1\n",
      "đàn \t 1\n",
      "ông \t 1\n",
      "chừng \t 1\n",
      "bốn \t 1\n",
      "mươi \t 2\n",
      "nhăm \t 1\n",
      "tuổi \t 2\n",
      "có \t 3\n",
      "râu \t 1\n",
      "đen \t 1\n",
      "dày \t 1\n",
      "và \t 4\n",
      "nét \t 1\n",
      "đẹp \t 1\n",
      "cứng \t 1\n",
      "cáp \t 1\n",
      "leo \t 1\n",
      "lên \t 1\n",
      "cầu \t 3\n",
      "thang \t 4\n",
      "Thử \t 1\n",
      "máy \t 4\n",
      "vô \t 1\n",
      "ích \t 1\n",
      "Thuở \t 1\n",
      "thịnh \t 1\n",
      "nhất \t 1\n",
      "thỉnh \t 1\n",
      "thoảng \t 1\n",
      "mới \t 2\n",
      "chạy \t 3\n",
      "nữa \t 1\n",
      "bây \t 1\n",
      "giờ \t 1\n",
      "điện \t 1\n",
      "lại \t 2\n",
      "bị \t 1\n",
      "cúp \t 1\n",
      "ban \t 2\n",
      "Biện \t 1\n",
      "pháp \t 1\n",
      "này \t 2\n",
      "thuộc \t 1\n",
      "phong \t 1\n",
      "trào \t 1\n",
      "tiết \t 1\n",
      "kiệm \t 1\n",
      "sửa \t 1\n",
      "soạn \t 1\n",
      "“ \t 1\n",
      "Tuần \t 1\n",
      "lễ \t 1\n",
      "Hận \t 1\n",
      "thù \t 1\n",
      "” \t 1\n",
      "Căn \t 1\n",
      "phòng \t 1\n",
      "ở \t 1\n",
      "tận \t 1\n",
      "lầu \t 1\n",
      "bẩy \t 1\n",
      "đã \t 1\n",
      "chín \t 1\n",
      "mắc \t 1\n",
      "chứng \t 1\n",
      "loét \t 1\n",
      "giãn \t 1\n",
      "tĩnh \t 1\n",
      "mạch \t 1\n",
      "nơi \t 1\n",
      "gối \t 1\n",
      "phải \t 2\n",
      "nên \t 1\n",
      "đi \t 1\n",
      "chậm \t 1\n",
      "chạp \t 1\n",
      "dừng \t 1\n",
      "nghỉ \t 1\n",
      "nhiều \t 1\n",
      "lần \t 1\n",
      "giữa \t 1\n",
      "Tại \t 1\n",
      "mỗi \t 1\n",
      "thềm \t 1\n",
      "trước \t 1\n",
      "lồng \t 1\n",
      "với \t 3\n",
      "từ \t 1\n",
      "nhìn \t 1\n",
      "ra \t 1\n",
      "Đấy \t 1\n",
      "loại \t 1\n",
      "tranh \t 2\n",
      "được \t 2\n",
      "bố \t 1\n",
      "sao \t 1\n",
      "cho \t 2\n",
      "cặp \t 1\n",
      "mắt \t 1\n",
      "tuồng \t 1\n",
      "như \t 2\n",
      "dõi \t 1\n",
      "từng \t 1\n",
      "cử \t 1\n",
      "động \t 1\n",
      "bên \t 1\n",
      "ngoài \t 1\n",
      "BÁC \t 1\n",
      "ĐANG \t 1\n",
      "NHÌN \t 1\n",
      "BẠN \t 1\n",
      "dưới \t 1\n",
      "bức \t 1\n",
      "lời \t 1\n",
      "ghi \t 1\n",
      "vậy \t 1\n",
      "Tóm \t 1\n",
      "tắt \t 1\n",
      "Chúng \t 1\n",
      "tôi \t 4\n",
      "trình \t 4\n",
      "bày \t 1\n",
      "bản \t 1\n",
      "tiên \t 1\n",
      "dịch \t 2\n",
      "Objective \t 1\n",
      "Caml \t 1\n",
      "chúng \t 4\n",
      "; \t 1\n",
      "gọi \t 1\n",
      "CamIL \t 1\n",
      "dành \t 1\n",
      ".NET \t 1\n",
      "Mục \t 1\n",
      "đích \t 1\n",
      "tìm \t 1\n",
      "hiểu \t 1\n",
      "xem \t 1\n",
      "thế \t 1\n",
      "hệ \t 1\n",
      "các \t 6\n",
      "ảo \t 1\n",
      "môi \t 1\n",
      "trường \t 1\n",
      "thể \t 1\n",
      "giúp \t 1\n",
      "ta \t 1\n",
      "những \t 1\n",
      "ML \t 1\n",
      "tốc \t 1\n",
      "độ \t 1\n",
      "hợp \t 1\n",
      "lý \t 1\n",
      "Yêu \t 1\n",
      "chính \t 1\n",
      "tương \t 1\n",
      "thích \t 1\n",
      "ngôn \t 1\n",
      "ngữ \t 1\n",
      "đặc \t 1\n",
      "tính \t 1\n",
      "lập \t 1\n",
      "chuyên \t 1\n",
      "sâu \t 1\n",
      "nó \t 1\n",
      "( \t 1\n",
      "giá \t 1\n",
      "trị \t 1\n",
      "hàm \t 1\n",
      "ngoại \t 1\n",
      "lệ \t 1\n",
      "modules \t 1\n",
      "tham \t 1\n",
      "biến \t 1\n",
      "hóa \t 1\n",
      "đối \t 1\n",
      "tượng \t 1\n",
      ") \t 1\n"
     ]
    }
   ],
   "source": [
    "word_freq = Counter(tokens)\n",
    "print(\"words \\t frequency\")\n",
    "for word, freq in word_freq.items():\n",
    "    print(f\"{word} \\t {freq}\")"
   ]
  },
  {
   "cell_type": "code",
   "execution_count": null,
   "metadata": {},
   "outputs": [],
   "source": []
  }
 ],
 "metadata": {
  "kernelspec": {
   "display_name": "Python 3",
   "language": "python",
   "name": "python3"
  },
  "language_info": {
   "codemirror_mode": {
    "name": "ipython",
    "version": 3
   },
   "file_extension": ".py",
   "mimetype": "text/x-python",
   "name": "python",
   "nbconvert_exporter": "python",
   "pygments_lexer": "ipython3",
   "version": "3.11.2"
  }
 },
 "nbformat": 4,
 "nbformat_minor": 2
}
