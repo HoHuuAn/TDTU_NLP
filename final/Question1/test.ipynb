{
 "cells": [
  {
   "cell_type": "code",
   "execution_count": null,
   "metadata": {},
   "outputs": [],
   "source": [
    "# Necessary\n",
    "import numpy as np\n",
    "import pandas as pd\n",
    "import string,re\n",
    "from collections import Counter\n",
    "\n",
    "import tensorflow as tf\n",
    "from tensorflow.keras.preprocessing.text import Tokenizer\n",
    "from tensorflow.keras.preprocessing.sequence import pad_sequences\n",
    "from sklearn.model_selection import train_test_split"
   ]
  },
  {
   "cell_type": "code",
   "execution_count": 2,
   "metadata": {},
   "outputs": [],
   "source": [
    "# Load datasets\n",
    "train = pd.read_csv('Data/train.csv')[:20]\n",
    "test = pd.read_csv('Data/test.csv')[:5]\n",
    "valid = pd.read_csv('Data/valid.csv')[:5]"
   ]
  },
  {
   "cell_type": "code",
   "execution_count": 3,
   "metadata": {},
   "outputs": [
    {
     "name": "stdout",
     "output_type": "stream",
     "text": [
      "Training Data: \n",
      "en    0\n",
      "vi    0\n",
      "dtype: int64\n",
      "\n",
      "Validation Data: \n",
      "en    0\n",
      "vi    0\n",
      "dtype: int64\n",
      "\n",
      "Test Data: \n",
      "en    0\n",
      "vi    0\n",
      "dtype: int64\n"
     ]
    }
   ],
   "source": [
    "print(\"Training Data: \")\n",
    "print(train.isna().sum())\n",
    "\n",
    "print(\"\\nValidation Data: \")\n",
    "print(valid.isna().sum())\n",
    "\n",
    "print(\"\\nTest Data: \")\n",
    "print(test.isna().sum())"
   ]
  },
  {
   "cell_type": "code",
   "execution_count": 4,
   "metadata": {},
   "outputs": [
    {
     "name": "stdout",
     "output_type": "stream",
     "text": [
      "Training Data:  0\n",
      "\n",
      "Validation Data:  0\n",
      "\n",
      "Test Data:  0\n"
     ]
    }
   ],
   "source": [
    "print(\"Training Data: \", train.duplicated().sum())\n",
    "\n",
    "print(\"\\nValidation Data: \", valid.duplicated().sum())\n",
    "\n",
    "print(\"\\nTest Data: \", test.duplicated().sum())"
   ]
  },
  {
   "cell_type": "code",
   "execution_count": 5,
   "metadata": {},
   "outputs": [],
   "source": [
    "def SentenceCleaning(dataframe: pd.DataFrame) -> pd.DataFrame:\n",
    "\n",
    "    # remove punctuation\n",
    "    dataframe['en'] = dataframe['en'].apply(lambda x: x.translate(str.maketrans('', '', string.punctuation))) \n",
    "    dataframe['vi'] = dataframe['vi'].apply(lambda x: x.translate(str.maketrans('', '', string.punctuation)))\n",
    "\n",
    "    # reduce vocab size \n",
    "    dataframe['en'] = dataframe['en'].str.lower() \n",
    "    dataframe['vi'] = dataframe['vi'].str.lower()\n",
    "    \n",
    "    # clear spaces in the beginning and end\n",
    "    dataframe['en'] = dataframe['en'].str.strip() \n",
    "    dataframe['vi'] = dataframe['vi'].str.strip()\n",
    "\n",
    "    # reduce multiple spaces to single space\n",
    "    dataframe['en'] = dataframe['en'].apply(lambda x: re.sub('\\s+',' ',x)) \n",
    "    dataframe['vi'] = dataframe['vi'].apply(lambda x: re.sub('\\s+',' ',x))\n",
    "\n",
    "    return dataframe"
   ]
  },
  {
   "cell_type": "code",
   "execution_count": 6,
   "metadata": {},
   "outputs": [],
   "source": [
    "train = SentenceCleaning(train)\n",
    "valid = SentenceCleaning(valid)\n",
    "test = SentenceCleaning(test)"
   ]
  },
  {
   "cell_type": "code",
   "execution_count": 7,
   "metadata": {},
   "outputs": [],
   "source": [
    "def sentence_filter(dataframe: pd.DataFrame) -> pd.DataFrame:\n",
    "    def is_valid_language_sentence(sentence) -> bool:\n",
    "        return bool(re.compile(r'^[A-Za-zÀ-ỹà-ỹ0-9\\s]*$').match(sentence))\n",
    "        \n",
    "    filtered_df = dataframe[dataframe['en'].apply(is_valid_language_sentence) & dataframe['vi'].apply(is_valid_language_sentence)]\n",
    "    return filtered_df"
   ]
  },
  {
   "cell_type": "code",
   "execution_count": 8,
   "metadata": {},
   "outputs": [
    {
     "name": "stdout",
     "output_type": "stream",
     "text": [
      "Before filtering: \n",
      "Train: 20\n",
      "valid: 5\n",
      "test: 5\n",
      "\n",
      "After filtering: \n",
      "Train: 19\n",
      "valid: 5\n",
      "test: 5\n"
     ]
    }
   ],
   "source": [
    "print(\"Before filtering: \")\n",
    "print(f'Train: {train.shape[0]}')\n",
    "print(f'valid: {valid.shape[0]}')\n",
    "print(f'test: {test.shape[0]}')\n",
    "\n",
    "train = sentence_filter(train)\n",
    "valid = sentence_filter(valid)\n",
    "test = sentence_filter(test)\n",
    "\n",
    "print(\"\\nAfter filtering: \")\n",
    "print(f'Train: {train.shape[0]}')\n",
    "print(f'valid: {valid.shape[0]}')\n",
    "print(f'test: {test.shape[0]}')"
   ]
  },
  {
   "cell_type": "code",
   "execution_count": null,
   "metadata": {},
   "outputs": [],
   "source": [
    "# Preprocess data\n",
    "vi_train_sentences = train['vi'].values\n",
    "en_train_sentences = train['en'].values\n",
    "\n",
    "vi_test_sentences = test['vi'].values\n",
    "en_test_sentences = test['en'].values\n",
    "\n",
    "vi_valid_sentences = valid['vi'].values\n",
    "en_valid_sentences = valid['en'].values\n",
    "\n",
    "# Tokenize sentences\n",
    "vi_tokenizer = Tokenizer()\n",
    "en_tokenizer = Tokenizer()\n",
    "\n",
    "vi_tokenizer.fit_on_texts(vi_train_sentences)\n",
    "en_tokenizer.fit_on_texts(en_train_sentences)\n",
    "\n",
    "vi_train_sequences = vi_tokenizer.texts_to_sequences(vi_train_sentences)\n",
    "en_train_sequences = en_tokenizer.texts_to_sequences(en_train_sentences)\n",
    "\n",
    "vi_test_sequences = vi_tokenizer.texts_to_sequences(vi_test_sentences)\n",
    "en_test_sequences = en_tokenizer.texts_to_sequences(en_test_sentences)\n",
    "\n",
    "vi_valid_sequences = vi_tokenizer.texts_to_sequences(vi_valid_sentences)\n",
    "en_valid_sequences = en_tokenizer.texts_to_sequences(en_valid_sentences)\n",
    "\n",
    "# Pad sequences\n",
    "max_vi_len = max([len(seq) for seq in vi_train_sequences + vi_test_sequences + vi_valid_sequences])\n",
    "max_en_len = max([len(seq) for seq in en_train_sequences + en_test_sequences + en_valid_sequences])\n",
    "\n",
    "vi_train_sequences = pad_sequences(vi_train_sequences, maxlen=max_vi_len, padding='post')\n",
    "en_train_sequences = pad_sequences(en_train_sequences, maxlen=max_en_len, padding='post')\n",
    "\n",
    "vi_test_sequences = pad_sequences(vi_test_sequences, maxlen=max_vi_len, padding='post')\n",
    "en_test_sequences = pad_sequences(en_test_sequences, maxlen=max_en_len, padding='post')\n",
    "\n",
    "vi_valid_sequences = pad_sequences(vi_valid_sequences, maxlen=max_vi_len, padding='post')\n",
    "en_valid_sequences = pad_sequences(en_valid_sequences, maxlen=max_en_len, padding='post')\n",
    "\n",
    "# Assign to variables\n",
    "vi_train = vi_train_sequences\n",
    "en_train = en_train_sequences\n",
    "\n",
    "vi_test = vi_test_sequences\n",
    "en_test = en_test_sequences\n",
    "\n",
    "vi_valid = vi_valid_sequences\n",
    "en_valid = en_valid_sequences"
   ]
  },
  {
   "cell_type": "code",
   "execution_count": 18,
   "metadata": {},
   "outputs": [
    {
     "data": {
      "text/plain": [
       "<keras.src.legacy.preprocessing.text.Tokenizer at 0x202160f2a90>"
      ]
     },
     "execution_count": 18,
     "metadata": {},
     "output_type": "execute_result"
    }
   ],
   "source": [
    "vi_tokenizer"
   ]
  },
  {
   "cell_type": "code",
   "execution_count": 10,
   "metadata": {},
   "outputs": [
    {
     "data": {
      "text/html": [
       "<pre style=\"white-space:pre;overflow-x:auto;line-height:normal;font-family:Menlo,'DejaVu Sans Mono',consolas,'Courier New',monospace\"><span style=\"font-weight: bold\">Model: \"functional_1\"</span>\n",
       "</pre>\n"
      ],
      "text/plain": [
       "\u001b[1mModel: \"functional_1\"\u001b[0m\n"
      ]
     },
     "metadata": {},
     "output_type": "display_data"
    },
    {
     "data": {
      "text/html": [
       "<pre style=\"white-space:pre;overflow-x:auto;line-height:normal;font-family:Menlo,'DejaVu Sans Mono',consolas,'Courier New',monospace\">┏━━━━━━━━━━━━━━━━━━━━━┳━━━━━━━━━━━━━━━━━━━┳━━━━━━━━━━━━┳━━━━━━━━━━━━━━━━━━━┓\n",
       "┃<span style=\"font-weight: bold\"> Layer (type)        </span>┃<span style=\"font-weight: bold\"> Output Shape      </span>┃<span style=\"font-weight: bold\">    Param # </span>┃<span style=\"font-weight: bold\"> Connected to      </span>┃\n",
       "┡━━━━━━━━━━━━━━━━━━━━━╇━━━━━━━━━━━━━━━━━━━╇━━━━━━━━━━━━╇━━━━━━━━━━━━━━━━━━━┩\n",
       "│ input_layer         │ (<span style=\"color: #00d7ff; text-decoration-color: #00d7ff\">None</span>, <span style=\"color: #00af00; text-decoration-color: #00af00\">39</span>)        │          <span style=\"color: #00af00; text-decoration-color: #00af00\">0</span> │ -                 │\n",
       "│ (<span style=\"color: #0087ff; text-decoration-color: #0087ff\">InputLayer</span>)        │                   │            │                   │\n",
       "├─────────────────────┼───────────────────┼────────────┼───────────────────┤\n",
       "│ input_layer_1       │ (<span style=\"color: #00d7ff; text-decoration-color: #00d7ff\">None</span>, <span style=\"color: #00af00; text-decoration-color: #00af00\">24</span>)        │          <span style=\"color: #00af00; text-decoration-color: #00af00\">0</span> │ -                 │\n",
       "│ (<span style=\"color: #0087ff; text-decoration-color: #0087ff\">InputLayer</span>)        │                   │            │                   │\n",
       "├─────────────────────┼───────────────────┼────────────┼───────────────────┤\n",
       "│ embedding           │ (<span style=\"color: #00d7ff; text-decoration-color: #00d7ff\">None</span>, <span style=\"color: #00af00; text-decoration-color: #00af00\">39</span>, <span style=\"color: #00af00; text-decoration-color: #00af00\">64</span>)    │     <span style=\"color: #00af00; text-decoration-color: #00af00\">14,464</span> │ input_layer[<span style=\"color: #00af00; text-decoration-color: #00af00\">0</span>][<span style=\"color: #00af00; text-decoration-color: #00af00\">0</span>] │\n",
       "│ (<span style=\"color: #0087ff; text-decoration-color: #0087ff\">Embedding</span>)         │                   │            │                   │\n",
       "├─────────────────────┼───────────────────┼────────────┼───────────────────┤\n",
       "│ embedding_1         │ (<span style=\"color: #00d7ff; text-decoration-color: #00d7ff\">None</span>, <span style=\"color: #00af00; text-decoration-color: #00af00\">24</span>, <span style=\"color: #00af00; text-decoration-color: #00af00\">64</span>)    │     <span style=\"color: #00af00; text-decoration-color: #00af00\">11,008</span> │ input_layer_1[<span style=\"color: #00af00; text-decoration-color: #00af00\">0</span>]… │\n",
       "│ (<span style=\"color: #0087ff; text-decoration-color: #0087ff\">Embedding</span>)         │                   │            │                   │\n",
       "├─────────────────────┼───────────────────┼────────────┼───────────────────┤\n",
       "│ lstm (<span style=\"color: #0087ff; text-decoration-color: #0087ff\">LSTM</span>)         │ [(<span style=\"color: #00d7ff; text-decoration-color: #00d7ff\">None</span>, <span style=\"color: #00af00; text-decoration-color: #00af00\">8</span>),       │      <span style=\"color: #00af00; text-decoration-color: #00af00\">2,336</span> │ embedding[<span style=\"color: #00af00; text-decoration-color: #00af00\">0</span>][<span style=\"color: #00af00; text-decoration-color: #00af00\">0</span>]   │\n",
       "│                     │ (<span style=\"color: #00d7ff; text-decoration-color: #00d7ff\">None</span>, <span style=\"color: #00af00; text-decoration-color: #00af00\">8</span>), (<span style=\"color: #00d7ff; text-decoration-color: #00d7ff\">None</span>, │            │                   │\n",
       "│                     │ <span style=\"color: #00af00; text-decoration-color: #00af00\">8</span>)]               │            │                   │\n",
       "├─────────────────────┼───────────────────┼────────────┼───────────────────┤\n",
       "│ lstm_1 (<span style=\"color: #0087ff; text-decoration-color: #0087ff\">LSTM</span>)       │ [(<span style=\"color: #00d7ff; text-decoration-color: #00d7ff\">None</span>, <span style=\"color: #00af00; text-decoration-color: #00af00\">24</span>, <span style=\"color: #00af00; text-decoration-color: #00af00\">8</span>),   │      <span style=\"color: #00af00; text-decoration-color: #00af00\">2,336</span> │ embedding_1[<span style=\"color: #00af00; text-decoration-color: #00af00\">0</span>][<span style=\"color: #00af00; text-decoration-color: #00af00\">0</span>… │\n",
       "│                     │ (<span style=\"color: #00d7ff; text-decoration-color: #00d7ff\">None</span>, <span style=\"color: #00af00; text-decoration-color: #00af00\">8</span>), (<span style=\"color: #00d7ff; text-decoration-color: #00d7ff\">None</span>, │            │ lstm[<span style=\"color: #00af00; text-decoration-color: #00af00\">0</span>][<span style=\"color: #00af00; text-decoration-color: #00af00\">1</span>],       │\n",
       "│                     │ <span style=\"color: #00af00; text-decoration-color: #00af00\">8</span>)]               │            │ lstm[<span style=\"color: #00af00; text-decoration-color: #00af00\">0</span>][<span style=\"color: #00af00; text-decoration-color: #00af00\">2</span>]        │\n",
       "├─────────────────────┼───────────────────┼────────────┼───────────────────┤\n",
       "│ dense (<span style=\"color: #0087ff; text-decoration-color: #0087ff\">Dense</span>)       │ (<span style=\"color: #00d7ff; text-decoration-color: #00d7ff\">None</span>, <span style=\"color: #00af00; text-decoration-color: #00af00\">24</span>, <span style=\"color: #00af00; text-decoration-color: #00af00\">172</span>)   │      <span style=\"color: #00af00; text-decoration-color: #00af00\">1,548</span> │ lstm_1[<span style=\"color: #00af00; text-decoration-color: #00af00\">0</span>][<span style=\"color: #00af00; text-decoration-color: #00af00\">0</span>]      │\n",
       "└─────────────────────┴───────────────────┴────────────┴───────────────────┘\n",
       "</pre>\n"
      ],
      "text/plain": [
       "┏━━━━━━━━━━━━━━━━━━━━━┳━━━━━━━━━━━━━━━━━━━┳━━━━━━━━━━━━┳━━━━━━━━━━━━━━━━━━━┓\n",
       "┃\u001b[1m \u001b[0m\u001b[1mLayer (type)       \u001b[0m\u001b[1m \u001b[0m┃\u001b[1m \u001b[0m\u001b[1mOutput Shape     \u001b[0m\u001b[1m \u001b[0m┃\u001b[1m \u001b[0m\u001b[1m   Param #\u001b[0m\u001b[1m \u001b[0m┃\u001b[1m \u001b[0m\u001b[1mConnected to     \u001b[0m\u001b[1m \u001b[0m┃\n",
       "┡━━━━━━━━━━━━━━━━━━━━━╇━━━━━━━━━━━━━━━━━━━╇━━━━━━━━━━━━╇━━━━━━━━━━━━━━━━━━━┩\n",
       "│ input_layer         │ (\u001b[38;5;45mNone\u001b[0m, \u001b[38;5;34m39\u001b[0m)        │          \u001b[38;5;34m0\u001b[0m │ -                 │\n",
       "│ (\u001b[38;5;33mInputLayer\u001b[0m)        │                   │            │                   │\n",
       "├─────────────────────┼───────────────────┼────────────┼───────────────────┤\n",
       "│ input_layer_1       │ (\u001b[38;5;45mNone\u001b[0m, \u001b[38;5;34m24\u001b[0m)        │          \u001b[38;5;34m0\u001b[0m │ -                 │\n",
       "│ (\u001b[38;5;33mInputLayer\u001b[0m)        │                   │            │                   │\n",
       "├─────────────────────┼───────────────────┼────────────┼───────────────────┤\n",
       "│ embedding           │ (\u001b[38;5;45mNone\u001b[0m, \u001b[38;5;34m39\u001b[0m, \u001b[38;5;34m64\u001b[0m)    │     \u001b[38;5;34m14,464\u001b[0m │ input_layer[\u001b[38;5;34m0\u001b[0m][\u001b[38;5;34m0\u001b[0m] │\n",
       "│ (\u001b[38;5;33mEmbedding\u001b[0m)         │                   │            │                   │\n",
       "├─────────────────────┼───────────────────┼────────────┼───────────────────┤\n",
       "│ embedding_1         │ (\u001b[38;5;45mNone\u001b[0m, \u001b[38;5;34m24\u001b[0m, \u001b[38;5;34m64\u001b[0m)    │     \u001b[38;5;34m11,008\u001b[0m │ input_layer_1[\u001b[38;5;34m0\u001b[0m]… │\n",
       "│ (\u001b[38;5;33mEmbedding\u001b[0m)         │                   │            │                   │\n",
       "├─────────────────────┼───────────────────┼────────────┼───────────────────┤\n",
       "│ lstm (\u001b[38;5;33mLSTM\u001b[0m)         │ [(\u001b[38;5;45mNone\u001b[0m, \u001b[38;5;34m8\u001b[0m),       │      \u001b[38;5;34m2,336\u001b[0m │ embedding[\u001b[38;5;34m0\u001b[0m][\u001b[38;5;34m0\u001b[0m]   │\n",
       "│                     │ (\u001b[38;5;45mNone\u001b[0m, \u001b[38;5;34m8\u001b[0m), (\u001b[38;5;45mNone\u001b[0m, │            │                   │\n",
       "│                     │ \u001b[38;5;34m8\u001b[0m)]               │            │                   │\n",
       "├─────────────────────┼───────────────────┼────────────┼───────────────────┤\n",
       "│ lstm_1 (\u001b[38;5;33mLSTM\u001b[0m)       │ [(\u001b[38;5;45mNone\u001b[0m, \u001b[38;5;34m24\u001b[0m, \u001b[38;5;34m8\u001b[0m),   │      \u001b[38;5;34m2,336\u001b[0m │ embedding_1[\u001b[38;5;34m0\u001b[0m][\u001b[38;5;34m0\u001b[0m… │\n",
       "│                     │ (\u001b[38;5;45mNone\u001b[0m, \u001b[38;5;34m8\u001b[0m), (\u001b[38;5;45mNone\u001b[0m, │            │ lstm[\u001b[38;5;34m0\u001b[0m][\u001b[38;5;34m1\u001b[0m],       │\n",
       "│                     │ \u001b[38;5;34m8\u001b[0m)]               │            │ lstm[\u001b[38;5;34m0\u001b[0m][\u001b[38;5;34m2\u001b[0m]        │\n",
       "├─────────────────────┼───────────────────┼────────────┼───────────────────┤\n",
       "│ dense (\u001b[38;5;33mDense\u001b[0m)       │ (\u001b[38;5;45mNone\u001b[0m, \u001b[38;5;34m24\u001b[0m, \u001b[38;5;34m172\u001b[0m)   │      \u001b[38;5;34m1,548\u001b[0m │ lstm_1[\u001b[38;5;34m0\u001b[0m][\u001b[38;5;34m0\u001b[0m]      │\n",
       "└─────────────────────┴───────────────────┴────────────┴───────────────────┘\n"
      ]
     },
     "metadata": {},
     "output_type": "display_data"
    },
    {
     "data": {
      "text/html": [
       "<pre style=\"white-space:pre;overflow-x:auto;line-height:normal;font-family:Menlo,'DejaVu Sans Mono',consolas,'Courier New',monospace\"><span style=\"font-weight: bold\"> Total params: </span><span style=\"color: #00af00; text-decoration-color: #00af00\">31,692</span> (123.80 KB)\n",
       "</pre>\n"
      ],
      "text/plain": [
       "\u001b[1m Total params: \u001b[0m\u001b[38;5;34m31,692\u001b[0m (123.80 KB)\n"
      ]
     },
     "metadata": {},
     "output_type": "display_data"
    },
    {
     "data": {
      "text/html": [
       "<pre style=\"white-space:pre;overflow-x:auto;line-height:normal;font-family:Menlo,'DejaVu Sans Mono',consolas,'Courier New',monospace\"><span style=\"font-weight: bold\"> Trainable params: </span><span style=\"color: #00af00; text-decoration-color: #00af00\">31,692</span> (123.80 KB)\n",
       "</pre>\n"
      ],
      "text/plain": [
       "\u001b[1m Trainable params: \u001b[0m\u001b[38;5;34m31,692\u001b[0m (123.80 KB)\n"
      ]
     },
     "metadata": {},
     "output_type": "display_data"
    },
    {
     "data": {
      "text/html": [
       "<pre style=\"white-space:pre;overflow-x:auto;line-height:normal;font-family:Menlo,'DejaVu Sans Mono',consolas,'Courier New',monospace\"><span style=\"font-weight: bold\"> Non-trainable params: </span><span style=\"color: #00af00; text-decoration-color: #00af00\">0</span> (0.00 B)\n",
       "</pre>\n"
      ],
      "text/plain": [
       "\u001b[1m Non-trainable params: \u001b[0m\u001b[38;5;34m0\u001b[0m (0.00 B)\n"
      ]
     },
     "metadata": {},
     "output_type": "display_data"
    }
   ],
   "source": [
    "from tensorflow.keras.models import Model\n",
    "from tensorflow.keras.layers import Input, LSTM, Dense, Embedding\n",
    "from tensorflow.keras.callbacks import EarlyStopping\n",
    "\n",
    "# Define model\n",
    "embedding_dim = 64\n",
    "units = 8\n",
    "\n",
    "# Encoder\n",
    "encoder_inputs = Input(shape=(max_vi_len,))\n",
    "encoder_embedding = Embedding(input_dim=len(vi_tokenizer.word_index)+1, output_dim=embedding_dim)(encoder_inputs)\n",
    "encoder_lstm = LSTM(units, return_state=True)\n",
    "encoder_outputs, state_h, state_c = encoder_lstm(encoder_embedding)\n",
    "\n",
    "# Decoder\n",
    "decoder_inputs = Input(shape=(max_en_len,))\n",
    "decoder_embedding = Embedding(input_dim=len(en_tokenizer.word_index)+1, output_dim=embedding_dim)(decoder_inputs)\n",
    "decoder_lstm = LSTM(units, return_sequences=True, return_state=True)\n",
    "decoder_outputs, _, _ = decoder_lstm(decoder_embedding, initial_state=[state_h, state_c])\n",
    "decoder_dense = Dense(len(en_tokenizer.word_index)+1, activation='softmax')\n",
    "decoder_outputs = decoder_dense(decoder_outputs)\n",
    "\n",
    "# Define model\n",
    "model = Model([encoder_inputs, decoder_inputs], decoder_outputs)\n",
    "# model.compile(optimizer='adam', loss='sparse_categorical_crossentropy', metrics=['accuracy'])\n",
    "metrics = ['accuracy', 'sparse_categorical_crossentropy']\n",
    "model.compile(optimizer='adam', loss='sparse_categorical_crossentropy', metrics=metrics)\n",
    "model.summary()"
   ]
  },
  {
   "cell_type": "code",
   "execution_count": 11,
   "metadata": {},
   "outputs": [
    {
     "data": {
      "text/html": [
       "<pre style=\"white-space:pre;overflow-x:auto;line-height:normal;font-family:Menlo,'DejaVu Sans Mono',consolas,'Courier New',monospace\"><span style=\"font-weight: bold\">Model: \"functional_3\"</span>\n",
       "</pre>\n"
      ],
      "text/plain": [
       "\u001b[1mModel: \"functional_3\"\u001b[0m\n"
      ]
     },
     "metadata": {},
     "output_type": "display_data"
    },
    {
     "data": {
      "text/html": [
       "<pre style=\"white-space:pre;overflow-x:auto;line-height:normal;font-family:Menlo,'DejaVu Sans Mono',consolas,'Courier New',monospace\">┏━━━━━━━━━━━━━━━━━━━━━┳━━━━━━━━━━━━━━━━━━━┳━━━━━━━━━━━━┳━━━━━━━━━━━━━━━━━━━┓\n",
       "┃<span style=\"font-weight: bold\"> Layer (type)        </span>┃<span style=\"font-weight: bold\"> Output Shape      </span>┃<span style=\"font-weight: bold\">    Param # </span>┃<span style=\"font-weight: bold\"> Connected to      </span>┃\n",
       "┡━━━━━━━━━━━━━━━━━━━━━╇━━━━━━━━━━━━━━━━━━━╇━━━━━━━━━━━━╇━━━━━━━━━━━━━━━━━━━┩\n",
       "│ input_layer_2       │ (<span style=\"color: #00d7ff; text-decoration-color: #00d7ff\">None</span>, <span style=\"color: #00af00; text-decoration-color: #00af00\">39</span>)        │          <span style=\"color: #00af00; text-decoration-color: #00af00\">0</span> │ -                 │\n",
       "│ (<span style=\"color: #0087ff; text-decoration-color: #0087ff\">InputLayer</span>)        │                   │            │                   │\n",
       "├─────────────────────┼───────────────────┼────────────┼───────────────────┤\n",
       "│ input_layer_3       │ (<span style=\"color: #00d7ff; text-decoration-color: #00d7ff\">None</span>, <span style=\"color: #00af00; text-decoration-color: #00af00\">24</span>)        │          <span style=\"color: #00af00; text-decoration-color: #00af00\">0</span> │ -                 │\n",
       "│ (<span style=\"color: #0087ff; text-decoration-color: #0087ff\">InputLayer</span>)        │                   │            │                   │\n",
       "├─────────────────────┼───────────────────┼────────────┼───────────────────┤\n",
       "│ embedding_2         │ (<span style=\"color: #00d7ff; text-decoration-color: #00d7ff\">None</span>, <span style=\"color: #00af00; text-decoration-color: #00af00\">39</span>, <span style=\"color: #00af00; text-decoration-color: #00af00\">64</span>)    │     <span style=\"color: #00af00; text-decoration-color: #00af00\">14,464</span> │ input_layer_2[<span style=\"color: #00af00; text-decoration-color: #00af00\">0</span>]… │\n",
       "│ (<span style=\"color: #0087ff; text-decoration-color: #0087ff\">Embedding</span>)         │                   │            │                   │\n",
       "├─────────────────────┼───────────────────┼────────────┼───────────────────┤\n",
       "│ embedding_3         │ (<span style=\"color: #00d7ff; text-decoration-color: #00d7ff\">None</span>, <span style=\"color: #00af00; text-decoration-color: #00af00\">24</span>, <span style=\"color: #00af00; text-decoration-color: #00af00\">64</span>)    │     <span style=\"color: #00af00; text-decoration-color: #00af00\">11,008</span> │ input_layer_3[<span style=\"color: #00af00; text-decoration-color: #00af00\">0</span>]… │\n",
       "│ (<span style=\"color: #0087ff; text-decoration-color: #0087ff\">Embedding</span>)         │                   │            │                   │\n",
       "├─────────────────────┼───────────────────┼────────────┼───────────────────┤\n",
       "│ lstm_2 (<span style=\"color: #0087ff; text-decoration-color: #0087ff\">LSTM</span>)       │ [(<span style=\"color: #00d7ff; text-decoration-color: #00d7ff\">None</span>, <span style=\"color: #00af00; text-decoration-color: #00af00\">39</span>, <span style=\"color: #00af00; text-decoration-color: #00af00\">8</span>),   │      <span style=\"color: #00af00; text-decoration-color: #00af00\">2,336</span> │ embedding_2[<span style=\"color: #00af00; text-decoration-color: #00af00\">0</span>][<span style=\"color: #00af00; text-decoration-color: #00af00\">0</span>] │\n",
       "│                     │ (<span style=\"color: #00d7ff; text-decoration-color: #00d7ff\">None</span>, <span style=\"color: #00af00; text-decoration-color: #00af00\">8</span>), (<span style=\"color: #00d7ff; text-decoration-color: #00d7ff\">None</span>, │            │                   │\n",
       "│                     │ <span style=\"color: #00af00; text-decoration-color: #00af00\">8</span>)]               │            │                   │\n",
       "├─────────────────────┼───────────────────┼────────────┼───────────────────┤\n",
       "│ lstm_3 (<span style=\"color: #0087ff; text-decoration-color: #0087ff\">LSTM</span>)       │ [(<span style=\"color: #00d7ff; text-decoration-color: #00d7ff\">None</span>, <span style=\"color: #00af00; text-decoration-color: #00af00\">24</span>, <span style=\"color: #00af00; text-decoration-color: #00af00\">8</span>),   │      <span style=\"color: #00af00; text-decoration-color: #00af00\">2,336</span> │ embedding_3[<span style=\"color: #00af00; text-decoration-color: #00af00\">0</span>][<span style=\"color: #00af00; text-decoration-color: #00af00\">0</span>… │\n",
       "│                     │ (<span style=\"color: #00d7ff; text-decoration-color: #00d7ff\">None</span>, <span style=\"color: #00af00; text-decoration-color: #00af00\">8</span>), (<span style=\"color: #00d7ff; text-decoration-color: #00d7ff\">None</span>, │            │ lstm_2[<span style=\"color: #00af00; text-decoration-color: #00af00\">0</span>][<span style=\"color: #00af00; text-decoration-color: #00af00\">1</span>],     │\n",
       "│                     │ <span style=\"color: #00af00; text-decoration-color: #00af00\">8</span>)]               │            │ lstm_2[<span style=\"color: #00af00; text-decoration-color: #00af00\">0</span>][<span style=\"color: #00af00; text-decoration-color: #00af00\">2</span>]      │\n",
       "├─────────────────────┼───────────────────┼────────────┼───────────────────┤\n",
       "│ attention           │ (<span style=\"color: #00d7ff; text-decoration-color: #00d7ff\">None</span>, <span style=\"color: #00af00; text-decoration-color: #00af00\">24</span>, <span style=\"color: #00af00; text-decoration-color: #00af00\">8</span>)     │          <span style=\"color: #00af00; text-decoration-color: #00af00\">0</span> │ lstm_3[<span style=\"color: #00af00; text-decoration-color: #00af00\">0</span>][<span style=\"color: #00af00; text-decoration-color: #00af00\">0</span>],     │\n",
       "│ (<span style=\"color: #0087ff; text-decoration-color: #0087ff\">Attention</span>)         │                   │            │ lstm_2[<span style=\"color: #00af00; text-decoration-color: #00af00\">0</span>][<span style=\"color: #00af00; text-decoration-color: #00af00\">0</span>]      │\n",
       "├─────────────────────┼───────────────────┼────────────┼───────────────────┤\n",
       "│ concatenate         │ (<span style=\"color: #00d7ff; text-decoration-color: #00d7ff\">None</span>, <span style=\"color: #00af00; text-decoration-color: #00af00\">24</span>, <span style=\"color: #00af00; text-decoration-color: #00af00\">16</span>)    │          <span style=\"color: #00af00; text-decoration-color: #00af00\">0</span> │ attention[<span style=\"color: #00af00; text-decoration-color: #00af00\">0</span>][<span style=\"color: #00af00; text-decoration-color: #00af00\">0</span>],  │\n",
       "│ (<span style=\"color: #0087ff; text-decoration-color: #0087ff\">Concatenate</span>)       │                   │            │ lstm_3[<span style=\"color: #00af00; text-decoration-color: #00af00\">0</span>][<span style=\"color: #00af00; text-decoration-color: #00af00\">0</span>]      │\n",
       "├─────────────────────┼───────────────────┼────────────┼───────────────────┤\n",
       "│ dense_1 (<span style=\"color: #0087ff; text-decoration-color: #0087ff\">Dense</span>)     │ (<span style=\"color: #00d7ff; text-decoration-color: #00d7ff\">None</span>, <span style=\"color: #00af00; text-decoration-color: #00af00\">24</span>, <span style=\"color: #00af00; text-decoration-color: #00af00\">172</span>)   │      <span style=\"color: #00af00; text-decoration-color: #00af00\">2,924</span> │ concatenate[<span style=\"color: #00af00; text-decoration-color: #00af00\">0</span>][<span style=\"color: #00af00; text-decoration-color: #00af00\">0</span>] │\n",
       "└─────────────────────┴───────────────────┴────────────┴───────────────────┘\n",
       "</pre>\n"
      ],
      "text/plain": [
       "┏━━━━━━━━━━━━━━━━━━━━━┳━━━━━━━━━━━━━━━━━━━┳━━━━━━━━━━━━┳━━━━━━━━━━━━━━━━━━━┓\n",
       "┃\u001b[1m \u001b[0m\u001b[1mLayer (type)       \u001b[0m\u001b[1m \u001b[0m┃\u001b[1m \u001b[0m\u001b[1mOutput Shape     \u001b[0m\u001b[1m \u001b[0m┃\u001b[1m \u001b[0m\u001b[1m   Param #\u001b[0m\u001b[1m \u001b[0m┃\u001b[1m \u001b[0m\u001b[1mConnected to     \u001b[0m\u001b[1m \u001b[0m┃\n",
       "┡━━━━━━━━━━━━━━━━━━━━━╇━━━━━━━━━━━━━━━━━━━╇━━━━━━━━━━━━╇━━━━━━━━━━━━━━━━━━━┩\n",
       "│ input_layer_2       │ (\u001b[38;5;45mNone\u001b[0m, \u001b[38;5;34m39\u001b[0m)        │          \u001b[38;5;34m0\u001b[0m │ -                 │\n",
       "│ (\u001b[38;5;33mInputLayer\u001b[0m)        │                   │            │                   │\n",
       "├─────────────────────┼───────────────────┼────────────┼───────────────────┤\n",
       "│ input_layer_3       │ (\u001b[38;5;45mNone\u001b[0m, \u001b[38;5;34m24\u001b[0m)        │          \u001b[38;5;34m0\u001b[0m │ -                 │\n",
       "│ (\u001b[38;5;33mInputLayer\u001b[0m)        │                   │            │                   │\n",
       "├─────────────────────┼───────────────────┼────────────┼───────────────────┤\n",
       "│ embedding_2         │ (\u001b[38;5;45mNone\u001b[0m, \u001b[38;5;34m39\u001b[0m, \u001b[38;5;34m64\u001b[0m)    │     \u001b[38;5;34m14,464\u001b[0m │ input_layer_2[\u001b[38;5;34m0\u001b[0m]… │\n",
       "│ (\u001b[38;5;33mEmbedding\u001b[0m)         │                   │            │                   │\n",
       "├─────────────────────┼───────────────────┼────────────┼───────────────────┤\n",
       "│ embedding_3         │ (\u001b[38;5;45mNone\u001b[0m, \u001b[38;5;34m24\u001b[0m, \u001b[38;5;34m64\u001b[0m)    │     \u001b[38;5;34m11,008\u001b[0m │ input_layer_3[\u001b[38;5;34m0\u001b[0m]… │\n",
       "│ (\u001b[38;5;33mEmbedding\u001b[0m)         │                   │            │                   │\n",
       "├─────────────────────┼───────────────────┼────────────┼───────────────────┤\n",
       "│ lstm_2 (\u001b[38;5;33mLSTM\u001b[0m)       │ [(\u001b[38;5;45mNone\u001b[0m, \u001b[38;5;34m39\u001b[0m, \u001b[38;5;34m8\u001b[0m),   │      \u001b[38;5;34m2,336\u001b[0m │ embedding_2[\u001b[38;5;34m0\u001b[0m][\u001b[38;5;34m0\u001b[0m] │\n",
       "│                     │ (\u001b[38;5;45mNone\u001b[0m, \u001b[38;5;34m8\u001b[0m), (\u001b[38;5;45mNone\u001b[0m, │            │                   │\n",
       "│                     │ \u001b[38;5;34m8\u001b[0m)]               │            │                   │\n",
       "├─────────────────────┼───────────────────┼────────────┼───────────────────┤\n",
       "│ lstm_3 (\u001b[38;5;33mLSTM\u001b[0m)       │ [(\u001b[38;5;45mNone\u001b[0m, \u001b[38;5;34m24\u001b[0m, \u001b[38;5;34m8\u001b[0m),   │      \u001b[38;5;34m2,336\u001b[0m │ embedding_3[\u001b[38;5;34m0\u001b[0m][\u001b[38;5;34m0\u001b[0m… │\n",
       "│                     │ (\u001b[38;5;45mNone\u001b[0m, \u001b[38;5;34m8\u001b[0m), (\u001b[38;5;45mNone\u001b[0m, │            │ lstm_2[\u001b[38;5;34m0\u001b[0m][\u001b[38;5;34m1\u001b[0m],     │\n",
       "│                     │ \u001b[38;5;34m8\u001b[0m)]               │            │ lstm_2[\u001b[38;5;34m0\u001b[0m][\u001b[38;5;34m2\u001b[0m]      │\n",
       "├─────────────────────┼───────────────────┼────────────┼───────────────────┤\n",
       "│ attention           │ (\u001b[38;5;45mNone\u001b[0m, \u001b[38;5;34m24\u001b[0m, \u001b[38;5;34m8\u001b[0m)     │          \u001b[38;5;34m0\u001b[0m │ lstm_3[\u001b[38;5;34m0\u001b[0m][\u001b[38;5;34m0\u001b[0m],     │\n",
       "│ (\u001b[38;5;33mAttention\u001b[0m)         │                   │            │ lstm_2[\u001b[38;5;34m0\u001b[0m][\u001b[38;5;34m0\u001b[0m]      │\n",
       "├─────────────────────┼───────────────────┼────────────┼───────────────────┤\n",
       "│ concatenate         │ (\u001b[38;5;45mNone\u001b[0m, \u001b[38;5;34m24\u001b[0m, \u001b[38;5;34m16\u001b[0m)    │          \u001b[38;5;34m0\u001b[0m │ attention[\u001b[38;5;34m0\u001b[0m][\u001b[38;5;34m0\u001b[0m],  │\n",
       "│ (\u001b[38;5;33mConcatenate\u001b[0m)       │                   │            │ lstm_3[\u001b[38;5;34m0\u001b[0m][\u001b[38;5;34m0\u001b[0m]      │\n",
       "├─────────────────────┼───────────────────┼────────────┼───────────────────┤\n",
       "│ dense_1 (\u001b[38;5;33mDense\u001b[0m)     │ (\u001b[38;5;45mNone\u001b[0m, \u001b[38;5;34m24\u001b[0m, \u001b[38;5;34m172\u001b[0m)   │      \u001b[38;5;34m2,924\u001b[0m │ concatenate[\u001b[38;5;34m0\u001b[0m][\u001b[38;5;34m0\u001b[0m] │\n",
       "└─────────────────────┴───────────────────┴────────────┴───────────────────┘\n"
      ]
     },
     "metadata": {},
     "output_type": "display_data"
    },
    {
     "data": {
      "text/html": [
       "<pre style=\"white-space:pre;overflow-x:auto;line-height:normal;font-family:Menlo,'DejaVu Sans Mono',consolas,'Courier New',monospace\"><span style=\"font-weight: bold\"> Total params: </span><span style=\"color: #00af00; text-decoration-color: #00af00\">33,068</span> (129.17 KB)\n",
       "</pre>\n"
      ],
      "text/plain": [
       "\u001b[1m Total params: \u001b[0m\u001b[38;5;34m33,068\u001b[0m (129.17 KB)\n"
      ]
     },
     "metadata": {},
     "output_type": "display_data"
    },
    {
     "data": {
      "text/html": [
       "<pre style=\"white-space:pre;overflow-x:auto;line-height:normal;font-family:Menlo,'DejaVu Sans Mono',consolas,'Courier New',monospace\"><span style=\"font-weight: bold\"> Trainable params: </span><span style=\"color: #00af00; text-decoration-color: #00af00\">33,068</span> (129.17 KB)\n",
       "</pre>\n"
      ],
      "text/plain": [
       "\u001b[1m Trainable params: \u001b[0m\u001b[38;5;34m33,068\u001b[0m (129.17 KB)\n"
      ]
     },
     "metadata": {},
     "output_type": "display_data"
    },
    {
     "data": {
      "text/html": [
       "<pre style=\"white-space:pre;overflow-x:auto;line-height:normal;font-family:Menlo,'DejaVu Sans Mono',consolas,'Courier New',monospace\"><span style=\"font-weight: bold\"> Non-trainable params: </span><span style=\"color: #00af00; text-decoration-color: #00af00\">0</span> (0.00 B)\n",
       "</pre>\n"
      ],
      "text/plain": [
       "\u001b[1m Non-trainable params: \u001b[0m\u001b[38;5;34m0\u001b[0m (0.00 B)\n"
      ]
     },
     "metadata": {},
     "output_type": "display_data"
    }
   ],
   "source": [
    "from tensorflow.keras.layers import Attention, Concatenate\n",
    "\n",
    "# Define model with attention\n",
    "# Encoder\n",
    "encoder_inputs = Input(shape=(max_vi_len,))\n",
    "encoder_embedding = Embedding(input_dim=len(vi_tokenizer.word_index)+1, output_dim=embedding_dim)(encoder_inputs)\n",
    "encoder_lstm = LSTM(units, return_sequences=True, return_state=True)\n",
    "encoder_outputs, state_h, state_c = encoder_lstm(encoder_embedding)\n",
    "\n",
    "# Decoder\n",
    "decoder_inputs = Input(shape=(max_en_len,))\n",
    "decoder_embedding = Embedding(input_dim=len(en_tokenizer.word_index)+1, output_dim=embedding_dim)(decoder_inputs)\n",
    "decoder_lstm = LSTM(units, return_sequences=True, return_state=True)\n",
    "decoder_outputs, _, _ = decoder_lstm(decoder_embedding, initial_state=[state_h, state_c])\n",
    "\n",
    "# Attention\n",
    "attention = Attention()\n",
    "context_vector = attention([decoder_outputs, encoder_outputs])\n",
    "\n",
    "decoder_concat_input = Concatenate(axis=-1)([context_vector, decoder_outputs])\n",
    "\n",
    "# Dense layer\n",
    "decoder_dense = Dense(len(en_tokenizer.word_index)+1, activation='softmax')\n",
    "decoder_outputs = decoder_dense(decoder_concat_input)\n",
    "\n",
    "# Define model\n",
    "model_with_attention = Model([encoder_inputs, decoder_inputs], decoder_outputs)\n",
    "metrics = ['accuracy', 'sparse_categorical_crossentropy']\n",
    "model_with_attention.compile(optimizer='adam', loss='sparse_categorical_crossentropy', metrics=metrics)\n",
    "model_with_attention.summary()"
   ]
  },
  {
   "cell_type": "code",
   "execution_count": 12,
   "metadata": {},
   "outputs": [
    {
     "name": "stdout",
     "output_type": "stream",
     "text": [
      "Epoch 1/5\n",
      "\u001b[1m3/3\u001b[0m \u001b[32m━━━━━━━━━━━━━━━━━━━━\u001b[0m\u001b[37m\u001b[0m \u001b[1m2s\u001b[0m 157ms/step - accuracy: 0.1594 - loss: 5.1394 - sparse_categorical_crossentropy: 5.1394 - val_accuracy: 0.8083 - val_loss: 5.0752 - val_sparse_categorical_crossentropy: 5.0752\n",
      "Epoch 2/5\n",
      "\u001b[1m3/3\u001b[0m \u001b[32m━━━━━━━━━━━━━━━━━━━━\u001b[0m\u001b[37m\u001b[0m \u001b[1m0s\u001b[0m 19ms/step - accuracy: 0.4438 - loss: 5.1079 - sparse_categorical_crossentropy: 5.1079 - val_accuracy: 0.8250 - val_loss: 5.0180 - val_sparse_categorical_crossentropy: 5.0180\n",
      "Epoch 3/5\n",
      "\u001b[1m3/3\u001b[0m \u001b[32m━━━━━━━━━━━━━━━━━━━━\u001b[0m\u001b[37m\u001b[0m \u001b[1m0s\u001b[0m 19ms/step - accuracy: 0.4482 - loss: 5.0795 - sparse_categorical_crossentropy: 5.0795 - val_accuracy: 0.8250 - val_loss: 4.9598 - val_sparse_categorical_crossentropy: 4.9598\n",
      "Epoch 4/5\n",
      "\u001b[1m3/3\u001b[0m \u001b[32m━━━━━━━━━━━━━━━━━━━━\u001b[0m\u001b[37m\u001b[0m \u001b[1m0s\u001b[0m 19ms/step - accuracy: 0.4486 - loss: 5.0503 - sparse_categorical_crossentropy: 5.0503 - val_accuracy: 0.8250 - val_loss: 4.8995 - val_sparse_categorical_crossentropy: 4.8995\n",
      "Epoch 5/5\n",
      "\u001b[1m3/3\u001b[0m \u001b[32m━━━━━━━━━━━━━━━━━━━━\u001b[0m\u001b[37m\u001b[0m \u001b[1m0s\u001b[0m 19ms/step - accuracy: 0.4905 - loss: 5.0055 - sparse_categorical_crossentropy: 5.0055 - val_accuracy: 0.8333 - val_loss: 4.8378 - val_sparse_categorical_crossentropy: 4.8378\n",
      "Epoch 1/5\n",
      "\u001b[1m3/3\u001b[0m \u001b[32m━━━━━━━━━━━━━━━━━━━━\u001b[0m\u001b[37m\u001b[0m \u001b[1m2s\u001b[0m 150ms/step - accuracy: 0.0493 - loss: 5.1455 - sparse_categorical_crossentropy: 5.1455 - val_accuracy: 0.7750 - val_loss: 5.0818 - val_sparse_categorical_crossentropy: 5.0818\n",
      "Epoch 2/5\n",
      "\u001b[1m3/3\u001b[0m \u001b[32m━━━━━━━━━━━━━━━━━━━━\u001b[0m\u001b[37m\u001b[0m \u001b[1m0s\u001b[0m 19ms/step - accuracy: 0.4498 - loss: 5.1096 - sparse_categorical_crossentropy: 5.1096 - val_accuracy: 0.8000 - val_loss: 5.0109 - val_sparse_categorical_crossentropy: 5.0109\n",
      "Epoch 3/5\n",
      "\u001b[1m3/3\u001b[0m \u001b[32m━━━━━━━━━━━━━━━━━━━━\u001b[0m\u001b[37m\u001b[0m \u001b[1m0s\u001b[0m 19ms/step - accuracy: 0.4433 - loss: 5.0756 - sparse_categorical_crossentropy: 5.0756 - val_accuracy: 0.8083 - val_loss: 4.9388 - val_sparse_categorical_crossentropy: 4.9388\n",
      "Epoch 4/5\n",
      "\u001b[1m3/3\u001b[0m \u001b[32m━━━━━━━━━━━━━━━━━━━━\u001b[0m\u001b[37m\u001b[0m \u001b[1m0s\u001b[0m 20ms/step - accuracy: 0.4375 - loss: 5.0402 - sparse_categorical_crossentropy: 5.0402 - val_accuracy: 0.8083 - val_loss: 4.8601 - val_sparse_categorical_crossentropy: 4.8601\n",
      "Epoch 5/5\n",
      "\u001b[1m3/3\u001b[0m \u001b[32m━━━━━━━━━━━━━━━━━━━━\u001b[0m\u001b[37m\u001b[0m \u001b[1m0s\u001b[0m 20ms/step - accuracy: 0.4622 - loss: 4.9953 - sparse_categorical_crossentropy: 4.9953 - val_accuracy: 0.8083 - val_loss: 4.7731 - val_sparse_categorical_crossentropy: 4.7731\n"
     ]
    }
   ],
   "source": [
    "batch_size =8\n",
    "epochs = 5 \n",
    "\n",
    "# Prepare target data for training and validation\n",
    "en_train_out = np.expand_dims(en_train, -1)\n",
    "en_valid_out = np.expand_dims(en_valid, -1)\n",
    "\n",
    "early_stopping = EarlyStopping(patience=5, restore_best_weights=True, monitor='val_loss')\n",
    "\n",
    "# Train without attention\n",
    "history_without_attention = model.fit([vi_train, en_train], en_train_out, batch_size=batch_size, epochs=epochs, validation_data=([vi_valid, en_valid], en_valid_out), callbacks=[early_stopping])\n",
    "\n",
    "# Train with attention\n",
    "history_with_attention = model_with_attention.fit([vi_train, en_train], en_train_out, batch_size=batch_size, epochs=epochs, validation_data=([vi_valid, en_valid], en_valid_out), callbacks=[early_stopping])"
   ]
  },
  {
   "cell_type": "code",
   "execution_count": 13,
   "metadata": {},
   "outputs": [
    {
     "data": {
      "image/png": "[encoded data removed]",
      "text/plain": [
       "<Figure size 1200x600 with 1 Axes>"
      ]
     },
     "metadata": {},
     "output_type": "display_data"
    },
    {
     "data": {
      "image/png": "[encoded data removed]",
      "text/plain": [
       "<Figure size 1200x600 with 1 Axes>"
      ]
     },
     "metadata": {},
     "output_type": "display_data"
    }
   ],
   "source": [
    "import matplotlib.pyplot as plt\n",
    "\n",
    "# Plot loss and val_loss for the model without attention\n",
    "plt.figure(figsize=(12, 6))\n",
    "plt.plot(history_without_attention.history['loss'], label='Training Loss (No Attention)')\n",
    "plt.plot(history_without_attention.history['val_loss'], label='Validation Loss (No Attention)')\n",
    "plt.title('Training and Validation Loss (No Attention)')\n",
    "plt.xlabel('Epochs')\n",
    "plt.ylabel('Loss')\n",
    "plt.legend()\n",
    "plt.show()\n",
    "\n",
    "# Plot loss and val_loss for the model with attention\n",
    "plt.figure(figsize=(12, 6))\n",
    "plt.plot(history_with_attention.history['loss'], label='Training Loss (With Attention)')\n",
    "plt.plot(history_with_attention.history['val_loss'], label='Validation Loss (With Attention)')\n",
    "plt.title('Training and Validation Loss (With Attention)')\n",
    "plt.xlabel('Epochs')\n",
    "plt.ylabel('Loss')\n",
    "plt.legend()\n",
    "plt.show()"
   ]
  },
  {
   "cell_type": "code",
   "execution_count": 14,
   "metadata": {},
   "outputs": [
    {
     "name": "stderr",
     "output_type": "stream",
     "text": [
      "WARNING:absl:You are saving your model as an HDF5 file via `model.save()` or `keras.saving.save_model(model)`. This file format is considered legacy. We recommend using instead the native Keras format, e.g. `model.save('my_model.keras')` or `keras.saving.save_model(model, 'my_model.keras')`. \n",
      "WARNING:absl:You are saving your model as an HDF5 file via `model.save()` or `keras.saving.save_model(model)`. This file format is considered legacy. We recommend using instead the native Keras format, e.g. `model.save('my_model.keras')` or `keras.saving.save_model(model, 'my_model.keras')`. \n"
     ]
    }
   ],
   "source": [
    "# Save models\n",
    "model.save('model.h5')\n",
    "model_with_attention.save('model_with_attention.h5')"
   ]
  },
  {
   "cell_type": "code",
   "execution_count": 15,
   "metadata": {},
   "outputs": [
    {
     "name": "stderr",
     "output_type": "stream",
     "text": [
      "WARNING:absl:Compiled the loaded model, but the compiled metrics have yet to be built. `model.compile_metrics` will be empty until you train or evaluate the model.\n",
      "WARNING:absl:Compiled the loaded model, but the compiled metrics have yet to be built. `model.compile_metrics` will be empty until you train or evaluate the model.\n"
     ]
    }
   ],
   "source": [
    "# Load models\n",
    "model = tf.keras.models.load_model('model.h5')\n",
    "model_with_attention = tf.keras.models.load_model('model_with_attention.h5')"
   ]
  },
  {
   "cell_type": "code",
   "execution_count": null,
   "metadata": {},
   "outputs": [
    {
     "name": "stdout",
     "output_type": "stream",
     "text": [
      "\u001b[1m1/1\u001b[0m \u001b[32m━━━━━━━━━━━━━━━━━━━━\u001b[0m\u001b[37m\u001b[0m \u001b[1m0s\u001b[0m 159ms/step\n",
      "\u001b[1m1/1\u001b[0m \u001b[32m━━━━━━━━━━━━━━━━━━━━\u001b[0m\u001b[37m\u001b[0m \u001b[1m0s\u001b[0m 173ms/step\n",
      "Without Attention\n",
      "Average F1-score: 0.7771433382888279\n",
      "BLEU score: 0.7771433382888279\n",
      "ROUGE-1 score: 0.26666666202777783\n",
      "ROUGE-2 score: 0.21111110638580258\n",
      "ROUGE-L score: 0.26666666202777783\n",
      "\n",
      "With Attention\n",
      "Average F1-score: 0.7791371328235749\n",
      "BLEU score with attention: 0.7791371328235749\n",
      "ROUGE-1 score with attention: 0.3380952338198697\n",
      "ROUGE-2 score with attention: 0.22525252067412768\n",
      "ROUGE-L score with attention: 0.3380952338198697\n"
     ]
    }
   ],
   "source": [
    "from nltk.translate.bleu_score import sentence_bleu, SmoothingFunction\n",
    "from rouge import Rouge\n",
    "import numpy as np\n",
    "from sklearn.metrics import f1_score\n",
    "\n",
    "# Function to calculate F1 score\n",
    "def calculate_f1_score(reference, candidate):\n",
    "    reference = list(map(int, reference.split()))\n",
    "    candidate = list(map(int, candidate.split()))\n",
    "    return f1_score(reference, candidate, average='weighted')\n",
    "\n",
    "smooth_fn = SmoothingFunction().method4\n",
    "\n",
    "# Evaluate models with additional metrics including F1 score\n",
    "def evaluate_model(model, vi_test, en_test):\n",
    "    predictions = model.predict([vi_test, en_test])\n",
    "    bleu_scores = []\n",
    "    rouge = Rouge()\n",
    "    rouge1_scores = []\n",
    "    rouge2_scores = []\n",
    "    rougeL_scores = []\n",
    "    f1_scores = []\n",
    "    for i in range(len(en_test)):\n",
    "        reference = ' '.join(map(str, en_test[i]))\n",
    "        candidate = ' '.join(map(str, np.argmax(predictions[i], axis=-1)))\n",
    "        bleu_scores.append(sentence_bleu([reference.split()], candidate.split(), smoothing_function=smooth_fn))\n",
    "        rouge_score = rouge.get_scores(candidate, reference)[0]\n",
    "        rouge1_scores.append(rouge_score['rouge-1']['f'])\n",
    "        rouge2_scores.append(rouge_score['rouge-2']['f'])\n",
    "        rougeL_scores.append(rouge_score['rouge-l']['f'])\n",
    "        f1_scores.append(calculate_f1_score(reference, candidate))\n",
    "    return {\n",
    "        'bleu': np.mean(bleu_scores),\n",
    "        'rouge1': np.mean(rouge1_scores),\n",
    "        'rouge2': np.mean(rouge2_scores),\n",
    "        'rougeL': np.mean(rougeL_scores),\n",
    "        'f1': np.mean(f1_scores)\n",
    "    }\n",
    "\n",
    "# Assuming `model` and `model_with_attention` are already defined and trained\n",
    "scores_no_attention = evaluate_model(model, vi_test, en_test)\n",
    "scores_with_attention = evaluate_model(model_with_attention, vi_test, en_test)\n",
    "\n",
    "print(\"Without Attention\")\n",
    "print(f'Average F1-score: {scores_no_attention[\"bleu\"]}')\n",
    "print(f'BLEU score: {scores_no_attention[\"bleu\"]}')\n",
    "print(f'ROUGE-1 score: {scores_no_attention[\"rouge1\"]}')\n",
    "print(f'ROUGE-2 score: {scores_no_attention[\"rouge2\"]}')\n",
    "print(f'ROUGE-L score: {scores_no_attention[\"rougeL\"]}')\n",
    "\n",
    "print(\"\\nWith Attention\")\n",
    "print(f'Average F1-score: {scores_with_attention[\"bleu\"]}')\n",
    "print(f'BLEU score with attention: {scores_with_attention[\"bleu\"]}')\n",
    "print(f'ROUGE-1 score with attention: {scores_with_attention[\"rouge1\"]}')\n",
    "print(f'ROUGE-2 score with attention: {scores_with_attention[\"rouge2\"]}')\n",
    "print(f'ROUGE-L score with attention: {scores_with_attention[\"rougeL\"]}')"
   ]
  },
  {
   "cell_type": "code",
   "execution_count": 17,
   "metadata": {},
   "outputs": [],
   "source": [
    "# model_with_attention = tf.keras.models.load_model('model_with_attention.h5')\n",
    "\n",
    "# # Function to preprocess the input sentence\n",
    "# def preprocess_sentence(sentence, tokenizer, max_len):\n",
    "#     sequence = tokenizer.texts_to_sequences([sentence])\n",
    "#     padded_sequence = pad_sequences(sequence, maxlen=max_len, padding='post')\n",
    "#     return padded_sequence\n",
    "\n",
    "# # Function to translate a sentence\n",
    "# def translate_sentence(model, sentence, vi_tokenizer, en_tokenizer, max_vi_len, max_en_len):\n",
    "#     # Preprocess the input sentence\n",
    "#     vi_sequence = preprocess_sentence(sentence, vi_tokenizer, max_vi_len)\n",
    "    \n",
    "#     # Initialize the target sequence with the start token\n",
    "#     en_sequence = np.zeros((1, max_en_len))\n",
    "    \n",
    "#     # Predict the translation\n",
    "#     for i in range(max_en_len):\n",
    "#         prediction = model.predict([vi_sequence, en_sequence])\n",
    "#         predicted_id = np.argmax(prediction[0, i, :])\n",
    "#         en_sequence[0, i] = predicted_id\n",
    "#         if predicted_id == 0:  # End token\n",
    "#             break\n",
    "    \n",
    "#     # Convert the predicted sequence to words\n",
    "#     translated_sentence = ' '.join([en_tokenizer.index_word[int(id)] for id in en_sequence[0] if id != 0])\n",
    "#     return translated_sentence\n",
    "\n",
    "# # User input\n",
    "# user_input = input(\"Enter a Vietnamese sentence: \")\n",
    "\n",
    "# # Translate the sentence\n",
    "# translated_sentence = translate_sentence(model_with_attention, user_input, vi_tokenizer, en_tokenizer, max_vi_len, max_en_len)\n",
    "# print(\"Translated sentence:\", translated_sentence)"
   ]
  }
 ],
 "metadata": {
  "kernelspec": {
   "display_name": "Python 3",
   "language": "python",
   "name": "python3"
  },
  "language_info": {
   "codemirror_mode": {
    "name": "ipython",
    "version": 3
   },
   "file_extension": ".py",
   "mimetype": "text/x-python",
   "name": "python",
   "nbconvert_exporter": "python",
   "pygments_lexer": "ipython3",
   "version": "3.11.2"
  }
 },
 "nbformat": 4,
 "nbformat_minor": 2
}
