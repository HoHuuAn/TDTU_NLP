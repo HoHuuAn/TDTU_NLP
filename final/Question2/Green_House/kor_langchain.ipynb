{
 "cells": [
  {
   "cell_type": "code",
   "execution_count": 3,
   "metadata": {},
   "outputs": [],
   "source": [
    "# Kor!\n",
    "from kor.extraction import create_extraction_chain\n",
    "from kor.nodes import Object, Text, Number\n",
    "\n",
    "# LangChain Models\n",
    "from langchain_google_genai import ChatGoogleGenerativeAI\n",
    "\n",
    "# Standard Helpers\n",
    "import pandas as pd\n",
    "import requests\n",
    "import time\n",
    "import json\n",
    "from datetime import datetime\n",
    "\n",
    "# Text Helpers\n",
    "from bs4 import BeautifulSoup\n",
    "from markdownify import markdownify as md\n",
    "\n",
    "# For token counting\n",
    "from langchain.callbacks import get_openai_callback\n",
    "\n",
    "# Project Hepers\n",
    "import getpass\n",
    "import os\n",
    "from dotenv import load_dotenv, find_dotenv\n",
    "\n",
    "\n",
    "def printOutput(output):\n",
    "    print(json.dumps(output,sort_keys=True, indent=3))"
   ]
  },
  {
   "cell_type": "code",
   "execution_count": 4,
   "metadata": {},
   "outputs": [
    {
     "data": {
      "text/plain": [
       "True"
      ]
     },
     "execution_count": 4,
     "metadata": {},
     "output_type": "execute_result"
    }
   ],
   "source": [
    "load_dotenv(find_dotenv(), override=True)"
   ]
  },
  {
   "cell_type": "code",
   "execution_count": 5,
   "metadata": {},
   "outputs": [],
   "source": [
    "if 'GOOGLE_API_KEY' not in os.environ:\n",
    "    os.environ['GOOGLE_API_KEY'] = getpass.getpass('Provide your Google API Key: ')"
   ]
  },
  {
   "cell_type": "code",
   "execution_count": 6,
   "metadata": {},
   "outputs": [],
   "source": [
    "llm = ChatGoogleGenerativeAI(model='gemini-1.5-flash-002', temperature=0.9)"
   ]
  },
  {
   "cell_type": "code",
   "execution_count": 7,
   "metadata": {},
   "outputs": [],
   "source": [
    "def pull_from_greenhouse(board_token):\n",
    "\n",
    "    url = f'https://boards-api.greenhouse.io/v1/boards/{board_token}/jobs?content=true'\n",
    "    \n",
    "    try:\n",
    "        response = requests.get(url)\n",
    "    except:\n",
    "        print (\"Whoops, error\")\n",
    "        return\n",
    "        \n",
    "    status_code = response.status_code\n",
    "    \n",
    "    jobs = response.json()['jobs']\n",
    "    \n",
    "    print (f\"{board_token}: {status_code}, Found {len(jobs)} jobs\")\n",
    "    \n",
    "    return jobs"
   ]
  },
  {
   "cell_type": "code",
   "execution_count": 8,
   "metadata": {},
   "outputs": [
    {
     "name": "stdout",
     "output_type": "stream",
     "text": [
      "okta: 200, Found 174 jobs\n"
     ]
    }
   ],
   "source": [
    "jobs = pull_from_greenhouse(\"okta\")\n",
    "# omnivacorpsandbox\n",
    "# juaai\n",
    "# eyecarecenter\n",
    "# teachforall\n",
    "# matic"
   ]
  },
  {
   "cell_type": "code",
   "execution_count": 13,
   "metadata": {},
   "outputs": [
    {
     "name": "stdout",
     "output_type": "stream",
     "text": [
      "Preview:\n",
      " {\"absolute_url\": \"https://www.okta.com/company/careers/opportunity/6297980?gh_jid=6297980\", \"data_compliance\": [{\"type\": \"gdpr\", \"requires_consent\": false, \"requires_processing_consent\": false, \"requires_retention_consent\": false, \"retention_period\": null, \"demographic_data_consent_applies\": false}], \"internal_job_id\": 2976449, \"location\": {\"name\": \"United States\"}, \"metadata\": null, \"id\": 6297980, \"updated_at\": \"2024-12-09T21:49:15-05:00\", \"requisition_id\": \"P17421_2976449\", \"title\": \"Anaplan Manager\", \"content\": \"&lt;div class=&quot;content-intro&quot;&gt;&lt;p&gt;&lt;span style=&quot;color: #000000;&quot;&gt;&lt;strong&gt;Get to know Okta&lt;br&gt;&lt;br&gt;&lt;/strong&gt;&lt;/span&gt;Okta is The World\\u2019s Identity Company. We free everyone to safely use any technology\\u2014anywhere, on any device or app. Our Workforce and Customer Identity Clouds enable secure yet flexible access, authentication, and automation that transforms how people move through the digital world, putting Identity at the heart of business security and growth.&amp;nbsp;&lt;br&gt;&lt;br&gt;At Okta, we celebrate a variety of perspectives and experiences. We are not looking for someone who checks every single box - we\\u2019re looking for lifelong learners and people who can make us better with their unique experiences.&amp;nbsp;&lt;br&gt;&lt;br&gt;Join our team! We\\u2019re building a world where Identity belongs to you.&lt;/p&gt;&lt;/div&gt;&lt;p&gt;&lt;strong&gt;The GTM Strategy and Operations Team&lt;/strong&gt;&lt;/p&gt;\\n&lt;p&gt;We are a dynamic team within the GTM Strategy and Operations department, dedicated to optimizing and enhancing our business processes through innovative planning and analytics solutions. We build and manage foundational models on Anaplan to support our most critical planning processes such as Territory Carving, Quota Setting, Headcount and Capacity Management, and Demand Planning. Our solutions are integral to Okta\\u2019s success, acting as a force multiplier to boost the productivity of our operations team and streamline our planning processes.&lt;/p&gt;\\n&lt;p&gt;&lt;strong&gt;The Anaplan Manager Opportunity&lt;/strong&gt;&lt;/p&gt;\\n&lt;p&gt;We are seeking a highly skilled and motivated&amp;nbsp; Anaplan Manager to join our Planning Infrastructure and Solutions team. This role blends expertise in Anaplan and a strong ability to collaborate with key parters in GTM operations. You will own the development and maintenance of our Anaplan models, enhance our planning capabilities through effective and efficient model design, and help execute on critical planning objectives.&lt;/p&gt;\\n&lt;p&gt;&lt;strong&gt;What you\\u2019ll be doing&amp;nbsp;&lt;/strong&gt;&lt;/p&gt;\\n&lt;p&gt;Build the right infrastructure&lt;/p&gt;\\n&lt;ul&gt;\\n&lt;li&gt;Provide architectural expertise and establish best Anaplan best practices across the GTM strategy organization.&lt;/li&gt;\\n&lt;li&gt;Design and improve on how we report on performance, track metrics, and set key targets.&lt;/li&gt;\\n&lt;li&gt;Understand the end-to-end structure of running a GTM team (e.g. headcount &amp;amp; capacity planning, territory assignment, pipeline performance, and attainment reporting).&lt;/li&gt;\\n&lt;li&gt;Create the structure to run GTM operations and personnel processes (target changes, headcount planning, partnering with Finance and recruiting).&lt;/li&gt;\\n&lt;li&gt;Optimize the user experience and value of our models.&amp;nbsp;&lt;/li&gt;\\n&lt;li&gt;Build and execute a vision of integrated planning.&amp;nbsp;&lt;/li&gt;\\n&lt;/ul&gt;\\n&lt;p&gt;Data and analytics&lt;/p&gt;\\n&lt;ul&gt;\\n&lt;li&gt;Help automate and expand our go-to-market reporting. This includes (but is not limited to): weekly/monthly/quarterly reports, headcount and capacity tracking, pipeline reviews, territory management, and forecasting.&lt;/li&gt;\\n&lt;li&gt;Improve our data foundations to increase visibility and insight into critical business metrics.&lt;/li&gt;\\n&lt;li&gt;Define our data and metric dictionary.&lt;/li&gt;\\n&lt;li&gt;Enable Ops leadership on how to interpret and drive action against key metrics.&lt;/li&gt;\\n&lt;li&gt;Partner with our IT, Data and Finance teams to augment and align our shared data.&lt;/li&gt;\\n&lt;/ul&gt;\\n&lt;p&gt;&lt;strong&gt;What you\\u2019ll bring to the role&lt;/strong&gt;&lt;/p&gt;\\n&lt;ul&gt;\\n&lt;li&gt;Expertise in Anaplan, with experience as a consultant transitioning to in-house roles.&lt;/li&gt;\\n&lt;li&gt;Strong systems architecture skills with a focus on Anaplan or other business intelligence tools.&lt;/li&gt;\\n&lt;li&gt;Proven experience as a general analyst (finance, marketing, product) with advanced Anaplan proficiency.&lt;/li&gt;\\n&lt;li&gt;5-7+ years of Anaplan model building experience or 2-4 years of Anaplan, Hyperion or other BI architecture experience.&lt;/li&gt;\\n&lt;li&gt;Business analysis and modeling experience for a sales org (fast growing enterprise SaaS preferred)&lt;/li&gt;\\n&lt;li&gt;Certified Anaplanner required (Master Anaplanner preferred).&lt;/li&gt;\\n&lt;li&gt;Working knowledge of end-to-end headcount planning process, territory management, and sales or business operations.&lt;/li&gt;\\n&lt;li&gt;Excellent written and verbal communication skills.&lt;/li&gt;\\n&lt;li&gt;Deep experience modeling complex problems, both conceptually and tactically (spreadsheets, analysis tools, visualization).&lt;/li&gt;\\n&lt;li&gt;Endless curiosity and a need to dive deeper for understanding.&lt;/li&gt;\\n&lt;li&gt;Self-motivation, with the desire and capacity to work both independently and collaboratively.&lt;/li&gt;\\n&lt;/ul&gt;\\n&lt;p&gt;&lt;strong&gt;And extra credit if you have experience in any of the following!&amp;nbsp;&lt;/strong&gt;&lt;/p&gt;\\n&lt;ul&gt;\\n&lt;li&gt;Experience with integrating enterprise tools.&lt;/li&gt;\\n&lt;li&gt;Experience with Tableau or other analysis/BI tools.&lt;/li&gt;\\n&lt;li&gt;Perspectives and backgrounds we don\\u2019t already have on board: we value new viewpoints and ideas.&lt;/li&gt;\\n&lt;/ul&gt;\\n&lt;p&gt;#LI-RA1&lt;br&gt;#LI-Remote&lt;/p&gt;&lt;div class=&quot;content-pay-transparency&quot;&gt;&lt;div class=&quot;pay-input&quot;&gt;&lt;div class=&quot;description&quot;&gt;&lt;p&gt;Below is the annual base salary range for candidates located in California, Colorado, New York and Washington. Your actual base salary will depend on factors such as your skills, qualifications, experience, and work location. In addition, Okta offers equity (where applicable), bonus, and benefits, including health, dental and vision insurance, 401(k), flexible spending account, and paid leave (including PTO and parental leave) in accordance with our applicable plans and policies. To learn more about our Total Rewards program please visit:&lt;a href=&quot;https://rewards.okta.com/us&quot;&gt; https://rewards.okta.com/us&lt;/a&gt;.&amp;nbsp;&amp;nbsp;&amp;nbsp;&lt;/p&gt;&lt;/div&gt;&lt;div class=&quot;title&quot;&gt;The annual base salary range for this position for candidates located in California (excluding San Francisco Bay Area), Colorado, New York, and Washington is between:&lt;/div&gt;&lt;div class=&quot;pay-range&quot;&gt;&lt;span&gt;$114,000&lt;/span&gt;&lt;span class=&quot;divider&quot;&gt;&amp;mdash;&lt;/span&gt;&lt;span&gt;$172,000 USD&lt;/span&gt;&lt;/div&gt;&lt;/div&gt;&lt;/div&gt;&lt;div class=&quot;content-conclusion&quot;&gt;&lt;p&gt;&lt;strong&gt;&lt;span style=&quot;color: #000000;&quot;&gt;What you can look forward to as an Full-Time Okta employee!&lt;/span&gt;&lt;/strong&gt;&lt;/p&gt;\\n&lt;ul&gt;\\n&lt;li&gt;&lt;span style=&quot;color: #000000;&quot;&gt;Amazing &lt;a href=&quot;https://rewards.okta.com/&quot; target=&quot;_blank&quot; data-saferedirecturl=&quot;https://www.google.com/url?q=https://rewards.okta.com/&amp;amp;source=gmail&amp;amp;ust=1677948559087000&amp;amp;usg=AOvVaw0Smv8KiGrXS3C1_LQmHF9D&quot;&gt;Benefits&lt;/a&gt;&lt;/span&gt;&lt;/li&gt;\\n&lt;li&gt;&lt;span style=&quot;color: #000000;&quot;&gt;Making &lt;a href=&quot;https://www.okta.com/okta-for-good/&quot; target=&quot;_blank&quot; data-saferedirecturl=&quot;https://www.google.com/url?q=https://www.okta.com/okta-for-good/&amp;amp;source=gmail&amp;amp;ust=1677948559087000&amp;amp;usg=AOvVaw2kKFyZVPp9NLrjKMOBXtWi&quot;&gt;Social Impact&lt;/a&gt;&lt;/span&gt;&lt;/li&gt;\\n&lt;li&gt;&lt;span style=&quot;color: #000000;&quot;&gt;Fostering &lt;a href=&quot;https://www.okta.com/diversity/&quot; target=&quot;_blank&quot; data-saferedirecturl=&quot;https://www.google.com/url?q=https://www.okta.com/diversity/&amp;amp;source=gmail&amp;amp;ust=1677948559087000&amp;amp;usg=AOvVaw0jfjeqRJu7TzCNXBlUsLD9&quot;&gt;Diversity, Equity, Inclusion and Belonging at Okta&amp;nbsp;&lt;/a&gt;&lt;/span&gt;&lt;/li&gt;\\n&lt;/ul&gt;\\n&lt;p&gt;Okta cultivates a dynamic work environment, providing the best tools, technology and benefits to empower our employees to work productively in a setting that best and uniquely suits their needs. Each organization is unique in the degree of flexibility and mobility in which they work so that all employees are enabled to be their most creative and successful versions of themselves, regardless of where they live. Find your place at Okta&lt;a href=&quot;https://www.okta.com/company/careers/&quot; target=&quot;_blank&quot; data-saferedirecturl=&quot;https://www.google.com/url?q=https://www.okta.com/company/careers/&amp;amp;source=gmail&amp;amp;ust=1677948559087000&amp;amp;usg=AOvVaw0Sy_6hHRhrwzwXgCfEiRV1&quot;&gt; today! https://www.okta.com/company/careers/&lt;/a&gt;.&lt;/p&gt;\\n&lt;p&gt;Okta is an Equal Opportunity Employer. All qualified applicants will receive consideration for employment without regard to race, color, religion, sex, sexual orientation, gender identity, national origin, ancestry, marital status, age, physical or mental disability, or status as a protected veteran. We also consider for employment qualified applicants with arrest and convictions records, consistent with applicable laws. If reasonable accommodation is needed to participate in the job application, interview process, or onboarding please use this&lt;a href=&quot;https://docs.google.com/forms/d/1EfiEYZrIyhA2X4Fijk0R3RKYOzNoS3wtvyM4nhbZnXE/edit&quot; target=&quot;_blank&quot; data-saferedirecturl=&quot;https://www.google.com/url?q=https://docs.google.com/forms/d/1EfiEYZrIyhA2X4Fijk0R3RKYOzNoS3wtvyM4nhbZnXE/edit&amp;amp;source=gmail&amp;amp;ust=1677948559087000&amp;amp;usg=AOvVaw152wP4kqe-oDJRAeGVJrN7&quot;&gt; Form&lt;/a&gt; to request an accommodation.&lt;/p&gt;\\n&lt;p&gt;Okta is committed to complying with applicable data privacy and security laws and regulations. For more information, please see our Privacy Policy at &lt;a href=&quot;https://www.okta.com/privacy-policy/&quot; target=&quot;_blank&quot; data-saferedirecturl=&quot;https://www.google.com/url?q=https://www.okta.com/privacy-policy/&amp;amp;source=gmail&amp;amp;ust=1677948559087000&amp;amp;usg=AOvVaw2ZSu8-Xy6xVS2Ut21kiDK1&quot;&gt;https://www.okta.com/privacy-policy/&lt;/a&gt;.&amp;nbsp;&lt;/p&gt;&lt;/div&gt;\", \"departments\": [{\"id\": 28538, \"name\": \"Business Operations-150\", \"child_ids\": [], \"parent_id\": 64389}], \"offices\": [{\"id\": 67252, \"name\": \"United States\", \"location\": null, \"child_ids\": [85788, 73666, 19612, 21495, 21497, 21496, 22604, 19611, 61722, 19613], \"parent_id\": 67248}]}\n"
     ]
    }
   ],
   "source": [
    "print (\"Preview:\\n\", json.dumps(jobs[0]))"
   ]
  },
  {
   "cell_type": "code",
   "execution_count": 14,
   "metadata": {},
   "outputs": [],
   "source": [
    "def describeJob(job_description):\n",
    "    print(f\"Job ID: {job_description['id']}\")\n",
    "    print(f\"Link: {job_description['absolute_url']}\")\n",
    "    print(f\"Updated At: {datetime.fromisoformat(job_description['updated_at']).strftime('%B %d, %Y')}\")\n",
    "    print(f\"Title: {job_description['title']}\\n\")\n",
    "    print(f\"Content:\\n{job_description['content'][:550]}\")"
   ]
  },
  {
   "cell_type": "code",
   "execution_count": 15,
   "metadata": {},
   "outputs": [
    {
     "name": "stdout",
     "output_type": "stream",
     "text": [
      "Job ID: 6297980\n",
      "Link: https://www.okta.com/company/careers/opportunity/6297980?gh_jid=6297980\n",
      "Updated At: December 09, 2024\n",
      "Title: Anaplan Manager\n",
      "\n",
      "Content:\n",
      "&lt;div class=&quot;content-intro&quot;&gt;&lt;p&gt;&lt;span style=&quot;color: #000000;&quot;&gt;&lt;strong&gt;Get to know Okta&lt;br&gt;&lt;br&gt;&lt;/strong&gt;&lt;/span&gt;Okta is The World’s Identity Company. We free everyone to safely use any technology—anywhere, on any device or app. Our Workforce and Customer Identity Clouds enable secure yet flexible access, authentication, and automation that transforms how people move through the digital world, putting Identity at the heart of business security and growth.&amp;nbsp;&lt;br&gt;&lt;br&g\n"
     ]
    }
   ],
   "source": [
    "job_id = 6297980\n",
    "\n",
    "job_description = [item for item in jobs if item['id'] == job_id][0]\n",
    "\t\n",
    "describeJob(job_description)"
   ]
  },
  {
   "cell_type": "code",
   "execution_count": 16,
   "metadata": {},
   "outputs": [],
   "source": [
    "soup = BeautifulSoup(job_description['content'], 'html.parser')"
   ]
  },
  {
   "cell_type": "code",
   "execution_count": 18,
   "metadata": {},
   "outputs": [
    {
     "name": "stdout",
     "output_type": "stream",
     "text": [
      "\n",
      "\n",
      "**Get to know Okta**Okta is The World’s Identity Company. We free everyone to safely use any technology—anywhere, on any device or app. Our Workforce and Customer Identity Clouds enable secure yet flexible access, authentication, and automation that transforms how people move through the digital world, putting Identity at the heart of business security and growth.   \n",
      "  \n",
      "At Okta, we celebrate a variety of perspectives and experiences. We are not looking for someone who checks every single box - we’re looking for lifelong learners and people who can make us better with their unique experiences.   \n",
      "  \n",
      "Join our team! We’re building a world where Identity belongs to you.\n",
      "\n",
      "**The GTM Strategy and Operations Team**\n",
      "\n",
      "We are a dynamic team within the GTM Strategy and Operations department, dedicated to optimizing and enhancing our business processes through innovative planning and analytics solutions. We build and manage foundational models on Anaplan to support our most critical planning processes such as Territory Carving, Quota Setting, Headcount and Capacity Management, and Demand Planning. Our solutions are integral to Okta’s success, acting as a force multiplier to boost the productivity of our operations team and streamline our planning processes.\n",
      "\n",
      "**The Anaplan Manager Opportunity**\n",
      "\n",
      "We are seeking a highly skilled and motivated  Anaplan Manager to join our Planning Infrastructure and Solutions team. This role blends expertise in Anaplan and a strong ability to collaborate with key parters in GTM operations. You will own the development and maintenance of our Anaplan models, enhance our planning capabilities through effective and efficient model design, and help execute on critical planning objectives.\n",
      "\n",
      "**What you’ll be doing**\n",
      "\n",
      "Build the right infrastructure\n",
      "\n",
      "* Provide architectural expertise and establish best Anaplan best practices across the GTM strategy organization.\n",
      "* Design and improve on how we report on performance, track metrics, and set key targets.\n",
      "* Understand the end-to-end structure of running a GTM team (e.g. headcount & capacity planning, territory assignment, pipeline performance, and attainment reporting).\n",
      "* Create the structure to run GTM operations and personnel processes (target changes, headcount planning, partnering with Finance and recruiting).\n",
      "* Optimize the user experience and value of our models.\n",
      "* Build and execute a vision of integrated planning.\n",
      "\n",
      "Data and analytics\n",
      "\n",
      "* Help automate and expand our go-to-market reporting. This includes (but is not limited to): weekly/monthly/quarterly reports, headcount and capacity tracking, pipeline reviews, territory management, and forecasting.\n",
      "* Improve our data foundations to increase visibility and insight into critical business metrics.\n",
      "* Define our data and metric dictionary.\n",
      "* Enable Ops leadership on how to interpret and drive action against key metrics.\n",
      "* Partner with our IT, Data and Finance teams to augment and align our shared data.\n",
      "\n",
      "**What you’ll bring to the role**\n",
      "\n",
      "* Expertise in Anaplan, with experience as a consultant transitioning to in-house roles.\n",
      "* Strong systems architecture skills with a focus on Anaplan or other business intelligence tools.\n",
      "* Proven experience as a general analyst (finance, marketing, product) with advanced Anaplan proficiency.\n",
      "* 5-7+ years of Anaplan model building experience or 2-4 years of Anaplan, Hyperion or other BI architecture experience.\n",
      "* Business analysis and modeling experience for a sales org (fast growing enterprise SaaS preferred)\n",
      "* Certified Anaplanner required (Master Anaplanner preferred).\n",
      "* Working knowledge of end-to-end headcount planning process, territory management, and sales or business operations.\n",
      "* Excellent written and verbal communication skills.\n",
      "* Deep experience modeling complex problems, both conceptually and tactically (spreadsheets, analysis tools, visualization).\n",
      "* Endless curiosity and a need to dive deeper for understanding.\n",
      "* Self-motivation, with the desire and capacity to work both independently and collaboratively.\n",
      "\n",
      "**And extra credit if you have experience in any of the following!**\n",
      "\n",
      "* Experience with integrating enterprise tools.\n",
      "* Experience with Tableau or other analysis/BI tools.\n",
      "* Perspectives and backgrounds we don’t already have on board: we value new viewpoints and ideas.\n",
      "\n",
      "#LI-RA1  \n",
      "#LI-Remote\n",
      "\n",
      "Below is the annual base salary range for candidates located in California, Colorado, New York and Washington. Your actual base salary will depend on factors such as your skills, qualifications, experience, and work location. In addition, Okta offers equity (where applicable), bonus, and benefits, including health, dental and vision insurance, 401(k), flexible spending account, and paid leave (including PTO and parental leave) in accordance with our applicable plans and policies. To learn more about our Total Rewards program please visit:<https://rewards.okta.com/us>.\n",
      "\n",
      "The annual base salary range for this position for candidates located in California (excluding San Francisco Bay Area), Colorado, New York, and Washington is between:$114,000—$172,000 USD\n",
      "\n",
      "**What you can look forward to as an Full-Time Okta employee!**\n",
      "\n",
      "* Amazing [Benefits](https://rewards.okta.com/)\n",
      "* Making [Social Impact](https://www.okta.com/okta-for-good/)\n",
      "* Fostering [Diversity, Equity, Inclusion and Belonging at Okta](https://www.okta.com/diversity/)\n",
      "\n",
      "Okta cultivates a dynamic work environment, providing the best tools, technology and benefits to empower our employees to work productively in a setting that best and uniquely suits their needs. Each organization is unique in the degree of flexibility and mobility in which they work so that all employees are enabled to be their most creative and successful versions of themselves, regardless of where they live. Find your place at Okta [today! https://www.okta.com/company/careers/](https://www.okta.com/company/careers/).\n",
      "\n",
      "Okta is an Equal Opportunity Employer. All qualified applicants will receive consideration for employment without regard to race, color, religion, sex, sexual orientation, gender identity, national origin, ancestry, marital status, age, physical or mental disability, or status as a protected veteran. We also consider for employment qualified applicants with arrest and convictions records, consistent with applicable laws. If reasonable accommodation is needed to participate in the job application, interview process, or onboarding please use this [Form](https://docs.google.com/forms/d/1EfiEYZrIyhA2X4Fijk0R3RKYOzNoS3wtvyM4nhbZnXE/edit) to request an accommodation.\n",
      "\n",
      "Okta is committed to complying with applicable data privacy and security laws and regulations. For more information, please see our Privacy Policy at <https://www.okta.com/privacy-policy/>.\n",
      "\n",
      "\n"
     ]
    }
   ],
   "source": [
    "text = soup.get_text()\n",
    "\n",
    "text = md(text)\n",
    "\n",
    "print (text)"
   ]
  },
  {
   "cell_type": "code",
   "execution_count": 51,
   "metadata": {},
   "outputs": [],
   "source": [
    "tools = Object(\n",
    "    id=\"tools\",\n",
    "    description=\"\"\"\n",
    "        A tool, application, or other company that is listed in a job description.\n",
    "        Analytics, eCommerce and GTM are not tools\n",
    "    \"\"\",\n",
    "    attributes=[\n",
    "        Text(\n",
    "            id=\"tool\",\n",
    "            description=\"The name of a tool or company\"\n",
    "        )\n",
    "    ],\n",
    "    examples=[\n",
    "        (\n",
    "            \"Experience in working with Netsuite, or Looker a plus.\",\n",
    "            [\n",
    "                {\"tool\": \"Netsuite\"},\n",
    "                {\"tool\": \"Looker\"},\n",
    "            ],\n",
    "        ),\n",
    "        (\n",
    "           \"Experience with Microsoft Excel\",\n",
    "            [\n",
    "               {\"tool\": \"Microsoft Excel\"}\n",
    "            ] \n",
    "        ),\n",
    "        (\n",
    "           \"You must know AWS to do well in the job\",\n",
    "            [\n",
    "               {\"tool\": \"AWS\"}\n",
    "            ] \n",
    "        ),\n",
    "        (\n",
    "           \"Troubleshooting customer issues and debugging from logs (Splunk, Syslogs, etc.) \",\n",
    "            [\n",
    "               {\"tool\": \"Splunk\"},\n",
    "            ] \n",
    "        )\n",
    "    ],\n",
    "    many=True,\n",
    ")"
   ]
  },
  {
   "cell_type": "code",
   "execution_count": 52,
   "metadata": {},
   "outputs": [],
   "source": [
    "chain = create_extraction_chain(llm, tools, input_formatter=\"triple_quotes\")"
   ]
  },
  {
   "cell_type": "code",
   "execution_count": 53,
   "metadata": {},
   "outputs": [
    {
     "name": "stdout",
     "output_type": "stream",
     "text": [
      "{\n",
      "   \"tools\": [\n",
      "      {\n",
      "         \"tool\": \"Anaplan\"\n",
      "      },\n",
      "      {\n",
      "         \"tool\": \"Hyperion\"\n",
      "      },\n",
      "      {\n",
      "         \"tool\": \"Tableau\"\n",
      "      }\n",
      "   ]\n",
      "}\n"
     ]
    }
   ],
   "source": [
    "output = chain.invoke(input=text)[\"data\"]\n",
    "\n",
    "printOutput(output)"
   ]
  },
  {
   "cell_type": "code",
   "execution_count": 19,
   "metadata": {},
   "outputs": [],
   "source": [
    "salary_range = Object(\n",
    "    id=\"salary_range\",\n",
    "    description=\"\"\"\n",
    "        The range of salary offered for a job mentioned in a job description\n",
    "    \"\"\",\n",
    "    attributes=[\n",
    "        Number(\n",
    "            id=\"low_end\",\n",
    "            description=\"The low end of a salary range\"\n",
    "        ),\n",
    "        Number(\n",
    "            id=\"high_end\",\n",
    "            description=\"The high end of a salary range\"\n",
    "        )\n",
    "    ],\n",
    "    examples=[\n",
    "        (\n",
    "            \"This position will make between $140 thousand and $230,000.00\",\n",
    "            [\n",
    "                {\"low_end\": 140000, \"high_end\": 230000},\n",
    "            ]\n",
    "        )\n",
    "    ]\n",
    ")"
   ]
  },
  {
   "cell_type": "code",
   "execution_count": 20,
   "metadata": {},
   "outputs": [
    {
     "name": "stdout",
     "output_type": "stream",
     "text": [
      "cruise: 200, Found 31 jobs\n"
     ]
    }
   ],
   "source": [
    "jobs = pull_from_greenhouse(\"cruise\")"
   ]
  },
  {
   "cell_type": "code",
   "execution_count": 84,
   "metadata": {},
   "outputs": [
    {
     "name": "stdout",
     "output_type": "stream",
     "text": [
      "Preview:\n",
      "{\"absolute_url\": \"https://boards.greenhouse.io/cruise/jobs/6126427?gh_jid=6126427\", \"data_compliance\": [{\"type\": \"gdpr\", \"requires_consent\": false, \"requires_processing_consent\": false, \"requires_retention_consent\": false, \"retention_period\": null, \"demographic_data_consent_applies\": false}], \"education\": \"education_optional\", \"internal_job_id\": 2925388, \"location\": {\"name\": \"San Francisco, CA\"}, \n"
     ]
    }
   ],
   "source": [
    "print(\"Preview:\")\n",
    "print(json.dumps(jobs[1])[:400])"
   ]
  },
  {
   "cell_type": "code",
   "execution_count": 22,
   "metadata": {},
   "outputs": [
    {
     "name": "stdout",
     "output_type": "stream",
     "text": [
      "Job ID: 6126427\n",
      "Link: https://boards.greenhouse.io/cruise/jobs/6126427?gh_jid=6126427\n",
      "Updated At: December 10, 2024\n",
      "Title: Manager II, Operations Data Science\n",
      "\n",
      "Content:\n",
      "&lt;div class=&quot;content-intro&quot;&gt;&lt;p&gt;&lt;span style=&quot;font-weight: 400;&quot;&gt;We&#39;re Cruise, a self-driving service designed for the cities we love.&lt;/span&gt;&lt;/p&gt;\n",
      "&lt;p&gt;&lt;span style=&quot;font-weight: 400;&quot;&gt;We’re building the world’s most advanced self-driving vehicles to safely connect people to the places, things, and experiences they care about. We believe self-driving vehicles will help save lives, reshape cities, give back time in transit, and restore freedom of movement for many.&lt;/span&gt;\n"
     ]
    }
   ],
   "source": [
    "job_id = 6126427\n",
    "\n",
    "job_description = [item for item in jobs if item['id'] == job_id][0]\n",
    "    \n",
    "describeJob(job_description)\n",
    "\n",
    "soup = BeautifulSoup(job_description['content'], 'html.parser')\n",
    "text = soup.get_text()\n",
    "\n",
    "text = md(text)"
   ]
  },
  {
   "cell_type": "code",
   "execution_count": 23,
   "metadata": {},
   "outputs": [
    {
     "name": "stdout",
     "output_type": "stream",
     "text": [
      "\n",
      "\n",
      "We're Cruise, a self-driving service designed for the cities we love.\n",
      "\n",
      "We’re building the world’s most advanced self-driving vehicles to safely connect people to the places, things, and experiences they care about. We believe self-driving vehicles will help save lives, reshape cities, give back time in transit, and restore freedom of movement for many.\n",
      "\n",
      "In our cars, you’re free to be yourself. It’s the same here at Cruise. We’re creating a culture that values the experiences and contributions of all of the unique individuals who collectively make up Cruise, so that every employee can do their best work. \n",
      "\n",
      "Cruise is committed to building a diverse, equitable, and inclusive environment, both in our workplace and in our products. If you are looking to play a part in making a positive impact in the world by advancing the revolutionary work of self-driving cars, come join us. Even if you might not meet every requirement, we strongly encourage you to apply. You might just be the right candidate for us. \n",
      "\n",
      "We are seeking a highly skilled Manager II, Operations Data Science to join our Operations Control Center. We're looking for a strategic people leader who is adept at translating complex data insights into actionable business strategies with exceptional analytical skills, a deep understanding of machine learning and statistical modeling, and the ability to drive impactful decisions through data-driven methodologies. You will be responsible for mentoring and developing your team, fostering a culture of innovation and continuous improvement, and ensuring the delivery of high-quality analytical solutions.\n",
      "\n",
      "If you're interested in transforming the future of transportation, let's chat!\n",
      "\n",
      "**What you’ll be doing:**\n",
      "\n",
      "* Team Leadership and Development: Lead, mentor, and develop an impactful team of data scientists and engineers. Cultivate a culture of innovation, collaboration, and continuous learning.\n",
      "* Strategic Data Science Initiatives: Develop and implement strategies to address key operational challenges. Translate complex data insights into actionable business strategies and communicate findings to executive leadership. Drive the adoption of advanced analytics, machine learning, and statistical modeling techniques within the team.\n",
      "* Collaboration: Collaborate enterprise-wide to understand data needs and deliver tailored analytical solutions. Act as a liaison between the data science team and other departments to ensure alignment with organizational goals.\n",
      "* Project Management: Oversee multiple data science projects from inception to completion, ensuring timely delivery and high-quality results.\n",
      "* Innovation and Continuous Improvement: Stay up-to-date with the latest trends and advancements in data science. Encourage the exploration of new tools, technologies, and methodologies to enhance analytical capabilities. Ensure the team adheres to high standards of quality and integrity.\n",
      "\n",
      "**What you must have:**\n",
      "\n",
      "* Master's or PhD in Data Science, Computer Science, Statistics, or a related field.\n",
      "* Proven experience in a data science leadership role, preferably within the AV or technology industry.\n",
      "* Consistent track record of data pipeline and analytics engineering development for metrics/KPIs\n",
      "* Advanced proficiency in SQL and significant Python experience. Familiarity with data visualization tools and frameworks.\n",
      "* Strong expertise in machine learning, statistical modeling, and data analysis.\n",
      "* Excellent problem-solving skills and the ability to think strategically.\n",
      "* Exceptional communication and interpersonal skills, with the ability to convey complex ideas to non-technical team members.\n",
      "* Experience with project management and a track record of successfully delivering complex projects.\n",
      "\n",
      "**Bonus points!**\n",
      "\n",
      "* Experience designing, training, and critically analyzing ML models for big data\n",
      "* Experience deploying feature and model pipelines at scale, and monitoring model performance\n",
      "\n",
      "*The salary range for this position i**s $171,400 - $252,000. Compensation will vary depending on location, job-related knowledge, skills, and experience. You may a**lso be offered a bonus, long-term incentives, and benefits. These ranges are subject to change.*\n",
      "\n",
      "**Why Cruise?**\n",
      "===============\n",
      "\n",
      "**Our benefits are here to support the whole you:**\n",
      "\n",
      "* Competitive salary and benefits\n",
      "* Medical / dental / vision, Life and AD&D\n",
      "* Subsidized mental health benefits\n",
      "* Paid time off and holidays\n",
      "* Paid parental, medical, family care, and military leave of absence\n",
      "* 401(k) Cruise matching program\n",
      "* Fertility benefits\n",
      "* Dependent Care Flexible Spending Account\n",
      "* Flexible Spending Account & Health Saving Account\n",
      "* Perks Wallet program for benefits/perks\n",
      "* Pre-tax Commuter benefit plan for local employees\n",
      "* CruiseFlex, our location-flexible work policy. ([Learn more about CruiseFlex)](https://getcruise.com/news/blog/2022/cruiseflex-our-approach-to-flexible-work/).\n",
      "\n",
      "**We’re Integrated**\n",
      "====================\n",
      "\n",
      "* Through our partnerships with General Motors and Honda, we are the only self-driving company with fully integrated manufacturing at scale.\n",
      "\n",
      "**We’re Funded**\n",
      "================\n",
      "\n",
      "* GM, Honda, Microsoft, T. Rowe Price, and Walmart have invested billions in Cruise. Their backing for our technology demonstrates their confidence in our progress, team, and vision and makes us one of the leading autonomous vehicle organizations in the industry. Our deep resources greatly accelerate our operating speed.\n",
      "\n",
      "*Cruise LLC is an equal opportunity employer. We strive to create a supportive and inclusive workplace where contributions are valued and celebrated, and our employees thrive by being themselves and are inspired to do the best work of their lives. We seek applicants of all backgrounds and identities, across race, color, caste, ethnicity, national origin or ancestry, age, citizenship, religion, sex, sexual orientation, gender identity or expression, veteran status, marital status, pregnancy or parental status, or disability. Applicants will not be discriminated against based on these or other protected categories or social identities. Cruise will consider for employment qualified applicants with arrest and conviction records, in accordance with applicable laws.*\n",
      "\n",
      "*Cruise is committed to the full inclusion of all applicants. If reasonable accommodation is needed to participate in the job application or interview process please let our recruiting team know or email* *HR@getcruise.com**.*\n",
      "\n",
      "*We proactively work to design hiring processes that promote equity and inclusion while mitigating bias. To help us track the effectiveness and inclusivity of our recruiting efforts, please consider answering the following demographic questions. Answering these questions is entirely voluntary. Your answers to these questions will not be shared with the hiring decision makers and will not impact the hiring decision in any way. Instead, Cruise will use this information not only to comply with any government reporting obligations but also to track our progress toward meeting our diversity, equity, inclusion, and belonging objectives. [Know Your Rights: Workplace Discrimination is Illegal](https://www.dol.gov/sites/dolgov/files/OFCCP/regs/compliance/posters/pdf/22-088_EEOC_KnowYourRights.pdf)*\n",
      "\n",
      "*In any materials you submit, you may redact or remove age-identifying information such as age, date of birth, or dates of school attendance or graduation. You will not be penalized for redacting or removing this information.*\n",
      "\n",
      "***Candidates applying for roles that operate and remotely operate the AV:*** *Licensed to drive a motor vehicle in the U.S. for the three years immediately preceding your application, currently holding an active in-state regular driver’s license or equivalent, and no more than one point on driving record. A successful completion of a background check, drug screen and DMV Motor Vehicle Record check is also required.*\n",
      "\n",
      "***Note to Recruitment Agencies:*** *Cruise does not accept unsolicited agency resumes. Furthermore, Cruise does not pay placement fees for candidates submitted by any agency other than its approved partners.*\n",
      "\n",
      "No Application Deadline\n",
      "\n",
      "\n"
     ]
    }
   ],
   "source": [
    "print(text)"
   ]
  },
  {
   "cell_type": "code",
   "execution_count": 66,
   "metadata": {},
   "outputs": [
    {
     "name": "stdout",
     "output_type": "stream",
     "text": [
      "{\n",
      "   \"salary_range\": [\n",
      "      {\n",
      "         \"high_end\": \"252000\",\n",
      "         \"low_end\": \"171400\"\n",
      "      }\n",
      "   ]\n",
      "}\n"
     ]
    }
   ],
   "source": [
    "chain = create_extraction_chain(llm, salary_range)\n",
    "output = chain.invoke(input=text)[\"data\"]\n",
    "\n",
    "printOutput(output)"
   ]
  }
 ],
 "metadata": {
  "kernelspec": {
   "display_name": "Python 3",
   "language": "python",
   "name": "python3"
  },
  "language_info": {
   "codemirror_mode": {
    "name": "ipython",
    "version": 3
   },
   "file_extension": ".py",
   "mimetype": "text/x-python",
   "name": "python",
   "nbconvert_exporter": "python",
   "pygments_lexer": "ipython3",
   "version": "3.11.2"
  }
 },
 "nbformat": 4,
 "nbformat_minor": 2
}
