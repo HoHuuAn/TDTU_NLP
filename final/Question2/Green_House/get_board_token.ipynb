{
 "cells": [
  {
   "cell_type": "code",
   "execution_count": 1,
   "id": "d1a97ec1",
   "metadata": {
    "execution": {
     "iopub.execute_input": "2024-12-16T20:23:37.791141Z",
     "iopub.status.busy": "2024-12-16T20:23:37.790360Z",
     "iopub.status.idle": "2024-12-16T20:23:38.047072Z",
     "shell.execute_reply": "2024-12-16T20:23:38.046218Z"
    },
    "papermill": {
     "duration": 0.263772,
     "end_time": "2024-12-16T20:23:38.049456",
     "exception": false,
     "start_time": "2024-12-16T20:23:37.785684",
     "status": "completed"
    },
    "tags": []
   },
   "outputs": [],
   "source": [
    "import requests\n",
    "from bs4 import BeautifulSoup\n",
    "import re\n",
    "from urllib.parse import urlparse, parse_qs, urlunparse"
   ]
  },
  {
   "cell_type": "code",
   "execution_count": 2,
   "id": "5f1bf02a",
   "metadata": {
    "execution": {
     "iopub.execute_input": "2024-12-16T20:23:38.055636Z",
     "iopub.status.busy": "2024-12-16T20:23:38.055143Z",
     "iopub.status.idle": "2024-12-16T20:23:38.061409Z",
     "shell.execute_reply": "2024-12-16T20:23:38.060457Z"
    },
    "papermill": {
     "duration": 0.011487,
     "end_time": "2024-12-16T20:23:38.063446",
     "exception": false,
     "start_time": "2024-12-16T20:23:38.051959",
     "status": "completed"
    },
    "tags": []
   },
   "outputs": [],
   "source": [
    "def clean_url(url):\n",
    "    parsed = urlparse(url)\n",
    "    query_params = parse_qs(parsed.query)\n",
    "    cleaned_query = {key: value for key, value in query_params.items() if key not in ['prev', 'pto']}\n",
    "    cleaned_url = urlunparse(parsed._replace(query=\"&\".join(f\"{k}={v[0]}\" for k, v in cleaned_query.items())))\n",
    "    return cleaned_url"
   ]
  },
  {
   "cell_type": "code",
   "execution_count": 3,
   "id": "fdc4b0e9",
   "metadata": {
    "execution": {
     "iopub.execute_input": "2024-12-16T20:23:38.069188Z",
     "iopub.status.busy": "2024-12-16T20:23:38.068880Z",
     "iopub.status.idle": "2024-12-16T20:23:38.073709Z",
     "shell.execute_reply": "2024-12-16T20:23:38.072776Z"
    },
    "papermill": {
     "duration": 0.009944,
     "end_time": "2024-12-16T20:23:38.075681",
     "exception": false,
     "start_time": "2024-12-16T20:23:38.065737",
     "status": "completed"
    },
    "tags": []
   },
   "outputs": [],
   "source": [
    "def save_board_tokens(board_tokens, path):\n",
    "    with open(path, 'w') as file:\n",
    "        for token in board_tokens:\n",
    "            file.write(f\"{token}\\n\")"
   ]
  },
  {
   "cell_type": "code",
   "execution_count": 4,
   "id": "9e9332e1",
   "metadata": {
    "execution": {
     "iopub.execute_input": "2024-12-16T20:23:38.080941Z",
     "iopub.status.busy": "2024-12-16T20:23:38.080630Z",
     "iopub.status.idle": "2024-12-16T20:23:38.086604Z",
     "shell.execute_reply": "2024-12-16T20:23:38.085786Z"
    },
    "papermill": {
     "duration": 0.010635,
     "end_time": "2024-12-16T20:23:38.088412",
     "exception": false,
     "start_time": "2024-12-16T20:23:38.077777",
     "status": "completed"
    },
    "tags": []
   },
   "outputs": [],
   "source": [
    "def get_board_tokens(query, num_pages=1):\n",
    "    headers = {\n",
    "        \"User-Agent\": \"Mozilla/5.0 (Windows NT 10.0; Win64; x64) AppleWebKit/537.36 (KHTML, like Gecko) Chrome/91.0.4472.124 Safari/537.36\"\n",
    "    }\n",
    "    board_tokens = set()\n",
    "    base_url = \"https://www.google.com/search\"\n",
    "    \n",
    "    for page in range(num_pages):\n",
    "        params = {\n",
    "            \"q\": query,\n",
    "            \"start\": page * 10\n",
    "        }\n",
    "        response = requests.get(base_url, headers=headers, params=params)\n",
    "        soup = BeautifulSoup(response.text, \"html.parser\")\n",
    "        \n",
    "        for a_tag in soup.find_all(\"a\", href=True):\n",
    "            url = clean_url(a_tag[\"href\"])\n",
    "            match = re.search(r\"boards\\.greenhouse\\.io/([^/?]+)\", url)\n",
    "            if match:\n",
    "                board_tokens.add(match.group(1))\n",
    "        \n",
    "        if (page+1) % 10 == 0:\n",
    "            print(f\"The page {page+1} and {len(board_tokens)} broad_token\") \n",
    "    \n",
    "    return board_tokens"
   ]
  },
  {
   "cell_type": "code",
   "execution_count": 5,
   "id": "b53abbb4",
   "metadata": {
    "execution": {
     "iopub.execute_input": "2024-12-16T20:23:38.093995Z",
     "iopub.status.busy": "2024-12-16T20:23:38.093656Z",
     "iopub.status.idle": "2024-12-16T21:09:11.147115Z",
     "shell.execute_reply": "2024-12-16T21:09:11.146183Z"
    },
    "papermill": {
     "duration": 2733.058959,
     "end_time": "2024-12-16T21:09:11.149586",
     "exception": false,
     "start_time": "2024-12-16T20:23:38.090627",
     "status": "completed"
    },
    "tags": []
   },
   "outputs": [
    {
     "name": "stdout",
     "output_type": "stream",
     "text": [
      "The page 10 and 95 broad_token\n",
      "The page 20 and 177 broad_token\n",
      "The page 30 and 244 broad_token\n",
      "The page 40 and 300 broad_token\n",
      "The page 50 and 300 broad_token\n",
      "The page 60 and 300 broad_token\n",
      "The page 70 and 300 broad_token\n",
      "The page 80 and 300 broad_token\n",
      "The page 90 and 300 broad_token\n",
      "The page 100 and 300 broad_token\n"
     ]
    }
   ],
   "source": [
    "tokens = get_board_tokens(\"site:boards.greenhouse.io\", num_pages = 100)"
   ]
  },
  {
   "cell_type": "code",
   "execution_count": 8,
   "id": "ddf7890a",
   "metadata": {
    "execution": {
     "iopub.execute_input": "2024-12-16T21:09:11.170885Z",
     "iopub.status.busy": "2024-12-16T21:09:11.170511Z",
     "iopub.status.idle": "2024-12-16T21:09:11.175265Z",
     "shell.execute_reply": "2024-12-16T21:09:11.174490Z"
    },
    "papermill": {
     "duration": 0.010067,
     "end_time": "2024-12-16T21:09:11.177252",
     "exception": false,
     "start_time": "2024-12-16T21:09:11.167185",
     "status": "completed"
    },
    "tags": []
   },
   "outputs": [],
   "source": [
    "save_board_tokens(tokens, \"board_tokens.txt\")"
   ]
  },
  {
   "cell_type": "markdown",
   "id": "e88a5988",
   "metadata": {},
   "source": [
    "# `Combine board_token files`"
   ]
  },
  {
   "cell_type": "code",
   "execution_count": 1,
   "id": "5f43120f",
   "metadata": {},
   "outputs": [],
   "source": [
    "def combine_and_deduplicate_files(file_paths, output_path):\n",
    "    combined_tokens = set()\n",
    "    \n",
    "    for file_path in file_paths:\n",
    "        with open(file_path, 'r') as file:\n",
    "            for line in file:\n",
    "                combined_tokens.add(line.strip())\n",
    "    \n",
    "    with open(output_path, 'w') as output_file:\n",
    "        for token in sorted(combined_tokens):\n",
    "            output_file.write(f\"{token}\\n\")"
   ]
  },
  {
   "cell_type": "code",
   "execution_count": 2,
   "id": "0791ecbb",
   "metadata": {},
   "outputs": [],
   "source": [
    "combine_and_deduplicate_files([\"board_tokens_0.txt\", \"board_tokens_1.txt\", \"board_tokens_2.txt\"], \\\n",
    "                              \"board_tokens.txt\")"
   ]
  }
 ],
 "metadata": {
  "kaggle": {
   "accelerator": "none",
   "dataSources": [],
   "dockerImageVersionId": 30804,
   "isGpuEnabled": false,
   "isInternetEnabled": true,
   "language": "python",
   "sourceType": "notebook"
  },
  "kernelspec": {
   "display_name": "Python 3",
   "language": "python",
   "name": "python3"
  },
  "language_info": {
   "codemirror_mode": {
    "name": "ipython",
    "version": 3
   },
   "file_extension": ".py",
   "mimetype": "text/x-python",
   "name": "python",
   "nbconvert_exporter": "python",
   "pygments_lexer": "ipython3",
   "version": "3.11.2"
  },
  "papermill": {
   "default_parameters": {},
   "duration": 2736.445611,
   "end_time": "2024-12-16T21:09:11.599103",
   "environment_variables": {},
   "exception": null,
   "input_path": "__notebook__.ipynb",
   "output_path": "__notebook__.ipynb",
   "parameters": {},
   "start_time": "2024-12-16T20:23:35.153492",
   "version": "2.6.0"
  }
 },
 "nbformat": 4,
 "nbformat_minor": 5
}
