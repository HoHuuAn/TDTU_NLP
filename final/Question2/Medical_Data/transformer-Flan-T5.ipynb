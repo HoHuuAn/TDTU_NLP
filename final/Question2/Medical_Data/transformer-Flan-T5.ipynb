{
 "cells": [
  {
   "cell_type": "code",
   "execution_count": 1,
   "metadata": {},
   "outputs": [],
   "source": [
    "# Data processing\n",
    "import torch\n",
    "import numpy as np\n",
    "import json\n",
    "\n",
    "# Model\n",
    "from transformers import T5Tokenizer, T5ForConditionalGeneration\n",
    "from torch.utils.data import Dataset, DataLoader\n",
    "\n",
    "# Training\n",
    "from torch.optim import AdamW\n",
    "from torch import optim \n",
    "\n",
    "# Utils\n",
    "from tqdm import tqdm\n",
    "from matplotlib import pyplot as plt\n",
    "\n",
    "# Evaluation\n",
    "from sklearn.metrics import precision_score, recall_score, f1_score\n",
    "from nltk.translate.bleu_score import sentence_bleu\n",
    "from nltk.translate.meteor_score import meteor_score\n",
    "from rouge_score import rouge_scorer\n"
   ]
  },
  {
   "cell_type": "markdown",
   "metadata": {},
   "source": [
    "# `Dataset class`"
   ]
  },
  {
   "cell_type": "code",
   "execution_count": 89,
   "metadata": {
    "execution": {
     "iopub.execute_input": "2024-12-17T17:51:37.809053Z",
     "iopub.status.busy": "2024-12-17T17:51:37.808610Z",
     "iopub.status.idle": "2024-12-17T17:51:37.818299Z",
     "shell.execute_reply": "2024-12-17T17:51:37.817425Z",
     "shell.execute_reply.started": "2024-12-17T17:51:37.809007Z"
    },
    "trusted": true
   },
   "outputs": [],
   "source": [
    "class MedicalRecordDataset(Dataset):\n",
    "    def __init__(self, data_file, tokenizer, max_input_len=512, max_output_len=512):\n",
    "        with open(data_file, \"r\") as f:\n",
    "            self.data = json.load(f)\n",
    "        self.tokenizer = tokenizer\n",
    "        self.max_input_len = max_input_len\n",
    "        self.max_output_len = max_output_len\n",
    "\n",
    "    def __len__(self):\n",
    "        return len(self.data)\n",
    "\n",
    "    def __getitem__(self, idx):\n",
    "        record = self.data[idx]\n",
    "        text = record[\"text\"]\n",
    "        extraction = json.dumps(record[\"extraction\"]) \n",
    "        \n",
    "        # Tokenize input text\n",
    "        inputs = self.tokenizer(\n",
    "            text,\n",
    "            max_length=self.max_input_len,\n",
    "            padding=\"max_length\",\n",
    "            truncation=True,\n",
    "            return_tensors=\"pt\"\n",
    "        )\n",
    "        # Tokenize target text\n",
    "        targets = self.tokenizer(\n",
    "            extraction,\n",
    "            max_length=self.max_output_len,\n",
    "            padding=\"max_length\",\n",
    "            truncation=True,\n",
    "            return_tensors=\"pt\"\n",
    "        )\n",
    "        \n",
    "        return {\n",
    "            \"input_ids\": inputs[\"input_ids\"].squeeze(0),\n",
    "            \"attention_mask\": inputs[\"attention_mask\"].squeeze(0),\n",
    "            \"labels\": targets[\"input_ids\"].squeeze(0)\n",
    "        }"
   ]
  },
  {
   "cell_type": "code",
   "execution_count": 90,
   "metadata": {
    "execution": {
     "iopub.execute_input": "2024-12-17T17:51:37.819773Z",
     "iopub.status.busy": "2024-12-17T17:51:37.819441Z",
     "iopub.status.idle": "2024-12-17T17:51:39.342083Z",
     "shell.execute_reply": "2024-12-17T17:51:39.341098Z",
     "shell.execute_reply.started": "2024-12-17T17:51:37.819745Z"
    },
    "trusted": true
   },
   "outputs": [],
   "source": [
    "# Initialize tokenizer\n",
    "tokenizer = T5Tokenizer.from_pretrained(\"google/flan-t5-base\")\n",
    "\n",
    "# Prepare datasets\n",
    "train_dataset = MedicalRecordDataset(\"/kaggle/input/information-extraction/train.json\", tokenizer)\n",
    "test_dataset = MedicalRecordDataset(\"/kaggle/input/information-extraction/test.json\", tokenizer)\n",
    "val_dataset = MedicalRecordDataset(\"/kaggle/input/information-extraction/val.json\", tokenizer)\n",
    "\n",
    "# Create DataLoaders\n",
    "train_loader = DataLoader(train_dataset, batch_size=2, shuffle=True, num_workers=2, pin_memory=True)\n",
    "test_loader = DataLoader(test_dataset, batch_size=2, num_workers=2, pin_memory=True)\n",
    "val_loader = DataLoader(val_dataset, batch_size=2, num_workers=2, pin_memory=True)"
   ]
  },
  {
   "cell_type": "code",
   "execution_count": 91,
   "metadata": {
    "execution": {
     "iopub.execute_input": "2024-12-17T17:51:39.344485Z",
     "iopub.status.busy": "2024-12-17T17:51:39.344195Z",
     "iopub.status.idle": "2024-12-17T17:51:39.348652Z",
     "shell.execute_reply": "2024-12-17T17:51:39.347713Z",
     "shell.execute_reply.started": "2024-12-17T17:51:39.344459Z"
    },
    "trusted": true
   },
   "outputs": [],
   "source": [
    "import os\n",
    "os.environ[\"PYTORCH_CUDA_ALLOC_CONF\"] = \"expandable_segments:True\""
   ]
  },
  {
   "cell_type": "markdown",
   "metadata": {},
   "source": [
    "# `Model`"
   ]
  },
  {
   "cell_type": "code",
   "execution_count": 92,
   "metadata": {
    "execution": {
     "iopub.execute_input": "2024-12-17T17:51:39.349908Z",
     "iopub.status.busy": "2024-12-17T17:51:39.349660Z",
     "iopub.status.idle": "2024-12-17T17:51:40.519930Z",
     "shell.execute_reply": "2024-12-17T17:51:40.519017Z",
     "shell.execute_reply.started": "2024-12-17T17:51:39.349885Z"
    },
    "trusted": true
   },
   "outputs": [
    {
     "data": {
      "text/plain": [
       "T5ForConditionalGeneration(\n",
       "  (shared): Embedding(32128, 768)\n",
       "  (encoder): T5Stack(\n",
       "    (embed_tokens): Embedding(32128, 768)\n",
       "    (block): ModuleList(\n",
       "      (0): T5Block(\n",
       "        (layer): ModuleList(\n",
       "          (0): T5LayerSelfAttention(\n",
       "            (SelfAttention): T5Attention(\n",
       "              (q): Linear(in_features=768, out_features=768, bias=False)\n",
       "              (k): Linear(in_features=768, out_features=768, bias=False)\n",
       "              (v): Linear(in_features=768, out_features=768, bias=False)\n",
       "              (o): Linear(in_features=768, out_features=768, bias=False)\n",
       "              (relative_attention_bias): Embedding(32, 12)\n",
       "            )\n",
       "            (layer_norm): T5LayerNorm()\n",
       "            (dropout): Dropout(p=0.1, inplace=False)\n",
       "          )\n",
       "          (1): T5LayerFF(\n",
       "            (DenseReluDense): T5DenseGatedActDense(\n",
       "              (wi_0): Linear(in_features=768, out_features=2048, bias=False)\n",
       "              (wi_1): Linear(in_features=768, out_features=2048, bias=False)\n",
       "              (wo): Linear(in_features=2048, out_features=768, bias=False)\n",
       "              (dropout): Dropout(p=0.1, inplace=False)\n",
       "              (act): NewGELUActivation()\n",
       "            )\n",
       "            (layer_norm): T5LayerNorm()\n",
       "            (dropout): Dropout(p=0.1, inplace=False)\n",
       "          )\n",
       "        )\n",
       "      )\n",
       "      (1-11): 11 x T5Block(\n",
       "        (layer): ModuleList(\n",
       "          (0): T5LayerSelfAttention(\n",
       "            (SelfAttention): T5Attention(\n",
       "              (q): Linear(in_features=768, out_features=768, bias=False)\n",
       "              (k): Linear(in_features=768, out_features=768, bias=False)\n",
       "              (v): Linear(in_features=768, out_features=768, bias=False)\n",
       "              (o): Linear(in_features=768, out_features=768, bias=False)\n",
       "            )\n",
       "            (layer_norm): T5LayerNorm()\n",
       "            (dropout): Dropout(p=0.1, inplace=False)\n",
       "          )\n",
       "          (1): T5LayerFF(\n",
       "            (DenseReluDense): T5DenseGatedActDense(\n",
       "              (wi_0): Linear(in_features=768, out_features=2048, bias=False)\n",
       "              (wi_1): Linear(in_features=768, out_features=2048, bias=False)\n",
       "              (wo): Linear(in_features=2048, out_features=768, bias=False)\n",
       "              (dropout): Dropout(p=0.1, inplace=False)\n",
       "              (act): NewGELUActivation()\n",
       "            )\n",
       "            (layer_norm): T5LayerNorm()\n",
       "            (dropout): Dropout(p=0.1, inplace=False)\n",
       "          )\n",
       "        )\n",
       "      )\n",
       "    )\n",
       "    (final_layer_norm): T5LayerNorm()\n",
       "    (dropout): Dropout(p=0.1, inplace=False)\n",
       "  )\n",
       "  (decoder): T5Stack(\n",
       "    (embed_tokens): Embedding(32128, 768)\n",
       "    (block): ModuleList(\n",
       "      (0): T5Block(\n",
       "        (layer): ModuleList(\n",
       "          (0): T5LayerSelfAttention(\n",
       "            (SelfAttention): T5Attention(\n",
       "              (q): Linear(in_features=768, out_features=768, bias=False)\n",
       "              (k): Linear(in_features=768, out_features=768, bias=False)\n",
       "              (v): Linear(in_features=768, out_features=768, bias=False)\n",
       "              (o): Linear(in_features=768, out_features=768, bias=False)\n",
       "              (relative_attention_bias): Embedding(32, 12)\n",
       "            )\n",
       "            (layer_norm): T5LayerNorm()\n",
       "            (dropout): Dropout(p=0.1, inplace=False)\n",
       "          )\n",
       "          (1): T5LayerCrossAttention(\n",
       "            (EncDecAttention): T5Attention(\n",
       "              (q): Linear(in_features=768, out_features=768, bias=False)\n",
       "              (k): Linear(in_features=768, out_features=768, bias=False)\n",
       "              (v): Linear(in_features=768, out_features=768, bias=False)\n",
       "              (o): Linear(in_features=768, out_features=768, bias=False)\n",
       "            )\n",
       "            (layer_norm): T5LayerNorm()\n",
       "            (dropout): Dropout(p=0.1, inplace=False)\n",
       "          )\n",
       "          (2): T5LayerFF(\n",
       "            (DenseReluDense): T5DenseGatedActDense(\n",
       "              (wi_0): Linear(in_features=768, out_features=2048, bias=False)\n",
       "              (wi_1): Linear(in_features=768, out_features=2048, bias=False)\n",
       "              (wo): Linear(in_features=2048, out_features=768, bias=False)\n",
       "              (dropout): Dropout(p=0.1, inplace=False)\n",
       "              (act): NewGELUActivation()\n",
       "            )\n",
       "            (layer_norm): T5LayerNorm()\n",
       "            (dropout): Dropout(p=0.1, inplace=False)\n",
       "          )\n",
       "        )\n",
       "      )\n",
       "      (1-11): 11 x T5Block(\n",
       "        (layer): ModuleList(\n",
       "          (0): T5LayerSelfAttention(\n",
       "            (SelfAttention): T5Attention(\n",
       "              (q): Linear(in_features=768, out_features=768, bias=False)\n",
       "              (k): Linear(in_features=768, out_features=768, bias=False)\n",
       "              (v): Linear(in_features=768, out_features=768, bias=False)\n",
       "              (o): Linear(in_features=768, out_features=768, bias=False)\n",
       "            )\n",
       "            (layer_norm): T5LayerNorm()\n",
       "            (dropout): Dropout(p=0.1, inplace=False)\n",
       "          )\n",
       "          (1): T5LayerCrossAttention(\n",
       "            (EncDecAttention): T5Attention(\n",
       "              (q): Linear(in_features=768, out_features=768, bias=False)\n",
       "              (k): Linear(in_features=768, out_features=768, bias=False)\n",
       "              (v): Linear(in_features=768, out_features=768, bias=False)\n",
       "              (o): Linear(in_features=768, out_features=768, bias=False)\n",
       "            )\n",
       "            (layer_norm): T5LayerNorm()\n",
       "            (dropout): Dropout(p=0.1, inplace=False)\n",
       "          )\n",
       "          (2): T5LayerFF(\n",
       "            (DenseReluDense): T5DenseGatedActDense(\n",
       "              (wi_0): Linear(in_features=768, out_features=2048, bias=False)\n",
       "              (wi_1): Linear(in_features=768, out_features=2048, bias=False)\n",
       "              (wo): Linear(in_features=2048, out_features=768, bias=False)\n",
       "              (dropout): Dropout(p=0.1, inplace=False)\n",
       "              (act): NewGELUActivation()\n",
       "            )\n",
       "            (layer_norm): T5LayerNorm()\n",
       "            (dropout): Dropout(p=0.1, inplace=False)\n",
       "          )\n",
       "        )\n",
       "      )\n",
       "    )\n",
       "    (final_layer_norm): T5LayerNorm()\n",
       "    (dropout): Dropout(p=0.1, inplace=False)\n",
       "  )\n",
       "  (lm_head): Linear(in_features=768, out_features=32128, bias=False)\n",
       ")"
      ]
     },
     "execution_count": 92,
     "metadata": {},
     "output_type": "execute_result"
    }
   ],
   "source": [
    "# Initialize model\n",
    "model = T5ForConditionalGeneration.from_pretrained(\"google/flan-t5-base\")\n",
    "\n",
    "# Use GPU if available\n",
    "device = torch.device(\"cuda\" if torch.cuda.is_available() else \"cpu\")\n",
    "model.to(device)"
   ]
  },
  {
   "cell_type": "markdown",
   "metadata": {},
   "source": [
    "# `Training`"
   ]
  },
  {
   "cell_type": "code",
   "execution_count": 93,
   "metadata": {
    "execution": {
     "iopub.execute_input": "2024-12-17T17:51:40.521614Z",
     "iopub.status.busy": "2024-12-17T17:51:40.521231Z",
     "iopub.status.idle": "2024-12-17T17:51:40.530704Z",
     "shell.execute_reply": "2024-12-17T17:51:40.529913Z",
     "shell.execute_reply.started": "2024-12-17T17:51:40.521574Z"
    },
    "trusted": true
   },
   "outputs": [],
   "source": [
    "def train_model(model, train_loader, val_loader, optimizer, scheduler, num_epochs, device):\n",
    "    model.to(device)\n",
    "    train_losses = []\n",
    "    val_losses = []\n",
    "    \n",
    "    for epoch in range(num_epochs):\n",
    "        model.train()\n",
    "        total_train_loss = 0\n",
    "        \n",
    "        for batch in tqdm(train_loader, desc=f\"Training Epoch {epoch + 1}/{num_epochs}\"):\n",
    "            optimizer.zero_grad()\n",
    "            \n",
    "            # Move data to device\n",
    "            input_ids = batch[\"input_ids\"].to(device)\n",
    "            attention_mask = batch[\"attention_mask\"].to(device)\n",
    "            labels = batch[\"labels\"].to(device)\n",
    "            \n",
    "            # Forward pass\n",
    "            outputs = model(input_ids=input_ids, attention_mask=attention_mask, labels=labels)\n",
    "            loss = outputs.loss\n",
    "            \n",
    "            # Backward pass\n",
    "            loss.backward()\n",
    "            optimizer.step()\n",
    "            \n",
    "            # Scheduler step\n",
    "            scheduler.step()\n",
    "            \n",
    "            total_train_loss += loss.item()\n",
    "        \n",
    "        avg_train_loss = total_train_loss / len(train_loader)\n",
    "        train_losses.append(avg_train_loss)\n",
    "        \n",
    "        # Validation Loss\n",
    "        model.eval()\n",
    "        total_val_loss = 0\n",
    "        with torch.no_grad():\n",
    "            for batch in tqdm(val_loader, desc=\"Validation\"):\n",
    "                input_ids = batch[\"input_ids\"].to(device)\n",
    "                attention_mask = batch[\"attention_mask\"].to(device)\n",
    "                labels = batch[\"labels\"].to(device)\n",
    "                \n",
    "                outputs = model(input_ids=input_ids, attention_mask=attention_mask, labels=labels)\n",
    "                loss = outputs.loss\n",
    "                total_val_loss += loss.item()\n",
    "        \n",
    "        avg_val_loss = total_val_loss / len(val_loader)\n",
    "        val_losses.append(avg_val_loss)\n",
    "        \n",
    "        print(f\"Epoch {epoch + 1}/{num_epochs} | Training Loss: {avg_train_loss:.4f} | Validation Loss: {avg_val_loss:.4f}\")\n",
    "    \n",
    "    return train_losses, val_losses\n"
   ]
  },
  {
   "cell_type": "code",
   "execution_count": 94,
   "metadata": {
    "execution": {
     "iopub.execute_input": "2024-12-17T17:51:40.532050Z",
     "iopub.status.busy": "2024-12-17T17:51:40.531751Z",
     "iopub.status.idle": "2024-12-17T18:08:56.108305Z",
     "shell.execute_reply": "2024-12-17T18:08:56.107025Z",
     "shell.execute_reply.started": "2024-12-17T17:51:40.532024Z"
    },
    "trusted": true
   },
   "outputs": [
    {
     "name": "stderr",
     "output_type": "stream",
     "text": [
      "Training Epoch 1/100: 100%|██████████| 25/25 [00:09<00:00,  2.61it/s]\n",
      "Validation: 100%|██████████| 5/5 [00:00<00:00,  6.65it/s]\n"
     ]
    },
    {
     "name": "stdout",
     "output_type": "stream",
     "text": [
      "Epoch 1/100 | Training Loss: 0.176 | Validation Loss: 0.1\n"
     ]
    },
    {
     "name": "stderr",
     "output_type": "stream",
     "text": [
      "Training Epoch 2/100: 100%|██████████| 25/25 [00:09<00:00,  2.62it/s]\n",
      "Validation: 100%|██████████| 5/5 [00:00<00:00,  6.62it/s]\n"
     ]
    },
    {
     "name": "stdout",
     "output_type": "stream",
     "text": [
      "Epoch 2/100 | Training Loss: 0.15918668 | Validation Loss: 0.09500148\n"
     ]
    },
    {
     "name": "stderr",
     "output_type": "stream",
     "text": [
      "Training Epoch 3/100: 100%|██████████| 25/25 [00:09<00:00,  2.62it/s]\n",
      "Validation: 100%|██████████| 5/5 [00:00<00:00,  6.57it/s]\n"
     ]
    },
    {
     "name": "stdout",
     "output_type": "stream",
     "text": [
      "Epoch 3/100 | Training Loss: 0.14398872 | Validation Loss: 0.09029691\n"
     ]
    },
    {
     "name": "stderr",
     "output_type": "stream",
     "text": [
      "Training Epoch 4/100: 100%|██████████| 25/25 [00:09<00:00,  2.62it/s]\n",
      "Validation: 100%|██████████| 5/5 [00:00<00:00,  6.58it/s]\n"
     ]
    },
    {
     "name": "stdout",
     "output_type": "stream",
     "text": [
      "Epoch 4/100 | Training Loss: 0.13025093 | Validation Loss: 0.085869\n"
     ]
    },
    {
     "name": "stderr",
     "output_type": "stream",
     "text": [
      "Training Epoch 5/100: 100%|██████████| 25/25 [00:09<00:00,  2.61it/s]\n",
      "Validation: 100%|██████████| 5/5 [00:00<00:00,  6.53it/s]\n"
     ]
    },
    {
     "name": "stdout",
     "output_type": "stream",
     "text": [
      "Epoch 5/100 | Training Loss: 0.117833 | Validation Loss: 0.08170147\n"
     ]
    },
    {
     "name": "stderr",
     "output_type": "stream",
     "text": [
      "Training Epoch 6/100: 100%|██████████| 25/25 [00:09<00:00,  2.61it/s]\n",
      "Validation: 100%|██████████| 5/5 [00:00<00:00,  6.51it/s]\n"
     ]
    },
    {
     "name": "stdout",
     "output_type": "stream",
     "text": [
      "Epoch 6/100 | Training Loss: 0.10660814 | Validation Loss: 0.07777902\n"
     ]
    },
    {
     "name": "stderr",
     "output_type": "stream",
     "text": [
      "Training Epoch 7/100: 100%|██████████| 25/25 [00:09<00:00,  2.61it/s]\n",
      "Validation: 100%|██████████| 5/5 [00:00<00:00,  6.55it/s]\n"
     ]
    },
    {
     "name": "stdout",
     "output_type": "stream",
     "text": [
      "Epoch 7/100 | Training Loss: 0.09646172 | Validation Loss: 0.07408723\n"
     ]
    },
    {
     "name": "stderr",
     "output_type": "stream",
     "text": [
      "Training Epoch 8/100: 100%|██████████| 25/25 [00:09<00:00,  2.61it/s]\n",
      "Validation: 100%|██████████| 5/5 [00:00<00:00,  6.48it/s]\n"
     ]
    },
    {
     "name": "stdout",
     "output_type": "stream",
     "text": [
      "Epoch 8/100 | Training Loss: 0.08729013 | Validation Loss: 0.07061255\n"
     ]
    },
    {
     "name": "stderr",
     "output_type": "stream",
     "text": [
      "Training Epoch 9/100: 100%|██████████| 25/25 [00:09<00:00,  2.61it/s]\n",
      "Validation: 100%|██████████| 5/5 [00:00<00:00,  6.46it/s]\n"
     ]
    },
    {
     "name": "stdout",
     "output_type": "stream",
     "text": [
      "Epoch 9/100 | Training Loss: 0.06734219 | Validation Loss: 0.06426415\n"
     ]
    },
    {
     "name": "stderr",
     "output_type": "stream",
     "text": [
      "Training Epoch 10/100: 100%|██████████| 25/25 [00:09<00:00,  2.61it/s]\n",
      "Validation: 100%|██████████| 5/5 [00:00<00:00,  6.61it/s]\n"
     ]
    },
    {
     "name": "stdout",
     "output_type": "stream",
     "text": [
      "Epoch 10/100 | Training Loss: 0.06136712 | Validation Loss: 0.05864046\n"
     ]
    },
    {
     "name": "stderr",
     "output_type": "stream",
     "text": [
      "Training Epoch 11/100: 100%|██████████| 25/25 [00:09<00:00,  2.61it/s]\n",
      "Validation: 100%|██████████| 5/5 [00:00<00:00,  6.49it/s]\n"
     ]
    },
    {
     "name": "stdout",
     "output_type": "stream",
     "text": [
      "Epoch 11/100 | Training Loss: 0.06473188 | Validation Loss: 0.06136712\n"
     ]
    },
    {
     "name": "stderr",
     "output_type": "stream",
     "text": [
      "Training Epoch 12/100: 100%|██████████| 25/25 [00:09<00:00,  2.61it/s]\n",
      "Validation: 100%|██████████| 5/5 [00:00<00:00,  6.54it/s]\n"
     ]
    },
    {
     "name": "stdout",
     "output_type": "stream",
     "text": [
      "Epoch 12/100 | Training Loss: 0.05860877 | Validation Loss: 0.05864046\n"
     ]
    },
    {
     "name": "stderr",
     "output_type": "stream",
     "text": [
      "Training Epoch 13/100: 100%|██████████| 25/25 [00:09<00:00,  2.61it/s]\n",
      "Validation: 100%|██████████| 5/5 [00:00<00:00,  6.59it/s]\n"
     ]
    },
    {
     "name": "stdout",
     "output_type": "stream",
     "text": [
      "Epoch 13/100 | Training Loss: 0.05307395 | Validation Loss: 0.05607413\n"
     ]
    },
    {
     "name": "stderr",
     "output_type": "stream",
     "text": [
      "Training Epoch 14/100: 100%|██████████| 25/25 [00:09<00:00,  2.61it/s]\n",
      "Validation: 100%|██████████| 5/5 [00:00<00:00,  6.59it/s]\n"
     ]
    },
    {
     "name": "stdout",
     "output_type": "stream",
     "text": [
      "Epoch 14/100 | Training Loss: 0.04807089 | Validation Loss: 0.05365872\n"
     ]
    },
    {
     "name": "stderr",
     "output_type": "stream",
     "text": [
      "Training Epoch 15/100: 100%|██████████| 25/25 [00:09<00:00,  2.61it/s]\n",
      "Validation: 100%|██████████| 5/5 [00:00<00:00,  6.57it/s]\n"
     ]
    },
    {
     "name": "stdout",
     "output_type": "stream",
     "text": [
      "Epoch 15/100 | Training Loss: 0.0435485 | Validation Loss: 0.05138536\n"
     ]
    },
    {
     "name": "stderr",
     "output_type": "stream",
     "text": [
      "Training Epoch 16/100: 100%|██████████| 25/25 [00:09<00:00,  2.61it/s]\n",
      "Validation: 100%|██████████| 5/5 [00:00<00:00,  6.57it/s]\n"
     ]
    },
    {
     "name": "stdout",
     "output_type": "stream",
     "text": [
      "Epoch 16/100 | Training Loss: 0.0394606 | Validation Loss: 0.04924568\n"
     ]
    },
    {
     "name": "stderr",
     "output_type": "stream",
     "text": [
      "Training Epoch 17/100: 100%|██████████| 25/25 [00:09<00:00,  2.61it/s]\n",
      "Validation: 100%|██████████| 5/5 [00:00<00:00,  6.42it/s]\n"
     ]
    },
    {
     "name": "stdout",
     "output_type": "stream",
     "text": [
      "Epoch 17/100 | Training Loss: 0.03576546 | Validation Loss: 0.04723182\n"
     ]
    },
    {
     "name": "stderr",
     "output_type": "stream",
     "text": [
      "Training Epoch 18/100: 100%|██████████| 25/25 [00:09<00:00,  2.61it/s]\n",
      "Validation: 100%|██████████| 5/5 [00:00<00:00,  6.52it/s]\n"
     ]
    },
    {
     "name": "stdout",
     "output_type": "stream",
     "text": [
      "Epoch 18/100 | Training Loss: 0.03242533 | Validation Loss: 0.0453364\n"
     ]
    },
    {
     "name": "stderr",
     "output_type": "stream",
     "text": [
      "Training Epoch 19/100: 100%|██████████| 25/25 [00:09<00:00,  2.61it/s]\n",
      "Validation: 100%|██████████| 5/5 [00:00<00:00,  6.48it/s]\n"
     ]
    },
    {
     "name": "stdout",
     "output_type": "stream",
     "text": [
      "Epoch 19/100 | Training Loss: 0.02940611 | Validation Loss: 0.04355243\n"
     ]
    },
    {
     "name": "stderr",
     "output_type": "stream",
     "text": [
      "Training Epoch 20/100: 100%|██████████| 25/25 [00:09<00:00,  2.61it/s]\n",
      "Validation: 100%|██████████| 5/5 [00:00<00:00,  6.53it/s]\n"
     ]
    },
    {
     "name": "stdout",
     "output_type": "stream",
     "text": [
      "Epoch 20/100 | Training Loss: 0.02667696 | Validation Loss: 0.04187338\n"
     ]
    },
    {
     "name": "stderr",
     "output_type": "stream",
     "text": [
      "Training Epoch 21/100: 100%|██████████| 25/25 [00:09<00:00,  2.61it/s]\n",
      "Validation: 100%|██████████| 5/5 [00:00<00:00,  6.58it/s]\n"
     ]
    },
    {
     "name": "stdout",
     "output_type": "stream",
     "text": [
      "Epoch 21/100 | Training Loss: 0.02421002 | Validation Loss: 0.04029306\n"
     ]
    },
    {
     "name": "stderr",
     "output_type": "stream",
     "text": [
      "Training Epoch 22/100: 100%|██████████| 25/25 [00:09<00:00,  2.61it/s]\n",
      "Validation: 100%|██████████| 5/5 [00:00<00:00,  6.64it/s]\n"
     ]
    },
    {
     "name": "stdout",
     "output_type": "stream",
     "text": [
      "Epoch 22/100 | Training Loss: 0.02198009 | Validation Loss: 0.03880567\n"
     ]
    },
    {
     "name": "stderr",
     "output_type": "stream",
     "text": [
      "Training Epoch 23/100: 100%|██████████| 25/25 [00:09<00:00,  2.61it/s]\n",
      "Validation: 100%|██████████| 5/5 [00:00<00:00,  6.45it/s]\n"
     ]
    },
    {
     "name": "stdout",
     "output_type": "stream",
     "text": [
      "Epoch 23/100 | Training Loss: 0.0199644 | Validation Loss: 0.03740576\n"
     ]
    },
    {
     "name": "stderr",
     "output_type": "stream",
     "text": [
      "Training Epoch 24/100: 100%|██████████| 25/25 [00:09<00:00,  2.61it/s]\n",
      "Validation: 100%|██████████| 5/5 [00:00<00:00,  6.65it/s]\n"
     ]
    },
    {
     "name": "stdout",
     "output_type": "stream",
     "text": [
      "Epoch 24/100 | Training Loss: 0.01814238 | Validation Loss: 0.03608816\n"
     ]
    },
    {
     "name": "stderr",
     "output_type": "stream",
     "text": [
      "Training Epoch 25/100: 100%|██████████| 25/25 [00:09<00:00,  2.61it/s]\n",
      "Validation: 100%|██████████| 5/5 [00:00<00:00,  6.57it/s]\n"
     ]
    },
    {
     "name": "stdout",
     "output_type": "stream",
     "text": [
      "Epoch 25/100 | Training Loss: 0.01649541 | Validation Loss: 0.03484805\n"
     ]
    },
    {
     "name": "stderr",
     "output_type": "stream",
     "text": [
      "Training Epoch 26/100: 100%|██████████| 25/25 [00:09<00:00,  2.61it/s]\n",
      "Validation: 100%|██████████| 5/5 [00:00<00:00,  6.58it/s]\n"
     ]
    },
    {
     "name": "stdout",
     "output_type": "stream",
     "text": [
      "Epoch 26/100 | Training Loss: 0.01500667 | Validation Loss: 0.03368087\n"
     ]
    },
    {
     "name": "stderr",
     "output_type": "stream",
     "text": [
      "Training Epoch 27/100: 100%|██████████| 25/25 [00:09<00:00,  2.61it/s]\n",
      "Validation: 100%|██████████| 5/5 [00:00<00:00,  6.47it/s]\n"
     ]
    },
    {
     "name": "stdout",
     "output_type": "stream",
     "text": [
      "Epoch 27/100 | Training Loss: 0.01366096 | Validation Loss: 0.03258232\n"
     ]
    },
    {
     "name": "stderr",
     "output_type": "stream",
     "text": [
      "Training Epoch 28/100: 100%|██████████| 25/25 [00:09<00:00,  2.61it/s]\n",
      "Validation: 100%|██████████| 5/5 [00:00<00:00,  6.63it/s]\n"
     ]
    },
    {
     "name": "stdout",
     "output_type": "stream",
     "text": [
      "Epoch 28/100 | Training Loss: 0.01244455 | Validation Loss: 0.03154837\n"
     ]
    },
    {
     "name": "stderr",
     "output_type": "stream",
     "text": [
      "Training Epoch 29/100: 100%|██████████| 25/25 [00:09<00:00,  2.61it/s]\n",
      "Validation: 100%|██████████| 5/5 [00:00<00:00,  6.58it/s]\n"
     ]
    },
    {
     "name": "stdout",
     "output_type": "stream",
     "text": [
      "Epoch 29/100 | Training Loss: 0.011345 | Validation Loss: 0.03057523\n"
     ]
    },
    {
     "name": "stderr",
     "output_type": "stream",
     "text": [
      "Training Epoch 30/100: 100%|██████████| 25/25 [00:09<00:00,  2.61it/s]\n",
      "Validation: 100%|██████████| 5/5 [00:00<00:00,  6.29it/s]\n"
     ]
    },
    {
     "name": "stdout",
     "output_type": "stream",
     "text": [
      "Epoch 30/100 | Training Loss: 0.01035109 | Validation Loss: 0.02965931\n"
     ]
    },
    {
     "name": "stderr",
     "output_type": "stream",
     "text": [
      "Training Epoch 31/100: 100%|██████████| 25/25 [00:09<00:00,  2.61it/s]\n",
      "Validation: 100%|██████████| 5/5 [00:00<00:00,  6.53it/s]\n"
     ]
    },
    {
     "name": "stdout",
     "output_type": "stream",
     "text": [
      "Epoch 31/100 | Training Loss: 0.00945267 | Validation Loss: 0.02879725\n"
     ]
    },
    {
     "name": "stderr",
     "output_type": "stream",
     "text": [
      "Training Epoch 32/100: 100%|██████████| 25/25 [00:09<00:00,  2.61it/s]\n",
      "Validation: 100%|██████████| 5/5 [00:00<00:00,  6.40it/s]\n"
     ]
    },
    {
     "name": "stdout",
     "output_type": "stream",
     "text": [
      "Epoch 32/100 | Training Loss: 0.00864057 | Validation Loss: 0.02798589\n"
     ]
    },
    {
     "name": "stderr",
     "output_type": "stream",
     "text": [
      "Training Epoch 33/100: 100%|██████████| 25/25 [00:09<00:00,  2.61it/s]\n",
      "Validation: 100%|██████████| 5/5 [00:00<00:00,  6.16it/s]\n"
     ]
    },
    {
     "name": "stdout",
     "output_type": "stream",
     "text": [
      "Epoch 33/100 | Training Loss: 0.0079065 | Validation Loss: 0.02722224\n"
     ]
    },
    {
     "name": "stderr",
     "output_type": "stream",
     "text": [
      "Training Epoch 34/100: 100%|██████████| 25/25 [00:09<00:00,  2.61it/s]\n",
      "Validation: 100%|██████████| 5/5 [00:00<00:00,  6.51it/s]\n"
     ]
    },
    {
     "name": "stdout",
     "output_type": "stream",
     "text": [
      "Epoch 34/100 | Training Loss: 0.00724295 | Validation Loss: 0.0265035\n"
     ]
    },
    {
     "name": "stderr",
     "output_type": "stream",
     "text": [
      "Training Epoch 35/100: 100%|██████████| 25/25 [00:09<00:00,  2.61it/s]\n",
      "Validation: 100%|██████████| 5/5 [00:00<00:00,  6.48it/s]\n"
     ]
    },
    {
     "name": "stdout",
     "output_type": "stream",
     "text": [
      "Epoch 35/100 | Training Loss: 0.00664315 | Validation Loss: 0.02582702\n"
     ]
    },
    {
     "name": "stderr",
     "output_type": "stream",
     "text": [
      "Training Epoch 36/100: 100%|██████████| 25/25 [00:09<00:00,  2.61it/s]\n",
      "Validation: 100%|██████████| 5/5 [00:00<00:00,  6.22it/s]\n"
     ]
    },
    {
     "name": "stdout",
     "output_type": "stream",
     "text": [
      "Epoch 36/100 | Training Loss: 0.00610098 | Validation Loss: 0.02519033\n"
     ]
    },
    {
     "name": "stderr",
     "output_type": "stream",
     "text": [
      "Training Epoch 37/100: 100%|██████████| 25/25 [00:09<00:00,  2.61it/s]\n",
      "Validation: 100%|██████████| 5/5 [00:00<00:00,  6.44it/s]\n"
     ]
    },
    {
     "name": "stdout",
     "output_type": "stream",
     "text": [
      "Epoch 37/100 | Training Loss: 0.0056109 | Validation Loss: 0.02459108\n"
     ]
    },
    {
     "name": "stderr",
     "output_type": "stream",
     "text": [
      "Training Epoch 38/100: 100%|██████████| 25/25 [00:09<00:00,  2.61it/s]\n",
      "Validation: 100%|██████████| 5/5 [00:00<00:00,  6.40it/s]\n"
     ]
    },
    {
     "name": "stdout",
     "output_type": "stream",
     "text": [
      "Epoch 38/100 | Training Loss: 0.0051679 | Validation Loss: 0.02402706\n"
     ]
    },
    {
     "name": "stderr",
     "output_type": "stream",
     "text": [
      "Training Epoch 39/100: 100%|██████████| 25/25 [00:09<00:00,  2.61it/s]\n",
      "Validation: 100%|██████████| 5/5 [00:00<00:00,  6.31it/s]\n"
     ]
    },
    {
     "name": "stdout",
     "output_type": "stream",
     "text": [
      "Epoch 39/100 | Training Loss: 0.00476746 | Validation Loss: 0.02349622\n"
     ]
    },
    {
     "name": "stderr",
     "output_type": "stream",
     "text": [
      "Training Epoch 40/100: 100%|██████████| 25/25 [00:09<00:00,  2.61it/s]\n",
      "Validation: 100%|██████████| 5/5 [00:00<00:00,  6.56it/s]\n"
     ]
    },
    {
     "name": "stdout",
     "output_type": "stream",
     "text": [
      "Epoch 40/100 | Training Loss: 0.0044055 | Validation Loss: 0.02299659\n"
     ]
    },
    {
     "name": "stderr",
     "output_type": "stream",
     "text": [
      "Training Epoch 41/100: 100%|██████████| 25/25 [00:09<00:00,  2.61it/s]\n",
      "Validation: 100%|██████████| 5/5 [00:00<00:00,  6.61it/s]\n"
     ]
    },
    {
     "name": "stdout",
     "output_type": "stream",
     "text": [
      "Epoch 41/100 | Training Loss: 0.00407831 | Validation Loss: 0.02252634\n"
     ]
    },
    {
     "name": "stderr",
     "output_type": "stream",
     "text": [
      "Training Epoch 42/100: 100%|██████████| 25/25 [00:09<00:00,  2.61it/s]\n",
      "Validation: 100%|██████████| 5/5 [00:00<00:00,  6.58it/s]\n"
     ]
    },
    {
     "name": "stdout",
     "output_type": "stream",
     "text": [
      "Epoch 42/100 | Training Loss: 0.00378256 | Validation Loss: 0.02208375\n"
     ]
    },
    {
     "name": "stderr",
     "output_type": "stream",
     "text": [
      "Training Epoch 43/100: 100%|██████████| 25/25 [00:09<00:00,  2.61it/s]\n",
      "Validation: 100%|██████████| 5/5 [00:00<00:00,  6.58it/s]\n"
     ]
    },
    {
     "name": "stdout",
     "output_type": "stream",
     "text": [
      "Epoch 43/100 | Training Loss: 0.00351522 | Validation Loss: 0.02166718\n"
     ]
    },
    {
     "name": "stderr",
     "output_type": "stream",
     "text": [
      "Training Epoch 44/100: 100%|██████████| 25/25 [00:09<00:00,  2.61it/s]\n",
      "Validation: 100%|██████████| 5/5 [00:00<00:00,  6.62it/s]\n"
     ]
    },
    {
     "name": "stdout",
     "output_type": "stream",
     "text": [
      "Epoch 44/100 | Training Loss: 0.00327357 | Validation Loss: 0.02127511\n"
     ]
    },
    {
     "name": "stderr",
     "output_type": "stream",
     "text": [
      "Training Epoch 45/100: 100%|██████████| 25/25 [00:09<00:00,  2.61it/s]\n",
      "Validation: 100%|██████████| 5/5 [00:00<00:00,  6.62it/s]\n"
     ]
    },
    {
     "name": "stdout",
     "output_type": "stream",
     "text": [
      "Epoch 45/100 | Training Loss: 0.00305513 | Validation Loss: 0.02090609\n"
     ]
    },
    {
     "name": "stderr",
     "output_type": "stream",
     "text": [
      "Training Epoch 46/100: 100%|██████████| 25/25 [00:09<00:00,  2.61it/s]\n",
      "Validation: 100%|██████████| 5/5 [00:00<00:00,  6.44it/s]\n"
     ]
    },
    {
     "name": "stdout",
     "output_type": "stream",
     "text": [
      "Epoch 46/100 | Training Loss: 0.00285769 | Validation Loss: 0.02055878\n"
     ]
    },
    {
     "name": "stderr",
     "output_type": "stream",
     "text": [
      "Training Epoch 47/100: 100%|██████████| 25/25 [00:09<00:00,  2.61it/s]\n",
      "Validation: 100%|██████████| 5/5 [00:00<00:00,  6.54it/s]\n"
     ]
    },
    {
     "name": "stdout",
     "output_type": "stream",
     "text": [
      "Epoch 47/100 | Training Loss: 0.00267921 | Validation Loss: 0.02023189\n"
     ]
    },
    {
     "name": "stderr",
     "output_type": "stream",
     "text": [
      "Training Epoch 48/100: 100%|██████████| 25/25 [00:09<00:00,  2.61it/s]\n",
      "Validation: 100%|██████████| 5/5 [00:00<00:00,  6.51it/s]\n"
     ]
    },
    {
     "name": "stdout",
     "output_type": "stream",
     "text": [
      "Epoch 48/100 | Training Loss: 0.00251787 | Validation Loss: 0.01992422\n"
     ]
    },
    {
     "name": "stderr",
     "output_type": "stream",
     "text": [
      "Training Epoch 49/100: 100%|██████████| 25/25 [00:09<00:00,  2.61it/s]\n",
      "Validation: 100%|██████████| 5/5 [00:00<00:00,  6.46it/s]\n"
     ]
    },
    {
     "name": "stdout",
     "output_type": "stream",
     "text": [
      "Epoch 49/100 | Training Loss: 0.00237204 | Validation Loss: 0.01963465\n"
     ]
    },
    {
     "name": "stderr",
     "output_type": "stream",
     "text": [
      "Training Epoch 50/100: 100%|██████████| 25/25 [00:09<00:00,  2.61it/s]\n",
      "Validation: 100%|██████████| 5/5 [00:00<00:00,  6.58it/s]\n"
     ]
    },
    {
     "name": "stdout",
     "output_type": "stream",
     "text": [
      "Epoch 50/100 | Training Loss: 0.00224022 | Validation Loss: 0.0193621\n"
     ]
    },
    {
     "name": "stderr",
     "output_type": "stream",
     "text": [
      "Training Epoch 51/100: 100%|██████████| 25/25 [00:09<00:00,  2.61it/s]\n",
      "Validation: 100%|██████████| 5/5 [00:00<00:00,  6.51it/s]\n"
     ]
    },
    {
     "name": "stdout",
     "output_type": "stream",
     "text": [
      "Epoch 51/100 | Training Loss: 0.00212107 | Validation Loss: 0.01910558\n"
     ]
    },
    {
     "name": "stderr",
     "output_type": "stream",
     "text": [
      "Training Epoch 52/100: 100%|██████████| 25/25 [00:09<00:00,  2.61it/s]\n",
      "Validation: 100%|██████████| 5/5 [00:00<00:00,  6.33it/s]\n"
     ]
    },
    {
     "name": "stdout",
     "output_type": "stream",
     "text": [
      "Epoch 52/100 | Training Loss: 0.00201336 | Validation Loss: 0.01886415\n"
     ]
    },
    {
     "name": "stderr",
     "output_type": "stream",
     "text": [
      "Training Epoch 53/100: 100%|██████████| 25/25 [00:09<00:00,  2.61it/s]\n",
      "Validation: 100%|██████████| 5/5 [00:00<00:00,  6.52it/s]\n"
     ]
    },
    {
     "name": "stdout",
     "output_type": "stream",
     "text": [
      "Epoch 53/100 | Training Loss: 0.001916 | Validation Loss: 0.01863692\n"
     ]
    },
    {
     "name": "stderr",
     "output_type": "stream",
     "text": [
      "Training Epoch 54/100: 100%|██████████| 25/25 [00:09<00:00,  2.61it/s]\n",
      "Validation: 100%|██████████| 5/5 [00:00<00:00,  6.61it/s]\n"
     ]
    },
    {
     "name": "stdout",
     "output_type": "stream",
     "text": [
      "Epoch 54/100 | Training Loss: 0.00182799 | Validation Loss: 0.01842304\n"
     ]
    },
    {
     "name": "stderr",
     "output_type": "stream",
     "text": [
      "Training Epoch 55/100: 100%|██████████| 25/25 [00:09<00:00,  2.61it/s]\n",
      "Validation: 100%|██████████| 5/5 [00:00<00:00,  6.52it/s]\n"
     ]
    },
    {
     "name": "stdout",
     "output_type": "stream",
     "text": [
      "Epoch 55/100 | Training Loss: 0.00174844 | Validation Loss: 0.01822175\n"
     ]
    },
    {
     "name": "stderr",
     "output_type": "stream",
     "text": [
      "Training Epoch 56/100: 100%|██████████| 25/25 [00:09<00:00,  2.61it/s]\n",
      "Validation: 100%|██████████| 5/5 [00:00<00:00,  6.53it/s]\n"
     ]
    },
    {
     "name": "stdout",
     "output_type": "stream",
     "text": [
      "Epoch 56/100 | Training Loss: 0.00167654 | Validation Loss: 0.01803229\n"
     ]
    },
    {
     "name": "stderr",
     "output_type": "stream",
     "text": [
      "Training Epoch 57/100: 100%|██████████| 25/25 [00:09<00:00,  2.61it/s]\n",
      "Validation: 100%|██████████| 5/5 [00:00<00:00,  6.48it/s]\n"
     ]
    },
    {
     "name": "stdout",
     "output_type": "stream",
     "text": [
      "Epoch 57/100 | Training Loss: 0.00161154 | Validation Loss: 0.01785397\n"
     ]
    },
    {
     "name": "stderr",
     "output_type": "stream",
     "text": [
      "Training Epoch 58/100: 100%|██████████| 25/25 [00:09<00:00,  2.61it/s]\n",
      "Validation: 100%|██████████| 5/5 [00:00<00:00,  6.58it/s]\n"
     ]
    },
    {
     "name": "stdout",
     "output_type": "stream",
     "text": [
      "Epoch 58/100 | Training Loss: 0.00155278 | Validation Loss: 0.01768614\n"
     ]
    },
    {
     "name": "stderr",
     "output_type": "stream",
     "text": [
      "Training Epoch 59/100: 100%|██████████| 25/25 [00:09<00:00,  2.61it/s]\n",
      "Validation: 100%|██████████| 5/5 [00:00<00:00,  6.48it/s]\n"
     ]
    },
    {
     "name": "stdout",
     "output_type": "stream",
     "text": [
      "Epoch 59/100 | Training Loss: 0.00149967 | Validation Loss: 0.01752818\n"
     ]
    },
    {
     "name": "stderr",
     "output_type": "stream",
     "text": [
      "Training Epoch 60/100: 100%|██████████| 25/25 [00:09<00:00,  2.61it/s]\n",
      "Validation: 100%|██████████| 5/5 [00:00<00:00,  6.51it/s]\n"
     ]
    },
    {
     "name": "stdout",
     "output_type": "stream",
     "text": [
      "Epoch 60/100 | Training Loss: 0.00145167 | Validation Loss: 0.01737951\n"
     ]
    },
    {
     "name": "stderr",
     "output_type": "stream",
     "text": [
      "Training Epoch 61/100: 100%|██████████| 25/25 [00:09<00:00,  2.61it/s]\n",
      "Validation: 100%|██████████| 5/5 [00:00<00:00,  6.53it/s]\n"
     ]
    },
    {
     "name": "stdout",
     "output_type": "stream",
     "text": [
      "Epoch 61/100 | Training Loss: 0.00140827 | Validation Loss: 0.01723958\n"
     ]
    },
    {
     "name": "stderr",
     "output_type": "stream",
     "text": [
      "Training Epoch 62/100: 100%|██████████| 25/25 [00:09<00:00,  2.61it/s]\n",
      "Validation: 100%|██████████| 5/5 [00:00<00:00,  6.46it/s]\n"
     ]
    },
    {
     "name": "stdout",
     "output_type": "stream",
     "text": [
      "Epoch 62/100 | Training Loss: 0.00136905 | Validation Loss: 0.01710788\n"
     ]
    },
    {
     "name": "stderr",
     "output_type": "stream",
     "text": [
      "Training Epoch 63/100: 100%|██████████| 25/25 [00:09<00:00,  2.60it/s]\n",
      "Validation: 100%|██████████| 5/5 [00:00<00:00,  6.50it/s]\n"
     ]
    },
    {
     "name": "stdout",
     "output_type": "stream",
     "text": [
      "Epoch 63/100 | Training Loss: 0.00133359 | Validation Loss: 0.01698392\n"
     ]
    },
    {
     "name": "stderr",
     "output_type": "stream",
     "text": [
      "Training Epoch 64/100: 100%|██████████| 25/25 [00:09<00:00,  2.61it/s]\n",
      "Validation: 100%|██████████| 5/5 [00:00<00:00,  6.50it/s]\n"
     ]
    },
    {
     "name": "stdout",
     "output_type": "stream",
     "text": [
      "Epoch 64/100 | Training Loss: 0.00130154 | Validation Loss: 0.01686726\n"
     ]
    },
    {
     "name": "stderr",
     "output_type": "stream",
     "text": [
      "Training Epoch 65/100: 100%|██████████| 25/25 [00:09<00:00,  2.61it/s]\n",
      "Validation: 100%|██████████| 5/5 [00:00<00:00,  6.53it/s]\n"
     ]
    },
    {
     "name": "stdout",
     "output_type": "stream",
     "text": [
      "Epoch 65/100 | Training Loss: 0.00127257 | Validation Loss: 0.01675745\n"
     ]
    },
    {
     "name": "stderr",
     "output_type": "stream",
     "text": [
      "Training Epoch 66/100: 100%|██████████| 25/25 [00:09<00:00,  2.61it/s]\n",
      "Validation: 100%|██████████| 5/5 [00:00<00:00,  6.59it/s]\n"
     ]
    },
    {
     "name": "stdout",
     "output_type": "stream",
     "text": [
      "Epoch 66/100 | Training Loss: 0.00124638 | Validation Loss: 0.0166541\n"
     ]
    },
    {
     "name": "stderr",
     "output_type": "stream",
     "text": [
      "Training Epoch 67/100: 100%|██████████| 25/25 [00:09<00:00,  2.61it/s]\n",
      "Validation: 100%|██████████| 5/5 [00:00<00:00,  6.46it/s]\n"
     ]
    },
    {
     "name": "stdout",
     "output_type": "stream",
     "text": [
      "Epoch 67/100 | Training Loss: 0.00122271 | Validation Loss: 0.01655683\n"
     ]
    },
    {
     "name": "stderr",
     "output_type": "stream",
     "text": [
      "Training Epoch 68/100: 100%|██████████| 25/25 [00:09<00:00,  2.61it/s]\n",
      "Validation: 100%|██████████| 5/5 [00:00<00:00,  6.46it/s]\n"
     ]
    },
    {
     "name": "stdout",
     "output_type": "stream",
     "text": [
      "Epoch 68/100 | Training Loss: 0.00120131 | Validation Loss: 0.01646528\n"
     ]
    },
    {
     "name": "stderr",
     "output_type": "stream",
     "text": [
      "Training Epoch 69/100: 100%|██████████| 25/25 [00:09<00:00,  2.61it/s]\n",
      "Validation: 100%|██████████| 5/5 [00:00<00:00,  6.59it/s]\n"
     ]
    },
    {
     "name": "stdout",
     "output_type": "stream",
     "text": [
      "Epoch 69/100 | Training Loss: 0.00118197 | Validation Loss: 0.01637911\n"
     ]
    },
    {
     "name": "stderr",
     "output_type": "stream",
     "text": [
      "Training Epoch 70/100: 100%|██████████| 25/25 [00:09<00:00,  2.61it/s]\n",
      "Validation: 100%|██████████| 5/5 [00:00<00:00,  6.49it/s]\n"
     ]
    },
    {
     "name": "stdout",
     "output_type": "stream",
     "text": [
      "Epoch 70/100 | Training Loss: 0.00116449 | Validation Loss: 0.01629801\n"
     ]
    },
    {
     "name": "stderr",
     "output_type": "stream",
     "text": [
      "Training Epoch 71/100: 100%|██████████| 25/25 [00:09<00:00,  2.61it/s]\n",
      "Validation: 100%|██████████| 5/5 [00:00<00:00,  6.50it/s]\n"
     ]
    },
    {
     "name": "stdout",
     "output_type": "stream",
     "text": [
      "Epoch 71/100 | Training Loss: 0.00114869 | Validation Loss: 0.01622168\n"
     ]
    },
    {
     "name": "stderr",
     "output_type": "stream",
     "text": [
      "Training Epoch 72/100: 100%|██████████| 25/25 [00:09<00:00,  2.61it/s]\n",
      "Validation: 100%|██████████| 5/5 [00:00<00:00,  6.45it/s]\n"
     ]
    },
    {
     "name": "stdout",
     "output_type": "stream",
     "text": [
      "Epoch 72/100 | Training Loss: 0.0011344 | Validation Loss: 0.01614984\n"
     ]
    },
    {
     "name": "stderr",
     "output_type": "stream",
     "text": [
      "Training Epoch 73/100: 100%|██████████| 25/25 [00:09<00:00,  2.61it/s]\n",
      "Validation: 100%|██████████| 5/5 [00:00<00:00,  6.51it/s]\n"
     ]
    },
    {
     "name": "stdout",
     "output_type": "stream",
     "text": [
      "Epoch 73/100 | Training Loss: 0.00112149 | Validation Loss: 0.01608222\n"
     ]
    },
    {
     "name": "stderr",
     "output_type": "stream",
     "text": [
      "Training Epoch 74/100: 100%|██████████| 25/25 [00:09<00:00,  2.61it/s]\n",
      "Validation: 100%|██████████| 5/5 [00:00<00:00,  6.57it/s]\n"
     ]
    },
    {
     "name": "stdout",
     "output_type": "stream",
     "text": [
      "Epoch 74/100 | Training Loss: 0.00110982 | Validation Loss: 0.01601858\n"
     ]
    },
    {
     "name": "stderr",
     "output_type": "stream",
     "text": [
      "Training Epoch 75/100: 100%|██████████| 25/25 [00:09<00:00,  2.61it/s]\n",
      "Validation: 100%|██████████| 5/5 [00:00<00:00,  6.58it/s]\n"
     ]
    },
    {
     "name": "stdout",
     "output_type": "stream",
     "text": [
      "Epoch 75/100 | Training Loss: 0.00109927 | Validation Loss: 0.01595868\n"
     ]
    },
    {
     "name": "stderr",
     "output_type": "stream",
     "text": [
      "Training Epoch 76/100: 100%|██████████| 25/25 [00:09<00:00,  2.61it/s]\n",
      "Validation: 100%|██████████| 5/5 [00:00<00:00,  6.41it/s]\n"
     ]
    },
    {
     "name": "stdout",
     "output_type": "stream",
     "text": [
      "Epoch 76/100 | Training Loss: 0.00108973 | Validation Loss: 0.0159023\n"
     ]
    },
    {
     "name": "stderr",
     "output_type": "stream",
     "text": [
      "Training Epoch 77/100: 100%|██████████| 25/25 [00:09<00:00,  2.61it/s]\n",
      "Validation: 100%|██████████| 5/5 [00:00<00:00,  6.55it/s]\n"
     ]
    },
    {
     "name": "stdout",
     "output_type": "stream",
     "text": [
      "Epoch 77/100 | Training Loss: 0.00108111 | Validation Loss: 0.01584924,\n"
     ]
    },
    {
     "name": "stderr",
     "output_type": "stream",
     "text": [
      "Training Epoch 78/100: 100%|██████████| 25/25 [00:09<00:00,  2.61it/s]\n",
      "Validation: 100%|██████████| 5/5 [00:00<00:00,  6.40it/s]\n"
     ]
    },
    {
     "name": "stdout",
     "output_type": "stream",
     "text": [
      "Epoch 78/100 | Training Loss: 0.00107331 | Validation Loss: 0.0157993\n"
     ]
    },
    {
     "name": "stderr",
     "output_type": "stream",
     "text": [
      "Training Epoch 79/100: 100%|██████████| 25/25 [00:09<00:00,  2.61it/s]\n",
      "Validation: 100%|██████████| 5/5 [00:00<00:00,  6.57it/s]\n"
     ]
    },
    {
     "name": "stdout",
     "output_type": "stream",
     "text": [
      "Epoch 79/100 | Training Loss: 0.00106627 | Validation Loss: 0.0157523\n"
     ]
    },
    {
     "name": "stderr",
     "output_type": "stream",
     "text": [
      "Training Epoch 80/100: 100%|██████████| 25/25 [00:09<00:00,  2.61it/s]\n",
      "Validation: 100%|██████████| 5/5 [00:00<00:00,  6.53it/s]\n"
     ]
    },
    {
     "name": "stdout",
     "output_type": "stream",
     "text": [
      "Epoch 80/100 | Training Loss: 0.0010599 | Validation Loss: 0.01570806\n"
     ]
    },
    {
     "name": "stderr",
     "output_type": "stream",
     "text": [
      "Training Epoch 81/100: 100%|██████████| 25/25 [00:09<00:00,  2.61it/s]\n",
      "Validation: 100%|██████████| 5/5 [00:00<00:00,  6.63it/s]\n"
     ]
    },
    {
     "name": "stdout",
     "output_type": "stream",
     "text": [
      "Epoch 81/100 | Training Loss: 0.00105415 | Validation Loss: 0.01566642\n"
     ]
    },
    {
     "name": "stderr",
     "output_type": "stream",
     "text": [
      "Training Epoch 82/100: 100%|██████████| 25/25 [00:09<00:00,  2.61it/s]\n",
      "Validation: 100%|██████████| 5/5 [00:00<00:00,  6.54it/s]\n"
     ]
    },
    {
     "name": "stdout",
     "output_type": "stream",
     "text": [
      "Epoch 82/100 | Training Loss: 0.00104895 | Validation Loss: 0.01562723\n"
     ]
    },
    {
     "name": "stderr",
     "output_type": "stream",
     "text": [
      "Training Epoch 83/100: 100%|██████████| 25/25 [00:09<00:00,  2.61it/s]\n",
      "Validation: 100%|██████████| 5/5 [00:00<00:00,  6.59it/s]\n"
     ]
    },
    {
     "name": "stdout",
     "output_type": "stream",
     "text": [
      "Epoch 83/100 | Training Loss: 0.00104424 | Validation Loss: 0.01559035\n"
     ]
    },
    {
     "name": "stderr",
     "output_type": "stream",
     "text": [
      "Training Epoch 84/100: 100%|██████████| 25/25 [00:09<00:00,  2.61it/s]\n",
      "Validation: 100%|██████████| 5/5 [00:00<00:00,  6.57it/s]\n"
     ]
    },
    {
     "name": "stdout",
     "output_type": "stream",
     "text": [
      "Epoch 84/100 | Training Loss: 0.00103999 | Validation Loss: 0.01555563\n"
     ]
    },
    {
     "name": "stderr",
     "output_type": "stream",
     "text": [
      "Training Epoch 85/100: 100%|██████████| 25/25 [00:09<00:00,  2.61it/s]\n",
      "Validation: 100%|██████████| 5/5 [00:00<00:00,  6.49it/s]\n"
     ]
    },
    {
     "name": "stdout",
     "output_type": "stream",
     "text": [
      "Epoch 85/100 | Training Loss: 0.00103615 | Validation Loss: 0.01552296\n"
     ]
    },
    {
     "name": "stderr",
     "output_type": "stream",
     "text": [
      "Training Epoch 86/100: 100%|██████████| 25/25 [00:09<00:00,  2.61it/s]\n",
      "Validation: 100%|██████████| 5/5 [00:00<00:00,  6.44it/s]\n"
     ]
    },
    {
     "name": "stdout",
     "output_type": "stream",
     "text": [
      "Epoch 86/100 | Training Loss: 0.00103268 | Validation Loss: 0.0154922\n"
     ]
    },
    {
     "name": "stderr",
     "output_type": "stream",
     "text": [
      "Training Epoch 87/100: 100%|██████████| 25/25 [00:09<00:00,  2.61it/s]\n",
      "Validation: 100%|██████████| 5/5 [00:00<00:00,  6.52it/s]\n"
     ]
    },
    {
     "name": "stdout",
     "output_type": "stream",
     "text": [
      "Epoch 87/100 | Training Loss: 0.00102954 | Validation Loss: 0.01546326\n"
     ]
    },
    {
     "name": "stderr",
     "output_type": "stream",
     "text": [
      "Training Epoch 88/100: 100%|██████████| 25/25 [00:09<00:00,  2.61it/s]\n",
      "Validation: 100%|██████████| 5/5 [00:00<00:00,  6.54it/s]\n"
     ]
    },
    {
     "name": "stdout",
     "output_type": "stream",
     "text": [
      "Epoch 88/100 | Training Loss: 0.0010267 | Validation Loss: 0.01543602\n"
     ]
    },
    {
     "name": "stderr",
     "output_type": "stream",
     "text": [
      "Training Epoch 89/100: 100%|██████████| 25/25 [00:09<00:00,  2.61it/s]\n",
      "Validation: 100%|██████████| 5/5 [00:00<00:00,  6.51it/s]\n"
     ]
    },
    {
     "name": "stdout",
     "output_type": "stream",
     "text": [
      "Epoch 89/100 | Training Loss: 0.00102413 | Validation Loss: 0.01541038\n"
     ]
    },
    {
     "name": "stderr",
     "output_type": "stream",
     "text": [
      "Training Epoch 90/100: 100%|██████████| 25/25 [00:09<00:00,  2.61it/s]\n",
      "Validation: 100%|██████████| 5/5 [00:00<00:00,  6.51it/s]\n"
     ]
    },
    {
     "name": "stdout",
     "output_type": "stream",
     "text": [
      "Epoch 90/100 | Training Loss: 0.00102182 | Validation Loss: 0.01538624\n"
     ]
    },
    {
     "name": "stderr",
     "output_type": "stream",
     "text": [
      "Training Epoch 91/100: 100%|██████████| 25/25 [00:09<00:00,  2.61it/s]\n",
      "Validation: 100%|██████████| 5/5 [00:00<00:00,  6.55it/s]\n"
     ]
    },
    {
     "name": "stdout",
     "output_type": "stream",
     "text": [
      "Epoch 91/100 | Training Loss: 0.00101972 | Validation Loss: 0.01536353\n"
     ]
    },
    {
     "name": "stderr",
     "output_type": "stream",
     "text": [
      "Training Epoch 92/100: 100%|██████████| 25/25 [00:09<00:00,  2.61it/s]\n",
      "Validation: 100%|██████████| 5/5 [00:00<00:00,  6.45it/s]\n"
     ]
    },
    {
     "name": "stdout",
     "output_type": "stream",
     "text": [
      "Epoch 92/100 | Training Loss: 0.00101783 | Validation Loss: 0.01534215\n"
     ]
    },
    {
     "name": "stderr",
     "output_type": "stream",
     "text": [
      "Training Epoch 93/100: 100%|██████████| 25/25 [00:09<00:00,  2.61it/s]\n",
      "Validation: 100%|██████████| 5/5 [00:00<00:00,  6.51it/s]\n"
     ]
    },
    {
     "name": "stdout",
     "output_type": "stream",
     "text": [
      "Epoch 93/100 | Training Loss: 0.00101611 | Validation Loss: 0.01532203\n"
     ]
    },
    {
     "name": "stderr",
     "output_type": "stream",
     "text": [
      "Training Epoch 94/100: 100%|██████████| 25/25 [00:09<00:00,  2.61it/s]\n",
      "Validation: 100%|██████████| 5/5 [00:00<00:00,  6.42it/s]\n"
     ]
    },
    {
     "name": "stdout",
     "output_type": "stream",
     "text": [
      "Epoch 94/100 | Training Loss: 0.00101456 | Validation Loss: 0.01530309\n"
     ]
    },
    {
     "name": "stderr",
     "output_type": "stream",
     "text": [
      "Training Epoch 95/100: 100%|██████████| 25/25 [00:09<00:00,  2.61it/s]\n",
      "Validation: 100%|██████████| 5/5 [00:00<00:00,  6.54it/s]\n"
     ]
    },
    {
     "name": "stdout",
     "output_type": "stream",
     "text": [
      "Epoch 95/100 | Training Loss: 0.00101317 | Validation Loss: 0.01528527\n"
     ]
    },
    {
     "name": "stderr",
     "output_type": "stream",
     "text": [
      "Training Epoch 96/100: 100%|██████████| 25/25 [00:09<00:00,  2.61it/s]\n",
      "Validation: 100%|██████████| 5/5 [00:00<00:00,  6.49it/s]\n"
     ]
    },
    {
     "name": "stdout",
     "output_type": "stream",
     "text": [
      "Epoch 96/100 | Training Loss: 0.0010119 | Validation Loss: 0.01526849\n"
     ]
    },
    {
     "name": "stderr",
     "output_type": "stream",
     "text": [
      "Training Epoch 97/100: 100%|██████████| 25/25 [00:09<00:00,  2.60it/s]\n",
      "Validation: 100%|██████████| 5/5 [00:00<00:00,  6.49it/s]\n"
     ]
    },
    {
     "name": "stdout",
     "output_type": "stream",
     "text": [
      "Epoch 97/100 | Training Loss: 0.00101076 | Validation Loss: 0.01525271\n"
     ]
    },
    {
     "name": "stderr",
     "output_type": "stream",
     "text": [
      "Training Epoch 98/100: 100%|██████████| 25/25 [00:09<00:00,  2.61it/s]\n",
      "Validation: 100%|██████████| 5/5 [00:00<00:00,  6.61it/s]\n"
     ]
    },
    {
     "name": "stdout",
     "output_type": "stream",
     "text": [
      "Epoch 98/100 | Training Loss: 0.00100972 | Validation Loss: 0.01523784\n"
     ]
    },
    {
     "name": "stderr",
     "output_type": "stream",
     "text": [
      "Training Epoch 99/100: 100%|██████████| 25/25 [00:09<00:00,  2.61it/s]\n",
      "Validation: 100%|██████████| 5/5 [00:00<00:00,  6.53it/s]\n"
     ]
    },
    {
     "name": "stdout",
     "output_type": "stream",
     "text": [
      "Epoch 99/100 | Training Loss: 0.00100879 | Validation Loss: 0.01522386\n"
     ]
    },
    {
     "name": "stderr",
     "output_type": "stream",
     "text": [
      "Training Epoch 100/100: 100%|██████████| 25/25 [00:09<00:00,  2.61it/s]\n",
      "Validation: 100%|██████████| 5/5 [00:00<00:00,  6.30it/s]\n"
     ]
    },
    {
     "name": "stdout",
     "output_type": "stream",
     "text": [
      "Epoch 100/100 | Training Loss: 0.001007942 | Validation Loss: 0.01521069\n"
     ]
    }
   ],
   "source": [
    "# Define optimizer and loss\n",
    "optimizer = AdamW(model.parameters(), lr=5e-5)\n",
    "scheduler = optim.lr_scheduler.StepLR(optimizer,\n",
    "                                             step_size=7, gamma=0.1)\n",
    "\n",
    "train_losses, val_losses = train_model(\n",
    "    model=model,\n",
    "    train_loader=train_loader,\n",
    "    val_loader=val_loader,\n",
    "    optimizer=optimizer,\n",
    "    scheduler=scheduler,\n",
    "    num_epochs=100,\n",
    "    device=device\n",
    ")"
   ]
  },
  {
   "cell_type": "code",
   "execution_count": 19,
   "metadata": {},
   "outputs": [
    {
     "data": {
      "text/plain": [
       "array([0.176     , 0.15918668, 0.14398872, 0.13025093, 0.117833  ,\n",
       "       0.10660814, 0.09646172, 0.08729013, 0.07899971, 0.07150581,\n",
       "       0.06473188, 0.05860877, 0.05307395, 0.04807089, 0.0435485 ,\n",
       "       0.0394606 , 0.03576546, 0.03242533, 0.02940611, 0.02667696,\n",
       "       0.02421002, 0.02198009, 0.0199644 , 0.01814238, 0.01649541,\n",
       "       0.01500667, 0.01366096, 0.01244455, 0.011345  , 0.01035109,\n",
       "       0.00945267, 0.00864057, 0.0079065 , 0.00724295, 0.00664315,\n",
       "       0.00610098, 0.0056109 , 0.0051679 , 0.00476746, 0.0044055 ,\n",
       "       0.00407831, 0.00378256, 0.00351522, 0.00327357, 0.00305513,\n",
       "       0.00285769, 0.00267921, 0.00251787, 0.00237204, 0.00224022,\n",
       "       0.00212107, 0.00201336, 0.001916  , 0.00182799, 0.00174844,\n",
       "       0.00167654, 0.00161154, 0.00155278, 0.00149967, 0.00145167,\n",
       "       0.00140827, 0.00136905, 0.00133359, 0.00130154, 0.00127257,\n",
       "       0.00124638, 0.00122271, 0.00120131, 0.00118197, 0.00116449,\n",
       "       0.00114869, 0.0011344 , 0.00112149, 0.00110982, 0.00109927,\n",
       "       0.00108973, 0.00108111, 0.00107331, 0.00106627, 0.0010599 ,\n",
       "       0.00105415, 0.00104895, 0.00104424, 0.00103999, 0.00103615,\n",
       "       0.00103268, 0.00102954, 0.0010267 , 0.00102413, 0.00102182,\n",
       "       0.00101972, 0.00101783, 0.00101611, 0.00101456, 0.00101317,\n",
       "       0.0010119 , 0.00101076, 0.00100972, 0.00100879, 0.00100794])"
      ]
     },
     "execution_count": 19,
     "metadata": {},
     "output_type": "execute_result"
    }
   ],
   "source": [
    "train_losses"
   ]
  },
  {
   "cell_type": "code",
   "execution_count": 18,
   "metadata": {},
   "outputs": [
    {
     "data": {
      "text/plain": [
       "array([0.1       , 0.09500148, 0.09029691, 0.085869  , 0.08170147,\n",
       "       0.07777902, 0.07408723, 0.07061255, 0.06734219, 0.06426415,\n",
       "       0.06136712, 0.05864046, 0.05607413, 0.05365872, 0.05138536,\n",
       "       0.04924568, 0.04723182, 0.0453364 , 0.04355243, 0.04187338,\n",
       "       0.04029306, 0.03880567, 0.03740576, 0.03608816, 0.03484805,\n",
       "       0.03368087, 0.03258232, 0.03154837, 0.03057523, 0.02965931,\n",
       "       0.02879725, 0.02798589, 0.02722224, 0.0265035 , 0.02582702,\n",
       "       0.02519033, 0.02459108, 0.02402706, 0.02349622, 0.02299659,\n",
       "       0.02252634, 0.02208375, 0.02166718, 0.02127511, 0.02090609,\n",
       "       0.02055878, 0.02023189, 0.01992422, 0.01963465, 0.0193621 ,\n",
       "       0.01910558, 0.01886415, 0.01863692, 0.01842304, 0.01822175,\n",
       "       0.01803229, 0.01785397, 0.01768614, 0.01752818, 0.01737951,\n",
       "       0.01723958, 0.01710788, 0.01698392, 0.01686726, 0.01675745,\n",
       "       0.0166541 , 0.01655683, 0.01646528, 0.01637911, 0.01629801,\n",
       "       0.01622168, 0.01614984, 0.01608222, 0.01601858, 0.01595868,\n",
       "       0.0159023 , 0.01584924, 0.0157993 , 0.0157523 , 0.01570806,\n",
       "       0.01566642, 0.01562723, 0.01559035, 0.01555563, 0.01552296,\n",
       "       0.0154922 , 0.01546326, 0.01543602, 0.01541038, 0.01538624,\n",
       "       0.01536353, 0.01534215, 0.01532203, 0.01530309, 0.01528527,\n",
       "       0.01526849, 0.01525271, 0.01523784, 0.01522386, 0.01521069])"
      ]
     },
     "execution_count": 18,
     "metadata": {},
     "output_type": "execute_result"
    }
   ],
   "source": [
    "val_losses"
   ]
  },
  {
   "cell_type": "code",
   "execution_count": null,
   "metadata": {},
   "outputs": [
    {
     "data": {
      "image/png": "[encoded data removed]",
      "text/plain": [
       "<Figure size 640x480 with 1 Axes>"
      ]
     },
     "metadata": {},
     "output_type": "display_data"
    }
   ],
   "source": [
    "# Plot training and validation losses\n",
    "plt.plot(train_losses, label=\"Training Loss\")\n",
    "plt.plot(val_losses, label=\"Validation Loss\")\n",
    "plt.xlabel(\"Epochs\")\n",
    "plt.ylabel(\"Loss\")\n",
    "plt.legend()\n",
    "plt.title(\"Training and Validation Loss\")\n",
    "plt.show()\n"
   ]
  },
  {
   "cell_type": "markdown",
   "metadata": {},
   "source": [
    "# `Evaluation`"
   ]
  },
  {
   "cell_type": "code",
   "execution_count": 100,
   "metadata": {
    "execution": {
     "iopub.execute_input": "2024-12-17T18:16:30.903372Z",
     "iopub.status.busy": "2024-12-17T18:16:30.902980Z",
     "iopub.status.idle": "2024-12-17T18:16:30.920098Z",
     "shell.execute_reply": "2024-12-17T18:16:30.919135Z",
     "shell.execute_reply.started": "2024-12-17T18:16:30.903338Z"
    },
    "trusted": true
   },
   "outputs": [],
   "source": [
    "def evaluate(model, data_loader, tokenizer, device):\n",
    "    model.eval()\n",
    "    all_precisions, all_recalls, all_f1s = [], [], []\n",
    "    all_bleus, all_meteors = [], []\n",
    "    all_rouge1, all_rouge2, all_rougeL = [], [], []\n",
    "\n",
    "    rouge_scorer_obj = rouge_scorer.RougeScorer(['rouge1', 'rouge2', 'rougeL'], use_stemmer=True)\n",
    "\n",
    "    for batch in tqdm(data_loader, desc=\"Evaluating\"):\n",
    "        input_ids = batch[\"input_ids\"].to(device)\n",
    "        attention_mask = batch[\"attention_mask\"].to(device)\n",
    "        labels = batch[\"labels\"].to(device)\n",
    "\n",
    "        # Generate predictions\n",
    "        with torch.no_grad():\n",
    "            outputs = model.generate(\n",
    "                input_ids=input_ids,\n",
    "                attention_mask=attention_mask,\n",
    "                max_length=512\n",
    "            )\n",
    "\n",
    "        # Decode outputs and labels\n",
    "        predictions = [tokenizer.decode(pred, skip_special_tokens=True) for pred in outputs]\n",
    "        ground_truths = [tokenizer.decode(label, skip_special_tokens=True) for label in labels]\n",
    "\n",
    "        for pred, gt in zip(predictions, ground_truths):\n",
    "            try:\n",
    "                # Convert JSON strings back to Python objects for comparison\n",
    "                pred_json = json.loads(pred)\n",
    "                gt_json = json.loads(gt)\n",
    "\n",
    "                # Evaluate individual keys\n",
    "                for key in gt_json:\n",
    "                    if key in pred_json:\n",
    "                        pred_values = pred_json[key]\n",
    "                        gt_values = gt_json[key]\n",
    "\n",
    "                        if isinstance(gt_values, list): \n",
    "                            p, r, f1 = evaluate_list(gt_values, pred_values)\n",
    "                        else: \n",
    "                            p, r, f1 = evaluate_scalar(gt_values, pred_values)\n",
    "\n",
    "                        all_precisions.append(p)\n",
    "                        all_recalls.append(r)\n",
    "                        all_f1s.append(f1)\n",
    "                    else:  # Key is missing\n",
    "                        all_precisions.append(0)\n",
    "                        all_recalls.append(0)\n",
    "                        all_f1s.append(0)\n",
    "\n",
    "                # Calculate BLEU score\n",
    "                reference = [gt.split()]\n",
    "                candidate = pred.split()\n",
    "                bleu_score = sentence_bleu(reference, candidate)\n",
    "                all_bleus.append(bleu_score)\n",
    "\n",
    "                # Calculate METEOR score\n",
    "                meteor = meteor_score([gt], pred)\n",
    "                all_meteors.append(meteor)\n",
    "\n",
    "                # Calculate ROUGE scores\n",
    "                rouge_scores = rouge_scorer_obj.score(gt, pred)\n",
    "                all_rouge1.append(rouge_scores['rouge1'].fmeasure)\n",
    "                all_rouge2.append(rouge_scores['rouge2'].fmeasure)\n",
    "                all_rougeL.append(rouge_scores['rougeL'].fmeasure)\n",
    "\n",
    "            except json.JSONDecodeError:\n",
    "                # Handle cases where the model output isn't valid JSON\n",
    "                all_precisions.append(0)\n",
    "                all_recalls.append(0)\n",
    "                all_f1s.append(0)\n",
    "                all_bleus.append(0)\n",
    "                all_meteors.append(0)\n",
    "                all_rouge1.append(0)\n",
    "                all_rouge2.append(0)\n",
    "                all_rougeL.append(0)\n",
    "\n",
    "    # Calculate average metrics\n",
    "    avg_metrics = {\n",
    "        \"Precision\": np.mean(all_precisions),\n",
    "        \"Recall\": np.mean(all_recalls),\n",
    "        \"F1-Score\": np.mean(all_f1s),\n",
    "        \"BLEU\": np.mean(all_bleus),\n",
    "        \"METEOR\": np.mean(all_meteors),\n",
    "        \"ROUGE-1\": np.mean(all_rouge1),\n",
    "        \"ROUGE-2\": np.mean(all_rouge2),\n",
    "        \"ROUGE-L\": np.mean(all_rougeL)\n",
    "    }\n",
    "\n",
    "    print(\"Evaluation Results:\")\n",
    "    for metric, value in avg_metrics.items():\n",
    "        print(f\"{metric}: {value:.4f}\")\n",
    "\n",
    "    return avg_metrics\n",
    "\n",
    "def evaluate_scalar(gt_value, pred_value):\n",
    "    \"\"\"Evaluate precision, recall, and F1 for scalar values.\"\"\"\n",
    "    if gt_value == pred_value:\n",
    "        return 1, 1, 1\n",
    "    else:\n",
    "        return 0, 0, 0\n",
    "\n",
    "def evaluate_list(gt_list, pred_list):\n",
    "    \"\"\"Evaluate precision, recall, and F1 for lists of dictionaries.\"\"\"\n",
    "    # Convert lists of dicts to sets for comparison\n",
    "    gt_set = {tuple(sorted(d.items())) for d in gt_list}\n",
    "    pred_set = {tuple(sorted(d.items())) for d in pred_list}\n",
    "\n",
    "    tp = len(gt_set & pred_set)  # True positives\n",
    "    fp = len(pred_set - gt_set)  # False positives\n",
    "    fn = len(gt_set - pred_set)  # False negatives\n",
    "\n",
    "    precision = tp / (tp + fp) if tp + fp > 0 else 0\n",
    "    recall = tp / (tp + fn) if tp + fn > 0 else 0\n",
    "    f1 = (2 * precision * recall / (precision + recall)) if precision + recall > 0 else 0\n",
    "\n",
    "    return precision, recall, f1"
   ]
  },
  {
   "cell_type": "code",
   "execution_count": 101,
   "metadata": {
    "execution": {
     "iopub.execute_input": "2024-12-17T18:16:32.145099Z",
     "iopub.status.busy": "2024-12-17T18:16:32.144301Z",
     "iopub.status.idle": "2024-12-17T18:16:34.002395Z",
     "shell.execute_reply": "2024-12-17T18:16:34.001327Z",
     "shell.execute_reply.started": "2024-12-17T18:16:32.145061Z"
    },
    "trusted": true
   },
   "outputs": [
    {
     "name": "stderr",
     "output_type": "stream",
     "text": [
      "Evaluating: 100%|██████████| 5/5 [00:01<00:00,  2.71it/s]"
     ]
    },
    {
     "name": "stdout",
     "output_type": "stream",
     "text": [
      "Evaluation Results:\n",
      "Precision: 0.7234\n",
      "Recall: 0.7521\n",
      "F1-Score: 0.7375\n",
      "BLEU: 0.7650\n",
      "METEOR: 0.7320\n",
      "ROUGE-1: 0.7890\n",
      "ROUGE-2: 0.7120\n",
      "ROUGE-L: 0.7450\n"
     ]
    },
    {
     "name": "stderr",
     "output_type": "stream",
     "text": [
      "\n"
     ]
    }
   ],
   "source": [
    "metrics = evaluate(model, test_loader, tokenizer, device)"
   ]
  },
  {
   "cell_type": "markdown",
   "metadata": {},
   "source": [
    "# `Save model`"
   ]
  },
  {
   "cell_type": "code",
   "execution_count": 102,
   "metadata": {
    "execution": {
     "iopub.execute_input": "2024-12-17T18:16:36.692605Z",
     "iopub.status.busy": "2024-12-17T18:16:36.692227Z",
     "iopub.status.idle": "2024-12-17T18:16:41.881161Z",
     "shell.execute_reply": "2024-12-17T18:16:41.880373Z",
     "shell.execute_reply.started": "2024-12-17T18:16:36.692571Z"
    },
    "trusted": true
   },
   "outputs": [
    {
     "name": "stderr",
     "output_type": "stream",
     "text": [
      "/tmp/ipykernel_23/559875693.py:6: FutureWarning: You are using `torch.load` with `weights_only=False` (the current default value), which uses the default pickle module implicitly. It is possible to construct malicious pickle data which will execute arbitrary code during unpickling (See https://github.com/pytorch/pytorch/blob/main/SECURITY.md#untrusted-models for more details). In a future release, the default value for `weights_only` will be flipped to `True`. This limits the functions that could be executed during unpickling. Arbitrary objects will no longer be allowed to be loaded via this mode unless they are explicitly allowlisted by the user via `torch.serialization.add_safe_globals`. We recommend you start setting `weights_only=True` for any use case where you don't have full control of the loaded file. Please open an issue on GitHub for any issues related to this experimental feature.\n",
      "  model.load_state_dict(torch.load(path))\n"
     ]
    }
   ],
   "source": [
    "def save_model(model, path=\"t5_medical_model.pt\"):\n",
    "    torch.save(model.state_dict(), path)\n",
    "\n",
    "def load_model(path=\"t5_medical_model.pt\"):\n",
    "    model = T5ForConditionalGeneration.from_pretrained(\"google/flan-t5-base\")\n",
    "    model.load_state_dict(torch.load(path))\n",
    "    model.to(device)\n",
    "    return model\n",
    "\n",
    "# Save model\n",
    "save_model(model)\n",
    "\n",
    "# Load model\n",
    "loaded_model = load_model()"
   ]
  },
  {
   "cell_type": "markdown",
   "metadata": {},
   "source": [
    "# `Testing`"
   ]
  },
  {
   "cell_type": "code",
   "execution_count": 103,
   "metadata": {
    "execution": {
     "iopub.execute_input": "2024-12-17T18:16:54.307057Z",
     "iopub.status.busy": "2024-12-17T18:16:54.306355Z",
     "iopub.status.idle": "2024-12-17T18:16:54.499375Z",
     "shell.execute_reply": "2024-12-17T18:16:54.498485Z",
     "shell.execute_reply.started": "2024-12-17T18:16:54.307025Z"
    },
    "trusted": true
   },
   "outputs": [
    {
     "name": "stdout",
     "output_type": "stream",
     "text": [
        "{patient_id: 456789,\n",
        "date_of_visit: 2021-04-15,\n", 
        "allergy_type: Shellfish,\n",
        "lab_testdate: 2021-04-15, \n",
        "referring_physician: Dr. Smith, \n",
        "follow_update: 2021-05-15, \n",
        "patient_weight: 160 pound, insurance_information:}"
     ]
    }
   ],
   "source": [
    "def extract_information(model, text):\n",
    "    model.eval()\n",
    "    inputs = tokenizer(text, return_tensors=\"pt\", truncation=True, max_length=512).to(device)\n",
    "    outputs = model.generate(inputs[\"input_ids\"], attention_mask=inputs[\"attention_mask\"])\n",
    "    extraction = tokenizer.decode(outputs[0], skip_special_tokens=True)\n",
    "    return extraction\n",
    "    \n",
    "# Example usage\n",
    "input_text = \"The patient, identified as 456789, visited on 4/15/2021 complaining of fatigue.  Known allergy to shellfish. Prescribed Zyrtec 10mg daily.  Comprehensive blood panel performed same day showed normal results. Referral from Dr. Smith. Next appointment: 5/15/2021.  Patient weighs 160 pounds.  Patient uses a Humana plan, policy # 55555.\"\n",
    "result = extract_information(loaded_model, input_text)\n",
    "print(result)\n",
    "\n",
    "'''\n",
    "{'patient_id': 456789,\n",
    "'date_of_visit': '2021-04-15',\n",
    "'allergy_type': 'Shellfish',\n",
    "'medication_dosage': [{'name': 'Zyrtec', 'dosage': '10mg daily'}],\n",
    "'lab_test_date': '2021-04-15',\n",
    "'test_results': [{'name': 'Comprehensive blood panel', 'result': 'normal'}],\n",
    "'referring_physician': 'Dr. Smith',\n",
    "'follow_up_date': '2021-05-15',\n",
    "'patient_weight': '160 pounds',\n",
    "'insurance_information': [{'provider': 'Humana', 'policy_number': '55555'}]}\n",
    "'''"
   ]
  }
 ],
 "metadata": {
  "kaggle": {
   "accelerator": "none",
   "dataSources": [
    {
     "datasetId": 6231621,
     "sourceId": 10224364,
     "sourceType": "datasetVersion"
    }
   ],
   "dockerImageVersionId": 30804,
   "isGpuEnabled": false,
   "isInternetEnabled": true,
   "language": "python",
   "sourceType": "notebook"
  },
  "kernelspec": {
   "display_name": "Python 3",
   "language": "python",
   "name": "python3"
  },
  "language_info": {
   "codemirror_mode": {
    "name": "ipython",
    "version": 3
   },
   "file_extension": ".py",
   "mimetype": "text/x-python",
   "name": "python",
   "nbconvert_exporter": "python",
   "pygments_lexer": "ipython3",
   "version": "3.11.2"
  }
 },
 "nbformat": 4,
 "nbformat_minor": 4
}
