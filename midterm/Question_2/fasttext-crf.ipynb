{
 "cells": [
  {
   "cell_type": "code",
   "execution_count": 1,
   "id": "46ee34f7",
   "metadata": {
    "execution": {
     "iopub.execute_input": "2024-10-30T08:44:57.693598Z",
     "iopub.status.busy": "2024-10-30T08:44:57.692341Z",
     "iopub.status.idle": "2024-10-30T08:45:11.477152Z",
     "shell.execute_reply": "2024-10-30T08:45:11.475625Z"
    },
    "papermill": {
     "duration": 13.795491,
     "end_time": "2024-10-30T08:45:11.479605",
     "exception": false,
     "start_time": "2024-10-30T08:44:57.684114",
     "status": "completed"
    },
    "tags": []
   },
   "outputs": [
    {
     "name": "stdout",
     "output_type": "stream",
     "text": [
      "Collecting sklearn-crfsuite\r\n",
      "  Downloading sklearn_crfsuite-0.5.0-py2.py3-none-any.whl.metadata (4.9 kB)\r\n",
      "Collecting python-crfsuite>=0.9.7 (from sklearn-crfsuite)\r\n",
      "  Downloading python_crfsuite-0.9.11-cp310-cp310-manylinux_2_17_x86_64.manylinux2014_x86_64.whl.metadata (4.3 kB)\r\n",
      "Requirement already satisfied: scikit-learn>=0.24.0 in /opt/conda/lib/python3.10/site-packages (from sklearn-crfsuite) (1.2.2)\r\n",
      "Requirement already satisfied: tabulate>=0.4.2 in /opt/conda/lib/python3.10/site-packages (from sklearn-crfsuite) (0.9.0)\r\n",
      "Requirement already satisfied: tqdm>=2.0 in /opt/conda/lib/python3.10/site-packages (from sklearn-crfsuite) (4.66.4)\r\n",
      "Requirement already satisfied: numpy>=1.17.3 in /opt/conda/lib/python3.10/site-packages (from scikit-learn>=0.24.0->sklearn-crfsuite) (1.26.4)\r\n",
      "Requirement already satisfied: scipy>=1.3.2 in /opt/conda/lib/python3.10/site-packages (from scikit-learn>=0.24.0->sklearn-crfsuite) (1.14.1)\r\n",
      "Requirement already satisfied: joblib>=1.1.1 in /opt/conda/lib/python3.10/site-packages (from scikit-learn>=0.24.0->sklearn-crfsuite) (1.4.2)\r\n",
      "Requirement already satisfied: threadpoolctl>=2.0.0 in /opt/conda/lib/python3.10/site-packages (from scikit-learn>=0.24.0->sklearn-crfsuite) (3.5.0)\r\n",
      "Downloading sklearn_crfsuite-0.5.0-py2.py3-none-any.whl (10 kB)\r\n",
      "Downloading python_crfsuite-0.9.11-cp310-cp310-manylinux_2_17_x86_64.manylinux2014_x86_64.whl (1.2 MB)\r\n",
      "\u001b[2K   \u001b[90m━━━━━━━━━━━━━━━━━━━━━━━━━━━━━━━━━━━━━━━━\u001b[0m \u001b[32m1.2/1.2 MB\u001b[0m \u001b[31m14.5 MB/s\u001b[0m eta \u001b[36m0:00:00\u001b[0m\r\n",
      "\u001b[?25hInstalling collected packages: python-crfsuite, sklearn-crfsuite\r\n",
      "Successfully installed python-crfsuite-0.9.11 sklearn-crfsuite-0.5.0\r\n",
      "Note: you may need to restart the kernel to use updated packages.\n"
     ]
    }
   ],
   "source": [
    "pip install sklearn-crfsuite"
   ]
  },
  {
   "cell_type": "code",
   "execution_count": 2,
   "id": "62c5525b",
   "metadata": {
    "execution": {
     "iopub.execute_input": "2024-10-30T08:45:11.493873Z",
     "iopub.status.busy": "2024-10-30T08:45:11.493426Z",
     "iopub.status.idle": "2024-10-30T08:45:13.891478Z",
     "shell.execute_reply": "2024-10-30T08:45:13.890395Z"
    },
    "papermill": {
     "duration": 2.408234,
     "end_time": "2024-10-30T08:45:13.894198",
     "exception": false,
     "start_time": "2024-10-30T08:45:11.485964",
     "status": "completed"
    },
    "tags": []
   },
   "outputs": [],
   "source": [
    "import pandas as pd\n",
    "from sklearn.model_selection import train_test_split\n",
    "from sklearn_crfsuite import CRF\n",
    "import warnings\n",
    "warnings.filterwarnings('ignore') "
   ]
  },
  {
   "cell_type": "code",
   "execution_count": 3,
   "id": "3c0d640b",
   "metadata": {
    "execution": {
     "iopub.execute_input": "2024-10-30T08:45:13.908960Z",
     "iopub.status.busy": "2024-10-30T08:45:13.908298Z",
     "iopub.status.idle": "2024-10-30T08:45:15.265050Z",
     "shell.execute_reply": "2024-10-30T08:45:15.263265Z"
    },
    "papermill": {
     "duration": 1.367687,
     "end_time": "2024-10-30T08:45:15.268281",
     "exception": false,
     "start_time": "2024-10-30T08:45:13.900594",
     "status": "completed"
    },
    "tags": []
   },
   "outputs": [],
   "source": [
    "df = pd.read_csv('/kaggle/input/vner-vlsp-2021/processed_data.csv')"
   ]
  },
  {
   "cell_type": "code",
   "execution_count": 4,
   "id": "14264566",
   "metadata": {
    "execution": {
     "iopub.execute_input": "2024-10-30T08:45:15.282901Z",
     "iopub.status.busy": "2024-10-30T08:45:15.282426Z",
     "iopub.status.idle": "2024-10-30T08:45:15.384129Z",
     "shell.execute_reply": "2024-10-30T08:45:15.382989Z"
    },
    "papermill": {
     "duration": 0.112102,
     "end_time": "2024-10-30T08:45:15.386484",
     "exception": false,
     "start_time": "2024-10-30T08:45:15.274382",
     "status": "completed"
    },
    "tags": []
   },
   "outputs": [
    {
     "data": {
      "text/html": [
       "<div>\n",
       "<style scoped>\n",
       "    .dataframe tbody tr th:only-of-type {\n",
       "        vertical-align: middle;\n",
       "    }\n",
       "\n",
       "    .dataframe tbody tr th {\n",
       "        vertical-align: top;\n",
       "    }\n",
       "\n",
       "    .dataframe thead th {\n",
       "        text-align: right;\n",
       "    }\n",
       "</style>\n",
       "<table border=\"1\" class=\"dataframe\">\n",
       "  <thead>\n",
       "    <tr style=\"text-align: right;\">\n",
       "      <th></th>\n",
       "      <th>Word</th>\n",
       "      <th>Tag</th>\n",
       "      <th>Sentence #</th>\n",
       "    </tr>\n",
       "  </thead>\n",
       "  <tbody>\n",
       "    <tr>\n",
       "      <th>0</th>\n",
       "      <td>Mong ước</td>\n",
       "      <td>O</td>\n",
       "      <td>Sentence: 1</td>\n",
       "    </tr>\n",
       "    <tr>\n",
       "      <th>1</th>\n",
       "      <td>được</td>\n",
       "      <td>O</td>\n",
       "      <td>Sentence: 1</td>\n",
       "    </tr>\n",
       "    <tr>\n",
       "      <th>2</th>\n",
       "      <td>đến</td>\n",
       "      <td>O</td>\n",
       "      <td>Sentence: 1</td>\n",
       "    </tr>\n",
       "    <tr>\n",
       "      <th>3</th>\n",
       "      <td>trường</td>\n",
       "      <td>O</td>\n",
       "      <td>Sentence: 1</td>\n",
       "    </tr>\n",
       "    <tr>\n",
       "      <th>4</th>\n",
       "      <td>của</td>\n",
       "      <td>O</td>\n",
       "      <td>Sentence: 1</td>\n",
       "    </tr>\n",
       "    <tr>\n",
       "      <th>5</th>\n",
       "      <td>bé</td>\n",
       "      <td>O</td>\n",
       "      <td>Sentence: 1</td>\n",
       "    </tr>\n",
       "    <tr>\n",
       "      <th>6</th>\n",
       "      <td>gái</td>\n",
       "      <td>O</td>\n",
       "      <td>Sentence: 1</td>\n",
       "    </tr>\n",
       "    <tr>\n",
       "      <th>7</th>\n",
       "      <td>7</td>\n",
       "      <td>B-QUANTITY-AGE</td>\n",
       "      <td>Sentence: 1</td>\n",
       "    </tr>\n",
       "    <tr>\n",
       "      <th>8</th>\n",
       "      <td>tuổi</td>\n",
       "      <td>I-QUANTITY-AGE</td>\n",
       "      <td>Sentence: 1</td>\n",
       "    </tr>\n",
       "    <tr>\n",
       "      <th>9</th>\n",
       "      <td>Giờ</td>\n",
       "      <td>B-DATETIME</td>\n",
       "      <td>Sentence: 2</td>\n",
       "    </tr>\n",
       "  </tbody>\n",
       "</table>\n",
       "</div>"
      ],
      "text/plain": [
       "       Word             Tag   Sentence #\n",
       "0  Mong ước               O  Sentence: 1\n",
       "1      được               O  Sentence: 1\n",
       "2       đến               O  Sentence: 1\n",
       "3    trường               O  Sentence: 1\n",
       "4       của               O  Sentence: 1\n",
       "5        bé               O  Sentence: 1\n",
       "6       gái               O  Sentence: 1\n",
       "7         7  B-QUANTITY-AGE  Sentence: 1\n",
       "8      tuổi  I-QUANTITY-AGE  Sentence: 1\n",
       "9       Giờ      B-DATETIME  Sentence: 2"
      ]
     },
     "execution_count": 4,
     "metadata": {},
     "output_type": "execute_result"
    }
   ],
   "source": [
    "# df = df.sample(frac=0.01, random_state=42)\n",
    "df.head(10)"
   ]
  },
  {
   "cell_type": "code",
   "execution_count": 5,
   "id": "afece0e1",
   "metadata": {
    "execution": {
     "iopub.execute_input": "2024-10-30T08:45:15.402366Z",
     "iopub.status.busy": "2024-10-30T08:45:15.401968Z",
     "iopub.status.idle": "2024-10-30T08:46:12.601852Z",
     "shell.execute_reply": "2024-10-30T08:46:12.600771Z"
    },
    "papermill": {
     "duration": 57.216229,
     "end_time": "2024-10-30T08:46:12.609905",
     "exception": false,
     "start_time": "2024-10-30T08:45:15.393676",
     "status": "completed"
    },
    "tags": []
   },
   "outputs": [
    {
     "data": {
      "text/plain": [
       "['Mong ước', 'được', 'đến', 'trường', 'của', 'bé', 'gái', '7', 'tuổi']"
      ]
     },
     "execution_count": 5,
     "metadata": {},
     "output_type": "execute_result"
    }
   ],
   "source": [
    "tokenized_sentences = {}\n",
    "for index, row in df.iterrows():\n",
    "    sentence_id = row['Sentence #']\n",
    "    word = row['Word']\n",
    "    \n",
    "    # Nếu câu chưa có trong từ điển, khởi tạo danh sách\n",
    "    if sentence_id not in tokenized_sentences:\n",
    "        tokenized_sentences[sentence_id] = []\n",
    "    \n",
    "    # Thêm từ vào danh sách của câu\n",
    "    tokenized_sentences[sentence_id].append(word)\n",
    "\n",
    " \n",
    " # Chuyển đổi từ điển thành danh sách các câu\n",
    "input_data = list(tokenized_sentences.values())\n",
    "input_data[0]"
   ]
  },
  {
   "cell_type": "code",
   "execution_count": 6,
   "id": "e2e85cb8",
   "metadata": {
    "execution": {
     "iopub.execute_input": "2024-10-30T08:46:12.625370Z",
     "iopub.status.busy": "2024-10-30T08:46:12.624934Z",
     "iopub.status.idle": "2024-10-30T08:46:51.879219Z",
     "shell.execute_reply": "2024-10-30T08:46:51.877281Z"
    },
    "papermill": {
     "duration": 39.270159,
     "end_time": "2024-10-30T08:46:51.887384",
     "exception": false,
     "start_time": "2024-10-30T08:46:12.617225",
     "status": "completed"
    },
    "tags": []
   },
   "outputs": [
    {
     "name": "stdout",
     "output_type": "stream",
     "text": [
      "Mô hình FastText đã được huấn luyện và lưu thành công.\n"
     ]
    }
   ],
   "source": [
    "import pickle\n",
    "from gensim.models import FastText\n",
    "\n",
    "\n",
    "# Huấn luyện mô hình FastText\n",
    "model_fasttext = FastText(input_data, vector_size=100, window=3, min_count=1, sg=1)\n",
    "\n",
    "\n",
    "with open('/kaggle/working/fasttext_model_f.pkl', 'wb') as file:\n",
    "    pickle.dump(model_fasttext, file)\n",
    "# Tải lại mô hình từ file word2vec_model.pkl\n",
    "with open('/kaggle/working/fasttext_model_f.pkl', 'rb') as f:\n",
    "    loaded_model = pickle.load(f)\n",
    "    \n",
    "print(\"Mô hình FastText đã được huấn luyện và lưu thành công.\")"
   ]
  },
  {
   "cell_type": "code",
   "execution_count": 7,
   "id": "52680fbb",
   "metadata": {
    "execution": {
     "iopub.execute_input": "2024-10-30T08:46:51.904030Z",
     "iopub.status.busy": "2024-10-30T08:46:51.903342Z",
     "iopub.status.idle": "2024-10-30T08:47:06.156879Z",
     "shell.execute_reply": "2024-10-30T08:47:06.155467Z"
    },
    "papermill": {
     "duration": 14.264502,
     "end_time": "2024-10-30T08:47:06.159571",
     "exception": false,
     "start_time": "2024-10-30T08:46:51.895069",
     "status": "completed"
    },
    "tags": []
   },
   "outputs": [
    {
     "data": {
      "text/html": [
       "<div>\n",
       "<style scoped>\n",
       "    .dataframe tbody tr th:only-of-type {\n",
       "        vertical-align: middle;\n",
       "    }\n",
       "\n",
       "    .dataframe tbody tr th {\n",
       "        vertical-align: top;\n",
       "    }\n",
       "\n",
       "    .dataframe thead th {\n",
       "        text-align: right;\n",
       "    }\n",
       "</style>\n",
       "<table border=\"1\" class=\"dataframe\">\n",
       "  <thead>\n",
       "    <tr style=\"text-align: right;\">\n",
       "      <th></th>\n",
       "      <th>Word</th>\n",
       "      <th>Tag</th>\n",
       "      <th>Sentence #</th>\n",
       "      <th>Vector</th>\n",
       "    </tr>\n",
       "  </thead>\n",
       "  <tbody>\n",
       "    <tr>\n",
       "      <th>0</th>\n",
       "      <td>Mong ước</td>\n",
       "      <td>O</td>\n",
       "      <td>Sentence: 1</td>\n",
       "      <td>[0.16203883290290833, 0.001150104682892561, 0....</td>\n",
       "    </tr>\n",
       "    <tr>\n",
       "      <th>1</th>\n",
       "      <td>được</td>\n",
       "      <td>O</td>\n",
       "      <td>Sentence: 1</td>\n",
       "      <td>[0.16884927451610565, -0.27368104457855225, 0....</td>\n",
       "    </tr>\n",
       "    <tr>\n",
       "      <th>2</th>\n",
       "      <td>đến</td>\n",
       "      <td>O</td>\n",
       "      <td>Sentence: 1</td>\n",
       "      <td>[0.34477752447128296, 0.35272353887557983, 0.7...</td>\n",
       "    </tr>\n",
       "    <tr>\n",
       "      <th>3</th>\n",
       "      <td>trường</td>\n",
       "      <td>O</td>\n",
       "      <td>Sentence: 1</td>\n",
       "      <td>[0.2363833636045456, 0.08420327305793762, 0.50...</td>\n",
       "    </tr>\n",
       "    <tr>\n",
       "      <th>4</th>\n",
       "      <td>của</td>\n",
       "      <td>O</td>\n",
       "      <td>Sentence: 1</td>\n",
       "      <td>[0.12112768739461899, -0.495349645614624, 0.16...</td>\n",
       "    </tr>\n",
       "    <tr>\n",
       "      <th>5</th>\n",
       "      <td>bé</td>\n",
       "      <td>O</td>\n",
       "      <td>Sentence: 1</td>\n",
       "      <td>[0.2154824137687683, -0.18221479654312134, 0.5...</td>\n",
       "    </tr>\n",
       "    <tr>\n",
       "      <th>6</th>\n",
       "      <td>gái</td>\n",
       "      <td>O</td>\n",
       "      <td>Sentence: 1</td>\n",
       "      <td>[0.0816696509718895, 0.005837696138769388, 0.0...</td>\n",
       "    </tr>\n",
       "    <tr>\n",
       "      <th>7</th>\n",
       "      <td>7</td>\n",
       "      <td>B-QUANTITY-AGE</td>\n",
       "      <td>Sentence: 1</td>\n",
       "      <td>[0.08736534416675568, 0.0495893768966198, 0.02...</td>\n",
       "    </tr>\n",
       "    <tr>\n",
       "      <th>8</th>\n",
       "      <td>tuổi</td>\n",
       "      <td>I-QUANTITY-AGE</td>\n",
       "      <td>Sentence: 1</td>\n",
       "      <td>[-0.20265477895736694, -0.15798376500606537, 0...</td>\n",
       "    </tr>\n",
       "    <tr>\n",
       "      <th>9</th>\n",
       "      <td>Giờ</td>\n",
       "      <td>B-DATETIME</td>\n",
       "      <td>Sentence: 2</td>\n",
       "      <td>[0.33434125781059265, -0.016723310574889183, -...</td>\n",
       "    </tr>\n",
       "  </tbody>\n",
       "</table>\n",
       "</div>"
      ],
      "text/plain": [
       "       Word             Tag   Sentence #  \\\n",
       "0  Mong ước               O  Sentence: 1   \n",
       "1      được               O  Sentence: 1   \n",
       "2       đến               O  Sentence: 1   \n",
       "3    trường               O  Sentence: 1   \n",
       "4       của               O  Sentence: 1   \n",
       "5        bé               O  Sentence: 1   \n",
       "6       gái               O  Sentence: 1   \n",
       "7         7  B-QUANTITY-AGE  Sentence: 1   \n",
       "8      tuổi  I-QUANTITY-AGE  Sentence: 1   \n",
       "9       Giờ      B-DATETIME  Sentence: 2   \n",
       "\n",
       "                                              Vector  \n",
       "0  [0.16203883290290833, 0.001150104682892561, 0....  \n",
       "1  [0.16884927451610565, -0.27368104457855225, 0....  \n",
       "2  [0.34477752447128296, 0.35272353887557983, 0.7...  \n",
       "3  [0.2363833636045456, 0.08420327305793762, 0.50...  \n",
       "4  [0.12112768739461899, -0.495349645614624, 0.16...  \n",
       "5  [0.2154824137687683, -0.18221479654312134, 0.5...  \n",
       "6  [0.0816696509718895, 0.005837696138769388, 0.0...  \n",
       "7  [0.08736534416675568, 0.0495893768966198, 0.02...  \n",
       "8  [-0.20265477895736694, -0.15798376500606537, 0...  \n",
       "9  [0.33434125781059265, -0.016723310574889183, -...  "
      ]
     },
     "execution_count": 7,
     "metadata": {},
     "output_type": "execute_result"
    }
   ],
   "source": [
    "import numpy as np\n",
    "\n",
    "# Hàm để lấy vector cho từng từ\n",
    "def get_word_vector(word, model):\n",
    "    if word in model.wv:\n",
    "        return model.wv[word]\n",
    "    else:\n",
    "        return np.zeros(model.vector_size)\n",
    "\n",
    "# Tạo vector cho từng từ trong DataFrame\n",
    "df['Vector'] = df['Word'].apply(lambda x: get_word_vector(x, model_fasttext).tolist())\n",
    "df.head(10)"
   ]
  },
  {
   "cell_type": "code",
   "execution_count": 8,
   "id": "8dfd35e3",
   "metadata": {
    "execution": {
     "iopub.execute_input": "2024-10-30T08:47:06.175302Z",
     "iopub.status.busy": "2024-10-30T08:47:06.174542Z",
     "iopub.status.idle": "2024-10-30T08:47:06.247058Z",
     "shell.execute_reply": "2024-10-30T08:47:06.246009Z"
    },
    "papermill": {
     "duration": 0.082932,
     "end_time": "2024-10-30T08:47:06.249230",
     "exception": false,
     "start_time": "2024-10-30T08:47:06.166298",
     "status": "completed"
    },
    "tags": []
   },
   "outputs": [
    {
     "name": "stdout",
     "output_type": "stream",
     "text": [
      "Số lượng nhãn trong DataFrame:\n"
     ]
    },
    {
     "data": {
      "text/plain": [
       "Tag\n",
       "O                         833546\n",
       "B-PERSON                   15409\n",
       "I-ORGANIZATION             11552\n",
       "B-ORGANIZATION              9981\n",
       "B-LOCATION-GPE              8831\n",
       "                           ...  \n",
       "I                             16\n",
       "B-LOCATION-GPE HCM             6\n",
       "A                              1\n",
       "B-LOCATION-GPE-GEO             1\n",
       "B-ORGANIZATION NN&PTNT         1\n",
       "Name: count, Length: 90, dtype: int64"
      ]
     },
     "execution_count": 8,
     "metadata": {},
     "output_type": "execute_result"
    }
   ],
   "source": [
    "# Đếm số lượng nhãn\n",
    "label_counts = df['Tag'].value_counts()\n",
    "\n",
    "# In số lượng nhãn\n",
    "print(\"Số lượng nhãn trong DataFrame:\")\n",
    "(label_counts)"
   ]
  },
  {
   "cell_type": "code",
   "execution_count": 9,
   "id": "288e2687",
   "metadata": {
    "execution": {
     "iopub.execute_input": "2024-10-30T08:47:06.268683Z",
     "iopub.status.busy": "2024-10-30T08:47:06.268220Z",
     "iopub.status.idle": "2024-10-30T08:47:06.272997Z",
     "shell.execute_reply": "2024-10-30T08:47:06.271899Z"
    },
    "papermill": {
     "duration": 0.017241,
     "end_time": "2024-10-30T08:47:06.275128",
     "exception": false,
     "start_time": "2024-10-30T08:47:06.257887",
     "status": "completed"
    },
    "tags": []
   },
   "outputs": [],
   "source": [
    "# pip install sklearn-crfsuite"
   ]
  },
  {
   "cell_type": "markdown",
   "id": "83661e27",
   "metadata": {
    "papermill": {
     "duration": 0.006545,
     "end_time": "2024-10-30T08:47:06.288840",
     "exception": false,
     "start_time": "2024-10-30T08:47:06.282295",
     "status": "completed"
    },
    "tags": []
   },
   "source": [
    "# Feature for CRF"
   ]
  },
  {
   "cell_type": "code",
   "execution_count": 10,
   "id": "eba80779",
   "metadata": {
    "execution": {
     "iopub.execute_input": "2024-10-30T08:47:06.305463Z",
     "iopub.status.busy": "2024-10-30T08:47:06.304412Z",
     "iopub.status.idle": "2024-10-30T08:49:06.725787Z",
     "shell.execute_reply": "2024-10-30T08:49:06.724585Z"
    },
    "papermill": {
     "duration": 120.432745,
     "end_time": "2024-10-30T08:49:06.728682",
     "exception": false,
     "start_time": "2024-10-30T08:47:06.295937",
     "status": "completed"
    },
    "tags": []
   },
   "outputs": [],
   "source": [
    "X = []\n",
    "y = []\n",
    "\n",
    "# Nhóm các từ theo câu dựa trên \"Sentence #\"\n",
    "for sentence_id, group in df.groupby('Sentence #'):\n",
    "    sentence_features = []\n",
    "    sentence_tags = []\n",
    "\n",
    "    for _, row in group.iterrows():\n",
    "        # Tạo đặc trưng cho từ\n",
    "        word_features = {\n",
    "            'word': row['Word'],\n",
    "        }\n",
    "        # Thêm các giá trị từ vector làm đặc trưng riêng biệt\n",
    "        for i, value in enumerate(row['Vector']):\n",
    "            word_features[f'vector_{i}'] = value\n",
    "\n",
    "        sentence_features.append(word_features)\n",
    "        sentence_tags.append(row['Tag'])  # Bao gồm cả nhãn 'O'\n",
    "\n",
    "    # Chỉ thêm các câu có ít nhất một nhãn\n",
    "    if sentence_features:\n",
    "        X.append(sentence_features)\n",
    "        y.append(sentence_tags)\n",
    "\n",
    "# Chia dữ liệu thành tập huấn luyện và kiểm tra\n",
    "X_train, X_val, y_train, y_val = train_test_split(X, y, test_size=0.2, random_state=42)\n"
   ]
  },
  {
   "cell_type": "markdown",
   "id": "fcc3e5c0",
   "metadata": {
    "papermill": {
     "duration": 0.006552,
     "end_time": "2024-10-30T08:49:06.742235",
     "exception": false,
     "start_time": "2024-10-30T08:49:06.735683",
     "status": "completed"
    },
    "tags": []
   },
   "source": [
    "# Train model CRF"
   ]
  },
  {
   "cell_type": "code",
   "execution_count": 11,
   "id": "078e2c88",
   "metadata": {
    "execution": {
     "iopub.execute_input": "2024-10-30T08:49:06.757627Z",
     "iopub.status.busy": "2024-10-30T08:49:06.757165Z",
     "iopub.status.idle": "2024-10-30T18:14:50.114750Z",
     "shell.execute_reply": "2024-10-30T18:14:50.112479Z"
    },
    "papermill": {
     "duration": 33943.378728,
     "end_time": "2024-10-30T18:14:50.127657",
     "exception": false,
     "start_time": "2024-10-30T08:49:06.748929",
     "status": "completed"
    },
    "tags": []
   },
   "outputs": [
    {
     "name": "stdout",
     "output_type": "stream",
     "text": [
      "Epoch: 1, F1 Score: 0.9147\n",
      "Epoch: 2, F1 Score: 0.9147\n",
      "Epoch: 3, F1 Score: 0.9147\n",
      "Epoch: 4, F1 Score: 0.9147\n",
      "Epoch: 5, F1 Score: 0.9147\n",
      "Epoch: 6, F1 Score: 0.9147\n",
      "Early stopping activated.\n",
      "Mô hình CRF đã được huấn luyện thành công.\n"
     ]
    }
   ],
   "source": [
    "from sklearn_crfsuite import CRF\n",
    "from sklearn.metrics import classification_report\n",
    "import joblib\n",
    "\n",
    "# Huấn luyện mô hình CRF với early stopping\n",
    "crf = CRF(algorithm='lbfgs', max_iterations=100, all_possible_transitions=True, c1= 0.7146912130313807, c2= 0.020176090276753964)\n",
    "\n",
    "best_f1 = 0.0\n",
    "patience = 5\n",
    "patience_counter = 0\n",
    "\n",
    "for epoch in range(1, 100): \n",
    "    crf.fit(X_train, y_train)  # Huấn luyện mô hình\n",
    "\n",
    "    # Dự đoán trên tập validation\n",
    "    y_val_pred = crf.predict(X_val)\n",
    "    \n",
    "    # Chuyển đổi y_val và y_val_pred thành một dạng phù hợp\n",
    "    y_val_flat = [item for sublist in y_val for item in sublist]\n",
    "    y_val_pred_flat = [item for sublist in y_val_pred for item in sublist]\n",
    "\n",
    "    # Tính điểm F1 cho tập validation\n",
    "    report = classification_report(y_val_flat, y_val_pred_flat, output_dict=True)\n",
    "    f1_score = report['weighted avg']['f1-score']\n",
    "    \n",
    "    print(f'Epoch: {epoch}, F1 Score: {f1_score:.4f}')\n",
    "\n",
    "    # Lưu mô hình trong từng epoch\n",
    "    joblib.dump(crf, f'/kaggle/working/best_model_crf.pkl')\n",
    "\n",
    "    # Kiểm tra xem có cải thiện không\n",
    "    if f1_score > best_f1:\n",
    "        best_f1 = f1_score\n",
    "        patience_counter = 0  # Reset counter\n",
    "    else:\n",
    "        patience_counter += 1\n",
    "    \n",
    "    # Kiểm tra điều kiện dừng\n",
    "    if patience_counter >= patience:\n",
    "        print(\"Early stopping activated.\")\n",
    "        break\n",
    "\n",
    "print(\"Mô hình CRF đã được huấn luyện thành công.\")\n"
   ]
  },
  {
   "cell_type": "code",
   "execution_count": 12,
   "id": "9688fcc1",
   "metadata": {
    "execution": {
     "iopub.execute_input": "2024-10-30T18:14:50.147313Z",
     "iopub.status.busy": "2024-10-30T18:14:50.146776Z",
     "iopub.status.idle": "2024-10-30T18:14:50.154398Z",
     "shell.execute_reply": "2024-10-30T18:14:50.153256Z"
    },
    "papermill": {
     "duration": 0.021079,
     "end_time": "2024-10-30T18:14:50.156809",
     "exception": false,
     "start_time": "2024-10-30T18:14:50.135730",
     "status": "completed"
    },
    "tags": []
   },
   "outputs": [],
   "source": [
    "# # Huấn luyện mô hình CRF với early stopping\n",
    "# crf = CRF(algorithm='lbfgs', max_iterations=100, all_possible_transitions=True, verbose=True)\n",
    "\n",
    "# best_f1 = 0.0\n",
    "# patience = 5\n",
    "# patience_counter = 0\n",
    "\n",
    "# for epoch in range(1):  # Số lượng epoch tối đa\n",
    "#     crf.fit(X_train, y_train)  # Huấn luyện mô hình\n",
    "\n",
    "#     # Dự đoán trên tập validation\n",
    "#     y_val_pred = crf.predict(X_val)\n",
    "    \n",
    "#     # Chuyển đổi y_val và y_val_pred thành một dạng phù hợp\n",
    "#     y_val_flat = [item for sublist in y_val for item in sublist]\n",
    "#     y_val_pred_flat = [item for sublist in y_val_pred for item in sublist]\n",
    "\n",
    "#     # Tính điểm F1 cho tập validation\n",
    "#     report = classification_report(y_val_flat, y_val_pred_flat, output_dict=True)\n",
    "#     f1_score = report['weighted avg']['f1-score']\n",
    "    \n",
    "#     print(f'Epoch: {epoch+1}, F1 Score: {f1_score:.4f}')\n",
    "\n",
    "#     # Kiểm tra xem có cải thiện không\n",
    "#     if f1_score > best_f1:\n",
    "#         best_f1 = f1_score\n",
    "#         patience_counter = 0  # Reset counter\n",
    "#     else:\n",
    "#         patience_counter += 1\n",
    "    \n",
    "#     # Kiểm tra điều kiện dừng\n",
    "#     if patience_counter >= patience:\n",
    "#         print(\"Early stopping activated.\")\n",
    "#         break\n",
    "\n",
    "# print(\"Mô hình CRF đã được huấn luyện thành công.\")\n"
   ]
  },
  {
   "cell_type": "code",
   "execution_count": 13,
   "id": "40c3c7fd",
   "metadata": {
    "execution": {
     "iopub.execute_input": "2024-10-30T18:14:50.173481Z",
     "iopub.status.busy": "2024-10-30T18:14:50.173045Z",
     "iopub.status.idle": "2024-10-30T18:14:50.326856Z",
     "shell.execute_reply": "2024-10-30T18:14:50.325586Z"
    },
    "papermill": {
     "duration": 0.165267,
     "end_time": "2024-10-30T18:14:50.329558",
     "exception": false,
     "start_time": "2024-10-30T18:14:50.164291",
     "status": "completed"
    },
    "tags": []
   },
   "outputs": [],
   "source": [
    "# Chia dữ liệu thành tập huấn luyện, validation và kiểm tra\n",
    "X_temp, X_test, y_temp, y_test = train_test_split(X, y, test_size=0.2, random_state=42)  # 20% cho tập kiểm tra"
   ]
  },
  {
   "cell_type": "code",
   "execution_count": 14,
   "id": "911d4ab1",
   "metadata": {
    "execution": {
     "iopub.execute_input": "2024-10-30T18:14:50.347166Z",
     "iopub.status.busy": "2024-10-30T18:14:50.346062Z",
     "iopub.status.idle": "2024-10-30T18:15:19.271821Z",
     "shell.execute_reply": "2024-10-30T18:15:19.270493Z"
    },
    "papermill": {
     "duration": 28.937822,
     "end_time": "2024-10-30T18:15:19.274748",
     "exception": false,
     "start_time": "2024-10-30T18:14:50.336926",
     "status": "completed"
    },
    "tags": []
   },
   "outputs": [
    {
     "name": "stdout",
     "output_type": "stream",
     "text": [
      "                       precision    recall  f1-score   support\n",
      "\n",
      "                    B       0.00      0.00      0.00        12\n",
      "            B-ADDRESS       0.19      0.27      0.22        15\n",
      "           B-DATETIME       0.58      0.60      0.59       592\n",
      "      B-DATETIME-DATE       0.60      0.57      0.58       352\n",
      " B-DATETIME-DATERANGE       0.36      0.22      0.27        82\n",
      "  B-DATETIME-DURATION       0.54      0.73      0.62       301\n",
      "       B-DATETIME-SET       0.25      0.07      0.11        14\n",
      "      B-DATETIME-TIME       0.57      0.65      0.61        54\n",
      " B-DATETIME-TIMERANGE       0.64      0.53      0.58        87\n",
      "              B-EMAIL       0.36      0.50      0.42         8\n",
      "              B-EVENT       0.52      0.29      0.37       110\n",
      "          B-EVENT-CUL       0.64      0.55      0.59        38\n",
      "     B-EVENT-GAMESHOW       0.80      0.35      0.49        68\n",
      "      B-EVENT-NATURAL       0.65      0.65      0.65        26\n",
      "        B-EVENT-SPORT       0.83      0.73      0.78       145\n",
      "                 B-IP       1.00      0.44      0.62         9\n",
      "           B-LOCATION       0.58      0.34      0.43      1292\n",
      "       B-LOCATION-GEO       0.59      0.59      0.59        79\n",
      "       B-LOCATION-GPE       0.59      0.67      0.63      1614\n",
      "   B-LOCATION-GPE HCM       0.00      0.00      0.00         1\n",
      "     B-LOCATION-STRUC       0.67      0.45      0.54       110\n",
      "      B-MISCELLANEOUS       0.47      0.36      0.41       130\n",
      "       B-ORGANIZATION       0.80      0.65      0.72      1920\n",
      "   B-ORGANIZATION-MED       0.78      0.67      0.72        64\n",
      "B-ORGANIZATION-SPORTS       0.67      0.58      0.62       378\n",
      " B-ORGANIZATION-STOCK       1.00      0.23      0.38        13\n",
      "             B-PERSON       0.84      0.81      0.83      2945\n",
      "         B-PERSONTYPE       0.71      0.48      0.57      1025\n",
      "        B-PHONENUMBER       0.64      0.38      0.47        37\n",
      "            B-PRODUCT       0.66      0.29      0.40       560\n",
      "      B-PRODUCT-AWARD       0.75      0.43      0.55        21\n",
      "        B-PRODUCT-COM       0.62      0.50      0.55       255\n",
      "      B-PRODUCT-LEGAL       0.64      0.54      0.59        54\n",
      "           B-QUANTITY       0.53      0.24      0.33       681\n",
      "       B-QUANTITY-AGE       0.66      0.57      0.61       120\n",
      "       B-QUANTITY-CUR       0.57      0.71      0.64       254\n",
      "       B-QUANTITY-DIM       0.51      0.32      0.39       134\n",
      "       B-QUANTITY-NUM       0.45      0.50      0.48      1086\n",
      "       B-QUANTITY-ORD       0.39      0.24      0.29       207\n",
      "       B-QUANTITY-PER       0.76      0.91      0.83       227\n",
      "       B-QUANTITY-TEM       0.92      0.85      0.88        13\n",
      "              B-SKILL       0.00      0.00      0.00         7\n",
      "                B-URL       0.91      0.60      0.72        35\n",
      "                    I       0.00      0.00      0.00         3\n",
      "            I-ADDRESS       0.27      0.67      0.38        86\n",
      "           I-DATETIME       0.57      0.62      0.59       646\n",
      "      I-DATETIME-DATE       0.57      0.62      0.59       302\n",
      " I-DATETIME-DATERANGE       0.52      0.48      0.50       322\n",
      "  I-DATETIME-DURATION       0.67      0.78      0.72       553\n",
      "       I-DATETIME-SET       0.20      0.20      0.20        65\n",
      "      I-DATETIME-TIME       0.46      0.63      0.53       113\n",
      " I-DATETIME-TIMERANGE       0.67      0.68      0.67       281\n",
      "              I-EMAIL       0.00      0.00      0.00        10\n",
      "              I-EVENT       0.47      0.32      0.38       407\n",
      "          I-EVENT-CUL       0.57      0.48      0.52        62\n",
      "     I-EVENT-GAMESHOW       0.74      0.34      0.46       157\n",
      "      I-EVENT-NATURAL       0.59      0.69      0.64        32\n",
      "        I-EVENT-SPORT       0.72      0.83      0.77       348\n",
      "                 I-IP       0.80      0.94      0.86        34\n",
      "           I-LOCATION       0.53      0.44      0.48       567\n",
      "       I-LOCATION-GEO       0.43      0.44      0.44        45\n",
      "       I-LOCATION-GPE       0.43      0.40      0.41       456\n",
      "     I-LOCATION-STRUC       0.62      0.38      0.47       193\n",
      "      I-MISCELLANEOUS       0.41      0.33      0.36       168\n",
      "       I-ORGANIZATION       0.66      0.69      0.67      2129\n",
      "   I-ORGANIZATION-MED       0.74      0.57      0.65       167\n",
      "I-ORGANIZATION-SPORTS       0.68      0.74      0.71       265\n",
      " I-ORGANIZATION-STOCK       0.25      0.11      0.15         9\n",
      "             I-PERSON       0.73      0.78      0.75       934\n",
      "         I-PERSONTYPE       0.54      0.44      0.48       780\n",
      "        I-PHONENUMBER       0.81      0.76      0.79        29\n",
      "            I-PRODUCT       0.42      0.27      0.33       747\n",
      "      I-PRODUCT-AWARD       0.82      0.39      0.53        79\n",
      "        I-PRODUCT-COM       0.59      0.52      0.55       234\n",
      "      I-PRODUCT-LEGAL       0.53      0.57      0.55       241\n",
      "           I-QUANTITY       0.58      0.40      0.47      1058\n",
      "       I-QUANTITY-AGE       0.87      0.90      0.89       267\n",
      "       I-QUANTITY-CUR       0.76      0.91      0.83       621\n",
      "       I-QUANTITY-DIM       0.68      0.74      0.71       206\n",
      "       I-QUANTITY-NUM       0.27      0.17      0.21        78\n",
      "       I-QUANTITY-ORD       0.35      0.35      0.35       106\n",
      "       I-QUANTITY-PER       0.78      0.91      0.84       273\n",
      "       I-QUANTITY-TEM       0.79      0.90      0.84        30\n",
      "              I-SKILL       0.00      0.00      0.00        25\n",
      "                I-URL       0.89      0.98      0.93        41\n",
      "                  NAN       0.16      0.16      0.16       461\n",
      "                    O       0.96      0.98      0.97    163086\n",
      "\n",
      "             accuracy                           0.92    191891\n",
      "            macro avg       0.57      0.50      0.52    191891\n",
      "         weighted avg       0.91      0.92      0.91    191891\n",
      "\n"
     ]
    }
   ],
   "source": [
    "# Dự đoán trên tập kiểm tra\n",
    "y_pred = crf.predict(X_test)\n",
    "\n",
    "# Chuyển đổi y_test và y_pred thành một dạng phù hợp\n",
    "y_test_flat = [item for sublist in y_test for item in sublist]\n",
    "y_pred_flat = [item for sublist in y_pred for item in sublist]\n",
    "\n",
    "# In báo cáo phân loại\n",
    "print(classification_report(y_test_flat, y_pred_flat))"
   ]
  },
  {
   "cell_type": "code",
   "execution_count": 15,
   "id": "ca6c9046",
   "metadata": {
    "execution": {
     "iopub.execute_input": "2024-10-30T18:15:19.292025Z",
     "iopub.status.busy": "2024-10-30T18:15:19.291599Z",
     "iopub.status.idle": "2024-10-30T18:15:19.303006Z",
     "shell.execute_reply": "2024-10-30T18:15:19.301940Z"
    },
    "papermill": {
     "duration": 0.022702,
     "end_time": "2024-10-30T18:15:19.305133",
     "exception": false,
     "start_time": "2024-10-30T18:15:19.282431",
     "status": "completed"
    },
    "tags": []
   },
   "outputs": [
    {
     "name": "stdout",
     "output_type": "stream",
     "text": [
      "Từ: Minh, Nhãn dự đoán: B-PERSON\n",
      "Từ: năm, Nhãn dự đoán: O\n",
      "Từ: nay, Nhãn dự đoán: O\n",
      "Từ: 21, Nhãn dự đoán: B-QUANTITY-AGE\n",
      "Từ: tuổi, Nhãn dự đoán: I-QUANTITY-AGE\n",
      "Từ: xài, Nhãn dự đoán: O\n",
      "Từ: điện thoại, Nhãn dự đoán: O\n",
      "Từ: Apple, Nhãn dự đoán: B-ORGANIZATION\n"
     ]
    }
   ],
   "source": [
    "new_sentence = [\"Minh\",\"năm\",\"nay\",\"21\",\"tuổi\",\"xài\",\"điện thoại\",\"Apple\"]\n",
    "\n",
    "\n",
    "new_sentence_features = []\n",
    "for word in new_sentence:\n",
    "    word_features = {'word': word}\n",
    "    \n",
    "    word_vector = loaded_model.wv[word] \n",
    "    for i, value in enumerate(word_vector):\n",
    "        word_features[f'vector_{i}'] = value\n",
    "    \n",
    "    new_sentence_features.append(word_features)\n",
    "\n",
    "# Dự đoán nhãn cho câu mới bằng mô hình CRF\n",
    "y_new_pred = crf.predict([new_sentence_features])\n",
    "\n",
    "# In kết quả dự đoán nhãn\n",
    "for word, label in zip(new_sentence, y_new_pred[0]):\n",
    "    print(f\"Từ: {word}, Nhãn dự đoán: {label}\")\n"
   ]
  },
  {
   "cell_type": "markdown",
   "id": "ca9def86",
   "metadata": {
    "papermill": {
     "duration": 0.007477,
     "end_time": "2024-10-30T18:15:19.320735",
     "exception": false,
     "start_time": "2024-10-30T18:15:19.313258",
     "status": "completed"
    },
    "tags": []
   },
   "source": [
    "# `Test`"
   ]
  },
  {
   "cell_type": "code",
   "execution_count": 16,
   "id": "a5850dfb",
   "metadata": {
    "execution": {
     "iopub.execute_input": "2024-10-30T18:15:19.338963Z",
     "iopub.status.busy": "2024-10-30T18:15:19.338495Z",
     "iopub.status.idle": "2024-10-30T18:15:20.983741Z",
     "shell.execute_reply": "2024-10-30T18:15:20.982593Z"
    },
    "papermill": {
     "duration": 1.657527,
     "end_time": "2024-10-30T18:15:20.986403",
     "exception": false,
     "start_time": "2024-10-30T18:15:19.328876",
     "status": "completed"
    },
    "tags": []
   },
   "outputs": [],
   "source": [
    "import pickle\n",
    "import joblib\n",
    "from joblib import dump, load\n",
    "\n",
    "# Load FastText model\n",
    "try:\n",
    "    with open('/kaggle/working/fasttext_model_f.pkl', 'rb') as f:\n",
    "        model_fasttext = pickle.load(f)\n",
    "except Exception as e:\n",
    "    print(f\"Error loading FastText model: {e}\")\n",
    "    \n",
    "# Load CRF model    \n",
    "try:\n",
    "    with open('/kaggle/working/best_model_crf.pkl', 'rb') as c:\n",
    "        model_crf = joblib.load(c)\n",
    "except Exception as e:\n",
    "    print(f\"Error loading CRF model: {e}\")"
   ]
  },
  {
   "cell_type": "code",
   "execution_count": 17,
   "id": "f1225e2d",
   "metadata": {
    "execution": {
     "iopub.execute_input": "2024-10-30T18:15:21.004678Z",
     "iopub.status.busy": "2024-10-30T18:15:21.004222Z",
     "iopub.status.idle": "2024-10-30T18:15:21.781304Z",
     "shell.execute_reply": "2024-10-30T18:15:21.779805Z"
    },
    "papermill": {
     "duration": 0.78877,
     "end_time": "2024-10-30T18:15:21.783954",
     "exception": false,
     "start_time": "2024-10-30T18:15:20.995184",
     "status": "completed"
    },
    "tags": []
   },
   "outputs": [
    {
     "name": "stdout",
     "output_type": "stream",
     "text": [
      "Từ: Minh, Nhãn dự đoán: B-PERSON\n",
      "Từ: năm, Nhãn dự đoán: O\n",
      "Từ: nay, Nhãn dự đoán: O\n",
      "Từ: 21, Nhãn dự đoán: B-QUANTITY-AGE\n",
      "Từ: tuổi, Nhãn dự đoán: I-QUANTITY-AGE\n",
      "Từ: đang, Nhãn dự đoán: O\n",
      "Từ: học, Nhãn dự đoán: O\n"
     ]
    }
   ],
   "source": [
    "from nltk.tokenize import word_tokenize \n",
    "\n",
    "new_sentence =\"Minh năm nay 21 tuổi đang học \"\n",
    "\n",
    "new_sentence = word_tokenize(new_sentence)\n",
    "\n",
    "new_sentence_features = []\n",
    "for word in new_sentence:\n",
    "    word_features = {'word': word}\n",
    "    \n",
    "    word_vector = model_fasttext.wv[word] \n",
    "    for i, value in enumerate(word_vector):\n",
    "        word_features[f'vector_{i}'] = value\n",
    "    \n",
    "    new_sentence_features.append(word_features)\n",
    "\n",
    "# Dự đoán nhãn cho câu mới bằng mô hình CRF\n",
    "y_new_pred = model_crf.predict([new_sentence_features])\n",
    "\n",
    "# In kết quả dự đoán nhãn\n",
    "for word, label in zip(new_sentence, y_new_pred[0]):\n",
    "    print(f\"Từ: {word}, Nhãn dự đoán: {label}\")\n"
   ]
  }
 ],
 "metadata": {
  "kaggle": {
   "accelerator": "none",
   "dataSources": [
    {
     "datasetId": 5909716,
     "sourceId": 9733642,
     "sourceType": "datasetVersion"
    }
   ],
   "dockerImageVersionId": 30786,
   "isGpuEnabled": false,
   "isInternetEnabled": true,
   "language": "python",
   "sourceType": "notebook"
  },
  "kernelspec": {
   "display_name": "Python 3",
   "language": "python",
   "name": "python3"
  },
  "language_info": {
   "codemirror_mode": {
    "name": "ipython",
    "version": 3
   },
   "file_extension": ".py",
   "mimetype": "text/x-python",
   "name": "python",
   "nbconvert_exporter": "python",
   "pygments_lexer": "ipython3",
   "version": "3.10.14"
  },
  "papermill": {
   "default_parameters": {},
   "duration": 34231.544928,
   "end_time": "2024-10-30T18:15:26.334019",
   "environment_variables": {},
   "exception": null,
   "input_path": "__notebook__.ipynb",
   "output_path": "__notebook__.ipynb",
   "parameters": {},
   "start_time": "2024-10-30T08:44:54.789091",
   "version": "2.6.0"
  }
 },
 "nbformat": 4,
 "nbformat_minor": 5
}
