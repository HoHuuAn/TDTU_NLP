{
 "cells": [
  {
   "cell_type": "markdown",
   "id": "479de531",
   "metadata": {
    "papermill": {
     "duration": 0.009878,
     "end_time": "2024-10-28T13:43:57.848620",
     "exception": false,
     "start_time": "2024-10-28T13:43:57.838742",
     "status": "completed"
    },
    "tags": []
   },
   "source": [
    "# Data Import and Analysis"
   ]
  },
  {
   "cell_type": "code",
   "execution_count": 1,
   "id": "f00e1dee",
   "metadata": {
    "execution": {
     "iopub.execute_input": "2024-10-28T13:43:57.869362Z",
     "iopub.status.busy": "2024-10-28T13:43:57.869008Z",
     "iopub.status.idle": "2024-10-28T13:44:35.091300Z",
     "shell.execute_reply": "2024-10-28T13:44:35.090516Z"
    },
    "papermill": {
     "duration": 37.234854,
     "end_time": "2024-10-28T13:44:35.093763",
     "exception": false,
     "start_time": "2024-10-28T13:43:57.858909",
     "status": "completed"
    },
    "tags": []
   },
   "outputs": [],
   "source": [
    "import pandas as pd\n",
    "import numpy as np\n",
    "import pandas as pd\n",
    "import tensorflow as tf\n",
    "import seaborn as sns\n",
    "%matplotlib inline\n",
    "import matplotlib.pyplot as plt\n",
    "import seaborn as sns"
   ]
  },
  {
   "cell_type": "code",
   "execution_count": 2,
   "id": "2c22fb42",
   "metadata": {
    "execution": {
     "iopub.execute_input": "2024-10-28T13:44:35.113753Z",
     "iopub.status.busy": "2024-10-28T13:44:35.113122Z",
     "iopub.status.idle": "2024-10-28T13:44:35.455164Z",
     "shell.execute_reply": "2024-10-28T13:44:35.454146Z"
    },
    "papermill": {
     "duration": 0.353994,
     "end_time": "2024-10-28T13:44:35.457194",
     "exception": false,
     "start_time": "2024-10-28T13:44:35.103200",
     "status": "completed"
    },
    "tags": []
   },
   "outputs": [
    {
     "name": "stdout",
     "output_type": "stream",
     "text": [
      "Using GPU: [PhysicalDevice(name='/physical_device:GPU:0', device_type='GPU')]\n"
     ]
    }
   ],
   "source": [
    "gpu_available = tf.config.list_physical_devices('GPU')\n",
    "if gpu_available:\n",
    "    print(f\"Using GPU: {gpu_available}\")\n",
    "else:\n",
    "    print(\"GPU not available, using CPU.\")"
   ]
  },
  {
   "cell_type": "code",
   "execution_count": 3,
   "id": "5bf81e35",
   "metadata": {
    "execution": {
     "iopub.execute_input": "2024-10-28T13:44:35.477566Z",
     "iopub.status.busy": "2024-10-28T13:44:35.476858Z",
     "iopub.status.idle": "2024-10-28T13:44:36.447744Z",
     "shell.execute_reply": "2024-10-28T13:44:36.446914Z"
    },
    "id": "Py871tX5oWA-",
    "papermill": {
     "duration": 0.983379,
     "end_time": "2024-10-28T13:44:36.450111",
     "exception": false,
     "start_time": "2024-10-28T13:44:35.466732",
     "status": "completed"
    },
    "tags": []
   },
   "outputs": [],
   "source": [
    "df = pd.read_csv('/kaggle/input/vner-vlsp-2021/processed_data.csv')"
   ]
  },
  {
   "cell_type": "code",
   "execution_count": 5,
   "id": "f5d825bf",
   "metadata": {
    "execution": {
     "iopub.execute_input": "2024-10-28T13:44:36.495302Z",
     "iopub.status.busy": "2024-10-28T13:44:36.495012Z",
     "iopub.status.idle": "2024-10-28T13:44:36.516961Z",
     "shell.execute_reply": "2024-10-28T13:44:36.516070Z"
    },
    "papermill": {
     "duration": 0.033755,
     "end_time": "2024-10-28T13:44:36.518791",
     "exception": false,
     "start_time": "2024-10-28T13:44:36.485036",
     "status": "completed"
    },
    "tags": []
   },
   "outputs": [
    {
     "data": {
      "text/html": [
       "<div>\n",
       "<style scoped>\n",
       "    .dataframe tbody tr th:only-of-type {\n",
       "        vertical-align: middle;\n",
       "    }\n",
       "\n",
       "    .dataframe tbody tr th {\n",
       "        vertical-align: top;\n",
       "    }\n",
       "\n",
       "    .dataframe thead th {\n",
       "        text-align: right;\n",
       "    }\n",
       "</style>\n",
       "<table border=\"1\" class=\"dataframe\">\n",
       "  <thead>\n",
       "    <tr style=\"text-align: right;\">\n",
       "      <th></th>\n",
       "      <th>Word</th>\n",
       "      <th>Tag</th>\n",
       "      <th>Sentence #</th>\n",
       "    </tr>\n",
       "  </thead>\n",
       "  <tbody>\n",
       "    <tr>\n",
       "      <th>0</th>\n",
       "      <td>Mong ước</td>\n",
       "      <td>O</td>\n",
       "      <td>Sentence: 1</td>\n",
       "    </tr>\n",
       "    <tr>\n",
       "      <th>1</th>\n",
       "      <td>được</td>\n",
       "      <td>O</td>\n",
       "      <td>Sentence: 1</td>\n",
       "    </tr>\n",
       "    <tr>\n",
       "      <th>2</th>\n",
       "      <td>đến</td>\n",
       "      <td>O</td>\n",
       "      <td>Sentence: 1</td>\n",
       "    </tr>\n",
       "    <tr>\n",
       "      <th>3</th>\n",
       "      <td>trường</td>\n",
       "      <td>O</td>\n",
       "      <td>Sentence: 1</td>\n",
       "    </tr>\n",
       "    <tr>\n",
       "      <th>4</th>\n",
       "      <td>của</td>\n",
       "      <td>O</td>\n",
       "      <td>Sentence: 1</td>\n",
       "    </tr>\n",
       "    <tr>\n",
       "      <th>...</th>\n",
       "      <td>...</td>\n",
       "      <td>...</td>\n",
       "      <td>...</td>\n",
       "    </tr>\n",
       "    <tr>\n",
       "      <th>981550</th>\n",
       "      <td>dưới</td>\n",
       "      <td>O</td>\n",
       "      <td>Sentence: 26649</td>\n",
       "    </tr>\n",
       "    <tr>\n",
       "      <th>981551</th>\n",
       "      <td>16</td>\n",
       "      <td>B-QUANTITY-AGE</td>\n",
       "      <td>Sentence: 26649</td>\n",
       "    </tr>\n",
       "    <tr>\n",
       "      <th>981552</th>\n",
       "      <td>-</td>\n",
       "      <td>I-QUANTITY-AGE</td>\n",
       "      <td>Sentence: 26650</td>\n",
       "    </tr>\n",
       "    <tr>\n",
       "      <th>981553</th>\n",
       "      <td>QUANTITY-NUM</td>\n",
       "      <td>I-QUANTITY-AGE</td>\n",
       "      <td>Sentence: 26650</td>\n",
       "    </tr>\n",
       "    <tr>\n",
       "      <th>981554</th>\n",
       "      <td>tuổi</td>\n",
       "      <td>I-QUANTITY-AGE</td>\n",
       "      <td>Sentence: 26650</td>\n",
       "    </tr>\n",
       "  </tbody>\n",
       "</table>\n",
       "<p>981555 rows × 3 columns</p>\n",
       "</div>"
      ],
      "text/plain": [
       "                Word             Tag       Sentence #\n",
       "0           Mong ước               O      Sentence: 1\n",
       "1               được               O      Sentence: 1\n",
       "2                đến               O      Sentence: 1\n",
       "3             trường               O      Sentence: 1\n",
       "4                của               O      Sentence: 1\n",
       "...              ...             ...              ...\n",
       "981550          dưới               O  Sentence: 26649\n",
       "981551            16  B-QUANTITY-AGE  Sentence: 26649\n",
       "981552             -  I-QUANTITY-AGE  Sentence: 26650\n",
       "981553  QUANTITY-NUM  I-QUANTITY-AGE  Sentence: 26650\n",
       "981554          tuổi  I-QUANTITY-AGE  Sentence: 26650\n",
       "\n",
       "[981555 rows x 3 columns]"
      ]
     },
     "execution_count": 5,
     "metadata": {},
     "output_type": "execute_result"
    }
   ],
   "source": [
    "df"
   ]
  },
  {
   "cell_type": "code",
   "execution_count": 6,
   "id": "2a6156cd",
   "metadata": {
    "execution": {
     "iopub.execute_input": "2024-10-28T13:44:36.538704Z",
     "iopub.status.busy": "2024-10-28T13:44:36.538372Z",
     "iopub.status.idle": "2024-10-28T13:44:38.151375Z",
     "shell.execute_reply": "2024-10-28T13:44:38.150305Z"
    },
    "id": "g4jL8gX-b0IW",
    "outputId": "e5bb1120-3cac-4580-80ad-57b3bd18b6b2",
    "papermill": {
     "duration": 1.626191,
     "end_time": "2024-10-28T13:44:38.154405",
     "exception": false,
     "start_time": "2024-10-28T13:44:36.528214",
     "status": "completed"
    },
    "tags": []
   },
   "outputs": [
    {
     "name": "stderr",
     "output_type": "stream",
     "text": [
      "/opt/conda/lib/python3.10/site-packages/seaborn/_oldcore.py:1119: FutureWarning: use_inf_as_na option is deprecated and will be removed in a future version. Convert inf values to NaN before operating instead.\n",
      "  with pd.option_context('mode.use_inf_as_na', True):\n"
     ]
    },
    {
     "data": {
      "image/png": "[encoded data removed]",
      "text/plain": [
       "<Figure size 640x480 with 1 Axes>"
      ]
     },
     "metadata": {},
     "output_type": "display_data"
    }
   ],
   "source": [
    "sns.histplot(df[df['Tag']!='O']['Tag'])\n",
    "plt.xticks(rotation=45, ha='right')\n",
    "plt.show()"
   ]
  },
  {
   "cell_type": "code",
   "execution_count": 7,
   "id": "62b96a21",
   "metadata": {
    "execution": {
     "iopub.execute_input": "2024-10-28T13:44:38.202063Z",
     "iopub.status.busy": "2024-10-28T13:44:38.201692Z",
     "iopub.status.idle": "2024-10-28T13:44:38.486419Z",
     "shell.execute_reply": "2024-10-28T13:44:38.485197Z"
    },
    "id": "iRz1A4RR6sb8",
    "outputId": "cb92d8ac-1b27-4cc0-8acb-c6630a299e58",
    "papermill": {
     "duration": 0.299653,
     "end_time": "2024-10-28T13:44:38.488559",
     "exception": false,
     "start_time": "2024-10-28T13:44:38.188906",
     "status": "completed"
    },
    "tags": []
   },
   "outputs": [
    {
     "name": "stdout",
     "output_type": "stream",
     "text": [
      "<class 'pandas.core.frame.DataFrame'>\n",
      "RangeIndex: 981555 entries, 0 to 981554\n",
      "Data columns (total 3 columns):\n",
      " #   Column      Non-Null Count   Dtype \n",
      "---  ------      --------------   ----- \n",
      " 0   Word        981555 non-null  object\n",
      " 1   Tag         981555 non-null  object\n",
      " 2   Sentence #  981555 non-null  object\n",
      "dtypes: object(3)\n",
      "memory usage: 22.5+ MB\n"
     ]
    }
   ],
   "source": [
    "df.info()"
   ]
  },
  {
   "cell_type": "code",
   "execution_count": 8,
   "id": "8e954873",
   "metadata": {
    "execution": {
     "iopub.execute_input": "2024-10-28T13:44:38.513631Z",
     "iopub.status.busy": "2024-10-28T13:44:38.513277Z",
     "iopub.status.idle": "2024-10-28T13:44:38.724970Z",
     "shell.execute_reply": "2024-10-28T13:44:38.723916Z"
    },
    "id": "EZLsQ3KBD40m",
    "outputId": "5db09cc1-c135-4dfb-9f2f-b40bf7991422",
    "papermill": {
     "duration": 0.226954,
     "end_time": "2024-10-28T13:44:38.727119",
     "exception": false,
     "start_time": "2024-10-28T13:44:38.500165",
     "status": "completed"
    },
    "tags": []
   },
   "outputs": [
    {
     "name": "stdout",
     "output_type": "stream",
     "text": [
      "Number of sentences are 26394\n",
      "Number of words are 42919\n"
     ]
    }
   ],
   "source": [
    "print('Number of sentences are '+str(df['Sentence #'].nunique()))\n",
    "print('Number of words are '+str(df['Word'].nunique()))"
   ]
  },
  {
   "cell_type": "markdown",
   "id": "74b7141a",
   "metadata": {
    "id": "4LgnUIlUuate",
    "papermill": {
     "duration": 0.011602,
     "end_time": "2024-10-28T13:44:38.750775",
     "exception": false,
     "start_time": "2024-10-28T13:44:38.739173",
     "status": "completed"
    },
    "tags": []
   },
   "source": [
    "# Model Building LSTM"
   ]
  },
  {
   "cell_type": "markdown",
   "id": "245c2f29",
   "metadata": {
    "id": "t_ymBojTFNQF",
    "papermill": {
     "duration": 0.01188,
     "end_time": "2024-10-28T13:44:38.774098",
     "exception": false,
     "start_time": "2024-10-28T13:44:38.762218",
     "status": "completed"
    },
    "tags": []
   },
   "source": [
    "## Data Preprocessing"
   ]
  },
  {
   "cell_type": "code",
   "execution_count": 9,
   "id": "db839695",
   "metadata": {
    "execution": {
     "iopub.execute_input": "2024-10-28T13:44:38.800400Z",
     "iopub.status.busy": "2024-10-28T13:44:38.800048Z",
     "iopub.status.idle": "2024-10-28T13:44:38.879287Z",
     "shell.execute_reply": "2024-10-28T13:44:38.878497Z"
    },
    "id": "9nQhJRHVFLCu",
    "papermill": {
     "duration": 0.094957,
     "end_time": "2024-10-28T13:44:38.881559",
     "exception": false,
     "start_time": "2024-10-28T13:44:38.786602",
     "status": "completed"
    },
    "tags": []
   },
   "outputs": [],
   "source": [
    "import tensorflow as tf\n",
    "import gensim.downloader as api\n",
    "from tensorflow.keras import Model, Input\n",
    "from tensorflow.keras.layers import LSTM, Embedding, Dense\n",
    "from tensorflow.keras.layers import TimeDistributed, SpatialDropout1D, Bidirectional\n",
    "tf.random.set_seed(123)"
   ]
  },
  {
   "cell_type": "code",
   "execution_count": 10,
   "id": "cee29209",
   "metadata": {
    "execution": {
     "iopub.execute_input": "2024-10-28T13:44:38.907408Z",
     "iopub.status.busy": "2024-10-28T13:44:38.906649Z",
     "iopub.status.idle": "2024-10-28T13:44:39.236816Z",
     "shell.execute_reply": "2024-10-28T13:44:39.236019Z"
    },
    "papermill": {
     "duration": 0.345465,
     "end_time": "2024-10-28T13:44:39.239149",
     "exception": false,
     "start_time": "2024-10-28T13:44:38.893684",
     "status": "completed"
    },
    "tags": []
   },
   "outputs": [],
   "source": [
    "df['Word']=df['Word'].str.lower()"
   ]
  },
  {
   "cell_type": "code",
   "execution_count": 11,
   "id": "012dc736",
   "metadata": {
    "execution": {
     "iopub.execute_input": "2024-10-28T13:44:39.264154Z",
     "iopub.status.busy": "2024-10-28T13:44:39.263555Z",
     "iopub.status.idle": "2024-10-28T13:44:42.073106Z",
     "shell.execute_reply": "2024-10-28T13:44:42.072052Z"
    },
    "id": "Z_8d_uxJgaor",
    "papermill": {
     "duration": 2.824613,
     "end_time": "2024-10-28T13:44:42.075544",
     "exception": false,
     "start_time": "2024-10-28T13:44:39.250931",
     "status": "completed"
    },
    "tags": []
   },
   "outputs": [],
   "source": [
    "sentence_all = [(list(zip(group['Word'], group['Tag']))) for _, group in df.groupby('Sentence #')]"
   ]
  },
  {
   "cell_type": "code",
   "execution_count": 12,
   "id": "8255d342",
   "metadata": {
    "execution": {
     "iopub.execute_input": "2024-10-28T13:44:42.100230Z",
     "iopub.status.busy": "2024-10-28T13:44:42.099701Z",
     "iopub.status.idle": "2024-10-28T13:44:42.106278Z",
     "shell.execute_reply": "2024-10-28T13:44:42.105402Z"
    },
    "id": "3qCnmRpcgs0n",
    "outputId": "910b3a27-4a61-4074-9c9f-20cc335ab8cc",
    "papermill": {
     "duration": 0.02096,
     "end_time": "2024-10-28T13:44:42.108296",
     "exception": false,
     "start_time": "2024-10-28T13:44:42.087336",
     "status": "completed"
    },
    "tags": []
   },
   "outputs": [
    {
     "data": {
      "text/plain": [
       "[('mong ước', 'O'),\n",
       " ('được', 'O'),\n",
       " ('đến', 'O'),\n",
       " ('trường', 'O'),\n",
       " ('của', 'O'),\n",
       " ('bé', 'O'),\n",
       " ('gái', 'O'),\n",
       " ('7', 'B-QUANTITY-AGE'),\n",
       " ('tuổi', 'I-QUANTITY-AGE')]"
      ]
     },
     "execution_count": 12,
     "metadata": {},
     "output_type": "execute_result"
    }
   ],
   "source": [
    "sentence_all[0] #1st Sentence"
   ]
  },
  {
   "cell_type": "code",
   "execution_count": 13,
   "id": "47d0289c",
   "metadata": {
    "execution": {
     "iopub.execute_input": "2024-10-28T13:44:42.132628Z",
     "iopub.status.busy": "2024-10-28T13:44:42.132295Z",
     "iopub.status.idle": "2024-10-28T13:44:42.235066Z",
     "shell.execute_reply": "2024-10-28T13:44:42.233925Z"
    },
    "id": "hGPIo_sGpTwe",
    "papermill": {
     "duration": 0.117173,
     "end_time": "2024-10-28T13:44:42.237086",
     "exception": false,
     "start_time": "2024-10-28T13:44:42.119913",
     "status": "completed"
    },
    "tags": []
   },
   "outputs": [],
   "source": [
    "if tf.test.is_gpu_available():\n",
    "    BATCH_SIZE = 512 \n",
    "    EPOCHS = 5  \n",
    "    MAX_LEN = 75\n",
    "    EMBEDDING = 40  \n",
    "# Hyperparams for CPU training\n",
    "else:\n",
    "    BATCH_SIZE = 32\n",
    "    EPOCHS = 5\n",
    "    MAX_LEN = 75\n",
    "    EMBEDDING = 20"
   ]
  },
  {
   "cell_type": "code",
   "execution_count": 14,
   "id": "76658265",
   "metadata": {
    "execution": {
     "iopub.execute_input": "2024-10-28T13:44:42.261947Z",
     "iopub.status.busy": "2024-10-28T13:44:42.261639Z",
     "iopub.status.idle": "2024-10-28T13:44:55.993553Z",
     "shell.execute_reply": "2024-10-28T13:44:55.992352Z"
    },
    "id": "8et9ZreO3Jwt",
    "papermill": {
     "duration": 13.747048,
     "end_time": "2024-10-28T13:44:55.996067",
     "exception": false,
     "start_time": "2024-10-28T13:44:42.249019",
     "status": "completed"
    },
    "tags": []
   },
   "outputs": [
    {
     "name": "stderr",
     "output_type": "stream",
     "text": [
      "/opt/conda/lib/python3.10/pty.py:89: RuntimeWarning: os.fork() was called. os.fork() is incompatible with multithreaded code, and JAX is multithreaded, so this will likely lead to a deadlock.\n",
      "  pid, fd = os.forkpty()\n"
     ]
    },
    {
     "name": "stdout",
     "output_type": "stream",
     "text": [
      "Collecting keras_preprocessing\r\n",
      "  Downloading Keras_Preprocessing-1.1.2-py2.py3-none-any.whl.metadata (1.9 kB)\r\n",
      "Requirement already satisfied: numpy>=1.9.1 in /opt/conda/lib/python3.10/site-packages (from keras_preprocessing) (1.26.4)\r\n",
      "Requirement already satisfied: six>=1.9.0 in /opt/conda/lib/python3.10/site-packages (from keras_preprocessing) (1.16.0)\r\n",
      "Downloading Keras_Preprocessing-1.1.2-py2.py3-none-any.whl (42 kB)\r\n",
      "\u001b[2K   \u001b[90m━━━━━━━━━━━━━━━━━━━━━━━━━━━━━━━━━━━━━━━━\u001b[0m \u001b[32m42.6/42.6 kB\u001b[0m \u001b[31m2.7 MB/s\u001b[0m eta \u001b[36m0:00:00\u001b[0m\r\n",
      "\u001b[?25hInstalling collected packages: keras_preprocessing\r\n",
      "Successfully installed keras_preprocessing-1.1.2\r\n"
     ]
    }
   ],
   "source": [
    "! pip install keras_preprocessing"
   ]
  },
  {
   "cell_type": "code",
   "execution_count": 15,
   "id": "4b5ec77f",
   "metadata": {
    "execution": {
     "iopub.execute_input": "2024-10-28T13:44:56.022021Z",
     "iopub.status.busy": "2024-10-28T13:44:56.021664Z",
     "iopub.status.idle": "2024-10-28T13:44:56.029138Z",
     "shell.execute_reply": "2024-10-28T13:44:56.028416Z"
    },
    "papermill": {
     "duration": 0.022744,
     "end_time": "2024-10-28T13:44:56.031088",
     "exception": false,
     "start_time": "2024-10-28T13:44:56.008344",
     "status": "completed"
    },
    "tags": []
   },
   "outputs": [],
   "source": [
    "import numpy as np\n",
    "from gensim.models import FastText\n",
    "from sklearn.model_selection import train_test_split\n",
    "import tensorflow as tf\n",
    "from tensorflow.keras.preprocessing.sequence import pad_sequences\n",
    "from keras.utils import to_categorical "
   ]
  },
  {
   "cell_type": "code",
   "execution_count": 16,
   "id": "1784ee9a",
   "metadata": {
    "execution": {
     "iopub.execute_input": "2024-10-28T13:44:56.056357Z",
     "iopub.status.busy": "2024-10-28T13:44:56.056061Z",
     "iopub.status.idle": "2024-10-28T13:44:56.061738Z",
     "shell.execute_reply": "2024-10-28T13:44:56.060848Z"
    },
    "papermill": {
     "duration": 0.020723,
     "end_time": "2024-10-28T13:44:56.063802",
     "exception": false,
     "start_time": "2024-10-28T13:44:56.043079",
     "status": "completed"
    },
    "tags": []
   },
   "outputs": [],
   "source": [
    "def create_fasttext_embeddings(sentences, embedding_dim=300):\n",
    "    sentences_for_fasttext = [[w[0] for w in sent] for sent in sentences]\n",
    "    \n",
    "    # Train FastText model\n",
    "    model = FastText(vector_size=embedding_dim,\n",
    "                    window=5,\n",
    "                    min_count=1,\n",
    "                    workers=4)\n",
    "    \n",
    "    model.build_vocab(sentences_for_fasttext)\n",
    "    model.train(sentences_for_fasttext,\n",
    "                total_examples=len(sentences_for_fasttext),\n",
    "                epochs=20)\n",
    "    \n",
    "    return model"
   ]
  },
  {
   "cell_type": "code",
   "execution_count": null,
   "id": "d7556605",
   "metadata": {},
   "outputs": [],
   "source": [
    "words = list(set(df['Word'].values))\n",
    "tags = list(set(df[\"Tag\"].values))"
   ]
  },
  {
   "cell_type": "code",
   "execution_count": 17,
   "id": "6c7a40bf",
   "metadata": {
    "execution": {
     "iopub.execute_input": "2024-10-28T13:44:56.088855Z",
     "iopub.status.busy": "2024-10-28T13:44:56.088550Z",
     "iopub.status.idle": "2024-10-28T13:46:40.580726Z",
     "shell.execute_reply": "2024-10-28T13:46:40.579849Z"
    },
    "papermill": {
     "duration": 104.507778,
     "end_time": "2024-10-28T13:46:40.583618",
     "exception": false,
     "start_time": "2024-10-28T13:44:56.075840",
     "status": "completed"
    },
    "tags": []
   },
   "outputs": [],
   "source": [
    "# Create word and tag indices\n",
    "word2idx = {w: i + 2 for i, w in enumerate(words)}\n",
    "word2idx[\"UNK\"] = 1\n",
    "word2idx[\"PAD\"] = 0\n",
    "\n",
    "idx2word = {i: w for w, i in word2idx.items()}\n",
    "\n",
    "tag2idx = {t: i+1 for i, t in enumerate(tags)}\n",
    "tag2idx[\"PAD\"] = 0\n",
    "\n",
    "idx2tag = {i: w for w, i in tag2idx.items()}\n",
    "\n",
    "# Train FastText model\n",
    "embedding_dim = 300\n",
    "fasttext_model = create_fasttext_embeddings(sentence_all, embedding_dim)\n",
    "\n",
    "embedding_matrix = np.zeros((len(word2idx), embedding_dim))\n",
    "for word, i in word2idx.items():\n",
    "    try:\n",
    "        embedding_matrix[i] = fasttext_model.wv[word]\n",
    "    except KeyError:\n",
    "        embedding_matrix[i] = np.random.uniform(-0.25, 0.25, embedding_dim)"
   ]
  },
  {
   "cell_type": "code",
   "execution_count": 18,
   "id": "d5a80993",
   "metadata": {
    "execution": {
     "iopub.execute_input": "2024-10-28T13:46:40.619334Z",
     "iopub.status.busy": "2024-10-28T13:46:40.618981Z",
     "iopub.status.idle": "2024-10-28T13:46:43.072637Z",
     "shell.execute_reply": "2024-10-28T13:46:43.071828Z"
    },
    "papermill": {
     "duration": 2.473226,
     "end_time": "2024-10-28T13:46:43.075029",
     "exception": false,
     "start_time": "2024-10-28T13:46:40.601803",
     "status": "completed"
    },
    "tags": []
   },
   "outputs": [],
   "source": [
    "# Prepare sequences\n",
    "MAX_LEN = 75\n",
    "X = [[word2idx[w[0]] for w in s] for s in sentence_all]\n",
    "X = pad_sequences(maxlen=MAX_LEN, sequences=X, padding=\"post\", value=word2idx[\"PAD\"])\n",
    "\n",
    "# Prepare labels\n",
    "y = [[tag2idx[w[1]] for w in s] for s in sentence_all]\n",
    "y = pad_sequences(maxlen=MAX_LEN, sequences=y, padding=\"post\", value=tag2idx[\"PAD\"])\n",
    "y = [to_categorical(i, num_classes=len(tags)+1) for i in y]"
   ]
  },
  {
   "cell_type": "code",
   "execution_count": 20,
   "id": "da8df9d3",
   "metadata": {
    "execution": {
     "iopub.execute_input": "2024-10-28T13:46:43.132265Z",
     "iopub.status.busy": "2024-10-28T13:46:43.131554Z",
     "iopub.status.idle": "2024-10-28T13:46:43.169629Z",
     "shell.execute_reply": "2024-10-28T13:46:43.168757Z"
    },
    "papermill": {
     "duration": 0.052907,
     "end_time": "2024-10-28T13:46:43.171663",
     "exception": false,
     "start_time": "2024-10-28T13:46:43.118756",
     "status": "completed"
    },
    "tags": []
   },
   "outputs": [],
   "source": [
    "tags = list(set(df[\"Tag\"].values))\n",
    "num_tags = len(tags)"
   ]
  },
  {
   "cell_type": "code",
   "execution_count": 21,
   "id": "9707dbd0",
   "metadata": {
    "execution": {
     "iopub.execute_input": "2024-10-28T13:46:43.196550Z",
     "iopub.status.busy": "2024-10-28T13:46:43.196247Z",
     "iopub.status.idle": "2024-10-28T13:46:43.201826Z",
     "shell.execute_reply": "2024-10-28T13:46:43.200927Z"
    },
    "papermill": {
     "duration": 0.020105,
     "end_time": "2024-10-28T13:46:43.203620",
     "exception": false,
     "start_time": "2024-10-28T13:46:43.183515",
     "status": "completed"
    },
    "tags": []
   },
   "outputs": [
    {
     "data": {
      "text/plain": [
       "90"
      ]
     },
     "execution_count": 21,
     "metadata": {},
     "output_type": "execute_result"
    }
   ],
   "source": [
    "num_tags"
   ]
  },
  {
   "cell_type": "markdown",
   "id": "c5dce089",
   "metadata": {
    "id": "vMejp4LHon_R",
    "papermill": {
     "duration": 0.01174,
     "end_time": "2024-10-28T13:46:43.227225",
     "exception": false,
     "start_time": "2024-10-28T13:46:43.215485",
     "status": "completed"
    },
    "tags": []
   },
   "source": [
    "## Model Building"
   ]
  },
  {
   "cell_type": "code",
   "execution_count": null,
   "id": "a4f24a41",
   "metadata": {},
   "outputs": [],
   "source": [
    "import numpy as np\n",
    "import tensorflow as tf\n",
    "from tensorflow.keras import Model\n",
    "from tensorflow.keras.layers import Input, LSTM, Embedding, Dense, TimeDistributed, Bidirectional\n",
    "from sklearn.model_selection import train_test_split\n",
    "\n",
    "# Split data\n",
    "X_tr, X_te, y_tr, y_te = train_test_split(X, y, test_size=0.1)\n",
    "y_tr, y_te = np.array(y_tr), np.array(y_te)"
   ]
  },
  {
   "cell_type": "code",
   "execution_count": 23,
   "id": "46b88911",
   "metadata": {
    "execution": {
     "iopub.execute_input": "2024-10-28T13:46:43.750419Z",
     "iopub.status.busy": "2024-10-28T13:46:43.750106Z",
     "iopub.status.idle": "2024-10-28T13:51:42.931816Z",
     "shell.execute_reply": "2024-10-28T13:51:42.930942Z"
    },
    "papermill": {
     "duration": 299.196891,
     "end_time": "2024-10-28T13:51:42.933781",
     "exception": false,
     "start_time": "2024-10-28T13:46:43.736890",
     "status": "completed"
    },
    "tags": []
   },
   "outputs": [
    {
     "name": "stderr",
     "output_type": "stream",
     "text": [
      "/opt/conda/lib/python3.10/site-packages/keras/src/layers/core/embedding.py:90: UserWarning: Argument `input_length` is deprecated. Just remove it.\n",
      "  warnings.warn(\n"
     ]
    },
    {
     "name": "stdout",
     "output_type": "stream",
     "text": [
      "Epoch 1/100\n",
      "\u001b[1m742/743\u001b[0m \u001b[32m━━━━━━━━━━━━━━━━━━━\u001b[0m\u001b[37m━\u001b[0m \u001b[1m0s\u001b[0m 40ms/step - accuracy: 0.8910 - loss: 1.0670\n",
      "Epoch 1: val_loss improved from inf to 0.49513, saving model to ner_model.weights.h5\n",
      "\u001b[1m743/743\u001b[0m \u001b[32m━━━━━━━━━━━━━━━━━━━━\u001b[0m\u001b[37m\u001b[0m \u001b[1m48s\u001b[0m 45ms/step - accuracy: 0.8910 - loss: 1.0661 - val_accuracy: 0.9032 - val_loss: 0.4951\n",
      "Epoch 2/100\n",
      "\u001b[1m743/743\u001b[0m \u001b[32m━━━━━━━━━━━━━━━━━━━━\u001b[0m\u001b[37m\u001b[0m \u001b[1m0s\u001b[0m 40ms/step - accuracy: 0.9153 - loss: 0.4289\n",
      "Epoch 2: val_loss improved from 0.49513 to 0.37693, saving model to ner_model.weights.h5\n",
      "\u001b[1m743/743\u001b[0m \u001b[32m━━━━━━━━━━━━━━━━━━━━\u001b[0m\u001b[37m\u001b[0m \u001b[1m31s\u001b[0m 42ms/step - accuracy: 0.9153 - loss: 0.4288 - val_accuracy: 0.9134 - val_loss: 0.3769\n",
      "Epoch 3/100\n",
      "\u001b[1m743/743\u001b[0m \u001b[32m━━━━━━━━━━━━━━━━━━━━\u001b[0m\u001b[37m\u001b[0m \u001b[1m0s\u001b[0m 40ms/step - accuracy: 0.9259 - loss: 0.3140\n",
      "Epoch 3: val_loss improved from 0.37693 to 0.34229, saving model to ner_model.weights.h5\n",
      "\u001b[1m743/743\u001b[0m \u001b[32m━━━━━━━━━━━━━━━━━━━━\u001b[0m\u001b[37m\u001b[0m \u001b[1m31s\u001b[0m 42ms/step - accuracy: 0.9259 - loss: 0.3140 - val_accuracy: 0.9163 - val_loss: 0.2423\n",
      "Epoch 4/100\n",
      "\u001b[1m742/743\u001b[0m \u001b[32m━━━━━━━━━━━━━━━━━━━\u001b[0m\u001b[37m━\u001b[0m \u001b[1m0s\u001b[0m 40ms/step - accuracy: 0.9316 - loss: 0.2543\n",
      "Epoch 4: val_loss improved from 0.34229 to 0.33748, saving model to ner_model.weights.h5\n",
      "\u001b[1m743/743\u001b[0m \u001b[32m━━━━━━━━━━━━━━━━━━━━\u001b[0m\u001b[37m\u001b[0m \u001b[1m31s\u001b[0m 42ms/step - accuracy: 0.9316 - loss: 0.2543 - val_accuracy: 0.9179 - val_loss: 0.2375\n",
      "Epoch 5/100\n",
      "\u001b[1m742/743\u001b[0m \u001b[32m━━━━━━━━━━━━━━━━━━━\u001b[0m\u001b[37m━\u001b[0m \u001b[1m0s\u001b[0m 40ms/step - accuracy: 0.9364 - loss: 0.2124\n",
      "Epoch 5: val_loss did not improve from 0.33748\n",
      "\u001b[1m743/743\u001b[0m \u001b[32m━━━━━━━━━━━━━━━━━━━━\u001b[0m\u001b[37m\u001b[0m \u001b[1m31s\u001b[0m 41ms/step - accuracy: 0.9364 - loss: 0.2124 - val_accuracy: 0.9186 - val_loss: 0.1460\n",
      "Epoch 6/100\n",
      "\u001b[1m742/743\u001b[0m \u001b[32m━━━━━━━━━━━━━━━━━━━\u001b[0m\u001b[37m━\u001b[0m \u001b[1m0s\u001b[0m 40ms/step - accuracy: 0.9403 - loss: 0.1792\n",
      "Epoch 6: val_loss did not improve from 0.33748\n",
      "\u001b[1m743/743\u001b[0m \u001b[32m━━━━━━━━━━━━━━━━━━━━\u001b[0m\u001b[37m\u001b[0m \u001b[1m31s\u001b[0m 42ms/step - accuracy: 0.9403 - loss: 0.1792 - val_accuracy: 0.9198 - val_loss: 0.1409\n",
      "Epoch 7/100\n",
      "\u001b[1m743/743\u001b[0m \u001b[32m━━━━━━━━━━━━━━━━━━━━\u001b[0m\u001b[37m\u001b[0m \u001b[1m0s\u001b[0m 40ms/step - accuracy: 0.9436 - loss: 0.1486\n",
      "Epoch 7: val_loss did not improve from 0.33748\n",
      "\u001b[1m743/743\u001b[0m \u001b[32m━━━━━━━━━━━━━━━━━━━━\u001b[0m\u001b[37m\u001b[0m \u001b[1m31s\u001b[0m 42ms/step - accuracy: 0.9436 - loss: 0.1486 - val_accuracy: 0.9194 - val_loss: 0.0733\n",
      "Epoch 8/100\n",
      "\u001b[1m743/743\u001b[0m \u001b[32m━━━━━━━━━━━━━━━━━━━━\u001b[0m\u001b[37m\u001b[0m \u001b[1m0s\u001b[0m 40ms/step - accuracy: 0.9469 - loss: 0.1249\n",
      "Epoch 8: val_loss did not improve from 0.33748\n",
      "\u001b[1m743/743\u001b[0m \u001b[32m━━━━━━━━━━━━━━━━━━━━\u001b[0m\u001b[37m\u001b[0m \u001b[1m31s\u001b[0m 42ms/step - accuracy: 0.9469 - loss: 0.1249 - val_accuracy: 0.9198 - val_loss: 0.0861\n",
      "Epoch 9/100\n",
      "\u001b[1m743/743\u001b[0m \u001b[32m━━━━━━━━━━━━━━━━━━━━\u001b[0m\u001b[37m\u001b[0m \u001b[1m0s\u001b[0m 40ms/step - accuracy: 0.9489 - loss: 0.1095\n",
      "Epoch 9: val_loss did not improve from 0.33748\n",
      "\u001b[1m743/743\u001b[0m \u001b[32m━━━━━━━━━━━━━━━━━━━━\u001b[0m\u001b[37m\u001b[0m \u001b[1m31s\u001b[0m 42ms/step - accuracy: 0.9489 - loss: 0.1095 - val_accuracy: 0.9207 - val_loss: 0.0722\n",
      "Epoch 9: early stopping\n"
     ]
    }
   ],
   "source": [
    "# Define the model\n",
    "def build_model(max_len=75, input_dim=len(word2idx), embedding_dim=300, num_classes=91):\n",
    "    input_layer = Input(shape=(max_len,))\n",
    "    \n",
    "    embedding_layer = Embedding(\n",
    "        input_dim,\n",
    "        embedding_dim,\n",
    "        weights=[embedding_matrix],\n",
    "        input_length=max_len,\n",
    "        mask_zero=True,\n",
    "        trainable=True,\n",
    "        name='embedding_layer'\n",
    "    )(input_layer)\n",
    "    \n",
    "    lstm_1 = Bidirectional(LSTM(units=50, return_sequences=True))(embedding_layer)\n",
    "    lstm_2 = Bidirectional(LSTM(units=100, return_sequences=True))(lstm_1)\n",
    "    lstm_3 = Bidirectional(LSTM(units=50, return_sequences=True))(lstm_2)\n",
    "    \n",
    "    dense = TimeDistributed(Dense(25, activation=\"relu\"))(lstm_3)\n",
    "    \n",
    "    # Update the number of output units to match the number of classes\n",
    "    output = TimeDistributed(Dense(num_classes, activation='softmax'), name='output_layer')(dense)\n",
    "\n",
    "    model = Model(input_layer, output)\n",
    "    model.compile(\n",
    "        optimizer=tf.keras.optimizers.Adam(learning_rate=0.001),\n",
    "        loss='categorical_crossentropy',\n",
    "        metrics=['accuracy']\n",
    "    )\n",
    "    \n",
    "    return model\n",
    "\n",
    "# Create and train the model\n",
    "model = build_model()\n",
    "\n",
    "callbacks = [\n",
    "    tf.keras.callbacks.ModelCheckpoint(\n",
    "        filepath='ner_model.weights.h5',\n",
    "        monitor='val_loss',\n",
    "        save_weights_only=True,\n",
    "        save_best_only=True,\n",
    "        verbose=1\n",
    "    ),\n",
    "    tf.keras.callbacks.EarlyStopping(\n",
    "        monitor='val_loss',\n",
    "        verbose=1,\n",
    "        patience=5\n",
    "    )\n",
    "]\n",
    "\n",
    "# Train the model\n",
    "history = model.fit(\n",
    "    X_tr, y_tr,\n",
    "    validation_data=(X_te, y_te),\n",
    "    epochs=100,\n",
    "    batch_size=32,\n",
    "    callbacks=callbacks\n",
    ")"
   ]
  },
  {
   "cell_type": "markdown",
   "id": "c65b4c97",
   "metadata": {
    "papermill": {
     "duration": 0.279431,
     "end_time": "2024-10-28T13:51:43.494296",
     "exception": false,
     "start_time": "2024-10-28T13:51:43.214865",
     "status": "completed"
    },
    "tags": []
   },
   "source": [
    "## Evaluation"
   ]
  },
  {
   "cell_type": "code",
   "execution_count": 3,
   "id": "efdb83bd",
   "metadata": {},
   "outputs": [
    {
     "data": {
      "image/png": "[encoded data removed]",
      "text/plain": [
       "<Figure size 640x480 with 1 Axes>"
      ]
     },
     "metadata": {},
     "output_type": "display_data"
    }
   ],
   "source": [
    "import matplotlib.pyplot as pyplot\n",
    "\n",
    "pyplot.plot(history.history['loss'], label='train')\n",
    "pyplot.plot(history.history['val_loss'], label='test')\n",
    "pyplot.xlabel('Epochs')\n",
    "pyplot.ylabel('Loss')\n",
    "pyplot.title('Training and Validation Loss')\n",
    "pyplot.legend()\n",
    "pyplot.grid(True)\n",
    "pyplot.show()"
   ]
  },
  {
   "cell_type": "code",
   "execution_count": 25,
   "id": "1ce8d8d2",
   "metadata": {
    "execution": {
     "iopub.execute_input": "2024-10-28T13:51:44.917530Z",
     "iopub.status.busy": "2024-10-28T13:51:44.917113Z",
     "iopub.status.idle": "2024-10-28T13:51:50.254603Z",
     "shell.execute_reply": "2024-10-28T13:51:50.253714Z"
    },
    "id": "3iSIL3RuHOss",
    "outputId": "8edf20c5-662b-4b7f-ca97-1066d50c283e",
    "papermill": {
     "duration": 5.660149,
     "end_time": "2024-10-28T13:51:50.256972",
     "exception": false,
     "start_time": "2024-10-28T13:51:44.596823",
     "status": "completed"
    },
    "tags": []
   },
   "outputs": [
    {
     "name": "stdout",
     "output_type": "stream",
     "text": [
      "\u001b[1m83/83\u001b[0m \u001b[32m━━━━━━━━━━━━━━━━━━━━\u001b[0m\u001b[37m\u001b[0m \u001b[1m4s\u001b[0m 32ms/step\n"
     ]
    }
   ],
   "source": [
    "import seaborn as sns\n",
    "import matplotlib.pyplot as plt\n",
    "from sklearn.metrics import confusion_matrix\n",
    "import numpy as np\n",
    "\n",
    "# Make predictions on the test set\n",
    "predictions = model.predict(X_te)\n",
    "\n",
    "# Convert predictions to POS tags\n",
    "predicted_tags = np.argmax(predictions, axis=-1)\n",
    "predicted_tags = [[idx2tag[tag] for tag in sample] for sample in predicted_tags]\n",
    "\n",
    "# Flatten the predicted and true POS tag sequences\n",
    "flatten_predicted = [tag for sample in predicted_tags for tag in sample]\n",
    "flatten_true = [idx2tag[np.argmax(tag)] for sample in y_te for tag in sample]\n",
    "\n",
    "# Get unique tags from the true and predicted sequences\n",
    "unique_tags = list(set(flatten_true + flatten_predicted))"
   ]
  },
  {
   "cell_type": "code",
   "execution_count": 26,
   "id": "0f3b6412",
   "metadata": {
    "execution": {
     "iopub.execute_input": "2024-10-28T13:51:50.879985Z",
     "iopub.status.busy": "2024-10-28T13:51:50.879118Z",
     "iopub.status.idle": "2024-10-28T13:51:55.090066Z",
     "shell.execute_reply": "2024-10-28T13:51:55.089099Z"
    },
    "id": "kpNphW9qQDLs",
    "outputId": "60f8299d-3469-4fa7-f8dd-9231eaf05767",
    "papermill": {
     "duration": 4.535462,
     "end_time": "2024-10-28T13:51:55.092699",
     "exception": false,
     "start_time": "2024-10-28T13:51:50.557237",
     "status": "completed"
    },
    "tags": []
   },
   "outputs": [
    {
     "name": "stdout",
     "output_type": "stream",
     "text": [
      "Classification Report:\n",
      "                         precision    recall  f1-score   support\n",
      "\n",
      "        B-EVENT-SPORT       0.68      0.76      0.71        66\n",
      "           I-LOCATION       0.55      0.50      0.52       258\n",
      "          B-EVENT-CUL       0.37      0.70      0.48        10\n",
      "       B-ORGANIZATION       0.75      0.72      0.73       941\n",
      "       I-QUANTITY-NUM       0.15      0.62      0.24        13\n",
      "       I-DATETIME-SET       0.29      0.80      0.42         5\n",
      "       I-QUANTITY-ORD       0.49      0.54      0.51        41\n",
      "        B-PHONENUMBER       0.44      0.73      0.55        11\n",
      "       B-LOCATION-GEO       0.22      0.36      0.27        22\n",
      "       I-QUANTITY-DIM       0.61      0.88      0.72        90\n",
      "      B-DATETIME-DATE       0.60      0.58      0.59       174\n",
      "      I-PRODUCT-AWARD       0.37      0.88      0.52         8\n",
      "      B-MISCELLANEOUS       0.15      0.39      0.21        23\n",
      "       B-QUANTITY-DIM       0.15      0.54      0.23        24\n",
      "       I-QUANTITY-TEM       1.00      0.95      0.98        21\n",
      "      I-EVENT-NATURAL       0.36      0.67      0.47         6\n",
      "       B-QUANTITY-NUM       0.39      0.61      0.47       345\n",
      "                    B       0.00      0.00      0.00         0\n",
      "     B-LOCATION-STRUC       0.47      0.44      0.46        63\n",
      "  B-DATETIME-DURATION       0.62      0.60      0.61       147\n",
      "       I-QUANTITY-AGE       0.80      0.97      0.87        93\n",
      "       I-ORGANIZATION       0.64      0.77      0.70       916\n",
      "     B-EVENT-GAMESHOW       0.29      0.48      0.36        23\n",
      "              I-SKILL       0.00      0.00      0.00         0\n",
      " B-DATETIME-DATERANGE       0.40      0.63      0.49        19\n",
      "                B-URL       0.29      0.75      0.42        12\n",
      "                 I-IP       0.00      0.00      0.00         4\n",
      "      B-PRODUCT-AWARD       0.00      0.00      0.00         0\n",
      "                    O       0.99      0.40      0.57    186257\n",
      " I-DATETIME-DATERANGE       0.72      0.82      0.77       123\n",
      "   B-ORGANIZATION-MED       0.27      0.50      0.35        20\n",
      "       I-LOCATION-GPE       0.45      0.49      0.47       227\n",
      "     I-EVENT-GAMESHOW       0.32      0.40      0.35        60\n",
      "       B-QUANTITY-TEM       0.89      1.00      0.94         8\n",
      "           B-QUANTITY       0.43      0.36      0.39       356\n",
      "        I-EVENT-SPORT       0.67      0.77      0.71       154\n",
      "              B-SKILL       0.00      0.00      0.00         0\n",
      "       B-QUANTITY-PER       0.76      0.79      0.78       110\n",
      "        I-PHONENUMBER       0.80      1.00      0.89        16\n",
      "       B-QUANTITY-ORD       0.25      0.49      0.33        49\n",
      "      I-PRODUCT-LEGAL       0.58      0.36      0.44        94\n",
      "              B-EMAIL       0.75      0.60      0.67        10\n",
      "  I-DATETIME-DURATION       0.79      0.75      0.77       264\n",
      "         B-PERSONTYPE       0.48      0.70      0.57       302\n",
      "      B-PRODUCT-LEGAL       0.39      0.54      0.45        13\n",
      "                 B-IP       0.50      1.00      0.67         6\n",
      "       B-QUANTITY-AGE       0.66      0.81      0.72        57\n",
      " I-DATETIME-TIMERANGE       0.68      0.64      0.66       114\n",
      "       I-QUANTITY-PER       0.73      0.90      0.81        98\n",
      "        B-PRODUCT-COM       0.47      0.59      0.52        93\n",
      "            I-PRODUCT       0.33      0.57      0.42       220\n",
      "                  NAN       0.03      0.21      0.05        42\n",
      "              I-EVENT       0.37      0.67      0.48       131\n",
      "      I-DATETIME-TIME       0.52      0.62      0.56        81\n",
      " I-ORGANIZATION-STOCK       0.00      0.00      0.00         0\n",
      "       I-LOCATION-GEO       0.16      0.62      0.25         8\n",
      "      I-DATETIME-DATE       0.53      0.60      0.56       113\n",
      "           B-LOCATION       0.48      0.51      0.49       453\n",
      "              I-EMAIL       0.00      0.00      0.00         0\n",
      "                  PAD       0.00      0.00      0.00         0\n",
      "B-ORGANIZATION-SPORTS       0.59      0.64      0.61       170\n",
      "         I-PERSONTYPE       0.42      0.62      0.50       211\n",
      "           I-QUANTITY       0.47      0.48      0.47       443\n",
      "     I-LOCATION-STRUC       0.40      0.63      0.49        68\n",
      "            B-PRODUCT       0.40      0.44      0.42       222\n",
      "I-ORGANIZATION-SPORTS       0.71      0.71      0.71       113\n",
      "       B-QUANTITY-CUR       0.69      0.61      0.65       170\n",
      "             I-PERSON       0.71      0.81      0.76       381\n",
      "             B-PERSON       0.88      0.81      0.84      1504\n",
      "                I-URL       0.80      1.00      0.89        16\n",
      "           I-DATETIME       0.54      0.72      0.62       221\n",
      "                    I       0.00      0.00      0.00         0\n",
      "       B-LOCATION-GPE       0.73      0.66      0.70       941\n",
      "          I-EVENT-CUL       0.19      0.69      0.30        13\n",
      "   I-ORGANIZATION-MED       0.22      0.65      0.33        26\n",
      "      I-MISCELLANEOUS       0.12      0.36      0.17        25\n",
      "       I-QUANTITY-CUR       0.69      0.93      0.79       269\n",
      " B-DATETIME-TIMERANGE       0.45      0.71      0.56        21\n",
      "           B-DATETIME       0.48      0.69      0.56       200\n",
      "      B-DATETIME-TIME       0.54      0.80      0.64        35\n",
      "      B-EVENT-NATURAL       0.50      1.00      0.67         4\n",
      "       B-DATETIME-SET       0.00      0.00      0.00         0\n",
      "            B-ADDRESS       0.21      1.00      0.35         3\n",
      "        I-PRODUCT-COM       0.49      0.58      0.53        72\n",
      "              B-EVENT       0.25      0.59      0.35        29\n",
      " B-ORGANIZATION-STOCK       0.00      0.00      0.00         0\n",
      "            I-ADDRESS       0.37      0.90      0.52        29\n",
      "\n",
      "             accuracy                           0.94    198000\n",
      "            macro avg       0.88      0.82      0.84    198000\n",
      "         weighted avg       0.96      0.82      0.90    198000\n",
      "\n"
     ]
    }
   ],
   "source": [
    "from sklearn.metrics import classification_report\n",
    "print(\"Classification Report:\\n \", classification_report(flatten_predicted, flatten_true, labels=unique_tags, zero_division=0))"
   ]
  },
  {
   "cell_type": "code",
   "execution_count": 27,
   "id": "a3864054",
   "metadata": {
    "execution": {
     "iopub.execute_input": "2024-10-28T13:51:55.661570Z",
     "iopub.status.busy": "2024-10-28T13:51:55.660829Z",
     "iopub.status.idle": "2024-10-28T13:51:55.993653Z",
     "shell.execute_reply": "2024-10-28T13:51:55.992635Z"
    },
    "papermill": {
     "duration": 0.620916,
     "end_time": "2024-10-28T13:51:55.996076",
     "exception": false,
     "start_time": "2024-10-28T13:51:55.375160",
     "status": "completed"
    },
    "tags": []
   },
   "outputs": [],
   "source": [
    "model.save('/kaggle/working/model_fasttext_lstm.h5')"
   ]
  },
  {
   "cell_type": "markdown",
   "id": "2616f042",
   "metadata": {
    "papermill": {
     "duration": 0.280966,
     "end_time": "2024-10-28T13:51:56.556568",
     "exception": false,
     "start_time": "2024-10-28T13:51:56.275602",
     "status": "completed"
    },
    "tags": []
   },
   "source": [
    "## Conclusion"
   ]
  },
  {
   "cell_type": "code",
   "execution_count": 28,
   "id": "161e8e4a",
   "metadata": {
    "execution": {
     "iopub.execute_input": "2024-10-28T13:51:57.208536Z",
     "iopub.status.busy": "2024-10-28T13:51:57.207676Z",
     "iopub.status.idle": "2024-10-28T13:51:57.293452Z",
     "shell.execute_reply": "2024-10-28T13:51:57.292234Z"
    },
    "id": "60Ub_7JFesEF",
    "outputId": "36005c5f-1497-4746-d3f1-08048f04e664",
    "papermill": {
     "duration": 0.460321,
     "end_time": "2024-10-28T13:51:57.296436",
     "exception": false,
     "start_time": "2024-10-28T13:51:56.836115",
     "status": "completed"
    },
    "tags": []
   },
   "outputs": [
    {
     "name": "stdout",
     "output_type": "stream",
     "text": [
      "\u001b[1m1/1\u001b[0m \u001b[32m━━━━━━━━━━━━━━━━━━━━\u001b[0m\u001b[37m\u001b[0m \u001b[1m0s\u001b[0m 30ms/step\n",
      "Token: hôm        Predicted POS: B-DATETIME\n",
      "Token: nay        Predicted POS: I-DATETIME\n",
      "Token: tôi        Predicted POS: O\n",
      "Token: đi         Predicted POS: O\n",
      "Token: tới        Predicted POS: O\n",
      "Token: trường     Predicted POS: O\n",
      "Token: học        Predicted POS: O\n",
      "Token: dự         Predicted POS: O\n",
      "Token: lễ         Predicted POS: O\n",
      "Token: khai       Predicted POS: O\n",
      "Token: giảng      Predicted POS: O\n"
     ]
    }
   ],
   "source": [
    "import numpy as np\n",
    "\n",
    "def get_pos_tags(sentence):\n",
    "    tokens = sentence.lower().split()\n",
    "\n",
    "    word_indices = [word2idx.get(token, word2idx[\"UNK\"]) for token in tokens]\n",
    "\n",
    "    padded_sequence = pad_sequences([word_indices], maxlen=MAX_LEN, padding=\"post\", value=word2idx[\"PAD\"])\n",
    "\n",
    "    # Make predictions\n",
    "    predictions = model.predict(padded_sequence)[0]\n",
    "\n",
    "    # Convert predictions to POS tags\n",
    "    pos_tags = [idx2tag[np.argmax(pred)] for pred in predictions]\n",
    "\n",
    "    return list(zip(tokens, pos_tags))\n",
    "\n",
    "# Example usage\n",
    "input_sentence = \"Hôm nay tôi đi tới trường học dự lễ khai giảng\"\n",
    "output = get_pos_tags(input_sentence)\n",
    "\n",
    "# Print the output\n",
    "for token, pos_tag in output:\n",
    "    print(f\"Token: {token:<10} Predicted POS: {pos_tag}\")\n"
   ]
  }
 ],
 "metadata": {
  "kaggle": {
   "accelerator": "gpu",
   "dataSources": [
    {
     "datasetId": 5909716,
     "sourceId": 9733642,
     "sourceType": "datasetVersion"
    }
   ],
   "dockerImageVersionId": 30786,
   "isGpuEnabled": true,
   "isInternetEnabled": true,
   "language": "python",
   "sourceType": "notebook"
  },
  "kernelspec": {
   "display_name": "Python 3",
   "language": "python",
   "name": "python3"
  },
  "language_info": {
   "codemirror_mode": {
    "name": "ipython",
    "version": 3
   },
   "file_extension": ".py",
   "mimetype": "text/x-python",
   "name": "python",
   "nbconvert_exporter": "python",
   "pygments_lexer": "ipython3",
   "version": "3.11.2"
  },
  "papermill": {
   "default_parameters": {},
   "duration": 487.452211,
   "end_time": "2024-10-28T13:52:01.687457",
   "environment_variables": {},
   "exception": null,
   "input_path": "__notebook__.ipynb",
   "output_path": "__notebook__.ipynb",
   "parameters": {},
   "start_time": "2024-10-28T13:43:54.235246",
   "version": "2.6.0"
  }
 },
 "nbformat": 4,
 "nbformat_minor": 5
}
