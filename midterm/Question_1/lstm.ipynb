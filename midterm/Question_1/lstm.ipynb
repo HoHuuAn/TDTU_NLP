{
 "cells": [
  {
   "cell_type": "code",
   "execution_count": 1,
   "id": "fbc55425",
   "metadata": {
    "execution": {
     "iopub.execute_input": "2024-10-30T16:13:40.508939Z",
     "iopub.status.busy": "2024-10-30T16:13:40.507537Z",
     "iopub.status.idle": "2024-10-30T16:13:40.514336Z",
     "shell.execute_reply": "2024-10-30T16:13:40.513260Z"
    },
    "papermill": {
     "duration": 0.021959,
     "end_time": "2024-10-30T16:13:40.516940",
     "exception": false,
     "start_time": "2024-10-30T16:13:40.494981",
     "status": "completed"
    },
    "tags": []
   },
   "outputs": [],
   "source": [
    "# !pip install livelossplot"
   ]
  },
  {
   "cell_type": "code",
   "execution_count": 2,
   "id": "8e668c1e",
   "metadata": {
    "execution": {
     "iopub.execute_input": "2024-10-30T16:13:40.540977Z",
     "iopub.status.busy": "2024-10-30T16:13:40.540576Z",
     "iopub.status.idle": "2024-10-30T16:13:57.884625Z",
     "shell.execute_reply": "2024-10-30T16:13:57.883597Z"
    },
    "papermill": {
     "duration": 17.360081,
     "end_time": "2024-10-30T16:13:57.887764",
     "exception": false,
     "start_time": "2024-10-30T16:13:40.527683",
     "status": "completed"
    },
    "tags": []
   },
   "outputs": [
    {
     "name": "stdout",
     "output_type": "stream",
     "text": [
      "GPU not available, using CPU.\n"
     ]
    }
   ],
   "source": [
    "import tensorflow as tf\n",
    "import warnings\n",
    "\n",
    "# Suppress specific DeprecationWarnings\n",
    "warnings.filterwarnings(\"ignore\", category=DeprecationWarning)\n",
    "# Check if GPU is available\n",
    "gpu_available = tf.config.list_physical_devices('GPU')\n",
    "if gpu_available:\n",
    "    print(f\"Using GPU: {gpu_available}\")\n",
    "else:\n",
    "    print(\"GPU not available, using CPU.\")"
   ]
  },
  {
   "cell_type": "code",
   "execution_count": 3,
   "id": "400f1580",
   "metadata": {
    "execution": {
     "iopub.execute_input": "2024-10-30T16:13:57.911935Z",
     "iopub.status.busy": "2024-10-30T16:13:57.910257Z",
     "iopub.status.idle": "2024-10-30T16:13:58.990825Z",
     "shell.execute_reply": "2024-10-30T16:13:58.989486Z"
    },
    "papermill": {
     "duration": 1.094908,
     "end_time": "2024-10-30T16:13:58.993670",
     "exception": false,
     "start_time": "2024-10-30T16:13:57.898762",
     "status": "completed"
    },
    "tags": []
   },
   "outputs": [
    {
     "name": "stdout",
     "output_type": "stream",
     "text": [
      "/bin/bash: nvidia-smi: command not found\r\n"
     ]
    }
   ],
   "source": [
    "!nvidia-smi"
   ]
  },
  {
   "cell_type": "code",
   "execution_count": 4,
   "id": "d3ddb2d6",
   "metadata": {
    "execution": {
     "iopub.execute_input": "2024-10-30T16:13:59.017572Z",
     "iopub.status.busy": "2024-10-30T16:13:59.017000Z",
     "iopub.status.idle": "2024-10-30T16:14:04.091061Z",
     "shell.execute_reply": "2024-10-30T16:14:04.089645Z"
    },
    "papermill": {
     "duration": 5.08904,
     "end_time": "2024-10-30T16:14:04.093685",
     "exception": false,
     "start_time": "2024-10-30T16:13:59.004645",
     "status": "completed"
    },
    "tags": []
   },
   "outputs": [],
   "source": [
    "import os\n",
    "import joblib\n",
    "import torch\n",
    "import torch.nn as nn\n",
    "\n",
    "import numpy as np\n",
    "import pandas as pd\n",
    "import matplotlib.pyplot as plt\n",
    "import warnings\n",
    "warnings.filterwarnings('always') \n",
    "\n",
    "from glob import glob\n",
    "\n",
    "from sklearn import preprocessing\n",
    "from sklearn import model_selection\n",
    "from sklearn.feature_extraction import DictVectorizer\n",
    "\n",
    "from sklearn.model_selection import train_test_split\n",
    "\n",
    "from tqdm import tqdm\n",
    "\n"
   ]
  },
  {
   "cell_type": "code",
   "execution_count": 5,
   "id": "d197b2cf",
   "metadata": {
    "execution": {
     "iopub.execute_input": "2024-10-30T16:14:04.116012Z",
     "iopub.status.busy": "2024-10-30T16:14:04.115319Z",
     "iopub.status.idle": "2024-10-30T16:14:04.121845Z",
     "shell.execute_reply": "2024-10-30T16:14:04.120595Z"
    },
    "papermill": {
     "duration": 0.020298,
     "end_time": "2024-10-30T16:14:04.124194",
     "exception": false,
     "start_time": "2024-10-30T16:14:04.103896",
     "status": "completed"
    },
    "tags": []
   },
   "outputs": [],
   "source": [
    "# data_path = '/kaggle/input/vner-vlsp-2021/data/data/*'\n",
    "class config:\n",
    "    DATASET = '/kaggle/input/vner-vlsp-2021/data/*'\n",
    "    DATASET_CSV = '/kaggle/input/vner-vlsp-2021/processed_data.csv'"
   ]
  },
  {
   "cell_type": "markdown",
   "id": "0d956012",
   "metadata": {
    "papermill": {
     "duration": 0.009744,
     "end_time": "2024-10-30T16:14:04.144086",
     "exception": false,
     "start_time": "2024-10-30T16:14:04.134342",
     "status": "completed"
    },
    "tags": []
   },
   "source": [
    "# Load and explore VNER dataset"
   ]
  },
  {
   "cell_type": "code",
   "execution_count": 6,
   "id": "031a81fc",
   "metadata": {
    "execution": {
     "iopub.execute_input": "2024-10-30T16:14:04.166486Z",
     "iopub.status.busy": "2024-10-30T16:14:04.165432Z",
     "iopub.status.idle": "2024-10-30T16:14:04.405887Z",
     "shell.execute_reply": "2024-10-30T16:14:04.404608Z"
    },
    "papermill": {
     "duration": 0.254614,
     "end_time": "2024-10-30T16:14:04.408713",
     "exception": false,
     "start_time": "2024-10-30T16:14:04.154099",
     "status": "completed"
    },
    "tags": []
   },
   "outputs": [],
   "source": [
    "files = glob(config.DATASET)\n",
    "files_csv = glob(config.DATASET_CSV)"
   ]
  },
  {
   "cell_type": "code",
   "execution_count": 7,
   "id": "0ffad877",
   "metadata": {
    "execution": {
     "iopub.execute_input": "2024-10-30T16:14:04.431408Z",
     "iopub.status.busy": "2024-10-30T16:14:04.430401Z",
     "iopub.status.idle": "2024-10-30T16:14:05.518653Z",
     "shell.execute_reply": "2024-10-30T16:14:05.517427Z"
    },
    "papermill": {
     "duration": 1.102415,
     "end_time": "2024-10-30T16:14:05.521214",
     "exception": false,
     "start_time": "2024-10-30T16:14:04.418799",
     "status": "completed"
    },
    "tags": []
   },
   "outputs": [],
   "source": [
    "#From file\n",
    "# names = ['Word', 'pos', 'phrase', 'NER', 'NER1', 'NER2']\n",
    "# df = pd.read_csv(files[0], sep='\\t', quoting=3, names=names, skip_blank_lines=False)\n",
    "# df.head(10)\n",
    "\n",
    "#From csv\n",
    "# names = ['Word', 'pos', 'phrase', 'NER', 'NER1', 'NER2']\n",
    "df = pd.read_csv(files_csv[0])"
   ]
  },
  {
   "cell_type": "code",
   "execution_count": 8,
   "id": "0a31d337",
   "metadata": {
    "execution": {
     "iopub.execute_input": "2024-10-30T16:14:05.543955Z",
     "iopub.status.busy": "2024-10-30T16:14:05.543332Z",
     "iopub.status.idle": "2024-10-30T16:14:05.549673Z",
     "shell.execute_reply": "2024-10-30T16:14:05.548384Z"
    },
    "papermill": {
     "duration": 0.020901,
     "end_time": "2024-10-30T16:14:05.552155",
     "exception": false,
     "start_time": "2024-10-30T16:14:05.531254",
     "status": "completed"
    },
    "tags": []
   },
   "outputs": [],
   "source": [
    "# num_rows = int(len(df) * 0.2)  # Calculate 20% of the total rows"
   ]
  },
  {
   "cell_type": "code",
   "execution_count": 9,
   "id": "9bf0014c",
   "metadata": {
    "execution": {
     "iopub.execute_input": "2024-10-30T16:14:05.574478Z",
     "iopub.status.busy": "2024-10-30T16:14:05.574054Z",
     "iopub.status.idle": "2024-10-30T16:14:05.611904Z",
     "shell.execute_reply": "2024-10-30T16:14:05.610400Z"
    },
    "papermill": {
     "duration": 0.051894,
     "end_time": "2024-10-30T16:14:05.614421",
     "exception": false,
     "start_time": "2024-10-30T16:14:05.562527",
     "status": "completed"
    },
    "tags": []
   },
   "outputs": [],
   "source": [
    "# data = df.head(num_rows)\n",
    "data = df.copy()"
   ]
  },
  {
   "cell_type": "code",
   "execution_count": 10,
   "id": "ad0fb4f3",
   "metadata": {
    "execution": {
     "iopub.execute_input": "2024-10-30T16:14:05.637539Z",
     "iopub.status.busy": "2024-10-30T16:14:05.636428Z",
     "iopub.status.idle": "2024-10-30T16:14:05.659597Z",
     "shell.execute_reply": "2024-10-30T16:14:05.658435Z"
    },
    "papermill": {
     "duration": 0.037479,
     "end_time": "2024-10-30T16:14:05.662084",
     "exception": false,
     "start_time": "2024-10-30T16:14:05.624605",
     "status": "completed"
    },
    "tags": []
   },
   "outputs": [
    {
     "data": {
      "text/html": [
       "<div>\n",
       "<style scoped>\n",
       "    .dataframe tbody tr th:only-of-type {\n",
       "        vertical-align: middle;\n",
       "    }\n",
       "\n",
       "    .dataframe tbody tr th {\n",
       "        vertical-align: top;\n",
       "    }\n",
       "\n",
       "    .dataframe thead th {\n",
       "        text-align: right;\n",
       "    }\n",
       "</style>\n",
       "<table border=\"1\" class=\"dataframe\">\n",
       "  <thead>\n",
       "    <tr style=\"text-align: right;\">\n",
       "      <th></th>\n",
       "      <th>Word</th>\n",
       "      <th>Tag</th>\n",
       "      <th>Sentence #</th>\n",
       "    </tr>\n",
       "  </thead>\n",
       "  <tbody>\n",
       "    <tr>\n",
       "      <th>0</th>\n",
       "      <td>Mong ước</td>\n",
       "      <td>O</td>\n",
       "      <td>Sentence: 1</td>\n",
       "    </tr>\n",
       "    <tr>\n",
       "      <th>1</th>\n",
       "      <td>được</td>\n",
       "      <td>O</td>\n",
       "      <td>Sentence: 1</td>\n",
       "    </tr>\n",
       "    <tr>\n",
       "      <th>2</th>\n",
       "      <td>đến</td>\n",
       "      <td>O</td>\n",
       "      <td>Sentence: 1</td>\n",
       "    </tr>\n",
       "    <tr>\n",
       "      <th>3</th>\n",
       "      <td>trường</td>\n",
       "      <td>O</td>\n",
       "      <td>Sentence: 1</td>\n",
       "    </tr>\n",
       "    <tr>\n",
       "      <th>4</th>\n",
       "      <td>của</td>\n",
       "      <td>O</td>\n",
       "      <td>Sentence: 1</td>\n",
       "    </tr>\n",
       "    <tr>\n",
       "      <th>5</th>\n",
       "      <td>bé</td>\n",
       "      <td>O</td>\n",
       "      <td>Sentence: 1</td>\n",
       "    </tr>\n",
       "    <tr>\n",
       "      <th>6</th>\n",
       "      <td>gái</td>\n",
       "      <td>O</td>\n",
       "      <td>Sentence: 1</td>\n",
       "    </tr>\n",
       "    <tr>\n",
       "      <th>7</th>\n",
       "      <td>7</td>\n",
       "      <td>B-QUANTITY-AGE</td>\n",
       "      <td>Sentence: 1</td>\n",
       "    </tr>\n",
       "    <tr>\n",
       "      <th>8</th>\n",
       "      <td>tuổi</td>\n",
       "      <td>I-QUANTITY-AGE</td>\n",
       "      <td>Sentence: 1</td>\n",
       "    </tr>\n",
       "    <tr>\n",
       "      <th>9</th>\n",
       "      <td>Giờ</td>\n",
       "      <td>B-DATETIME</td>\n",
       "      <td>Sentence: 2</td>\n",
       "    </tr>\n",
       "  </tbody>\n",
       "</table>\n",
       "</div>"
      ],
      "text/plain": [
       "       Word             Tag   Sentence #\n",
       "0  Mong ước               O  Sentence: 1\n",
       "1      được               O  Sentence: 1\n",
       "2       đến               O  Sentence: 1\n",
       "3    trường               O  Sentence: 1\n",
       "4       của               O  Sentence: 1\n",
       "5        bé               O  Sentence: 1\n",
       "6       gái               O  Sentence: 1\n",
       "7         7  B-QUANTITY-AGE  Sentence: 1\n",
       "8      tuổi  I-QUANTITY-AGE  Sentence: 1\n",
       "9       Giờ      B-DATETIME  Sentence: 2"
      ]
     },
     "execution_count": 10,
     "metadata": {},
     "output_type": "execute_result"
    }
   ],
   "source": [
    "data.head(10)"
   ]
  },
  {
   "cell_type": "code",
   "execution_count": 11,
   "id": "50780898",
   "metadata": {
    "execution": {
     "iopub.execute_input": "2024-10-30T16:14:05.685304Z",
     "iopub.status.busy": "2024-10-30T16:14:05.684287Z",
     "iopub.status.idle": "2024-10-30T16:14:05.690543Z",
     "shell.execute_reply": "2024-10-30T16:14:05.689402Z"
    },
    "papermill": {
     "duration": 0.020155,
     "end_time": "2024-10-30T16:14:05.693014",
     "exception": false,
     "start_time": "2024-10-30T16:14:05.672859",
     "status": "completed"
    },
    "tags": []
   },
   "outputs": [
    {
     "name": "stdout",
     "output_type": "stream",
     "text": [
      "data shape:  (981555, 3)\n"
     ]
    }
   ],
   "source": [
    "print(\"data shape: \", data.shape)"
   ]
  },
  {
   "cell_type": "code",
   "execution_count": 12,
   "id": "63f2a9ed",
   "metadata": {
    "execution": {
     "iopub.execute_input": "2024-10-30T16:14:05.715632Z",
     "iopub.status.busy": "2024-10-30T16:14:05.715168Z",
     "iopub.status.idle": "2024-10-30T16:14:05.909672Z",
     "shell.execute_reply": "2024-10-30T16:14:05.908409Z"
    },
    "papermill": {
     "duration": 0.208878,
     "end_time": "2024-10-30T16:14:05.912342",
     "exception": false,
     "start_time": "2024-10-30T16:14:05.703464",
     "status": "completed"
    },
    "tags": []
   },
   "outputs": [
    {
     "name": "stdout",
     "output_type": "stream",
     "text": [
      "Unique words in corpus: 42919\n",
      "Unique tags in corpus: 90\n"
     ]
    }
   ],
   "source": [
    "print(\"Unique words in corpus:\", data['Word'].nunique())\n",
    "print(\"Unique tags in corpus:\", data['Tag'].nunique())"
   ]
  },
  {
   "cell_type": "code",
   "execution_count": 13,
   "id": "9471b3e5",
   "metadata": {
    "execution": {
     "iopub.execute_input": "2024-10-30T16:14:05.935594Z",
     "iopub.status.busy": "2024-10-30T16:14:05.934621Z",
     "iopub.status.idle": "2024-10-30T16:14:06.011977Z",
     "shell.execute_reply": "2024-10-30T16:14:06.010273Z"
    },
    "papermill": {
     "duration": 0.091723,
     "end_time": "2024-10-30T16:14:06.014580",
     "exception": false,
     "start_time": "2024-10-30T16:14:05.922857",
     "status": "completed"
    },
    "tags": []
   },
   "outputs": [
    {
     "name": "stdout",
     "output_type": "stream",
     "text": [
      "num_words:  42920\n"
     ]
    }
   ],
   "source": [
    "words = list(set(data[\"Word\"].values))\n",
    "#denote the end of a sequence or to pad sequences to a fixed length.\n",
    "words.append(\"ENDPAD\")\n",
    "#count number of unique words\n",
    "num_words = len(words)\n",
    "print(\"num_words: \", num_words)"
   ]
  },
  {
   "cell_type": "code",
   "execution_count": 14,
   "id": "46b5d23d",
   "metadata": {
    "execution": {
     "iopub.execute_input": "2024-10-30T16:14:06.038462Z",
     "iopub.status.busy": "2024-10-30T16:14:06.037207Z",
     "iopub.status.idle": "2024-10-30T16:14:06.068499Z",
     "shell.execute_reply": "2024-10-30T16:14:06.067305Z"
    },
    "papermill": {
     "duration": 0.045552,
     "end_time": "2024-10-30T16:14:06.070835",
     "exception": false,
     "start_time": "2024-10-30T16:14:06.025283",
     "status": "completed"
    },
    "tags": []
   },
   "outputs": [
    {
     "name": "stdout",
     "output_type": "stream",
     "text": [
      "num_tag:  90\n"
     ]
    }
   ],
   "source": [
    "tags = list(set(data[\"Tag\"].values))\n",
    "num_tags = len(tags)\n",
    "print(\"num_tag: \", num_tags)"
   ]
  },
  {
   "cell_type": "markdown",
   "id": "9408fe20",
   "metadata": {
    "papermill": {
     "duration": 0.010122,
     "end_time": "2024-10-30T16:14:06.091588",
     "exception": false,
     "start_time": "2024-10-30T16:14:06.081466",
     "status": "completed"
    },
    "tags": []
   },
   "source": [
    "# Retrieve Sentences and Corresponsing Tags"
   ]
  },
  {
   "cell_type": "code",
   "execution_count": 15,
   "id": "799d3edc",
   "metadata": {
    "execution": {
     "iopub.execute_input": "2024-10-30T16:14:06.114220Z",
     "iopub.status.busy": "2024-10-30T16:14:06.113802Z",
     "iopub.status.idle": "2024-10-30T16:14:06.123452Z",
     "shell.execute_reply": "2024-10-30T16:14:06.122353Z"
    },
    "papermill": {
     "duration": 0.023604,
     "end_time": "2024-10-30T16:14:06.125699",
     "exception": false,
     "start_time": "2024-10-30T16:14:06.102095",
     "status": "completed"
    },
    "tags": []
   },
   "outputs": [],
   "source": [
    "class SentenceGetter(object):\n",
    "    def __init__(self, data):\n",
    "        self.n_sent = 1\n",
    "        self.data = data\n",
    "        self.empty = False\n",
    "        agg_func = lambda s: [(w, t) for w, t in zip(s[\"Word\"].values.tolist(),\n",
    "                                                           s[\"Tag\"].values.tolist())]\n",
    "        self.grouped = self.data.groupby(\"Sentence #\").apply(agg_func)\n",
    "        self.sentences = [s for s in self.grouped]\n",
    "    \n",
    "    def get_next(self):\n",
    "        try:\n",
    "            s = self.grouped[\"Sentence: {}\".format(self.n_sent)]\n",
    "            self.n_sent += 1\n",
    "            return s\n",
    "        except:\n",
    "            return None"
   ]
  },
  {
   "cell_type": "code",
   "execution_count": 16,
   "id": "dc0b3f68",
   "metadata": {
    "execution": {
     "iopub.execute_input": "2024-10-30T16:14:06.149237Z",
     "iopub.status.busy": "2024-10-30T16:14:06.148291Z",
     "iopub.status.idle": "2024-10-30T16:14:09.206190Z",
     "shell.execute_reply": "2024-10-30T16:14:09.204824Z"
    },
    "papermill": {
     "duration": 3.072399,
     "end_time": "2024-10-30T16:14:09.208868",
     "exception": false,
     "start_time": "2024-10-30T16:14:06.136469",
     "status": "completed"
    },
    "tags": []
   },
   "outputs": [
    {
     "name": "stderr",
     "output_type": "stream",
     "text": [
      "/tmp/ipykernel_17/3131843187.py:8: DeprecationWarning: DataFrameGroupBy.apply operated on the grouping columns. This behavior is deprecated, and in a future version of pandas the grouping columns will be excluded from the operation. Either pass `include_groups=False` to exclude the groupings or explicitly select the grouping columns after groupby to silence this warning.\n",
      "  self.grouped = self.data.groupby(\"Sentence #\").apply(agg_func)\n"
     ]
    }
   ],
   "source": [
    "getter = SentenceGetter(data)\n",
    "sentences = getter.sentences"
   ]
  },
  {
   "cell_type": "code",
   "execution_count": 17,
   "id": "7b18c8fd",
   "metadata": {
    "execution": {
     "iopub.execute_input": "2024-10-30T16:14:09.234610Z",
     "iopub.status.busy": "2024-10-30T16:14:09.233676Z",
     "iopub.status.idle": "2024-10-30T16:14:09.242005Z",
     "shell.execute_reply": "2024-10-30T16:14:09.240828Z"
    },
    "papermill": {
     "duration": 0.023814,
     "end_time": "2024-10-30T16:14:09.244510",
     "exception": false,
     "start_time": "2024-10-30T16:14:09.220696",
     "status": "completed"
    },
    "tags": []
   },
   "outputs": [
    {
     "data": {
      "text/plain": [
       "[('Nhiều', 'O'),\n",
       " ('nhân viên', 'O'),\n",
       " ('nữ', 'O'),\n",
       " ('bỏ', 'O'),\n",
       " ('việc', 'O'),\n",
       " ('tại', 'O'),\n",
       " ('Google', 'B-ORGANIZATION'),\n",
       " ('vì', 'O'),\n",
       " ('bị', 'O'),\n",
       " ('phân biệt', 'O'),\n",
       " ('đối xử', 'O')]"
      ]
     },
     "execution_count": 17,
     "metadata": {},
     "output_type": "execute_result"
    }
   ],
   "source": [
    "sentences[22]"
   ]
  },
  {
   "cell_type": "markdown",
   "id": "e29f8c56",
   "metadata": {
    "papermill": {
     "duration": 0.010788,
     "end_time": "2024-10-30T16:14:09.266464",
     "exception": false,
     "start_time": "2024-10-30T16:14:09.255676",
     "status": "completed"
    },
    "tags": []
   },
   "source": [
    "# Define Mappings between Sentences and Tags"
   ]
  },
  {
   "cell_type": "code",
   "execution_count": 18,
   "id": "726fffeb",
   "metadata": {
    "execution": {
     "iopub.execute_input": "2024-10-30T16:14:09.290571Z",
     "iopub.status.busy": "2024-10-30T16:14:09.290033Z",
     "iopub.status.idle": "2024-10-30T16:14:09.312005Z",
     "shell.execute_reply": "2024-10-30T16:14:09.310830Z"
    },
    "papermill": {
     "duration": 0.037038,
     "end_time": "2024-10-30T16:14:09.314791",
     "exception": false,
     "start_time": "2024-10-30T16:14:09.277753",
     "status": "completed"
    },
    "tags": []
   },
   "outputs": [],
   "source": [
    "#each unique word to a unique integer index. The index typically starts from 1 (hence the + 1)\n",
    "word2idx = {w: i + 1 for i, w in enumerate(words)}\n",
    "tag2idx = {t: i for i, t in enumerate(tags)}"
   ]
  },
  {
   "cell_type": "code",
   "execution_count": 19,
   "id": "598e0306",
   "metadata": {
    "execution": {
     "iopub.execute_input": "2024-10-30T16:14:09.338858Z",
     "iopub.status.busy": "2024-10-30T16:14:09.338404Z",
     "iopub.status.idle": "2024-10-30T16:14:09.359026Z",
     "shell.execute_reply": "2024-10-30T16:14:09.357812Z"
    },
    "papermill": {
     "duration": 0.035809,
     "end_time": "2024-10-30T16:14:09.361916",
     "exception": false,
     "start_time": "2024-10-30T16:14:09.326107",
     "status": "completed"
    },
    "tags": []
   },
   "outputs": [
    {
     "name": "stdout",
     "output_type": "stream",
     "text": [
      "ESPN: 1\n",
      "bình tĩnh: 2\n",
      "Gói: 3\n",
      "cao ngạo: 4\n",
      "Lý Thánh Tông: 5\n",
      "Glasgow: 6\n",
      "thảnh thơi: 7\n",
      "khôn lường: 8\n",
      "Carles: 9\n",
      "cháo song: 10\n"
     ]
    }
   ],
   "source": [
    "for i, (word, idx) in enumerate(word2idx.items()):\n",
    "    if i < 10:\n",
    "        print(f\"{word}: {idx}\")"
   ]
  },
  {
   "cell_type": "code",
   "execution_count": 20,
   "id": "ce256d50",
   "metadata": {
    "execution": {
     "iopub.execute_input": "2024-10-30T16:14:09.387441Z",
     "iopub.status.busy": "2024-10-30T16:14:09.386536Z",
     "iopub.status.idle": "2024-10-30T16:14:09.395385Z",
     "shell.execute_reply": "2024-10-30T16:14:09.392789Z"
    },
    "papermill": {
     "duration": 0.025092,
     "end_time": "2024-10-30T16:14:09.398885",
     "exception": false,
     "start_time": "2024-10-30T16:14:09.373793",
     "status": "completed"
    },
    "tags": []
   },
   "outputs": [
    {
     "name": "stdout",
     "output_type": "stream",
     "text": [
      "B-PERSONTYPE: 0\n",
      "B-PRODUCT-COM: 1\n",
      "A: 2\n",
      "I-QUANTITY-CUR: 3\n",
      "I-QUANTITY: 4\n",
      "I-PRODUCT-COM: 5\n",
      "I-PERSON: 6\n",
      "B-PRODUCT-AWARD: 7\n",
      "B-DATETIME-DATERANGE: 8\n",
      "B-ORGANIZATION-MED: 9\n"
     ]
    }
   ],
   "source": [
    "for i, (tag, idx) in enumerate(tag2idx.items()):\n",
    "    if i < 10:\n",
    "        print(f\"{tag}: {idx}\")"
   ]
  },
  {
   "cell_type": "markdown",
   "id": "61d3b876",
   "metadata": {
    "papermill": {
     "duration": 0.010643,
     "end_time": "2024-10-30T16:14:09.422178",
     "exception": false,
     "start_time": "2024-10-30T16:14:09.411535",
     "status": "completed"
    },
    "tags": []
   },
   "source": [
    "# Padding Input Sentences and Creating Train/Test Splits"
   ]
  },
  {
   "cell_type": "code",
   "execution_count": 21,
   "id": "bac25799",
   "metadata": {
    "execution": {
     "iopub.execute_input": "2024-10-30T16:14:09.446518Z",
     "iopub.status.busy": "2024-10-30T16:14:09.445514Z",
     "iopub.status.idle": "2024-10-30T16:14:09.878990Z",
     "shell.execute_reply": "2024-10-30T16:14:09.877719Z"
    },
    "papermill": {
     "duration": 0.448499,
     "end_time": "2024-10-30T16:14:09.881591",
     "exception": false,
     "start_time": "2024-10-30T16:14:09.433092",
     "status": "completed"
    },
    "tags": []
   },
   "outputs": [
    {
     "data": {
      "image/png": "[encoded data removed]",
      "text/plain": [
       "<Figure size 640x480 with 1 Axes>"
      ]
     },
     "metadata": {},
     "output_type": "display_data"
    }
   ],
   "source": [
    "#X-Axis: Represents the length of the sentences (number of words).\n",
    "#Y-Axis: Represents the frequency of sentences that fall into each length category (how many sentences have that particular length).\n",
    "plt.hist([len(s) for s in sentences], bins=50)\n",
    "plt.show()"
   ]
  },
  {
   "cell_type": "code",
   "execution_count": 22,
   "id": "191b08b7",
   "metadata": {
    "execution": {
     "iopub.execute_input": "2024-10-30T16:14:09.906327Z",
     "iopub.status.busy": "2024-10-30T16:14:09.905795Z",
     "iopub.status.idle": "2024-10-30T16:14:10.000986Z",
     "shell.execute_reply": "2024-10-30T16:14:09.999711Z"
    },
    "papermill": {
     "duration": 0.110412,
     "end_time": "2024-10-30T16:14:10.003600",
     "exception": false,
     "start_time": "2024-10-30T16:14:09.893188",
     "status": "completed"
    },
    "tags": []
   },
   "outputs": [
    {
     "name": "stdout",
     "output_type": "stream",
     "text": [
      "95th percentile of sentence lengths: 89.0\n"
     ]
    }
   ],
   "source": [
    "from tensorflow.keras.preprocessing.sequence import pad_sequences\n",
    "sentence_lengths = [len(s) for s in sentences]\n",
    "\n",
    "# Calculate the 95th percentile\n",
    "percentile_95 = np.percentile(sentence_lengths, 95)\n",
    "\n",
    "# Print the result\n",
    "print(\"95th percentile of sentence lengths:\", percentile_95)"
   ]
  },
  {
   "cell_type": "code",
   "execution_count": 23,
   "id": "9a153c80",
   "metadata": {
    "execution": {
     "iopub.execute_input": "2024-10-30T16:14:10.031708Z",
     "iopub.status.busy": "2024-10-30T16:14:10.031103Z",
     "iopub.status.idle": "2024-10-30T16:14:10.664899Z",
     "shell.execute_reply": "2024-10-30T16:14:10.663602Z"
    },
    "papermill": {
     "duration": 0.651859,
     "end_time": "2024-10-30T16:14:10.667409",
     "exception": false,
     "start_time": "2024-10-30T16:14:10.015550",
     "status": "completed"
    },
    "tags": []
   },
   "outputs": [],
   "source": [
    "max_len = 90\n",
    "\n",
    "X = [[word2idx[w[0]] for w in s] for s in sentences]\n",
    "X = pad_sequences(maxlen=max_len, sequences=X, padding=\"post\", value=num_words-1)\n",
    "\n",
    "y = [[tag2idx[w[1]] for w in s] for s in sentences]\n",
    "y = pad_sequences(maxlen=max_len, sequences=y, padding=\"post\", value=tag2idx[\"O\"])"
   ]
  },
  {
   "cell_type": "code",
   "execution_count": 24,
   "id": "0db0854c",
   "metadata": {
    "execution": {
     "iopub.execute_input": "2024-10-30T16:14:10.692722Z",
     "iopub.status.busy": "2024-10-30T16:14:10.692258Z",
     "iopub.status.idle": "2024-10-30T16:14:10.701763Z",
     "shell.execute_reply": "2024-10-30T16:14:10.700600Z"
    },
    "papermill": {
     "duration": 0.025151,
     "end_time": "2024-10-30T16:14:10.704125",
     "exception": false,
     "start_time": "2024-10-30T16:14:10.678974",
     "status": "completed"
    },
    "tags": []
   },
   "outputs": [
    {
     "data": {
      "text/plain": [
       "(array([[30560,  9644,  6459, ..., 42919, 42919, 42919],\n",
       "        [26656, 40784, 18062, ..., 42919, 42919, 42919],\n",
       "        [ 7969, 13548,  7969, ..., 42919, 42919, 42919],\n",
       "        ...,\n",
       "        [14378, 27909, 17556, ..., 25350,  9797, 15521],\n",
       "        [ 5431,  3966, 11078, ..., 42919, 42919, 42919],\n",
       "        [18484, 22859,  2545, ...,  8904,  3228, 15521]], dtype=int32),\n",
       " array([[78, 78, 78, ..., 78, 78, 78],\n",
       "        [78, 78, 78, ..., 78, 78, 78],\n",
       "        [36, 36, 36, ..., 78, 78, 78],\n",
       "        ...,\n",
       "        [78, 78, 78, ..., 56, 78, 78],\n",
       "        [78, 78, 78, ..., 78, 78, 78],\n",
       "        [78, 78, 78, ..., 78, 78, 78]], dtype=int32))"
      ]
     },
     "execution_count": 24,
     "metadata": {},
     "output_type": "execute_result"
    }
   ],
   "source": [
    "X, y"
   ]
  },
  {
   "cell_type": "code",
   "execution_count": 25,
   "id": "286e1467",
   "metadata": {
    "execution": {
     "iopub.execute_input": "2024-10-30T16:14:10.729643Z",
     "iopub.status.busy": "2024-10-30T16:14:10.728844Z",
     "iopub.status.idle": "2024-10-30T16:14:10.749897Z",
     "shell.execute_reply": "2024-10-30T16:14:10.748648Z"
    },
    "papermill": {
     "duration": 0.036513,
     "end_time": "2024-10-30T16:14:10.752469",
     "exception": false,
     "start_time": "2024-10-30T16:14:10.715956",
     "status": "completed"
    },
    "tags": []
   },
   "outputs": [],
   "source": [
    "x_train, x_test, y_train, y_test = train_test_split(X, y, test_size=0.2, random_state=1)"
   ]
  },
  {
   "cell_type": "markdown",
   "id": "e0bcd8f8",
   "metadata": {
    "papermill": {
     "duration": 0.011216,
     "end_time": "2024-10-30T16:14:10.775387",
     "exception": false,
     "start_time": "2024-10-30T16:14:10.764171",
     "status": "completed"
    },
    "tags": []
   },
   "source": [
    "# Build and Compile a Bidirectional LSTM Model"
   ]
  },
  {
   "cell_type": "code",
   "execution_count": 26,
   "id": "3a9b2214",
   "metadata": {
    "execution": {
     "iopub.execute_input": "2024-10-30T16:14:10.801965Z",
     "iopub.status.busy": "2024-10-30T16:14:10.801525Z",
     "iopub.status.idle": "2024-10-30T16:14:10.808602Z",
     "shell.execute_reply": "2024-10-30T16:14:10.807575Z"
    },
    "papermill": {
     "duration": 0.023563,
     "end_time": "2024-10-30T16:14:10.811067",
     "exception": false,
     "start_time": "2024-10-30T16:14:10.787504",
     "status": "completed"
    },
    "tags": []
   },
   "outputs": [],
   "source": [
    "from tensorflow.keras import Model, Input\n",
    "from tensorflow.keras.layers import LSTM, Embedding, Dense\n",
    "from tensorflow.keras.layers import TimeDistributed, SpatialDropout1D, Bidirectional"
   ]
  },
  {
   "cell_type": "code",
   "execution_count": 27,
   "id": "7eba374a",
   "metadata": {
    "execution": {
     "iopub.execute_input": "2024-10-30T16:14:10.836494Z",
     "iopub.status.busy": "2024-10-30T16:14:10.836066Z",
     "iopub.status.idle": "2024-10-30T16:14:11.038065Z",
     "shell.execute_reply": "2024-10-30T16:14:11.036528Z"
    },
    "papermill": {
     "duration": 0.217631,
     "end_time": "2024-10-30T16:14:11.040649",
     "exception": false,
     "start_time": "2024-10-30T16:14:10.823018",
     "status": "completed"
    },
    "tags": []
   },
   "outputs": [
    {
     "name": "stderr",
     "output_type": "stream",
     "text": [
      "/opt/conda/lib/python3.10/site-packages/keras/src/layers/core/embedding.py:90: UserWarning: Argument `input_length` is deprecated. Just remove it.\n",
      "  warnings.warn(\n"
     ]
    },
    {
     "data": {
      "text/html": [
       "<pre style=\"white-space:pre;overflow-x:auto;line-height:normal;font-family:Menlo,'DejaVu Sans Mono',consolas,'Courier New',monospace\"><span style=\"font-weight: bold\">Model: \"functional_1\"</span>\n",
       "</pre>\n"
      ],
      "text/plain": [
       "\u001b[1mModel: \"functional_1\"\u001b[0m\n"
      ]
     },
     "metadata": {},
     "output_type": "display_data"
    },
    {
     "data": {
      "text/html": [
       "<pre style=\"white-space:pre;overflow-x:auto;line-height:normal;font-family:Menlo,'DejaVu Sans Mono',consolas,'Courier New',monospace\">┏━━━━━━━━━━━━━━━━━━━━━━━━━━━━━━━━━┳━━━━━━━━━━━━━━━━━━━━━━━━┳━━━━━━━━━━━━━━━┓\n",
       "┃<span style=\"font-weight: bold\"> Layer (type)                    </span>┃<span style=\"font-weight: bold\"> Output Shape           </span>┃<span style=\"font-weight: bold\">       Param # </span>┃\n",
       "┡━━━━━━━━━━━━━━━━━━━━━━━━━━━━━━━━━╇━━━━━━━━━━━━━━━━━━━━━━━━╇━━━━━━━━━━━━━━━┩\n",
       "│ input_layer (<span style=\"color: #0087ff; text-decoration-color: #0087ff\">InputLayer</span>)        │ (<span style=\"color: #00d7ff; text-decoration-color: #00d7ff\">None</span>, <span style=\"color: #00af00; text-decoration-color: #00af00\">90</span>)             │             <span style=\"color: #00af00; text-decoration-color: #00af00\">0</span> │\n",
       "├─────────────────────────────────┼────────────────────────┼───────────────┤\n",
       "│ embedding (<span style=\"color: #0087ff; text-decoration-color: #0087ff\">Embedding</span>)           │ (<span style=\"color: #00d7ff; text-decoration-color: #00d7ff\">None</span>, <span style=\"color: #00af00; text-decoration-color: #00af00\">90</span>, <span style=\"color: #00af00; text-decoration-color: #00af00\">50</span>)         │     <span style=\"color: #00af00; text-decoration-color: #00af00\">2,146,000</span> │\n",
       "├─────────────────────────────────┼────────────────────────┼───────────────┤\n",
       "│ spatial_dropout1d               │ (<span style=\"color: #00d7ff; text-decoration-color: #00d7ff\">None</span>, <span style=\"color: #00af00; text-decoration-color: #00af00\">90</span>, <span style=\"color: #00af00; text-decoration-color: #00af00\">50</span>)         │             <span style=\"color: #00af00; text-decoration-color: #00af00\">0</span> │\n",
       "│ (<span style=\"color: #0087ff; text-decoration-color: #0087ff\">SpatialDropout1D</span>)              │                        │               │\n",
       "├─────────────────────────────────┼────────────────────────┼───────────────┤\n",
       "│ bidirectional (<span style=\"color: #0087ff; text-decoration-color: #0087ff\">Bidirectional</span>)   │ (<span style=\"color: #00d7ff; text-decoration-color: #00d7ff\">None</span>, <span style=\"color: #00af00; text-decoration-color: #00af00\">90</span>, <span style=\"color: #00af00; text-decoration-color: #00af00\">256</span>)        │       <span style=\"color: #00af00; text-decoration-color: #00af00\">183,296</span> │\n",
       "├─────────────────────────────────┼────────────────────────┼───────────────┤\n",
       "│ time_distributed                │ (<span style=\"color: #00d7ff; text-decoration-color: #00d7ff\">None</span>, <span style=\"color: #00af00; text-decoration-color: #00af00\">90</span>, <span style=\"color: #00af00; text-decoration-color: #00af00\">90</span>)         │        <span style=\"color: #00af00; text-decoration-color: #00af00\">23,130</span> │\n",
       "│ (<span style=\"color: #0087ff; text-decoration-color: #0087ff\">TimeDistributed</span>)               │                        │               │\n",
       "└─────────────────────────────────┴────────────────────────┴───────────────┘\n",
       "</pre>\n"
      ],
      "text/plain": [
       "┏━━━━━━━━━━━━━━━━━━━━━━━━━━━━━━━━━┳━━━━━━━━━━━━━━━━━━━━━━━━┳━━━━━━━━━━━━━━━┓\n",
       "┃\u001b[1m \u001b[0m\u001b[1mLayer (type)                   \u001b[0m\u001b[1m \u001b[0m┃\u001b[1m \u001b[0m\u001b[1mOutput Shape          \u001b[0m\u001b[1m \u001b[0m┃\u001b[1m \u001b[0m\u001b[1m      Param #\u001b[0m\u001b[1m \u001b[0m┃\n",
       "┡━━━━━━━━━━━━━━━━━━━━━━━━━━━━━━━━━╇━━━━━━━━━━━━━━━━━━━━━━━━╇━━━━━━━━━━━━━━━┩\n",
       "│ input_layer (\u001b[38;5;33mInputLayer\u001b[0m)        │ (\u001b[38;5;45mNone\u001b[0m, \u001b[38;5;34m90\u001b[0m)             │             \u001b[38;5;34m0\u001b[0m │\n",
       "├─────────────────────────────────┼────────────────────────┼───────────────┤\n",
       "│ embedding (\u001b[38;5;33mEmbedding\u001b[0m)           │ (\u001b[38;5;45mNone\u001b[0m, \u001b[38;5;34m90\u001b[0m, \u001b[38;5;34m50\u001b[0m)         │     \u001b[38;5;34m2,146,000\u001b[0m │\n",
       "├─────────────────────────────────┼────────────────────────┼───────────────┤\n",
       "│ spatial_dropout1d               │ (\u001b[38;5;45mNone\u001b[0m, \u001b[38;5;34m90\u001b[0m, \u001b[38;5;34m50\u001b[0m)         │             \u001b[38;5;34m0\u001b[0m │\n",
       "│ (\u001b[38;5;33mSpatialDropout1D\u001b[0m)              │                        │               │\n",
       "├─────────────────────────────────┼────────────────────────┼───────────────┤\n",
       "│ bidirectional (\u001b[38;5;33mBidirectional\u001b[0m)   │ (\u001b[38;5;45mNone\u001b[0m, \u001b[38;5;34m90\u001b[0m, \u001b[38;5;34m256\u001b[0m)        │       \u001b[38;5;34m183,296\u001b[0m │\n",
       "├─────────────────────────────────┼────────────────────────┼───────────────┤\n",
       "│ time_distributed                │ (\u001b[38;5;45mNone\u001b[0m, \u001b[38;5;34m90\u001b[0m, \u001b[38;5;34m90\u001b[0m)         │        \u001b[38;5;34m23,130\u001b[0m │\n",
       "│ (\u001b[38;5;33mTimeDistributed\u001b[0m)               │                        │               │\n",
       "└─────────────────────────────────┴────────────────────────┴───────────────┘\n"
      ]
     },
     "metadata": {},
     "output_type": "display_data"
    },
    {
     "data": {
      "text/html": [
       "<pre style=\"white-space:pre;overflow-x:auto;line-height:normal;font-family:Menlo,'DejaVu Sans Mono',consolas,'Courier New',monospace\"><span style=\"font-weight: bold\"> Total params: </span><span style=\"color: #00af00; text-decoration-color: #00af00\">2,352,426</span> (8.97 MB)\n",
       "</pre>\n"
      ],
      "text/plain": [
       "\u001b[1m Total params: \u001b[0m\u001b[38;5;34m2,352,426\u001b[0m (8.97 MB)\n"
      ]
     },
     "metadata": {},
     "output_type": "display_data"
    },
    {
     "data": {
      "text/html": [
       "<pre style=\"white-space:pre;overflow-x:auto;line-height:normal;font-family:Menlo,'DejaVu Sans Mono',consolas,'Courier New',monospace\"><span style=\"font-weight: bold\"> Trainable params: </span><span style=\"color: #00af00; text-decoration-color: #00af00\">2,352,426</span> (8.97 MB)\n",
       "</pre>\n"
      ],
      "text/plain": [
       "\u001b[1m Trainable params: \u001b[0m\u001b[38;5;34m2,352,426\u001b[0m (8.97 MB)\n"
      ]
     },
     "metadata": {},
     "output_type": "display_data"
    },
    {
     "data": {
      "text/html": [
       "<pre style=\"white-space:pre;overflow-x:auto;line-height:normal;font-family:Menlo,'DejaVu Sans Mono',consolas,'Courier New',monospace\"><span style=\"font-weight: bold\"> Non-trainable params: </span><span style=\"color: #00af00; text-decoration-color: #00af00\">0</span> (0.00 B)\n",
       "</pre>\n"
      ],
      "text/plain": [
       "\u001b[1m Non-trainable params: \u001b[0m\u001b[38;5;34m0\u001b[0m (0.00 B)\n"
      ]
     },
     "metadata": {},
     "output_type": "display_data"
    }
   ],
   "source": [
    "# from keras.models import Sequential\n",
    "\n",
    "# model = Sequential()\n",
    "# model.add(Input(shape=(max_len,)))\n",
    "# model.add(Embedding(input_dim=num_words, output_dim=50, input_length=max_len))\n",
    "# model.add(SpatialDropout1D(0.1))\n",
    "# model.add(Bidirectional(LSTM(units=128, return_sequences=True, recurrent_dropout=0.1)))\n",
    "# model.add(TimeDistributed(Dense(num_tags, activation=\"softmax\")))\n",
    "# model.summary()\n",
    "'''\n",
    "Barack Obama was born in Hawaii.\n",
    "[0, 1, 2, 3, 4]\n",
    "\"Barack\": [0.1, 0.7, 0.1, 0.1, 0.0]\n",
    "\"Obama\": [0.1, 0.8, 0.05, 0.05, 0.0]\n",
    "....\n",
    "--> TimeDistributed: ensure each word in a sentence have an independent output\n",
    "'''\n",
    "input_word = Input(shape=(max_len,))\n",
    "model = Embedding(input_dim=num_words, output_dim=50, input_length=max_len)(input_word)\n",
    "\n",
    "model = SpatialDropout1D(0.1)(model)\n",
    "model = Bidirectional(LSTM(units=128, return_sequences=True, recurrent_dropout=0.1))(model)\n",
    "\n",
    "out = TimeDistributed(Dense(num_tags, activation=\"softmax\"))(model)\n",
    "\n",
    "model = Model(input_word, out)\n",
    "model.summary()"
   ]
  },
  {
   "cell_type": "code",
   "execution_count": 28,
   "id": "b75f58e7",
   "metadata": {
    "execution": {
     "iopub.execute_input": "2024-10-30T16:14:11.068975Z",
     "iopub.status.busy": "2024-10-30T16:14:11.068034Z",
     "iopub.status.idle": "2024-10-30T16:14:11.085793Z",
     "shell.execute_reply": "2024-10-30T16:14:11.084552Z"
    },
    "papermill": {
     "duration": 0.034208,
     "end_time": "2024-10-30T16:14:11.088324",
     "exception": false,
     "start_time": "2024-10-30T16:14:11.054116",
     "status": "completed"
    },
    "tags": []
   },
   "outputs": [],
   "source": [
    "model.compile(optimizer=\"adam\",\n",
    "              loss=\"sparse_categorical_crossentropy\",\n",
    "              metrics=[\"accuracy\"])"
   ]
  },
  {
   "cell_type": "markdown",
   "id": "1474d4f0",
   "metadata": {
    "papermill": {
     "duration": 0.012065,
     "end_time": "2024-10-30T16:14:11.112932",
     "exception": false,
     "start_time": "2024-10-30T16:14:11.100867",
     "status": "completed"
    },
    "tags": []
   },
   "source": [
    "# Train the Model"
   ]
  },
  {
   "cell_type": "code",
   "execution_count": 29,
   "id": "f87cfddc",
   "metadata": {
    "execution": {
     "iopub.execute_input": "2024-10-30T16:14:11.140658Z",
     "iopub.status.busy": "2024-10-30T16:14:11.140201Z",
     "iopub.status.idle": "2024-10-30T16:14:11.148611Z",
     "shell.execute_reply": "2024-10-30T16:14:11.147541Z"
    },
    "papermill": {
     "duration": 0.025403,
     "end_time": "2024-10-30T16:14:11.150937",
     "exception": false,
     "start_time": "2024-10-30T16:14:11.125534",
     "status": "completed"
    },
    "tags": []
   },
   "outputs": [],
   "source": [
    "from tensorflow.keras.callbacks import ModelCheckpoint, EarlyStopping, ReduceLROnPlateau"
   ]
  },
  {
   "cell_type": "code",
   "execution_count": 30,
   "id": "5b6e9182",
   "metadata": {
    "execution": {
     "iopub.execute_input": "2024-10-30T16:14:11.178345Z",
     "iopub.status.busy": "2024-10-30T16:14:11.177422Z",
     "iopub.status.idle": "2024-10-30T16:29:21.846546Z",
     "shell.execute_reply": "2024-10-30T16:29:21.845112Z"
    },
    "papermill": {
     "duration": 910.685365,
     "end_time": "2024-10-30T16:29:21.849042",
     "exception": false,
     "start_time": "2024-10-30T16:14:11.163677",
     "status": "completed"
    },
    "tags": []
   },
   "outputs": [
    {
     "name": "stdout",
     "output_type": "stream",
     "text": [
      "Epoch 1/9\n",
      "\u001b[1m528/528\u001b[0m \u001b[32m━━━━━━━━━━━━━━━━━━━━\u001b[0m\u001b[37m\u001b[0m \u001b[1m0s\u001b[0m 171ms/step - accuracy: 0.8468 - loss: 0.6431\n",
      "Epoch 1: val_loss improved from inf to 0.28043, saving model to /kaggle/working/model_weights.weights.h5\n",
      "\u001b[1m528/528\u001b[0m \u001b[32m━━━━━━━━━━━━━━━━━━━━\u001b[0m\u001b[37m\u001b[0m \u001b[1m107s\u001b[0m 185ms/step - accuracy: 0.8468 - loss: 0.6426 - val_accuracy: 0.9408 - val_loss: 0.2804 - learning_rate: 0.0010\n",
      "Epoch 2/9\n",
      "\u001b[1m528/528\u001b[0m \u001b[32m━━━━━━━━━━━━━━━━━━━━\u001b[0m\u001b[37m\u001b[0m \u001b[1m0s\u001b[0m 170ms/step - accuracy: 0.8643 - loss: 0.2541\n",
      "Epoch 2: val_loss improved from 0.28043 to 0.24833, saving model to /kaggle/working/model_weights.weights.h5\n",
      "\u001b[1m528/528\u001b[0m \u001b[32m━━━━━━━━━━━━━━━━━━━━\u001b[0m\u001b[37m\u001b[0m \u001b[1m96s\u001b[0m 182ms/step - accuracy: 0.8643 - loss: 0.2541 - val_accuracy: 0.9453 - val_loss: 0.2483 - learning_rate: 0.0010\n",
      "Epoch 3/9\n",
      "\u001b[1m528/528\u001b[0m \u001b[32m━━━━━━━━━━━━━━━━━━━━\u001b[0m\u001b[37m\u001b[0m \u001b[1m0s\u001b[0m 174ms/step - accuracy: 0.8691 - loss: 0.2233\n",
      "Epoch 3: val_loss improved from 0.24833 to 0.21328, saving model to /kaggle/working/model_weights.weights.h5\n",
      "\u001b[1m528/528\u001b[0m \u001b[32m━━━━━━━━━━━━━━━━━━━━\u001b[0m\u001b[37m\u001b[0m \u001b[1m98s\u001b[0m 186ms/step - accuracy: 0.8691 - loss: 0.2233 - val_accuracy: 0.9509 - val_loss: 0.2133 - learning_rate: 0.0010\n",
      "Epoch 4/9\n",
      "\u001b[1m528/528\u001b[0m \u001b[32m━━━━━━━━━━━━━━━━━━━━\u001b[0m\u001b[37m\u001b[0m \u001b[1m0s\u001b[0m 176ms/step - accuracy: 0.8760 - loss: 0.1814\n",
      "Epoch 4: val_loss improved from 0.21328 to 0.18288, saving model to /kaggle/working/model_weights.weights.h5\n",
      "\u001b[1m528/528\u001b[0m \u001b[32m━━━━━━━━━━━━━━━━━━━━\u001b[0m\u001b[37m\u001b[0m \u001b[1m99s\u001b[0m 188ms/step - accuracy: 0.8760 - loss: 0.1814 - val_accuracy: 0.9570 - val_loss: 0.1729 - learning_rate: 0.0010\n",
      "Epoch 5/9\n",
      "\u001b[1m528/528\u001b[0m \u001b[32m━━━━━━━━━━━━━━━━━━━━\u001b[0m\u001b[37m\u001b[0m \u001b[1m0s\u001b[0m 176ms/step - accuracy: 0.8723 - loss: 0.1489\n",
      "Epoch 5: val_loss improved from 0.18288 to 0.16173, saving model to /kaggle/working/model_weights.weights.h5\n",
      "\u001b[1m528/528\u001b[0m \u001b[32m━━━━━━━━━━━━━━━━━━━━\u001b[0m\u001b[37m\u001b[0m \u001b[1m99s\u001b[0m 188ms/step - accuracy: 0.8823 - loss: 0.1489 - val_accuracy: 0.9607 - val_loss: 0.1317 - learning_rate: 0.0010\n",
      "Epoch 6/9\n",
      "\u001b[1m528/528\u001b[0m \u001b[32m━━━━━━━━━━━━━━━━━━━━\u001b[0m\u001b[37m\u001b[0m \u001b[1m0s\u001b[0m 180ms/step - accuracy: 0.8869 - loss: 0.1249\n",
      "Epoch 6: val_loss improved from 0.16173 to 0.15108, saving model to /kaggle/working/model_weights.weights.h5\n",
      "\u001b[1m528/528\u001b[0m \u001b[32m━━━━━━━━━━━━━━━━━━━━\u001b[0m\u001b[37m\u001b[0m \u001b[1m102s\u001b[0m 193ms/step - accuracy: 0.8869 - loss: 0.1249 - val_accuracy: 0.9628 - val_loss: 0.1111 - learning_rate: 0.0010\n",
      "Epoch 7/9\n",
      "\u001b[1m528/528\u001b[0m \u001b[32m━━━━━━━━━━━━━━━━━━━━\u001b[0m\u001b[37m\u001b[0m \u001b[1m0s\u001b[0m 178ms/step - accuracy: 0.8901 - loss: 0.1079\n",
      "Epoch 7: val_loss improved from 0.15108 to 0.14039, saving model to /kaggle/working/model_weights.weights.h5\n",
      "\u001b[1m528/528\u001b[0m \u001b[32m━━━━━━━━━━━━━━━━━━━━\u001b[0m\u001b[37m\u001b[0m \u001b[1m100s\u001b[0m 190ms/step - accuracy: 0.8901 - loss: 0.1079 - val_accuracy: 0.9652 - val_loss: 0.0904 - learning_rate: 0.0010\n",
      "Epoch 8/9\n",
      "\u001b[1m528/528\u001b[0m \u001b[32m━━━━━━━━━━━━━━━━━━━━\u001b[0m\u001b[37m\u001b[0m \u001b[1m0s\u001b[0m 176ms/step - accuracy: 0.8940 - loss: 0.0916\n",
      "Epoch 8: val_loss improved from 0.14039 to 0.13738, saving model to /kaggle/working/model_weights.weights.h5\n",
      "\u001b[1m528/528\u001b[0m \u001b[32m━━━━━━━━━━━━━━━━━━━━\u001b[0m\u001b[37m\u001b[0m \u001b[1m100s\u001b[0m 188ms/step - accuracy: 0.8940 - loss: 0.0916 - val_accuracy: 0.9658 - val_loss: 0.0874 - learning_rate: 0.0010\n",
      "Epoch 9/9\n",
      "\u001b[1m528/528\u001b[0m \u001b[32m━━━━━━━━━━━━━━━━━━━━\u001b[0m\u001b[37m\u001b[0m \u001b[1m0s\u001b[0m 193ms/step - accuracy: 0.8969 - loss: 0.0797\n",
      "Epoch 9: val_loss improved from 0.13738 to 0.13589, saving model to /kaggle/working/model_weights.weights.h5\n",
      "\u001b[1m528/528\u001b[0m \u001b[32m━━━━━━━━━━━━━━━━━━━━\u001b[0m\u001b[37m\u001b[0m \u001b[1m108s\u001b[0m 205ms/step - accuracy: 0.8969 - loss: 0.0797 - val_accuracy: 0.9665 - val_loss: 0.0759 - learning_rate: 0.0010\n",
      "CPU times: user 46min 9s, sys: 4min 28s, total: 50min 38s\n",
      "Wall time: 15min 10s\n"
     ]
    }
   ],
   "source": [
    "%%time\n",
    "\n",
    "chkpt = ModelCheckpoint(\"/kaggle/working/model_weights.weights.h5\", monitor='val_loss',verbose=1, save_best_only=True, save_weights_only=True, mode='min')\n",
    "\n",
    "early_stopping = EarlyStopping(monitor='val_accuracy', patience=3, verbose=1, restore_best_weights=False)\n",
    "\n",
    "reduce_lr = ReduceLROnPlateau(\n",
    "    monitor='val_loss',  # or 'val_accuracy' depending on what you want to monitor\n",
    "    factor=0.5,          # factor by which the learning rate will be reduced\n",
    "    patience=2,         # how many epochs with no improvement to wait before reducing the learning rate\n",
    "    min_lr=1e-6,        # lower bound on the learning rate\n",
    "    verbose=1           # print messages when the learning rate is reduced\n",
    ")\n",
    "\n",
    "callbacks = [chkpt, early_stopping, reduce_lr]\n",
    "\n",
    "history = model.fit(\n",
    "    x=x_train,\n",
    "    y=y_train,\n",
    "    validation_split=0.2,\n",
    "    batch_size=32,\n",
    "    epochs=9,\n",
    "    callbacks=callbacks,\n",
    "    verbose=1\n",
    ")"
   ]
  },
  {
   "cell_type": "markdown",
   "id": "111bb14d",
   "metadata": {
    "papermill": {
     "duration": 0.350723,
     "end_time": "2024-10-30T16:29:22.552578",
     "exception": false,
     "start_time": "2024-10-30T16:29:22.201855",
     "status": "completed"
    },
    "tags": []
   },
   "source": [
    "# Plot train and val"
   ]
  },
  {
   "cell_type": "code",
   "execution_count": null,
   "id": "c9cc18f7",
   "metadata": {},
   "outputs": [
    {
     "data": {
      "image/png": "[encoded data removed]",
      "text/plain": [
       "<Figure size 1000x600 with 1 Axes>"
      ]
     },
     "metadata": {},
     "output_type": "display_data"
    }
   ],
   "source": [
    "import matplotlib.pyplot as plt\n",
    "\n",
    "# Plot training & validation loss values\n",
    "plt.figure(figsize=(10, 6))\n",
    "plt.plot(history.history['loss'], label='Training Loss', marker='o')\n",
    "plt.plot(history.history['val_loss'], label='Test Loss', marker='o')\n",
    "plt.xlabel('Epochs')\n",
    "plt.ylabel('Loss')\n",
    "plt.title('Training and Validation Loss')\n",
    "plt.legend()\n",
    "plt.grid()\n",
    "plt.show()"
   ]
  },
  {
   "cell_type": "code",
   "execution_count": 32,
   "id": "af2d61ad",
   "metadata": {
    "execution": {
     "iopub.execute_input": "2024-10-30T16:29:24.376687Z",
     "iopub.status.busy": "2024-10-30T16:29:24.375484Z",
     "iopub.status.idle": "2024-10-30T16:29:24.445955Z",
     "shell.execute_reply": "2024-10-30T16:29:24.444749Z"
    },
    "papermill": {
     "duration": 0.412684,
     "end_time": "2024-10-30T16:29:24.448484",
     "exception": false,
     "start_time": "2024-10-30T16:29:24.035800",
     "status": "completed"
    },
    "tags": []
   },
   "outputs": [],
   "source": [
    "model.save('/kaggle/working/model_lstm.h5')"
   ]
  },
  {
   "cell_type": "markdown",
   "id": "ce9ce5c0",
   "metadata": {
    "papermill": {
     "duration": 0.40997,
     "end_time": "2024-10-30T16:29:25.203870",
     "exception": false,
     "start_time": "2024-10-30T16:29:24.793900",
     "status": "completed"
    },
    "tags": []
   },
   "source": [
    "# Evaluate Named Entity Recognition Model"
   ]
  },
  {
   "cell_type": "code",
   "execution_count": 33,
   "id": "31289af1",
   "metadata": {
    "execution": {
     "iopub.execute_input": "2024-10-30T16:29:25.891651Z",
     "iopub.status.busy": "2024-10-30T16:29:25.891215Z",
     "iopub.status.idle": "2024-10-30T16:29:34.462535Z",
     "shell.execute_reply": "2024-10-30T16:29:34.461202Z"
    },
    "papermill": {
     "duration": 8.919004,
     "end_time": "2024-10-30T16:29:34.465278",
     "exception": false,
     "start_time": "2024-10-30T16:29:25.546274",
     "status": "completed"
    },
    "tags": []
   },
   "outputs": [
    {
     "name": "stdout",
     "output_type": "stream",
     "text": [
      "\u001b[1m165/165\u001b[0m \u001b[32m━━━━━━━━━━━━━━━━━━━━\u001b[0m\u001b[37m\u001b[0m \u001b[1m9s\u001b[0m 51ms/step - accuracy: 0.9678 - loss: 0.1285\n"
     ]
    },
    {
     "data": {
      "text/plain": [
       "[0.12981627881526947, 0.9677461385726929]"
      ]
     },
     "execution_count": 33,
     "metadata": {},
     "output_type": "execute_result"
    }
   ],
   "source": [
    "model.evaluate(x_test, y_test)"
   ]
  },
  {
   "cell_type": "code",
   "execution_count": 34,
   "id": "8c81bb3e",
   "metadata": {
    "execution": {
     "iopub.execute_input": "2024-10-30T16:29:35.193742Z",
     "iopub.status.busy": "2024-10-30T16:29:35.193250Z",
     "iopub.status.idle": "2024-10-30T16:29:46.565208Z",
     "shell.execute_reply": "2024-10-30T16:29:46.563572Z"
    },
    "papermill": {
     "duration": 11.737137,
     "end_time": "2024-10-30T16:29:46.568127",
     "exception": false,
     "start_time": "2024-10-30T16:29:34.830990",
     "status": "completed"
    },
    "tags": []
   },
   "outputs": [
    {
     "name": "stdout",
     "output_type": "stream",
     "text": [
      "\u001b[1m165/165\u001b[0m \u001b[32m━━━━━━━━━━━━━━━━━━━━\u001b[0m\u001b[37m\u001b[0m \u001b[1m11s\u001b[0m 58ms/step\n",
      "Unique predicted classes: [ 0  1  3  4  5  6  7  8  9 10 12 13 14 15 16 17 18 19 21 22 23 25 26 27\n",
      " 28 29 30 31 32 33 34 35 36 38 39 40 41 42 43 44 45 47 48 49 50 52 53 54\n",
      " 56 57 58 61 62 63 64 66 68 69 70 71 72 73 74 75 76 77 78 79 82 83 84 86\n",
      " 87 88 89]\n",
      "Unique true classes: [ 0  1  2  3  4  5  6  7  8  9 10 11 12 13 14 15 16 17 18 19 20 21 22 23\n",
      " 24 25 26 27 28 29 30 31 32 33 34 35 36 37 38 39 40 41 42 43 44 45 46 47\n",
      " 48 49 50 51 52 53 54 55 56 57 58 60 61 62 63 64 65 66 67 68 69 70 71 72\n",
      " 73 74 75 76 77 78 79 80 81 82 83 84 85 86 87 88 89]\n"
     ]
    }
   ],
   "source": [
    "\n",
    "# Step 3: Flatten the predictions and the true labels\n",
    "\n",
    "\n",
    "# Step 1: Predict the classes for the test set\n",
    "y_pred = model.predict(x_test)\n",
    "\n",
    "# Step 2: Convert predictions to class labels (argmax across the last dimension)\n",
    "y_pred_classes = np.argmax(y_pred, axis=-1)\n",
    "\n",
    "y_pred_flat = y_pred_classes.flatten()\n",
    "y_test_flat = y_test.flatten()\n",
    "\n",
    "unique_pred_classes = np.unique(y_pred_flat)\n",
    "unique_true_classes = np.unique(y_test_flat)\n",
    "\n",
    "print(\"Unique predicted classes:\", unique_pred_classes)\n",
    "print(\"Unique true classes:\", unique_true_classes)"
   ]
  },
  {
   "cell_type": "code",
   "execution_count": 35,
   "id": "1bf5ba73",
   "metadata": {
    "execution": {
     "iopub.execute_input": "2024-10-30T16:29:47.370364Z",
     "iopub.status.busy": "2024-10-30T16:29:47.369892Z",
     "iopub.status.idle": "2024-10-30T16:29:48.054174Z",
     "shell.execute_reply": "2024-10-30T16:29:48.052134Z"
    },
    "papermill": {
     "duration": 1.053924,
     "end_time": "2024-10-30T16:29:48.058904",
     "exception": false,
     "start_time": "2024-10-30T16:29:47.004980",
     "status": "completed"
    },
    "tags": []
   },
   "outputs": [
    {
     "name": "stderr",
     "output_type": "stream",
     "text": [
      "/opt/conda/lib/python3.10/site-packages/sklearn/metrics/_classification.py:1344: UndefinedMetricWarning: Precision and F-score are ill-defined and being set to 0.0 in labels with no predicted samples. Use `zero_division` parameter to control this behavior.\n",
      "  _warn_prf(average, modifier, msg_start, len(result))\n"
     ]
    },
    {
     "name": "stdout",
     "output_type": "stream",
     "text": [
      "                        precision    recall  f1-score   support\n",
      "\n",
      "          B-PERSONTYPE       0.76      0.52      0.61       985\n",
      "         B-PRODUCT-COM       0.57      0.41      0.48       246\n",
      "                     A       0.00      0.00      0.00         1\n",
      "        I-QUANTITY-CUR       0.72      0.88      0.80       643\n",
      "            I-QUANTITY       0.54      0.28      0.37      1006\n",
      "         I-PRODUCT-COM       0.51      0.47      0.49       203\n",
      "              I-PERSON       0.88      0.66      0.75       837\n",
      "       B-PRODUCT-AWARD       1.00      0.13      0.24        15\n",
      "  B-DATETIME-DATERANGE       0.42      0.06      0.10        86\n",
      "    B-ORGANIZATION-MED       0.51      0.46      0.49        56\n",
      "       B-MISCELLANEOUS       0.34      0.23      0.27       138\n",
      "    B-LOCATION-GPE-GEO       0.00      0.00      0.00         1\n",
      "        B-QUANTITY-CUR       0.56      0.61      0.59       257\n",
      "         B-PHONENUMBER       0.54      0.26      0.35        27\n",
      "       B-EVENT-NATURAL       1.00      0.11      0.20        18\n",
      "       I-PRODUCT-AWARD       0.50      0.07      0.12        29\n",
      "                 B-URL       0.83      0.33      0.48        45\n",
      "         I-EVENT-SPORT       0.58      0.81      0.68       258\n",
      "               B-EVENT       0.53      0.39      0.45       127\n",
      "            B-DATETIME       0.59      0.64      0.61       614\n",
      "                     I       0.00      0.00      0.00         4\n",
      "        I-QUANTITY-AGE       0.82      0.89      0.85       252\n",
      "        B-LOCATION-GPE       0.56      0.77      0.65      1684\n",
      "        I-DATETIME-SET       0.00      0.00      0.00        42\n",
      "             B-ADDRESS       0.00      0.00      0.00        13\n",
      " I-ORGANIZATION-SPORTS       0.68      0.69      0.68       260\n",
      "            I-DATETIME       0.56      0.65      0.60       600\n",
      "      I-EVENT-GAMESHOW       0.77      0.38      0.51       187\n",
      "        B-QUANTITY-ORD       0.34      0.22      0.27       177\n",
      "                  I-IP       1.00      0.73      0.85        15\n",
      "        B-QUANTITY-NUM       0.51      0.56      0.53      1171\n",
      "        I-ORGANIZATION       0.70      0.73      0.72      2241\n",
      "  I-DATETIME-TIMERANGE       0.54      0.52      0.53       242\n",
      "             I-ADDRESS       0.45      0.38      0.41        94\n",
      "                 I-URL       0.92      0.82      0.87        40\n",
      "        I-LOCATION-GPE       0.56      0.43      0.49       533\n",
      "               I-EVENT       0.51      0.32      0.39       514\n",
      "               B-SKILL       0.00      0.00      0.00         4\n",
      "       B-DATETIME-TIME       0.57      0.55      0.56        55\n",
      "        I-QUANTITY-ORD       0.49      0.50      0.49        84\n",
      "    I-ORGANIZATION-MED       0.44      0.57      0.49       106\n",
      "            B-LOCATION       0.54      0.31      0.39      1090\n",
      "        B-QUANTITY-TEM       0.67      0.33      0.44        18\n",
      "        B-QUANTITY-AGE       0.70      0.51      0.59       109\n",
      "       B-DATETIME-DATE       0.63      0.39      0.48       327\n",
      "        B-LOCATION-GEO       0.59      0.25      0.35        97\n",
      "                     B       0.00      0.00      0.00        19\n",
      "      I-LOCATION-STRUC       0.52      0.38      0.44       223\n",
      "   I-DATETIME-DURATION       0.61      0.83      0.70       496\n",
      "           B-EVENT-CUL       1.00      0.09      0.17        44\n",
      "             B-PRODUCT       0.48      0.32      0.38       489\n",
      "                   NAN       0.00      0.00      0.00       326\n",
      "        B-QUANTITY-DIM       0.37      0.27      0.31       122\n",
      "       I-MISCELLANEOUS       0.38      0.38      0.38       150\n",
      "         B-EVENT-SPORT       0.75      0.62      0.68       111\n",
      "  I-ORGANIZATION-STOCK       0.00      0.00      0.00        11\n",
      "       I-DATETIME-DATE       0.63      0.37      0.47       295\n",
      "       I-EVENT-NATURAL       1.00      0.36      0.53        28\n",
      "            B-QUANTITY       0.48      0.19      0.27       709\n",
      "    B-LOCATION-GPE HCM       0.00      0.00      0.00         1\n",
      "        I-QUANTITY-PER       0.78      0.89      0.84       264\n",
      " B-ORGANIZATION-SPORTS       0.71      0.56      0.62       407\n",
      "        I-QUANTITY-TEM       0.71      0.65      0.68        31\n",
      "      B-LOCATION-STRUC       0.57      0.35      0.43       141\n",
      "        B-DATETIME-SET       0.00      0.00      0.00        11\n",
      "        I-QUANTITY-DIM       0.62      0.56      0.59       206\n",
      "               I-SKILL       0.00      0.00      0.00        25\n",
      "          I-PERSONTYPE       0.55      0.45      0.49       748\n",
      "               B-EMAIL       0.50      0.60      0.55         5\n",
      "   B-DATETIME-DURATION       0.49      0.80      0.61       284\n",
      "              B-PERSON       0.92      0.74      0.82      2977\n",
      "      B-EVENT-GAMESHOW       0.96      0.29      0.45        85\n",
      "  I-DATETIME-DATERANGE       0.47      0.40      0.43       359\n",
      "       B-PRODUCT-LEGAL       0.52      0.24      0.32        51\n",
      "           I-EVENT-CUL       1.00      0.05      0.09        61\n",
      "        B-ORGANIZATION       0.76      0.71      0.73      1953\n",
      "  B-DATETIME-TIMERANGE       0.63      0.45      0.52        83\n",
      "                     O       0.99      0.99      0.99    446850\n",
      "            I-LOCATION       0.55      0.45      0.49       474\n",
      "  B-ORGANIZATION-STOCK       0.00      0.00      0.00        15\n",
      "                  B-IP       0.00      0.00      0.00        14\n",
      "             I-PRODUCT       0.43      0.30      0.36       607\n",
      "         I-PHONENUMBER       0.60      0.33      0.43        18\n",
      "        I-QUANTITY-NUM       0.44      0.06      0.11       128\n",
      "B-ORGANIZATION NN&PTNT       0.00      0.00      0.00         1\n",
      "       I-DATETIME-TIME       0.61      0.43      0.50       152\n",
      "        I-LOCATION-GEO       0.52      0.19      0.28        69\n",
      "        B-QUANTITY-PER       0.79      0.81      0.80       243\n",
      "       I-PRODUCT-LEGAL       0.58      0.25      0.35       273\n",
      "\n",
      "              accuracy                           0.89    475110\n",
      "             macro avg       0.53      0.38      0.42    475110\n",
      "          weighted avg       0.86      0.87      0.86    475110\n",
      "\n"
     ]
    },
    {
     "name": "stderr",
     "output_type": "stream",
     "text": [
      "/opt/conda/lib/python3.10/site-packages/sklearn/metrics/_classification.py:1344: UndefinedMetricWarning: Precision and F-score are ill-defined and being set to 0.0 in labels with no predicted samples. Use `zero_division` parameter to control this behavior.\n",
      "  _warn_prf(average, modifier, msg_start, len(result))\n",
      "/opt/conda/lib/python3.10/site-packages/sklearn/metrics/_classification.py:1344: UndefinedMetricWarning: Precision and F-score are ill-defined and being set to 0.0 in labels with no predicted samples. Use `zero_division` parameter to control this behavior.\n",
      "  _warn_prf(average, modifier, msg_start, len(result))\n"
     ]
    }
   ],
   "source": [
    "from sklearn.metrics import classification_report\n",
    "\n",
    "# Get the unique labels for the classification report\n",
    "labels = np.unique(np.concatenate((unique_pred_classes, unique_true_classes)))\n",
    "\n",
    "print(classification_report(y_test_flat, y_pred_flat, target_names=[tag for i, tag in enumerate(tag2idx.keys()) if i in labels]))"
   ]
  },
  {
   "cell_type": "code",
   "execution_count": 36,
   "id": "f9aa7dd9",
   "metadata": {
    "execution": {
     "iopub.execute_input": "2024-10-30T16:29:48.796209Z",
     "iopub.status.busy": "2024-10-30T16:29:48.795578Z",
     "iopub.status.idle": "2024-10-30T16:29:48.803064Z",
     "shell.execute_reply": "2024-10-30T16:29:48.801315Z"
    },
    "papermill": {
     "duration": 0.387338,
     "end_time": "2024-10-30T16:29:48.805902",
     "exception": false,
     "start_time": "2024-10-30T16:29:48.418564",
     "status": "completed"
    },
    "tags": []
   },
   "outputs": [],
   "source": [
    "# i = np.random.randint(0, x_test.shape[0]) #659\n",
    "# p = model.predict(np.array([x_test[i]]))\n",
    "# p = np.argmax(p, axis=-1)\n",
    "# y_true = y_test[i]\n",
    "# print(\"{:15}{:5}\\t {}\\n\".format(\"Word\", \"True\", \"Pred\"))\n",
    "# print(\"-\" *30)\n",
    "# for w, true, pred in zip(x_test[i], y_true, p[0]):\n",
    "#     print(\"{:15}{}\\t{}\".format(words[w-1], tags[true], tags[pred]))"
   ]
  },
  {
   "cell_type": "code",
   "execution_count": 37,
   "id": "b8468bbf",
   "metadata": {
    "execution": {
     "iopub.execute_input": "2024-10-30T16:29:49.568075Z",
     "iopub.status.busy": "2024-10-30T16:29:49.567613Z",
     "iopub.status.idle": "2024-10-30T16:29:51.615535Z",
     "shell.execute_reply": "2024-10-30T16:29:51.613951Z"
    },
    "papermill": {
     "duration": 2.429346,
     "end_time": "2024-10-30T16:29:51.618093",
     "exception": false,
     "start_time": "2024-10-30T16:29:49.188747",
     "status": "completed"
    },
    "tags": []
   },
   "outputs": [
    {
     "name": "stdout",
     "output_type": "stream",
     "text": [
      "\u001b[1m1/1\u001b[0m \u001b[32m━━━━━━━━━━━━━━━━━━━━\u001b[0m\u001b[37m\u001b[0m \u001b[1m0s\u001b[0m 53ms/step\n",
      "Word           True \t Pred\n",
      "\n",
      "------------------------------\n",
      "IoT            B-PRODUCT-COM\tB-PRODUCT-COM\n",
      "IoT            B-PRODUCT-COM\tB-PRODUCT-COM\n",
      "cảm            B-PRODUCT-COM\tB-PRODUCT-COM\n",
      "biến           I-PRODUCT-COM\tO\n",
      "vi             B-PRODUCT-COM\tB-PRODUCT-COM\n",
      "điều khiển     I-PRODUCT-COM\tO\n",
      "thiết bị       B-PRODUCT-COM\tO\n",
      "phát           I-PRODUCT-COM\tO\n",
      "thu            B-PRODUCT-COM\tO\n",
      "năng lượng     I-PRODUCT-COM\tO\n",
      "đèn            B-PRODUCT-COM\tB-PRODUCT\n",
      "LED            I-PRODUCT-COM\tI-PRODUCT\n",
      "máy bay        B-PRODUCT-COM\tI-PRODUCT\n",
      "không          I-PRODUCT-COM\tO\n",
      "người          I-PRODUCT-COM\tO\n",
      "lái            I-PRODUCT-COM\tO\n",
      "drone          B-PRODUCT-COM\tO\n",
      "\u001b[1m1/1\u001b[0m \u001b[32m━━━━━━━━━━━━━━━━━━━━\u001b[0m\u001b[37m\u001b[0m \u001b[1m0s\u001b[0m 37ms/step\n",
      "Word           True \t Pred\n",
      "\n",
      "------------------------------\n",
      "22/9           B-DATETIME-TIME\tI-DATETIME-DATE\n",
      "Công an        B-ORGANIZATION\tB-ORGANIZATION\n",
      "quận           B-LOCATION\tI-ORGANIZATION\n",
      "3              I-LOCATION\tI-LOCATION\n",
      "TP.HCM         B-LOCATION\tB-LOCATION-GPE\n",
      "Lê Khôi Nguyên B-PERSON\tB-PERSON\n",
      "25             B-QUANTITY\tO\n",
      "tuổi           I-QUANTITY\tO\n",
      "quận           B-LOCATION\tB-LOCATION\n",
      "Phú Nhuận      I-LOCATION\tI-LOCATION\n",
      "\u001b[1m1/1\u001b[0m \u001b[32m━━━━━━━━━━━━━━━━━━━━\u001b[0m\u001b[37m\u001b[0m \u001b[1m0s\u001b[0m 39ms/step\n",
      "Word           True \t Pred\n",
      "\n",
      "------------------------------\n",
      "Bộ             B-ORGANIZATION\tB-ORGANIZATION\n",
      "Lao động Thương binh vàI-ORGANIZATION\tI-ORGANIZATION\n",
      "Xã hội         I-ORGANIZATION\tI-ORGANIZATION\n",
      "Diễn đàn       B-EVENT\tI-ORGANIZATION\n",
      "Phụ nữ         I-EVENT\tI-ORGANIZATION\n",
      "và             I-EVENT\tI-ORGANIZATION\n",
      "Kinh tế        I-EVENT\tI-ORGANIZATION\n",
      "APEC           I-EVENT\tI-ORGANIZATION\n",
      "2017           I-EVENT\tI-ORGANIZATION-MED\n",
      "\u001b[1m1/1\u001b[0m \u001b[32m━━━━━━━━━━━━━━━━━━━━\u001b[0m\u001b[37m\u001b[0m \u001b[1m0s\u001b[0m 40ms/step\n",
      "Word           True \t Pred\n",
      "\n",
      "------------------------------\n",
      "Tuổi Trẻ       B-PRODUCT\tO\n",
      "Tuổi Trẻ       B-PRODUCT\tO\n",
      "Cuối           I-PRODUCT\tO\n",
      "Tuần           I-PRODUCT\tO\n",
      "Tuổi Trẻ       B-PRODUCT\tO\n",
      "Cười           I-PRODUCT\tO\n",
      "Xunhasaba      B-ORGANIZATION\tI-ORGANIZATION\n",
      "\u001b[1m1/1\u001b[0m \u001b[32m━━━━━━━━━━━━━━━━━━━━\u001b[0m\u001b[37m\u001b[0m \u001b[1m0s\u001b[0m 41ms/step\n",
      "Word           True \t Pred\n",
      "\n",
      "------------------------------\n",
      "Nguyễn Kim Sơn B-PERSON\tB-PERSON\n",
      "Chủ tịch       B-PERSONTYPE\tB-PERSONTYPE\n",
      "HĐQT           I-PERSONTYPE\tO\n",
      "Công ty        B-ORGANIZATION\tB-ORGANIZATION\n",
      "cổ phần        I-ORGANIZATION\tI-ORGANIZATION\n",
      "công nghệ      I-ORGANIZATION\tI-ORGANIZATION\n",
      "James Boat     I-ORGANIZATION\tI-ORGANIZATION\n",
      "Jiri           B-PERSON\tB-PERSON\n",
      "Belinger       I-PERSON\tI-PERSONTYPE\n",
      "Chủ tịch       B-PERSONTYPE\tB-PERSONTYPE\n",
      "HĐQT           I-PERSONTYPE\tI-PERSONTYPE\n",
      "Công ty        B-ORGANIZATION\tI-PERSONTYPE\n",
      "Vari           I-ORGANIZATION\tI-PERSONTYPE\n",
      "\u001b[1m1/1\u001b[0m \u001b[32m━━━━━━━━━━━━━━━━━━━━\u001b[0m\u001b[37m\u001b[0m \u001b[1m0s\u001b[0m 40ms/step\n",
      "Word           True \t Pred\n",
      "\n",
      "------------------------------\n",
      "-              I-DATETIME-DURATION\tI-DATETIME-DURATION\n",
      "QUANTITY-NUM   I-DATETIME-DURATION\tI-DATETIME-DURATION\n",
      "năm            I-DATETIME-DURATION\tI-DATETIME-DURATION\n",
      "5              B-QUANTITY-NUM\tB-QUANTITY-NUM\n",
      "\u001b[1m1/1\u001b[0m \u001b[32m━━━━━━━━━━━━━━━━━━━━\u001b[0m\u001b[37m\u001b[0m \u001b[1m0s\u001b[0m 40ms/step\n",
      "Word           True \t Pred\n",
      "\n",
      "------------------------------\n",
      "Hà Anh         B-PERSON\tB-PERSON\n",
      "\u001b[1m1/1\u001b[0m \u001b[32m━━━━━━━━━━━━━━━━━━━━\u001b[0m\u001b[37m\u001b[0m \u001b[1m0s\u001b[0m 42ms/step\n",
      "Word           True \t Pred\n",
      "\n",
      "------------------------------\n",
      "Tập đoàn       B-ORGANIZATION\tB-ORGANIZATION\n",
      "Điện lực       I-ORGANIZATION\tI-ORGANIZATION\n",
      "Việt Nam       B-LOCATION-GPE\tB-LOCATION-GPE\n",
      "2017           B-DATETIME\tO\n",
      ".              I-DATETIME\tO\n",
      "\u001b[1m1/1\u001b[0m \u001b[32m━━━━━━━━━━━━━━━━━━━━\u001b[0m\u001b[37m\u001b[0m \u001b[1m0s\u001b[0m 35ms/step\n",
      "Word           True \t Pred\n",
      "\n",
      "------------------------------\n",
      "VN-Index       B-MISCELLANEOUS\tI-MISCELLANEOUS\n",
      "\u001b[1m1/1\u001b[0m \u001b[32m━━━━━━━━━━━━━━━━━━━━\u001b[0m\u001b[37m\u001b[0m \u001b[1m0s\u001b[0m 35ms/step\n",
      "Word           True \t Pred\n",
      "\n",
      "------------------------------\n",
      "nhạc sĩ        B-PERSONTYPE\tB-PERSONTYPE\n",
      "Hồ Hoài Anh    B-PERSON\tB-PERSON\n",
      "\u001b[1m1/1\u001b[0m \u001b[32m━━━━━━━━━━━━━━━━━━━━\u001b[0m\u001b[37m\u001b[0m \u001b[1m0s\u001b[0m 42ms/step\n",
      "Word           True \t Pred\n",
      "\n",
      "------------------------------\n",
      "Phó            B-PERSONTYPE\tB-PERSONTYPE\n",
      "Tổng cục       I-PERSONTYPE\tI-PERSONTYPE\n",
      "trưởng         I-PERSONTYPE\tI-PERSONTYPE\n",
      "Nguyễn Thị Thanh HươngB-PERSONTYPE\tB-PERSON\n",
      "\u001b[1m1/1\u001b[0m \u001b[32m━━━━━━━━━━━━━━━━━━━━\u001b[0m\u001b[37m\u001b[0m \u001b[1m0s\u001b[0m 43ms/step\n",
      "Word           True \t Pred\n",
      "\n",
      "------------------------------\n",
      "Đầu            B-DATETIME\tO\n",
      "tháng          I-DATETIME\tB-DATETIME\n",
      "10             I-DATETIME\tI-DATETIME\n",
      "Nguyễn Trung ĐứcB-PERSON\tI-DATETIME-TIMERANGE\n",
      "31             B-QUANTITY-AGE\tB-DATETIME-DURATION\n",
      "\u001b[1m1/1\u001b[0m \u001b[32m━━━━━━━━━━━━━━━━━━━━\u001b[0m\u001b[37m\u001b[0m \u001b[1m0s\u001b[0m 37ms/step\n",
      "Word           True \t Pred\n",
      "\n",
      "------------------------------\n",
      "Trang          B-PERSON\tB-PERSON\n",
      "\u001b[1m1/1\u001b[0m \u001b[32m━━━━━━━━━━━━━━━━━━━━\u001b[0m\u001b[37m\u001b[0m \u001b[1m0s\u001b[0m 38ms/step\n",
      "Word           True \t Pred\n",
      "\n",
      "------------------------------\n",
      "-              I-DATETIME-DURATION\tI-DATETIME-DURATION\n",
      "QUANTITY-NUM   I-DATETIME-DURATION\tI-DATETIME-DURATION\n",
      "tháng          I-DATETIME-DURATION\tI-DATETIME-DURATION\n",
      "\u001b[1m1/1\u001b[0m \u001b[32m━━━━━━━━━━━━━━━━━━━━\u001b[0m\u001b[37m\u001b[0m \u001b[1m0s\u001b[0m 32ms/step\n",
      "Word           True \t Pred\n",
      "\n",
      "------------------------------\n",
      "Giám đốc       B-PERSONTYPE\tO\n",
      "Sở             B-ORGANIZATION-MED\tB-ORGANIZATION\n",
      "Y tế           I-ORGANIZATION-MED\tI-ORGANIZATION-MED\n",
      "Đồng Nai       I-ORGANIZATION-MED\tI-ORGANIZATION-MED\n",
      "Phan Huy Anh   I-ORGANIZATION-MED\tI-PERSONTYPE\n",
      "Vũ             I-ORGANIZATION-MED\tB-PERSON\n",
      "ngày           B-DATETIME-DATERANGE\tB-DATETIME-DATE\n",
      "9/9            I-DATETIME-DATERANGE\tI-DATETIME-DATERANGE\n",
      "đến            I-DATETIME-DATERANGE\tI-DATETIME-DATERANGE\n",
      "ngày           I-DATETIME-DATERANGE\tI-DATETIME-DATERANGE\n",
      "15/9           I-DATETIME-DATERANGE\tI-DATETIME-DATERANGE\n",
      "TP             B-LOCATION-GPE\tB-LOCATION-GPE\n",
      "Biên Hòa       I-LOCATION-GPE\tI-LOCATION-GPE\n",
      "Nhơn Trạch     B-LOCATION\tI-LOCATION-GPE\n",
      "Vĩnh Cửu       B-LOCATION\tI-LOCATION-GPE\n",
      "Trảng Bom      B-LOCATION\tI-LOCATION-STRUC\n",
      "\u001b[1m1/1\u001b[0m \u001b[32m━━━━━━━━━━━━━━━━━━━━\u001b[0m\u001b[37m\u001b[0m \u001b[1m0s\u001b[0m 34ms/step\n",
      "Word           True \t Pred\n",
      "\n",
      "------------------------------\n",
      "-              I-QUANTITY-CUR\tI-QUANTITY-CUR\n",
      "QUANTITY-NUM   I-QUANTITY-CUR\tI-QUANTITY-CUR\n",
      "tỷ             I-QUANTITY-CUR\tI-QUANTITY-CUR\n",
      "đồng           I-QUANTITY-CUR\tI-QUANTITY-CUR\n",
      "187.000        B-QUANTITY-NUM\tO\n",
      "1.700          B-QUANTITY-CUR\tO\n",
      "\u001b[1m1/1\u001b[0m \u001b[32m━━━━━━━━━━━━━━━━━━━━\u001b[0m\u001b[37m\u001b[0m \u001b[1m0s\u001b[0m 39ms/step\n",
      "Word           True \t Pred\n",
      "\n",
      "------------------------------\n",
      "4              B-DATETIME-DURATION\tB-DATETIME-DURATION\n",
      "\u001b[1m1/1\u001b[0m \u001b[32m━━━━━━━━━━━━━━━━━━━━\u001b[0m\u001b[37m\u001b[0m \u001b[1m0s\u001b[0m 38ms/step\n",
      "Word           True \t Pred\n",
      "\n",
      "------------------------------\n",
      "-              I-DATETIME-DURATION\tI-DATETIME-DURATION\n",
      "QUANTITY-NUM   I-DATETIME-DURATION\tI-DATETIME-DURATION\n",
      "năm            I-DATETIME-DURATION\tI-DATETIME-DURATION\n",
      "Hồ Văn Cường   B-PERSON\tB-PERSON\n",
      "18             B-QUANTITY-AGE\tB-QUANTITY-AGE\n",
      "\u001b[1m1/1\u001b[0m \u001b[32m━━━━━━━━━━━━━━━━━━━━\u001b[0m\u001b[37m\u001b[0m \u001b[1m0s\u001b[0m 39ms/step\n",
      "Word           True \t Pred\n",
      "\n",
      "------------------------------\n",
      "Thông tư       B-PRODUCT-LEGAL\tO\n",
      "17             I-PRODUCT-LEGAL\tB-QUANTITY-NUM\n",
      "Hà Nội         B-LOCATION-GPE\tB-LOCATION-GPE\n",
      "Sở             B-ORGANIZATION\tO\n",
      "GD-ĐT Hải      I-ORGANIZATION\tO\n",
      "Dương          I-ORGANIZATION\tI-ORGANIZATION\n",
      "\u001b[1m1/1\u001b[0m \u001b[32m━━━━━━━━━━━━━━━━━━━━\u001b[0m\u001b[37m\u001b[0m \u001b[1m0s\u001b[0m 39ms/step\n",
      "Word           True \t Pred\n",
      "\n",
      "------------------------------\n",
      "xã             B-LOCATION\tB-LOCATION\n",
      "Trí Yên        I-LOCATION\tI-LOCATION\n",
      "Yên Dũng       B-LOCATION\tB-LOCATION-GPE\n",
      "Băc Giang      B-LOCATION\tO\n"
     ]
    }
   ],
   "source": [
    "import numpy as np\n",
    "\n",
    "# Tìm các chỉ số không có nhãn O\n",
    "indices_not_O = [i for i in range(y_test.shape[0]) if not np.all(y_test[i] == tag2idx[\"O\"])]\n",
    "\n",
    "# Chọn tối đa 20 mẫu để test\n",
    "sample_indices = np.random.choice(indices_not_O, size=min(20, len(indices_not_O)), replace=False)\n",
    "\n",
    "for i in sample_indices:\n",
    "    p = model.predict(np.array([x_test[i]]))\n",
    "    p = np.argmax(p, axis=-1)\n",
    "    y_true = y_test[i]\n",
    "    \n",
    "    print(\"{:15}{:5}\\t {}\\n\".format(\"Word\", \"True\", \"Pred\"))\n",
    "    print(\"-\" * 30)\n",
    "    \n",
    "    for w, true, pred in zip(x_test[i], y_true, p[0]):\n",
    "        # Kiểm tra nếu true không phải là \"O\" trước khi in\n",
    "        if tags[true] != \"O\":\n",
    "            print(\"{:15}{}\\t{}\".format(words[w-1], tags[true], tags[pred]))\n"
   ]
  },
  {
   "cell_type": "code",
   "execution_count": null,
   "id": "f411c43d",
   "metadata": {
    "papermill": {
     "duration": 0.372158,
     "end_time": "2024-10-30T16:29:52.418919",
     "exception": false,
     "start_time": "2024-10-30T16:29:52.046761",
     "status": "completed"
    },
    "tags": []
   },
   "outputs": [],
   "source": []
  }
 ],
 "metadata": {
  "kaggle": {
   "accelerator": "none",
   "dataSources": [
    {
     "datasetId": 5909716,
     "sourceId": 9733642,
     "sourceType": "datasetVersion"
    }
   ],
   "dockerImageVersionId": 30786,
   "isGpuEnabled": false,
   "isInternetEnabled": true,
   "language": "python",
   "sourceType": "notebook"
  },
  "kernelspec": {
   "display_name": "Python 3",
   "language": "python",
   "name": "python3"
  },
  "language_info": {
   "codemirror_mode": {
    "name": "ipython",
    "version": 3
   },
   "file_extension": ".py",
   "mimetype": "text/x-python",
   "name": "python",
   "nbconvert_exporter": "python",
   "pygments_lexer": "ipython3",
   "version": "3.11.2"
  },
  "papermill": {
   "default_parameters": {},
   "duration": 978.68164,
   "end_time": "2024-10-30T16:29:56.147016",
   "environment_variables": {},
   "exception": null,
   "input_path": "__notebook__.ipynb",
   "output_path": "__notebook__.ipynb",
   "parameters": {},
   "start_time": "2024-10-30T16:13:37.465376",
   "version": "2.6.0"
  }
 },
 "nbformat": 4,
 "nbformat_minor": 5
}
